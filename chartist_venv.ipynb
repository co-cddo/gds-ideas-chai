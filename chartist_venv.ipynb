{
 "cells": [
  {
   "cell_type": "code",
   "execution_count": 1,
   "metadata": {},
   "outputs": [],
   "source": [
    "import json\n",
    "import logging\n",
    "import os\n",
    "import time\n",
    "from dataclasses import dataclass\n",
    "from datetime import datetime\n",
    "from typing import Any, Dict, List, Literal, Optional\n",
    "from uuid import uuid4\n",
    "import boto3\n",
    "from dotenv import load_dotenv\n",
    "\n",
    "\n",
    "\n",
    "logger = logging.getLogger()"
   ]
  },
  {
   "cell_type": "markdown",
   "metadata": {},
   "source": [
    "# Set up notebook so it can show logging messages and avoid print statements in cell blocks for debugging."
   ]
  },
  {
   "cell_type": "code",
   "execution_count": 2,
   "metadata": {},
   "outputs": [],
   "source": [
    "import logging\n",
    "import sys\n",
    "from datetime import datetime\n",
    "from IPython.display import display, HTML\n",
    "\n",
    "class VSCodeNotebookHandler(logging.Handler):\n",
    "    def __init__(self):\n",
    "        super().__init__()\n",
    "        self.log_buffer = []\n",
    "\n",
    "    def emit(self, record):\n",
    "        try:\n",
    "            # Format the message\n",
    "            msg = self.format(record)\n",
    "            \n",
    "            # Define colors for different log levels\n",
    "            colors = {\n",
    "                logging.DEBUG: '#6c757d',    # gray\n",
    "                logging.INFO: '#0d6efd',     # blue\n",
    "                logging.WARNING: '#ffc107',   # yellow\n",
    "                logging.ERROR: '#dc3545',     # red\n",
    "                logging.CRITICAL: '#721c24'   # dark red\n",
    "            }\n",
    "            \n",
    "            # Get color for current log level\n",
    "            color = colors.get(record.levelno, '#000000')\n",
    "            \n",
    "            # Create HTML formatted log entry\n",
    "            log_entry = f\"\"\"\n",
    "            <div style='\n",
    "                padding: 2px 6px;\n",
    "                margin: 2px 0;\n",
    "                border-left: 3px solid {color};\n",
    "                background-color: #f8f9fa;\n",
    "                font-family: Monaco, monospace;\n",
    "                font-size: 12px;\n",
    "            '>\n",
    "                <span style='color: {color}; font-weight: bold;'>{record.levelname}</span>\n",
    "                <span style='color: #666; margin-right: 8px;'>{datetime.now().strftime('%H:%M:%S')}</span>\n",
    "                <span>{msg}</span>\n",
    "            </div>\n",
    "            \"\"\"\n",
    "            \n",
    "            # Display the formatted log entry\n",
    "            display(HTML(log_entry))\n",
    "            \n",
    "            # Also print to stderr for VSCode's native console\n",
    "            print(msg, file=sys.stderr)\n",
    "            \n",
    "        except Exception as e:\n",
    "            print(f\"Error in log handler: {str(e)}\", file=sys.stderr)\n",
    "\n",
    "def setup_notebook_logging(level=logging.INFO):\n",
    "    \"\"\"\n",
    "    Configure logging for VSCode Jupyter notebooks\n",
    "    \n",
    "    Args:\n",
    "        level: The logging level to use (default: INFO)\n",
    "    Returns:\n",
    "        logger: Configured logger instance\n",
    "    \"\"\"\n",
    "    # Create or get the root logger\n",
    "    logger = logging.getLogger()\n",
    "    \n",
    "    # Remove any existing handlers\n",
    "    for handler in logger.handlers[:]:\n",
    "        logger.removeHandler(handler)\n",
    "    \n",
    "    # Set the logging level\n",
    "    logger.setLevel(level)\n",
    "    \n",
    "    # Create and configure the VSCode notebook handler\n",
    "    handler = VSCodeNotebookHandler()\n",
    "    formatter = logging.Formatter('%(message)s')\n",
    "    handler.setFormatter(formatter)\n",
    "    logger.addHandler(handler)\n",
    "    \n",
    "    return logger\n",
    "\n",
    "# Usage example:\n",
    "logger = setup_notebook_logging(logging.INFO)\n",
    "\n",
    "# Test the logger\n",
    "def test_logging():\n",
    "    logger.debug(\"This is a debug message\")\n",
    "    logger.info(\"This is an info message\")\n",
    "    logger.warning(\"This is a warning message\")\n",
    "    logger.error(\"This is an error message\")\n",
    "    logger.critical(\"This is a critical message\")"
   ]
  },
  {
   "cell_type": "code",
   "execution_count": 3,
   "metadata": {},
   "outputs": [],
   "source": [
    "logger = setup_notebook_logging()"
   ]
  },
  {
   "cell_type": "markdown",
   "metadata": {},
   "source": [
    "# Chartist"
   ]
  },
  {
   "cell_type": "code",
   "execution_count": 4,
   "metadata": {},
   "outputs": [
    {
     "name": "stdout",
     "output_type": "stream",
     "text": [
      "Using AWS Profile: aws-prototype\n",
      "Using AWS Region: us-east-1\n",
      "Using LLM model: anthropic.claude-3-5-sonnet-20240620-v1:0\n"
     ]
    }
   ],
   "source": [
    "# Load .env file\n",
    "load_dotenv()\n",
    "aws_profile = os.getenv('AWS_PROFILE')\n",
    "llm_region = os.getenv('LLM_REGION')\n",
    "llm_model = os.getenv('LLM_MODEL')\n",
    "print(f\"Using AWS Profile: {aws_profile}\")\n",
    "print(f\"Using AWS Region: {llm_region}\")\n",
    "print(f\"Using LLM model: {llm_model}\")"
   ]
  },
  {
   "cell_type": "code",
   "execution_count": 5,
   "metadata": {},
   "outputs": [],
   "source": [
    "from langchain import hub\n",
    "from langchain.agents import (\n",
    "    AgentExecutor,\n",
    "    tool,\n",
    "    create_tool_calling_agent,\n",
    "    create_json_chat_agent,\n",
    ")\n",
    "from langchain_core.tools import StructuredTool, Tool\n",
    "from langchain_community.tools.tavily_search import TavilySearchResults\n",
    "from langchain_aws import ChatBedrock\n",
    "from langchain_experimental.utilities import PythonREPL\n",
    "from langchain_core.messages import HumanMessage"
   ]
  },
  {
   "cell_type": "code",
   "execution_count": 6,
   "metadata": {},
   "outputs": [],
   "source": [
    "from config import Config\n",
    "from aws.bedrock import BedrockHandler\n",
    "from tools.visualisation_formatter import create_formatting_tool\n",
    "from tools.image_analysis_formatter import create_analysis_formatter_tool\n",
    "from tools.save_plotly import create_save_plotly_tool"
   ]
  },
  {
   "cell_type": "code",
   "execution_count": 7,
   "metadata": {},
   "outputs": [],
   "source": [
    "import pandas as pd\n",
    "import base64\n",
    "\n",
    "class chartist:\n",
    "    def __init__(self, region_name: str = \"us-east-1\"):\n",
    "        \"\"\"\n",
    "        Initialize chartist with required configuration\n",
    "\n",
    "        Parameters:\n",
    "        region_name (str): AWS region name\n",
    "        \"\"\"\n",
    "        logger.info(\"Chartist Start\")\n",
    "        self.config = Config()\n",
    "        self.bedrock = BedrockHandler(self.config)\n",
    "        self.bedrock_runtime = self.bedrock.set_runtime()\n",
    "        self.llm = self.bedrock.get_llm()\n",
    "        self.prompt = hub.pull(\"hwchase17/react-chat-json\")\n",
    "    \n",
    "\n",
    "        self.tools = [\n",
    "            create_formatting_tool(),\n",
    "            create_analysis_formatter_tool(),\n",
    "            create_save_plotly_tool()            \n",
    "        ]\n",
    "        self.agent_executor = self.set_agent_executor()\n",
    "\n",
    "        # Set up holder for visualisations\n",
    "        self.visualizations = None\n",
    "\n",
    "    def set_agent_executor(self, verbose=False, handle_parse=True):\n",
    "        logger.info(\"Setting up chartist executor\")\n",
    "        try:\n",
    "            agent = create_json_chat_agent(self.llm, self.tools, self.prompt)\n",
    "            logger.debug(\"Structured chat agent created\")\n",
    "\n",
    "            executor = AgentExecutor(\n",
    "                agent=agent,\n",
    "                tools=self.tools,\n",
    "                verbose=verbose,\n",
    "                handle_parsing_errors=handle_parse,\n",
    "            )\n",
    "            logger.info(\"Agent executor successfully set up\")\n",
    "            return executor\n",
    "        except Exception as e:\n",
    "            logger.error(f\"Error setting up agent executor: {str(e)}\")\n",
    "            raise\n",
    "\n",
    "    # Specific use cases - Dataframe ingestion and visualisation suggestion\n",
    "    def parse_dataframe(self, df: pd.DataFrame) -> dict:\n",
    "        \"\"\"\n",
    "        Extract useful information from a DataFrame and return it as a JSON-like dictionary.\n",
    "\n",
    "        Parameters:\n",
    "        df: DataFrame to analyze.\n",
    "\n",
    "        Returns:\n",
    "        dict: A structured dictionary containing DataFrame details.\n",
    "        \"\"\"\n",
    "        logger.info(\"Parsing DataFrame into structured JSON dictionary\")\n",
    "        try:\n",
    "            try:\n",
    "                summary = df.describe(include=\"all\").to_dict()\n",
    "            except ValueError as e:\n",
    "                logger.warning(f\"Could not generate full summary statistics: {e}\")\n",
    "                summary = {}\n",
    "            \n",
    "            data_info = {\n",
    "                \"columns\": [{\"name\": col, \"dtype\": str(dtype)} for col, dtype in df.dtypes.items()],\n",
    "                \"shape\": {\"rows\": df.shape[0], \"columns\": df.shape[1]},\n",
    "                \"summary\": summary,\n",
    "                \"sample_data\": df.head(10).to_dict(orient=\"records\"),\n",
    "            }\n",
    "            logger.debug(f\"DataFrame parsed: {data_info}\")\n",
    "            return data_info\n",
    "        except Exception as e:\n",
    "            logger.error(f\"Error parsing DataFrame: {str(e)}\")\n",
    "            raise\n",
    "        \n",
    "    def encode_image(self, image_path) -> str:\n",
    "        \"\"\"\n",
    "        Encode one or more images into Base64 ready for Claude\n",
    "        \n",
    "        Parameters:\n",
    "            image_paths str: Path to the chart image\n",
    "        \n",
    "        Returns:\n",
    "            image_contents str: base64 encoded image string data\n",
    "        \n",
    "        Raises:\n",
    "            Exception: If there's an error processing the request or calling Bedrock\n",
    "        \"\"\"\n",
    "        logger.info(\"Encoding image to base64\")\n",
    "        try:\n",
    "            # Create image content string\n",
    "            with open(image_path, \"rb\") as image_file:\n",
    "                encoded_image = base64.b64encode(image_file.read()).decode('utf-8')\n",
    "\n",
    "            return encoded_image\n",
    "            \n",
    "        except Exception as e:\n",
    "            logger.error(f\"Error encoding image: {str(e)}\")\n",
    "            raise\n",
    "        \n",
    "    def analyse_image(self, base64_data):\n",
    "        \"\"\"\n",
    "        Necessary because trying to pass it into an agent tool fails as agent will truncate the base64 image\n",
    "        data.\n",
    "        \n",
    "        \"\"\"\n",
    "        try:\n",
    "            if not base64_data:\n",
    "                return \"Error: No image data provided\"\n",
    "        \n",
    "            analysis_prompt = \"\"\"Analyse this image and provide a detailed analysis using the following structure:\n",
    "\n",
    "                # Description\n",
    "                [Provide a detailed description of what the image shows]\n",
    "\n",
    "                # Chart Analysis\n",
    "                ## Type\n",
    "                [Specify the type of visualization (e.g., bar chart, line plot, scatter plot)]\n",
    "\n",
    "                ## Axes\n",
    "                [List all axes and what they represent]\n",
    "\n",
    "                ## Insights\n",
    "                [List key patterns, trends, or insights visible in the chart]\n",
    "\n",
    "                # Plotly Recreation\n",
    "                ## Code\n",
    "                ```python\n",
    "                [Provide a complete Plotly code snippet that could recreate this visualization]\n",
    "                ```\n",
    "\n",
    "                ## Data Structure\n",
    "                [Describe the data structure needed for the Plotly code]\"\"\"\n",
    "            \n",
    "            body = {\n",
    "                    \"anthropic_version\": \"bedrock-2023-05-31\",\n",
    "                    \"max_tokens\": 2000,\n",
    "                    \"messages\": [\n",
    "                        {\n",
    "                            \"role\": \"user\",\n",
    "                            \"content\": [\n",
    "                                {\n",
    "                                    \"type\": \"image\",\n",
    "                                    \"source\": {\n",
    "                                        \"type\": \"base64\",\n",
    "                                        \"media_type\": \"image/png\",\n",
    "                                        \"data\": base64_data,\n",
    "                                    },\n",
    "                                },\n",
    "                                {\"type\": \"text\", \"text\": analysis_prompt},\n",
    "                            ],\n",
    "                        }\n",
    "                    ],\n",
    "                }\n",
    "            \n",
    "            body_bytes = json.dumps(body).encode(\"utf-8\")\n",
    "\n",
    "            logger.debug(f\"Request body: {json.dumps(body, indent=2)}\")\n",
    "\n",
    "            # Call Bedrock\n",
    "            response = self.bedrock_runtime.invoke_model(\n",
    "                modelId=self.config.LLM_MODEL, body=body_bytes\n",
    "            )\n",
    "\n",
    "            response_body = json.loads(response.get(\"body\").read())\n",
    "            return response_body.get(\"content\", [])[0].get(\"text\", \"\")\n",
    "\n",
    "        except Exception as e:\n",
    "            logger.error(f\"Full error in analyse_image: {str(e)}\")\n",
    "            return f\"Error analysing image: {str(e)}\"\n",
    "\n",
    "    def handle_request(self, data=None, prompt=None, image_path=None, **kwargs):\n",
    "        \"\"\"\n",
    "        Handle user input by deciding how to process it, based on the type of data provided.\n",
    "\n",
    "        Parameters:\n",
    "        data: Input data for the agent. Could be a DataFrame or other types.\n",
    "        prompt: String prompt to guide the agent.\n",
    "        image_paths: List of image paths to convert and pass for analysis\n",
    "\n",
    "        Returns:\n",
    "        Response generated by the agent executor.\n",
    "        \"\"\"\n",
    "        \n",
    "        base_prompt = f\"\"\"\n",
    "            User Prompt:\n",
    "            {prompt}\n",
    "            \"\"\"\n",
    "        \n",
    "        if isinstance(data, pd.DataFrame):\n",
    "            logger.info(\"Detected DataFrame input. Preparing to analyze...\")\n",
    "\n",
    "            # Limit the DataFrame to the top 100 rows if necessary\n",
    "            max_rows = 100\n",
    "            if len(data) > max_rows:\n",
    "                logger.info(f\"DataFrame has more than {max_rows} rows. Trimming for processing.\")\n",
    "                data = data.head(max_rows)\n",
    "\n",
    "            # Convert DataFrame to JSON string\n",
    "            dataframe_json = data.to_json(orient=\"split\")\n",
    "\n",
    "            # Construct the combined prompt - TODO: maybe instead of creating a separate prompt, we add the bits\n",
    "            # to the prompt depending on what is being analysed as we do with citations.\n",
    "\n",
    "            dataframe_prompt = f\"\"\"\n",
    "                        DataFrame Information (Top {len(data)} Rows):\n",
    "                        The following is a JSON representation of the DataFrame. Use this to suggest suitable visualizations:\n",
    "                        {dataframe_json}\n",
    "\n",
    "                        Instructions:\n",
    "                        1. Analyze the DataFrame to understand its structure and content\n",
    "                        2. Suggest meaningful visualizations based on the data and user's instructions\n",
    "                        3. For each visualization, include:\n",
    "                        - Clear purpose\n",
    "                        - Chart type\n",
    "                        - Variables used\n",
    "                        - Expected insights\n",
    "                        4. Use the format_visualization_output tool to structure your response\n",
    "                        5. Make sure to provide concrete, specific suggestions based on the actual data\n",
    "\n",
    "                        Remember to use the formatting tool for your final output.\n",
    "                        \"\"\"\n",
    "\n",
    "            final_prompt = f\"\"\"\n",
    "                {base_prompt}\n",
    "\n",
    "                {dataframe_prompt}\n",
    "                \"\"\"\n",
    "        \n",
    "        if isinstance(image_path, str):\n",
    "            logger.info(\"Detected image location input. Preparing to review...\")\n",
    "            \n",
    "            # Get encoded image data\n",
    "            image_base64 = self.encode_image(image_path)\n",
    "            image_response = self.analyse_image(image_base64)\n",
    "            \n",
    "            logger.info(f\"Claude markdown response: {image_response}\")\n",
    "                \n",
    "            final_prompt = f\"\"\"\n",
    "                Use the image_analysis_formatter tool to standardize the output and the save_plotly_visualization tool to create an interactive visualization.\n",
    "                \n",
    "                1. First, format the analysis using image_analysis_formatter with these parameters:\n",
    "                - image_information: {image_response}\n",
    "                \n",
    "                2. Then, extract the Plotly code from the formatted response and use save_plotly_visualization to create an HTML file.\n",
    "                \n",
    "                3. Return both the formatted analysis and the path to the saved visualization.\n",
    "            \"\"\"\n",
    "        \n",
    "        # Send to the agent executor\n",
    "        try:\n",
    "            logger.info(\"Sending prompt and data to agent executor...\")\n",
    "            response = self.agent_executor.invoke({\"input\": final_prompt})\n",
    "            print(response)\n",
    "            return response\n",
    "        except Exception as e:\n",
    "            logger.error(f\"Error in agent executor: {str(e)}\")\n",
    "            return f\"Error processing visualization suggestions: {str(e)}\"\n",
    "            \n",
    "\n",
    "        #elif prompt:\n",
    "        #    logger.info(\"No DataFrame detected. Using agent executor for the provided prompt...\")\n",
    "        #    try:\n",
    "        #        response = self.agent_executor.invoke({\"input\": prompt})\n",
    "        #        return response\n",
    "        #    except Exception as e:\n",
    "        #        logger.error(f\"Error in agent executor: {str(e)}\")\n",
    "        #        return f\"Error processing prompt: {str(e)}\"\n",
    "\n",
    "        #else:\n",
    "        #    logger.warning(\"No input provided to handle_request method.\")\n",
    "        #    return \"Please provide a DataFrame or a prompt for the agent to process.\"\n",
    "        "
   ]
  },
  {
   "cell_type": "code",
   "execution_count": 8,
   "metadata": {},
   "outputs": [],
   "source": [
    "import numpy as np\n",
    "def create_sample_dataset():\n",
    "    \"\"\"Create a sample dataset for testing\"\"\"\n",
    "    np.random.seed(42)\n",
    "    dates = pd.date_range(start=\"2023-01-01\", periods=100, freq=\"D\")\n",
    "\n",
    "    sample_df = pd.DataFrame(\n",
    "        {\n",
    "            \"date\": dates,\n",
    "            \"sales\": np.random.normal(1000, 100, 100),\n",
    "            \"customers\": np.random.randint(50, 200, 100),\n",
    "            \"satisfaction_score\": np.random.uniform(3.5, 5.0, 100),\n",
    "            \"category\": np.random.choice([\"A\", \"B\", \"C\"], 100),\n",
    "        }\n",
    "    )\n",
    "\n",
    "    return sample_df"
   ]
  },
  {
   "cell_type": "code",
   "execution_count": 9,
   "metadata": {},
   "outputs": [
    {
     "data": {
      "text/html": [
       "\n",
       "            <div style='\n",
       "                padding: 2px 6px;\n",
       "                margin: 2px 0;\n",
       "                border-left: 3px solid #0d6efd;\n",
       "                background-color: #f8f9fa;\n",
       "                font-family: Monaco, monospace;\n",
       "                font-size: 12px;\n",
       "            '>\n",
       "                <span style='color: #0d6efd; font-weight: bold;'>INFO</span>\n",
       "                <span style='color: #666; margin-right: 8px;'>17:59:21</span>\n",
       "                <span>Chartist Start</span>\n",
       "            </div>\n",
       "            "
      ],
      "text/plain": [
       "<IPython.core.display.HTML object>"
      ]
     },
     "metadata": {},
     "output_type": "display_data"
    },
    {
     "name": "stderr",
     "output_type": "stream",
     "text": [
      "Chartist Start\n"
     ]
    },
    {
     "data": {
      "text/html": [
       "\n",
       "            <div style='\n",
       "                padding: 2px 6px;\n",
       "                margin: 2px 0;\n",
       "                border-left: 3px solid #0d6efd;\n",
       "                background-color: #f8f9fa;\n",
       "                font-family: Monaco, monospace;\n",
       "                font-size: 12px;\n",
       "            '>\n",
       "                <span style='color: #0d6efd; font-weight: bold;'>INFO</span>\n",
       "                <span style='color: #666; margin-right: 8px;'>17:59:21</span>\n",
       "                <span>Loaded config for agent successfully.</span>\n",
       "            </div>\n",
       "            "
      ],
      "text/plain": [
       "<IPython.core.display.HTML object>"
      ]
     },
     "metadata": {},
     "output_type": "display_data"
    },
    {
     "name": "stderr",
     "output_type": "stream",
     "text": [
      "Loaded config for agent successfully.\n"
     ]
    },
    {
     "data": {
      "text/html": [
       "\n",
       "            <div style='\n",
       "                padding: 2px 6px;\n",
       "                margin: 2px 0;\n",
       "                border-left: 3px solid #0d6efd;\n",
       "                background-color: #f8f9fa;\n",
       "                font-family: Monaco, monospace;\n",
       "                font-size: 12px;\n",
       "            '>\n",
       "                <span style='color: #0d6efd; font-weight: bold;'>INFO</span>\n",
       "                <span style='color: #666; margin-right: 8px;'>17:59:21</span>\n",
       "                <span>Initializing BedrockHandler</span>\n",
       "            </div>\n",
       "            "
      ],
      "text/plain": [
       "<IPython.core.display.HTML object>"
      ]
     },
     "metadata": {},
     "output_type": "display_data"
    },
    {
     "name": "stderr",
     "output_type": "stream",
     "text": [
      "Initializing BedrockHandler\n"
     ]
    },
    {
     "data": {
      "text/html": [
       "\n",
       "            <div style='\n",
       "                padding: 2px 6px;\n",
       "                margin: 2px 0;\n",
       "                border-left: 3px solid #0d6efd;\n",
       "                background-color: #f8f9fa;\n",
       "                font-family: Monaco, monospace;\n",
       "                font-size: 12px;\n",
       "            '>\n",
       "                <span style='color: #0d6efd; font-weight: bold;'>INFO</span>\n",
       "                <span style='color: #666; margin-right: 8px;'>17:59:21</span>\n",
       "                <span>Found credentials in shared credentials file: ~/.aws/credentials</span>\n",
       "            </div>\n",
       "            "
      ],
      "text/plain": [
       "<IPython.core.display.HTML object>"
      ]
     },
     "metadata": {},
     "output_type": "display_data"
    },
    {
     "name": "stderr",
     "output_type": "stream",
     "text": [
      "Found credentials in shared credentials file: ~/.aws/credentials\n"
     ]
    },
    {
     "data": {
      "text/html": [
       "\n",
       "            <div style='\n",
       "                padding: 2px 6px;\n",
       "                margin: 2px 0;\n",
       "                border-left: 3px solid #0d6efd;\n",
       "                background-color: #f8f9fa;\n",
       "                font-family: Monaco, monospace;\n",
       "                font-size: 12px;\n",
       "            '>\n",
       "                <span style='color: #0d6efd; font-weight: bold;'>INFO</span>\n",
       "                <span style='color: #666; margin-right: 8px;'>17:59:21</span>\n",
       "                <span>Creating ChatBedrock LLM instance</span>\n",
       "            </div>\n",
       "            "
      ],
      "text/plain": [
       "<IPython.core.display.HTML object>"
      ]
     },
     "metadata": {},
     "output_type": "display_data"
    },
    {
     "name": "stderr",
     "output_type": "stream",
     "text": [
      "Creating ChatBedrock LLM instance\n"
     ]
    },
    {
     "data": {
      "text/html": [
       "\n",
       "            <div style='\n",
       "                padding: 2px 6px;\n",
       "                margin: 2px 0;\n",
       "                border-left: 3px solid #0d6efd;\n",
       "                background-color: #f8f9fa;\n",
       "                font-family: Monaco, monospace;\n",
       "                font-size: 12px;\n",
       "            '>\n",
       "                <span style='color: #0d6efd; font-weight: bold;'>INFO</span>\n",
       "                <span style='color: #666; margin-right: 8px;'>17:59:21</span>\n",
       "                <span>Found credentials in shared credentials file: ~/.aws/credentials</span>\n",
       "            </div>\n",
       "            "
      ],
      "text/plain": [
       "<IPython.core.display.HTML object>"
      ]
     },
     "metadata": {},
     "output_type": "display_data"
    },
    {
     "name": "stderr",
     "output_type": "stream",
     "text": [
      "Found credentials in shared credentials file: ~/.aws/credentials\n"
     ]
    },
    {
     "data": {
      "text/html": [
       "\n",
       "            <div style='\n",
       "                padding: 2px 6px;\n",
       "                margin: 2px 0;\n",
       "                border-left: 3px solid #0d6efd;\n",
       "                background-color: #f8f9fa;\n",
       "                font-family: Monaco, monospace;\n",
       "                font-size: 12px;\n",
       "            '>\n",
       "                <span style='color: #0d6efd; font-weight: bold;'>INFO</span>\n",
       "                <span style='color: #666; margin-right: 8px;'>17:59:21</span>\n",
       "                <span>Successfully created ChatBedrock LLM instance</span>\n",
       "            </div>\n",
       "            "
      ],
      "text/plain": [
       "<IPython.core.display.HTML object>"
      ]
     },
     "metadata": {},
     "output_type": "display_data"
    },
    {
     "name": "stderr",
     "output_type": "stream",
     "text": [
      "Successfully created ChatBedrock LLM instance\n",
      "/Users/jose.orjales/c-af-chartist/.venv/lib/python3.13/site-packages/langsmith/client.py:253: LangSmithMissingAPIKeyWarning: API key must be provided when using hosted LangSmith API\n",
      "  warnings.warn(\n"
     ]
    },
    {
     "data": {
      "text/html": [
       "\n",
       "            <div style='\n",
       "                padding: 2px 6px;\n",
       "                margin: 2px 0;\n",
       "                border-left: 3px solid #0d6efd;\n",
       "                background-color: #f8f9fa;\n",
       "                font-family: Monaco, monospace;\n",
       "                font-size: 12px;\n",
       "            '>\n",
       "                <span style='color: #0d6efd; font-weight: bold;'>INFO</span>\n",
       "                <span style='color: #666; margin-right: 8px;'>17:59:21</span>\n",
       "                <span>Setting up chartist executor</span>\n",
       "            </div>\n",
       "            "
      ],
      "text/plain": [
       "<IPython.core.display.HTML object>"
      ]
     },
     "metadata": {},
     "output_type": "display_data"
    },
    {
     "name": "stderr",
     "output_type": "stream",
     "text": [
      "Setting up chartist executor\n"
     ]
    },
    {
     "data": {
      "text/html": [
       "\n",
       "            <div style='\n",
       "                padding: 2px 6px;\n",
       "                margin: 2px 0;\n",
       "                border-left: 3px solid #0d6efd;\n",
       "                background-color: #f8f9fa;\n",
       "                font-family: Monaco, monospace;\n",
       "                font-size: 12px;\n",
       "            '>\n",
       "                <span style='color: #0d6efd; font-weight: bold;'>INFO</span>\n",
       "                <span style='color: #666; margin-right: 8px;'>17:59:21</span>\n",
       "                <span>Agent executor successfully set up</span>\n",
       "            </div>\n",
       "            "
      ],
      "text/plain": [
       "<IPython.core.display.HTML object>"
      ]
     },
     "metadata": {},
     "output_type": "display_data"
    },
    {
     "name": "stderr",
     "output_type": "stream",
     "text": [
      "Agent executor successfully set up\n"
     ]
    }
   ],
   "source": [
    "chartist = chartist()"
   ]
  },
  {
   "cell_type": "markdown",
   "metadata": {},
   "source": [
    "## Test Visualisation from a dataset"
   ]
  },
  {
   "cell_type": "code",
   "execution_count": 10,
   "metadata": {},
   "outputs": [],
   "source": [
    "sample_df = create_sample_dataset()"
   ]
  },
  {
   "cell_type": "code",
   "execution_count": 11,
   "metadata": {},
   "outputs": [
    {
     "data": {
      "text/html": [
       "\n",
       "            <div style='\n",
       "                padding: 2px 6px;\n",
       "                margin: 2px 0;\n",
       "                border-left: 3px solid #0d6efd;\n",
       "                background-color: #f8f9fa;\n",
       "                font-family: Monaco, monospace;\n",
       "                font-size: 12px;\n",
       "            '>\n",
       "                <span style='color: #0d6efd; font-weight: bold;'>INFO</span>\n",
       "                <span style='color: #666; margin-right: 8px;'>18:53:03</span>\n",
       "                <span>Detected DataFrame input. Preparing to analyze...</span>\n",
       "            </div>\n",
       "            "
      ],
      "text/plain": [
       "<IPython.core.display.HTML object>"
      ]
     },
     "metadata": {},
     "output_type": "display_data"
    },
    {
     "name": "stderr",
     "output_type": "stream",
     "text": [
      "Detected DataFrame input. Preparing to analyze...\n"
     ]
    },
    {
     "data": {
      "text/html": [
       "\n",
       "            <div style='\n",
       "                padding: 2px 6px;\n",
       "                margin: 2px 0;\n",
       "                border-left: 3px solid #0d6efd;\n",
       "                background-color: #f8f9fa;\n",
       "                font-family: Monaco, monospace;\n",
       "                font-size: 12px;\n",
       "            '>\n",
       "                <span style='color: #0d6efd; font-weight: bold;'>INFO</span>\n",
       "                <span style='color: #666; margin-right: 8px;'>18:53:03</span>\n",
       "                <span>Sending prompt and DataFrame to agent executor...</span>\n",
       "            </div>\n",
       "            "
      ],
      "text/plain": [
       "<IPython.core.display.HTML object>"
      ]
     },
     "metadata": {},
     "output_type": "display_data"
    },
    {
     "name": "stderr",
     "output_type": "stream",
     "text": [
      "Sending prompt and DataFrame to agent executor...\n"
     ]
    }
   ],
   "source": [
    "prompt = \"Analyze this dataset and suggest visualizations to explore trends and insights.\"\n",
    "response = chartist.handle_request(data=sample_df, prompt=prompt)"
   ]
  },
  {
   "cell_type": "code",
   "execution_count": 12,
   "metadata": {},
   "outputs": [
    {
     "name": "stdout",
     "output_type": "stream",
     "text": [
      "📊 VISUALIZATION SUGGESTIONS:\n",
      "\n",
      "\n",
      "📈 TIME SERIES ANALYSIS OF SALES\n",
      "Purpose: To visualize the trend of sales over time\n",
      "Chart Type: Line chart\n",
      "Variables: date (x-axis), sales (y-axis)\n",
      "Expected Insights: Identify any seasonal patterns, overall trends, or unusual spikes/dips in sales\n",
      "\n",
      "--------------------------------------------------\n",
      "\n",
      "📈 CUSTOMER COUNT VS\n",
      "Purpose: To examine the relationship between the number of customers and sales\n",
      "Chart Type: Scatter plot\n",
      "Variables: customers (x-axis), sales (y-axis)\n",
      "Expected Insights: Determine if there's a correlation between customer count and sales volume\n",
      "\n",
      "--------------------------------------------------\n",
      "\n",
      "📈 SATISFACTION SCORE DISTRIBUTION\n",
      "Purpose: To analyze the distribution of customer satisfaction scores\n",
      "Chart Type: Histogram or Box plot\n",
      "Variables: satisfaction_score\n",
      "Expected Insights: Understand the overall customer satisfaction levels and identify any outliers\n",
      "\n",
      "--------------------------------------------------\n",
      "\n",
      "📈 SALES BY CATEGORY COMPARISON\n",
      "Purpose: To compare sales performance across different categories\n",
      "Chart Type: Bar chart or Box plot\n",
      "Variables: category (x-axis), sales (y-axis)\n",
      "Expected Insights: Identify which categories are performing best in terms of sales\n",
      "\n",
      "--------------------------------------------------\n",
      "\n",
      "📈 SATISFACTION SCORE VS\n",
      "Purpose: To visualize the relationship between satisfaction scores and sales\n",
      "Chart Type: Heatmap\n",
      "Variables: satisfaction_score (x-axis), sales (y-axis), color intensity representing frequency\n",
      "Expected Insights: Determine if higher satisfaction scores correlate with higher sales\n",
      "\n",
      "--------------------------------------------------\n",
      "\n",
      "📈 CUSTOMER COUNT BY CATEGORY\n",
      "Purpose: To compare the number of customers across different categories\n",
      "Chart Type: Stacked bar chart or Pie chart\n",
      "Variables: category, customers\n",
      "Expected Insights: Understand which categories attract the most customers\n",
      "\n",
      "--------------------------------------------------\n",
      "\n",
      "📈 SATISFACTION SCORE TRENDS OVER TIME\n",
      "Purpose: To analyze how customer satisfaction changes over time\n",
      "Chart Type: Line chart with moving average\n",
      "Variables: date (x-axis), satisfaction_score (y-axis)\n",
      "Expected Insights: Identify any trends or patterns in customer satisfaction over the given time period\n"
     ]
    }
   ],
   "source": [
    "print(response['output'])"
   ]
  },
  {
   "cell_type": "markdown",
   "metadata": {},
   "source": [
    "## Test copycat functionality\n",
    "\n",
    "This is where we pass an image to Claude and ask it to recreate the image using plotly graph objects if possible, saved as an HTML file."
   ]
  },
  {
   "cell_type": "code",
   "execution_count": 13,
   "metadata": {},
   "outputs": [
    {
     "data": {
      "text/html": [
       "\n",
       "            <div style='\n",
       "                padding: 2px 6px;\n",
       "                margin: 2px 0;\n",
       "                border-left: 3px solid #0d6efd;\n",
       "                background-color: #f8f9fa;\n",
       "                font-family: Monaco, monospace;\n",
       "                font-size: 12px;\n",
       "            '>\n",
       "                <span style='color: #0d6efd; font-weight: bold;'>INFO</span>\n",
       "                <span style='color: #666; margin-right: 8px;'>17:14:37</span>\n",
       "                <span>Encoding image to base64</span>\n",
       "            </div>\n",
       "            "
      ],
      "text/plain": [
       "<IPython.core.display.HTML object>"
      ]
     },
     "metadata": {},
     "output_type": "display_data"
    },
    {
     "name": "stderr",
     "output_type": "stream",
     "text": [
      "Encoding image to base64\n"
     ]
    }
   ],
   "source": [
    "bedrock = boto3.client(\n",
    "    service_name='bedrock-runtime',\n",
    "    region_name='us-east-1'\n",
    ")\n",
    "\n",
    "base64_data = chartist.encode_image(image_path='/Users/jose.orjales/c-af-chartist/confusion_matrix.png')\n",
    "\n",
    "analysis_prompt = \"\"\"Analyse this image and provide a detailed analysis using the following structure:\n",
    "\n",
    "# Description\n",
    "[Provide a detailed description of what the image shows]\n",
    "\n",
    "# Chart Analysis\n",
    "## Type\n",
    "[Specify the type of visualization (e.g., bar chart, line plot, scatter plot)]\n",
    "\n",
    "## Axes\n",
    "[List all axes and what they represent]\n",
    "\n",
    "## Insights\n",
    "[List key patterns, trends, or insights visible in the chart]\n",
    "\n",
    "# Plotly Recreation\n",
    "## Code\n",
    "```python\n",
    "[Provide a complete Plotly code snippet that could recreate this visualization]\n",
    "```\n",
    "\n",
    "## Data Structure\n",
    "[Describe the data structure needed for the Plotly code]\"\"\"\n",
    "\n",
    "body = {\n",
    "                \"anthropic_version\": \"bedrock-2023-05-31\",\n",
    "                \"max_tokens\": 2000,\n",
    "                \"messages\": [\n",
    "                    {\n",
    "                        \"role\": \"user\",\n",
    "                        \"content\": [\n",
    "                            {\n",
    "                                \"type\": \"image\",\n",
    "                                \"source\": {\n",
    "                                    \"type\": \"base64\",\n",
    "                                    \"media_type\": \"image/png\",\n",
    "                                    \"data\": base64_data,\n",
    "                                },\n",
    "                            },\n",
    "                            {\"type\": \"text\", \"text\": analysis_prompt},\n",
    "                        ],\n",
    "                    }\n",
    "                ],\n",
    "            }\n",
    "\n",
    "body_bytes = json.dumps(body).encode('utf-8')"
   ]
  },
  {
   "cell_type": "code",
   "execution_count": 14,
   "metadata": {},
   "outputs": [
    {
     "name": "stdout",
     "output_type": "stream",
     "text": [
      "# Description\n",
      "The image shows a correlation matrix, which displays the correlation coefficients between three variables: satisfaction_score, customers, and sales. The correlation coefficients are represented by colored cells, ranging from dark purple (strong negative correlation) to bright yellow (strong positive correlation).\n",
      "\n",
      "# Chart Analysis\n",
      "## Type\n",
      "The visualization is a heatmap or correlation matrix, which is a graphical representation of a correlation table.\n",
      "\n",
      "## Axes\n",
      "The x-axis and y-axis represent the variables being analyzed: satisfaction_score, customers, and sales.\n",
      "\n",
      "## Insights\n",
      "- There is a strong positive correlation between satisfaction_score and customers, as indicated by the bright yellow cell.\n",
      "- There is a moderate positive correlation between satisfaction_score and sales, as indicated by the light green cell.\n",
      "- There is a weak negative correlation between customers and sales, as indicated by the light purple cell.\n",
      "\n",
      "# Plotly Recreation\n",
      "## Code\n",
      "```python\n",
      "import plotly.express as px\n",
      "\n",
      "# Assume the data is in a DataFrame called 'data'\n",
      "corr = data.corr()\n",
      "\n",
      "fig = px.imshow(corr, text_auto=True, aspect=\"auto\")\n",
      "fig.update_layout(\n",
      "    title=\"Correlation Matrix\",\n",
      "    xaxis_title=\"Variables\",\n",
      "    yaxis_title=\"Variables\"\n",
      ")\n",
      "\n",
      "fig.show()\n",
      "```\n",
      "\n",
      "## Data Structure\n",
      "The data should be in a tabular format, such as a pandas DataFrame, with columns representing the variables (satisfaction_score, customers, and sales). The correlation matrix can be computed using the `corr()` method on the DataFrame.\n"
     ]
    }
   ],
   "source": [
    "response = bedrock.invoke_model(\n",
    "    modelId='anthropic.claude-3-sonnet-20240229-v1:0', body=body_bytes\n",
    ")\n",
    "\n",
    "# Parse and return the response\n",
    "response_body = json.loads(response['body'].read())\n",
    "print(response_body['content'][0]['text'])"
   ]
  },
  {
   "cell_type": "code",
   "execution_count": 11,
   "metadata": {},
   "outputs": [
    {
     "data": {
      "text/html": [
       "\n",
       "            <div style='\n",
       "                padding: 2px 6px;\n",
       "                margin: 2px 0;\n",
       "                border-left: 3px solid #0d6efd;\n",
       "                background-color: #f8f9fa;\n",
       "                font-family: Monaco, monospace;\n",
       "                font-size: 12px;\n",
       "            '>\n",
       "                <span style='color: #0d6efd; font-weight: bold;'>INFO</span>\n",
       "                <span style='color: #666; margin-right: 8px;'>17:59:37</span>\n",
       "                <span>Detected image location input. Preparing to review...</span>\n",
       "            </div>\n",
       "            "
      ],
      "text/plain": [
       "<IPython.core.display.HTML object>"
      ]
     },
     "metadata": {},
     "output_type": "display_data"
    },
    {
     "name": "stderr",
     "output_type": "stream",
     "text": [
      "Detected image location input. Preparing to review...\n"
     ]
    },
    {
     "data": {
      "text/html": [
       "\n",
       "            <div style='\n",
       "                padding: 2px 6px;\n",
       "                margin: 2px 0;\n",
       "                border-left: 3px solid #0d6efd;\n",
       "                background-color: #f8f9fa;\n",
       "                font-family: Monaco, monospace;\n",
       "                font-size: 12px;\n",
       "            '>\n",
       "                <span style='color: #0d6efd; font-weight: bold;'>INFO</span>\n",
       "                <span style='color: #666; margin-right: 8px;'>17:59:37</span>\n",
       "                <span>Encoding image to base64</span>\n",
       "            </div>\n",
       "            "
      ],
      "text/plain": [
       "<IPython.core.display.HTML object>"
      ]
     },
     "metadata": {},
     "output_type": "display_data"
    },
    {
     "name": "stderr",
     "output_type": "stream",
     "text": [
      "Encoding image to base64\n"
     ]
    },
    {
     "data": {
      "text/html": [
       "\n",
       "            <div style='\n",
       "                padding: 2px 6px;\n",
       "                margin: 2px 0;\n",
       "                border-left: 3px solid #0d6efd;\n",
       "                background-color: #f8f9fa;\n",
       "                font-family: Monaco, monospace;\n",
       "                font-size: 12px;\n",
       "            '>\n",
       "                <span style='color: #0d6efd; font-weight: bold;'>INFO</span>\n",
       "                <span style='color: #666; margin-right: 8px;'>17:59:57</span>\n",
       "                <span>Claude markdown response: # Description\n",
       "This image shows a correlation matrix heatmap. The matrix visualizes the relationships between three variables: satisfaction_score, customers, and sales. The correlation coefficients are represented by different colors, with yellow indicating strong positive correlation, dark purple indicating weak or no correlation, and lighter purple suggesting moderate correlation.\n",
       "\n",
       "# Chart Analysis\n",
       "## Type\n",
       "The visualization is a heatmap, specifically a correlation matrix heatmap.\n",
       "\n",
       "## Axes\n",
       "- X-axis: Variables (sales, customers, satisfaction_score)\n",
       "- Y-axis: Variables (satisfaction_score, customers, sales)\n",
       "\n",
       "## Insights\n",
       "1. There appears to be a strong positive correlation between sales and customers, indicated by the bright yellow color.\n",
       "2. The satisfaction_score seems to have a weak or no correlation with both sales and customers, shown by the dark purple color.\n",
       "3. The diagonal of the matrix is yellow, which is expected as it represents the correlation of each variable with itself (always 1).\n",
       "4. The matrix is symmetrical, which is a characteristic of correlation matrices.\n",
       "\n",
       "# Plotly Recreation\n",
       "## Code\n",
       "```python\n",
       "import plotly.graph_objects as go\n",
       "import numpy as np\n",
       "\n",
       "# Create the correlation matrix\n",
       "corr_matrix = np.array([\n",
       "    [1, 0, 0],\n",
       "    [0, 1, 1],\n",
       "    [0, 1, 1]\n",
       "])\n",
       "\n",
       "variables = ['satisfaction_score', 'customers', 'sales']\n",
       "\n",
       "fig = go.Figure(data=go.Heatmap(\n",
       "    z=corr_matrix,\n",
       "    x=variables,\n",
       "    y=variables,\n",
       "    colorscale=[\n",
       "        [0, \"rgb(49,0,90)\"],\n",
       "        [0.5, \"rgb(102,0,152)\"],\n",
       "        [1, \"rgb(255,231,0)\"]\n",
       "    ],\n",
       "    zmin=-1,\n",
       "    zmax=1\n",
       "))\n",
       "\n",
       "fig.update_layout(\n",
       "    title='Correlation Matrix',\n",
       "    xaxis_title='Variables',\n",
       "    yaxis_title='Variables',\n",
       "    width=800,\n",
       "    height=600\n",
       ")\n",
       "\n",
       "fig.show()\n",
       "```\n",
       "\n",
       "## Data Structure\n",
       "The data structure needed for this Plotly code is a 2D numpy array or a list of lists representing the correlation matrix. In this case, it's a 3x3 matrix where each element represents the correlation coefficient between two variables. The variable names are stored in a separate list.\n",
       "\n",
       "The correlation matrix should be symmetric and have values between -1 and 1, with 1 on the diagonal (correlation of a variable with itself). The actual values in the matrix are approximated based on the colors in the heatmap:\n",
       "\n",
       "```python\n",
       "corr_matrix = [\n",
       "    [1, 0, 0],\n",
       "    [0, 1, 1],\n",
       "    [0, 1, 1]\n",
       "]\n",
       "\n",
       "variables = ['satisfaction_score', 'customers', 'sales']\n",
       "```\n",
       "\n",
       "This structure allows for easy plotting of the heatmap using Plotly's go.Heatmap function.</span>\n",
       "            </div>\n",
       "            "
      ],
      "text/plain": [
       "<IPython.core.display.HTML object>"
      ]
     },
     "metadata": {},
     "output_type": "display_data"
    },
    {
     "name": "stderr",
     "output_type": "stream",
     "text": [
      "Claude markdown response: # Description\n",
      "This image shows a correlation matrix heatmap. The matrix visualizes the relationships between three variables: satisfaction_score, customers, and sales. The correlation coefficients are represented by different colors, with yellow indicating strong positive correlation, dark purple indicating weak or no correlation, and lighter purple suggesting moderate correlation.\n",
      "\n",
      "# Chart Analysis\n",
      "## Type\n",
      "The visualization is a heatmap, specifically a correlation matrix heatmap.\n",
      "\n",
      "## Axes\n",
      "- X-axis: Variables (sales, customers, satisfaction_score)\n",
      "- Y-axis: Variables (satisfaction_score, customers, sales)\n",
      "\n",
      "## Insights\n",
      "1. There appears to be a strong positive correlation between sales and customers, indicated by the bright yellow color.\n",
      "2. The satisfaction_score seems to have a weak or no correlation with both sales and customers, shown by the dark purple color.\n",
      "3. The diagonal of the matrix is yellow, which is expected as it represents the correlation of each variable with itself (always 1).\n",
      "4. The matrix is symmetrical, which is a characteristic of correlation matrices.\n",
      "\n",
      "# Plotly Recreation\n",
      "## Code\n",
      "```python\n",
      "import plotly.graph_objects as go\n",
      "import numpy as np\n",
      "\n",
      "# Create the correlation matrix\n",
      "corr_matrix = np.array([\n",
      "    [1, 0, 0],\n",
      "    [0, 1, 1],\n",
      "    [0, 1, 1]\n",
      "])\n",
      "\n",
      "variables = ['satisfaction_score', 'customers', 'sales']\n",
      "\n",
      "fig = go.Figure(data=go.Heatmap(\n",
      "    z=corr_matrix,\n",
      "    x=variables,\n",
      "    y=variables,\n",
      "    colorscale=[\n",
      "        [0, \"rgb(49,0,90)\"],\n",
      "        [0.5, \"rgb(102,0,152)\"],\n",
      "        [1, \"rgb(255,231,0)\"]\n",
      "    ],\n",
      "    zmin=-1,\n",
      "    zmax=1\n",
      "))\n",
      "\n",
      "fig.update_layout(\n",
      "    title='Correlation Matrix',\n",
      "    xaxis_title='Variables',\n",
      "    yaxis_title='Variables',\n",
      "    width=800,\n",
      "    height=600\n",
      ")\n",
      "\n",
      "fig.show()\n",
      "```\n",
      "\n",
      "## Data Structure\n",
      "The data structure needed for this Plotly code is a 2D numpy array or a list of lists representing the correlation matrix. In this case, it's a 3x3 matrix where each element represents the correlation coefficient between two variables. The variable names are stored in a separate list.\n",
      "\n",
      "The correlation matrix should be symmetric and have values between -1 and 1, with 1 on the diagonal (correlation of a variable with itself). The actual values in the matrix are approximated based on the colors in the heatmap:\n",
      "\n",
      "```python\n",
      "corr_matrix = [\n",
      "    [1, 0, 0],\n",
      "    [0, 1, 1],\n",
      "    [0, 1, 1]\n",
      "]\n",
      "\n",
      "variables = ['satisfaction_score', 'customers', 'sales']\n",
      "```\n",
      "\n",
      "This structure allows for easy plotting of the heatmap using Plotly's go.Heatmap function.\n"
     ]
    },
    {
     "data": {
      "text/html": [
       "\n",
       "            <div style='\n",
       "                padding: 2px 6px;\n",
       "                margin: 2px 0;\n",
       "                border-left: 3px solid #0d6efd;\n",
       "                background-color: #f8f9fa;\n",
       "                font-family: Monaco, monospace;\n",
       "                font-size: 12px;\n",
       "            '>\n",
       "                <span style='color: #0d6efd; font-weight: bold;'>INFO</span>\n",
       "                <span style='color: #666; margin-right: 8px;'>17:59:57</span>\n",
       "                <span>Sending prompt and data to agent executor...</span>\n",
       "            </div>\n",
       "            "
      ],
      "text/plain": [
       "<IPython.core.display.HTML object>"
      ]
     },
     "metadata": {},
     "output_type": "display_data"
    },
    {
     "name": "stderr",
     "output_type": "stream",
     "text": [
      "Sending prompt and data to agent executor...\n"
     ]
    },
    {
     "data": {
      "application/vnd.plotly.v1+json": {
       "config": {
        "plotlyServerURL": "https://plot.ly"
       },
       "data": [
        {
         "colorscale": [
          [
           0,
           "rgb(49,0,90)"
          ],
          [
           0.5,
           "rgb(102,0,152)"
          ],
          [
           1,
           "rgb(255,231,0)"
          ]
         ],
         "type": "heatmap",
         "x": [
          "satisfaction_score",
          "customers",
          "sales"
         ],
         "y": [
          "satisfaction_score",
          "customers",
          "sales"
         ],
         "z": [
          [
           1,
           0,
           0
          ],
          [
           0,
           1,
           1
          ],
          [
           0,
           1,
           1
          ]
         ],
         "zmax": 1,
         "zmin": -1
        }
       ],
       "layout": {
        "height": 600,
        "template": {
         "data": {
          "bar": [
           {
            "error_x": {
             "color": "#2a3f5f"
            },
            "error_y": {
             "color": "#2a3f5f"
            },
            "marker": {
             "line": {
              "color": "#E5ECF6",
              "width": 0.5
             },
             "pattern": {
              "fillmode": "overlay",
              "size": 10,
              "solidity": 0.2
             }
            },
            "type": "bar"
           }
          ],
          "barpolar": [
           {
            "marker": {
             "line": {
              "color": "#E5ECF6",
              "width": 0.5
             },
             "pattern": {
              "fillmode": "overlay",
              "size": 10,
              "solidity": 0.2
             }
            },
            "type": "barpolar"
           }
          ],
          "carpet": [
           {
            "aaxis": {
             "endlinecolor": "#2a3f5f",
             "gridcolor": "white",
             "linecolor": "white",
             "minorgridcolor": "white",
             "startlinecolor": "#2a3f5f"
            },
            "baxis": {
             "endlinecolor": "#2a3f5f",
             "gridcolor": "white",
             "linecolor": "white",
             "minorgridcolor": "white",
             "startlinecolor": "#2a3f5f"
            },
            "type": "carpet"
           }
          ],
          "choropleth": [
           {
            "colorbar": {
             "outlinewidth": 0,
             "ticks": ""
            },
            "type": "choropleth"
           }
          ],
          "contour": [
           {
            "colorbar": {
             "outlinewidth": 0,
             "ticks": ""
            },
            "colorscale": [
             [
              0,
              "#0d0887"
             ],
             [
              0.1111111111111111,
              "#46039f"
             ],
             [
              0.2222222222222222,
              "#7201a8"
             ],
             [
              0.3333333333333333,
              "#9c179e"
             ],
             [
              0.4444444444444444,
              "#bd3786"
             ],
             [
              0.5555555555555556,
              "#d8576b"
             ],
             [
              0.6666666666666666,
              "#ed7953"
             ],
             [
              0.7777777777777778,
              "#fb9f3a"
             ],
             [
              0.8888888888888888,
              "#fdca26"
             ],
             [
              1,
              "#f0f921"
             ]
            ],
            "type": "contour"
           }
          ],
          "contourcarpet": [
           {
            "colorbar": {
             "outlinewidth": 0,
             "ticks": ""
            },
            "type": "contourcarpet"
           }
          ],
          "heatmap": [
           {
            "colorbar": {
             "outlinewidth": 0,
             "ticks": ""
            },
            "colorscale": [
             [
              0,
              "#0d0887"
             ],
             [
              0.1111111111111111,
              "#46039f"
             ],
             [
              0.2222222222222222,
              "#7201a8"
             ],
             [
              0.3333333333333333,
              "#9c179e"
             ],
             [
              0.4444444444444444,
              "#bd3786"
             ],
             [
              0.5555555555555556,
              "#d8576b"
             ],
             [
              0.6666666666666666,
              "#ed7953"
             ],
             [
              0.7777777777777778,
              "#fb9f3a"
             ],
             [
              0.8888888888888888,
              "#fdca26"
             ],
             [
              1,
              "#f0f921"
             ]
            ],
            "type": "heatmap"
           }
          ],
          "heatmapgl": [
           {
            "colorbar": {
             "outlinewidth": 0,
             "ticks": ""
            },
            "colorscale": [
             [
              0,
              "#0d0887"
             ],
             [
              0.1111111111111111,
              "#46039f"
             ],
             [
              0.2222222222222222,
              "#7201a8"
             ],
             [
              0.3333333333333333,
              "#9c179e"
             ],
             [
              0.4444444444444444,
              "#bd3786"
             ],
             [
              0.5555555555555556,
              "#d8576b"
             ],
             [
              0.6666666666666666,
              "#ed7953"
             ],
             [
              0.7777777777777778,
              "#fb9f3a"
             ],
             [
              0.8888888888888888,
              "#fdca26"
             ],
             [
              1,
              "#f0f921"
             ]
            ],
            "type": "heatmapgl"
           }
          ],
          "histogram": [
           {
            "marker": {
             "pattern": {
              "fillmode": "overlay",
              "size": 10,
              "solidity": 0.2
             }
            },
            "type": "histogram"
           }
          ],
          "histogram2d": [
           {
            "colorbar": {
             "outlinewidth": 0,
             "ticks": ""
            },
            "colorscale": [
             [
              0,
              "#0d0887"
             ],
             [
              0.1111111111111111,
              "#46039f"
             ],
             [
              0.2222222222222222,
              "#7201a8"
             ],
             [
              0.3333333333333333,
              "#9c179e"
             ],
             [
              0.4444444444444444,
              "#bd3786"
             ],
             [
              0.5555555555555556,
              "#d8576b"
             ],
             [
              0.6666666666666666,
              "#ed7953"
             ],
             [
              0.7777777777777778,
              "#fb9f3a"
             ],
             [
              0.8888888888888888,
              "#fdca26"
             ],
             [
              1,
              "#f0f921"
             ]
            ],
            "type": "histogram2d"
           }
          ],
          "histogram2dcontour": [
           {
            "colorbar": {
             "outlinewidth": 0,
             "ticks": ""
            },
            "colorscale": [
             [
              0,
              "#0d0887"
             ],
             [
              0.1111111111111111,
              "#46039f"
             ],
             [
              0.2222222222222222,
              "#7201a8"
             ],
             [
              0.3333333333333333,
              "#9c179e"
             ],
             [
              0.4444444444444444,
              "#bd3786"
             ],
             [
              0.5555555555555556,
              "#d8576b"
             ],
             [
              0.6666666666666666,
              "#ed7953"
             ],
             [
              0.7777777777777778,
              "#fb9f3a"
             ],
             [
              0.8888888888888888,
              "#fdca26"
             ],
             [
              1,
              "#f0f921"
             ]
            ],
            "type": "histogram2dcontour"
           }
          ],
          "mesh3d": [
           {
            "colorbar": {
             "outlinewidth": 0,
             "ticks": ""
            },
            "type": "mesh3d"
           }
          ],
          "parcoords": [
           {
            "line": {
             "colorbar": {
              "outlinewidth": 0,
              "ticks": ""
             }
            },
            "type": "parcoords"
           }
          ],
          "pie": [
           {
            "automargin": true,
            "type": "pie"
           }
          ],
          "scatter": [
           {
            "fillpattern": {
             "fillmode": "overlay",
             "size": 10,
             "solidity": 0.2
            },
            "type": "scatter"
           }
          ],
          "scatter3d": [
           {
            "line": {
             "colorbar": {
              "outlinewidth": 0,
              "ticks": ""
             }
            },
            "marker": {
             "colorbar": {
              "outlinewidth": 0,
              "ticks": ""
             }
            },
            "type": "scatter3d"
           }
          ],
          "scattercarpet": [
           {
            "marker": {
             "colorbar": {
              "outlinewidth": 0,
              "ticks": ""
             }
            },
            "type": "scattercarpet"
           }
          ],
          "scattergeo": [
           {
            "marker": {
             "colorbar": {
              "outlinewidth": 0,
              "ticks": ""
             }
            },
            "type": "scattergeo"
           }
          ],
          "scattergl": [
           {
            "marker": {
             "colorbar": {
              "outlinewidth": 0,
              "ticks": ""
             }
            },
            "type": "scattergl"
           }
          ],
          "scattermapbox": [
           {
            "marker": {
             "colorbar": {
              "outlinewidth": 0,
              "ticks": ""
             }
            },
            "type": "scattermapbox"
           }
          ],
          "scatterpolar": [
           {
            "marker": {
             "colorbar": {
              "outlinewidth": 0,
              "ticks": ""
             }
            },
            "type": "scatterpolar"
           }
          ],
          "scatterpolargl": [
           {
            "marker": {
             "colorbar": {
              "outlinewidth": 0,
              "ticks": ""
             }
            },
            "type": "scatterpolargl"
           }
          ],
          "scatterternary": [
           {
            "marker": {
             "colorbar": {
              "outlinewidth": 0,
              "ticks": ""
             }
            },
            "type": "scatterternary"
           }
          ],
          "surface": [
           {
            "colorbar": {
             "outlinewidth": 0,
             "ticks": ""
            },
            "colorscale": [
             [
              0,
              "#0d0887"
             ],
             [
              0.1111111111111111,
              "#46039f"
             ],
             [
              0.2222222222222222,
              "#7201a8"
             ],
             [
              0.3333333333333333,
              "#9c179e"
             ],
             [
              0.4444444444444444,
              "#bd3786"
             ],
             [
              0.5555555555555556,
              "#d8576b"
             ],
             [
              0.6666666666666666,
              "#ed7953"
             ],
             [
              0.7777777777777778,
              "#fb9f3a"
             ],
             [
              0.8888888888888888,
              "#fdca26"
             ],
             [
              1,
              "#f0f921"
             ]
            ],
            "type": "surface"
           }
          ],
          "table": [
           {
            "cells": {
             "fill": {
              "color": "#EBF0F8"
             },
             "line": {
              "color": "white"
             }
            },
            "header": {
             "fill": {
              "color": "#C8D4E3"
             },
             "line": {
              "color": "white"
             }
            },
            "type": "table"
           }
          ]
         },
         "layout": {
          "annotationdefaults": {
           "arrowcolor": "#2a3f5f",
           "arrowhead": 0,
           "arrowwidth": 1
          },
          "autotypenumbers": "strict",
          "coloraxis": {
           "colorbar": {
            "outlinewidth": 0,
            "ticks": ""
           }
          },
          "colorscale": {
           "diverging": [
            [
             0,
             "#8e0152"
            ],
            [
             0.1,
             "#c51b7d"
            ],
            [
             0.2,
             "#de77ae"
            ],
            [
             0.3,
             "#f1b6da"
            ],
            [
             0.4,
             "#fde0ef"
            ],
            [
             0.5,
             "#f7f7f7"
            ],
            [
             0.6,
             "#e6f5d0"
            ],
            [
             0.7,
             "#b8e186"
            ],
            [
             0.8,
             "#7fbc41"
            ],
            [
             0.9,
             "#4d9221"
            ],
            [
             1,
             "#276419"
            ]
           ],
           "sequential": [
            [
             0,
             "#0d0887"
            ],
            [
             0.1111111111111111,
             "#46039f"
            ],
            [
             0.2222222222222222,
             "#7201a8"
            ],
            [
             0.3333333333333333,
             "#9c179e"
            ],
            [
             0.4444444444444444,
             "#bd3786"
            ],
            [
             0.5555555555555556,
             "#d8576b"
            ],
            [
             0.6666666666666666,
             "#ed7953"
            ],
            [
             0.7777777777777778,
             "#fb9f3a"
            ],
            [
             0.8888888888888888,
             "#fdca26"
            ],
            [
             1,
             "#f0f921"
            ]
           ],
           "sequentialminus": [
            [
             0,
             "#0d0887"
            ],
            [
             0.1111111111111111,
             "#46039f"
            ],
            [
             0.2222222222222222,
             "#7201a8"
            ],
            [
             0.3333333333333333,
             "#9c179e"
            ],
            [
             0.4444444444444444,
             "#bd3786"
            ],
            [
             0.5555555555555556,
             "#d8576b"
            ],
            [
             0.6666666666666666,
             "#ed7953"
            ],
            [
             0.7777777777777778,
             "#fb9f3a"
            ],
            [
             0.8888888888888888,
             "#fdca26"
            ],
            [
             1,
             "#f0f921"
            ]
           ]
          },
          "colorway": [
           "#636efa",
           "#EF553B",
           "#00cc96",
           "#ab63fa",
           "#FFA15A",
           "#19d3f3",
           "#FF6692",
           "#B6E880",
           "#FF97FF",
           "#FECB52"
          ],
          "font": {
           "color": "#2a3f5f"
          },
          "geo": {
           "bgcolor": "white",
           "lakecolor": "white",
           "landcolor": "#E5ECF6",
           "showlakes": true,
           "showland": true,
           "subunitcolor": "white"
          },
          "hoverlabel": {
           "align": "left"
          },
          "hovermode": "closest",
          "mapbox": {
           "style": "light"
          },
          "paper_bgcolor": "white",
          "plot_bgcolor": "#E5ECF6",
          "polar": {
           "angularaxis": {
            "gridcolor": "white",
            "linecolor": "white",
            "ticks": ""
           },
           "bgcolor": "#E5ECF6",
           "radialaxis": {
            "gridcolor": "white",
            "linecolor": "white",
            "ticks": ""
           }
          },
          "scene": {
           "xaxis": {
            "backgroundcolor": "#E5ECF6",
            "gridcolor": "white",
            "gridwidth": 2,
            "linecolor": "white",
            "showbackground": true,
            "ticks": "",
            "zerolinecolor": "white"
           },
           "yaxis": {
            "backgroundcolor": "#E5ECF6",
            "gridcolor": "white",
            "gridwidth": 2,
            "linecolor": "white",
            "showbackground": true,
            "ticks": "",
            "zerolinecolor": "white"
           },
           "zaxis": {
            "backgroundcolor": "#E5ECF6",
            "gridcolor": "white",
            "gridwidth": 2,
            "linecolor": "white",
            "showbackground": true,
            "ticks": "",
            "zerolinecolor": "white"
           }
          },
          "shapedefaults": {
           "line": {
            "color": "#2a3f5f"
           }
          },
          "ternary": {
           "aaxis": {
            "gridcolor": "white",
            "linecolor": "white",
            "ticks": ""
           },
           "baxis": {
            "gridcolor": "white",
            "linecolor": "white",
            "ticks": ""
           },
           "bgcolor": "#E5ECF6",
           "caxis": {
            "gridcolor": "white",
            "linecolor": "white",
            "ticks": ""
           }
          },
          "title": {
           "x": 0.05
          },
          "xaxis": {
           "automargin": true,
           "gridcolor": "white",
           "linecolor": "white",
           "ticks": "",
           "title": {
            "standoff": 15
           },
           "zerolinecolor": "white",
           "zerolinewidth": 2
          },
          "yaxis": {
           "automargin": true,
           "gridcolor": "white",
           "linecolor": "white",
           "ticks": "",
           "title": {
            "standoff": 15
           },
           "zerolinecolor": "white",
           "zerolinewidth": 2
          }
         }
        },
        "title": {
         "text": "Correlation Matrix"
        },
        "width": 800,
        "xaxis": {
         "title": {
          "text": "Variables"
         }
        },
        "yaxis": {
         "title": {
          "text": "Variables"
         }
        }
       }
      }
     },
     "metadata": {},
     "output_type": "display_data"
    },
    {
     "name": "stdout",
     "output_type": "stream",
     "text": [
      "{'input': '\\n                Use the image_analysis_formatter tool to standardize the output and the save_plotly_visualization tool to create an interactive visualization.\\n                \\n                1. First, format the analysis using image_analysis_formatter with these parameters:\\n                - image_information: # Description\\nThis image shows a correlation matrix heatmap. The matrix visualizes the relationships between three variables: satisfaction_score, customers, and sales. The correlation coefficients are represented by different colors, with yellow indicating strong positive correlation, dark purple indicating weak or no correlation, and lighter purple suggesting moderate correlation.\\n\\n# Chart Analysis\\n## Type\\nThe visualization is a heatmap, specifically a correlation matrix heatmap.\\n\\n## Axes\\n- X-axis: Variables (sales, customers, satisfaction_score)\\n- Y-axis: Variables (satisfaction_score, customers, sales)\\n\\n## Insights\\n1. There appears to be a strong positive correlation between sales and customers, indicated by the bright yellow color.\\n2. The satisfaction_score seems to have a weak or no correlation with both sales and customers, shown by the dark purple color.\\n3. The diagonal of the matrix is yellow, which is expected as it represents the correlation of each variable with itself (always 1).\\n4. The matrix is symmetrical, which is a characteristic of correlation matrices.\\n\\n# Plotly Recreation\\n## Code\\n```python\\nimport plotly.graph_objects as go\\nimport numpy as np\\n\\n# Create the correlation matrix\\ncorr_matrix = np.array([\\n    [1, 0, 0],\\n    [0, 1, 1],\\n    [0, 1, 1]\\n])\\n\\nvariables = [\\'satisfaction_score\\', \\'customers\\', \\'sales\\']\\n\\nfig = go.Figure(data=go.Heatmap(\\n    z=corr_matrix,\\n    x=variables,\\n    y=variables,\\n    colorscale=[\\n        [0, \"rgb(49,0,90)\"],\\n        [0.5, \"rgb(102,0,152)\"],\\n        [1, \"rgb(255,231,0)\"]\\n    ],\\n    zmin=-1,\\n    zmax=1\\n))\\n\\nfig.update_layout(\\n    title=\\'Correlation Matrix\\',\\n    xaxis_title=\\'Variables\\',\\n    yaxis_title=\\'Variables\\',\\n    width=800,\\n    height=600\\n)\\n\\nfig.show()\\n```\\n\\n## Data Structure\\nThe data structure needed for this Plotly code is a 2D numpy array or a list of lists representing the correlation matrix. In this case, it\\'s a 3x3 matrix where each element represents the correlation coefficient between two variables. The variable names are stored in a separate list.\\n\\nThe correlation matrix should be symmetric and have values between -1 and 1, with 1 on the diagonal (correlation of a variable with itself). The actual values in the matrix are approximated based on the colors in the heatmap:\\n\\n```python\\ncorr_matrix = [\\n    [1, 0, 0],\\n    [0, 1, 1],\\n    [0, 1, 1]\\n]\\n\\nvariables = [\\'satisfaction_score\\', \\'customers\\', \\'sales\\']\\n```\\n\\nThis structure allows for easy plotting of the heatmap using Plotly\\'s go.Heatmap function.\\n                \\n                2. Then, extract the Plotly code from the formatted response and use save_plotly_visualization to create an HTML file.\\n                \\n                3. Return both the formatted analysis and the path to the saved visualization.\\n            ', 'output': \"Based on the analysis of the correlation matrix heatmap, here are the key insights:\\n\\n1. The image shows relationships between three variables: satisfaction_score, customers, and sales.\\n2. There's a strong positive correlation between sales and customers, indicated by the bright yellow color in the heatmap.\\n3. The satisfaction_score appears to have weak or no correlation with both sales and customers, shown by the dark purple color.\\n4. The diagonal of the matrix is yellow, representing perfect correlation of each variable with itself (always 1).\\n5. The matrix is symmetrical, which is typical for correlation matrices.\\n\\nAn interactive visualization of this correlation matrix has been created and saved as an HTML file. You can find this visualization at: /Users/jose.orjales/plotly_visualizations/visualization_1738346426.html\\n\\nThis interactive plot will allow you to explore the correlations in more detail, including hovering over cells to see exact correlation values.\"}\n"
     ]
    }
   ],
   "source": [
    "json_images = chartist.handle_request(image_path='/Users/jose.orjales/c-af-chartist/confusion_matrix.png')"
   ]
  },
  {
   "cell_type": "code",
   "execution_count": 13,
   "metadata": {},
   "outputs": [
    {
     "name": "stdout",
     "output_type": "stream",
     "text": [
      "{\n",
      "    \"input\": \"\\n                Use the image_analysis_formatter tool to standardize the output and the save_plotly_visualization tool to create an interactive visualization.\\n                \\n                1. First, format the analysis using image_analysis_formatter with these parameters:\\n                - image_information: # Description\\nThis image shows a correlation matrix heatmap. The matrix visualizes the relationships between three variables: satisfaction_score, customers, and sales. The correlation coefficients are represented by different colors, with yellow indicating strong positive correlation, dark purple indicating weak or no correlation, and lighter purple suggesting moderate correlation.\\n\\n# Chart Analysis\\n## Type\\nThe visualization is a heatmap, specifically a correlation matrix heatmap.\\n\\n## Axes\\n- X-axis: Variables (sales, customers, satisfaction_score)\\n- Y-axis: Variables (satisfaction_score, customers, sales)\\n\\n## Insights\\n1. There appears to be a strong positive correlation between sales and customers, indicated by the bright yellow color.\\n2. The satisfaction_score seems to have a weak or no correlation with both sales and customers, shown by the dark purple color.\\n3. The diagonal of the matrix is yellow, which is expected as it represents the correlation of each variable with itself (always 1).\\n4. The matrix is symmetrical, which is a characteristic of correlation matrices.\\n\\n# Plotly Recreation\\n## Code\\n```python\\nimport plotly.graph_objects as go\\nimport numpy as np\\n\\n# Create the correlation matrix\\ncorr_matrix = np.array([\\n    [1, 0, 0],\\n    [0, 1, 1],\\n    [0, 1, 1]\\n])\\n\\nvariables = ['satisfaction_score', 'customers', 'sales']\\n\\nfig = go.Figure(data=go.Heatmap(\\n    z=corr_matrix,\\n    x=variables,\\n    y=variables,\\n    colorscale=[\\n        [0, \\\"rgb(49,0,90)\\\"],\\n        [0.5, \\\"rgb(102,0,152)\\\"],\\n        [1, \\\"rgb(255,231,0)\\\"]\\n    ],\\n    zmin=-1,\\n    zmax=1\\n))\\n\\nfig.update_layout(\\n    title='Correlation Matrix',\\n    xaxis_title='Variables',\\n    yaxis_title='Variables',\\n    width=800,\\n    height=600\\n)\\n\\nfig.show()\\n```\\n\\n## Data Structure\\nThe data structure needed for this Plotly code is a 2D numpy array or a list of lists representing the correlation matrix. In this case, it's a 3x3 matrix where each element represents the correlation coefficient between two variables. The variable names are stored in a separate list.\\n\\nThe correlation matrix should be symmetric and have values between -1 and 1, with 1 on the diagonal (correlation of a variable with itself). The actual values in the matrix are approximated based on the colors in the heatmap:\\n\\n```python\\ncorr_matrix = [\\n    [1, 0, 0],\\n    [0, 1, 1],\\n    [0, 1, 1]\\n]\\n\\nvariables = ['satisfaction_score', 'customers', 'sales']\\n```\\n\\nThis structure allows for easy plotting of the heatmap using Plotly's go.Heatmap function.\\n                \\n                2. Then, extract the Plotly code from the formatted response and use save_plotly_visualization to create an HTML file.\\n                \\n                3. Return both the formatted analysis and the path to the saved visualization.\\n            \",\n",
      "    \"output\": \"Based on the analysis of the correlation matrix heatmap, here are the key insights:\\n\\n1. The image shows relationships between three variables: satisfaction_score, customers, and sales.\\n2. There's a strong positive correlation between sales and customers, indicated by the bright yellow color in the heatmap.\\n3. The satisfaction_score appears to have weak or no correlation with both sales and customers, shown by the dark purple color.\\n4. The diagonal of the matrix is yellow, representing perfect correlation of each variable with itself (always 1).\\n5. The matrix is symmetrical, which is typical for correlation matrices.\\n\\nAn interactive visualization of this correlation matrix has been created and saved as an HTML file. You can find this visualization at: /Users/jose.orjales/plotly_visualizations/visualization_1738346426.html\\n\\nThis interactive plot will allow you to explore the correlations in more detail, including hovering over cells to see exact correlation values.\"\n",
      "}\n"
     ]
    }
   ],
   "source": [
    "print(json.dumps(json_images, indent=4))"
   ]
  }
 ],
 "metadata": {
  "kernelspec": {
   "display_name": ".venv",
   "language": "python",
   "name": "python3"
  },
  "language_info": {
   "codemirror_mode": {
    "name": "ipython",
    "version": 3
   },
   "file_extension": ".py",
   "mimetype": "text/x-python",
   "name": "python",
   "nbconvert_exporter": "python",
   "pygments_lexer": "ipython3",
   "version": "3.13.1"
  }
 },
 "nbformat": 4,
 "nbformat_minor": 2
}
