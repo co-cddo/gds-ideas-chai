{
 "cells": [
  {
   "cell_type": "code",
   "execution_count": 1,
   "metadata": {},
   "outputs": [],
   "source": [
    "import json\n",
    "import logging\n",
    "import os\n",
    "import time\n",
    "from dataclasses import dataclass\n",
    "from datetime import datetime\n",
    "from typing import Any, Dict, List, Literal, Optional\n",
    "from uuid import uuid4\n",
    "import boto3\n",
    "from dotenv import load_dotenv\n",
    "\n",
    "\n",
    "\n",
    "logger = logging.getLogger()"
   ]
  },
  {
   "cell_type": "code",
   "execution_count": 2,
   "metadata": {},
   "outputs": [],
   "source": [
    "import logging\n",
    "import sys\n",
    "from datetime import datetime\n",
    "from IPython.display import display, HTML\n",
    "\n",
    "class VSCodeNotebookHandler(logging.Handler):\n",
    "    def __init__(self):\n",
    "        super().__init__()\n",
    "        self.log_buffer = []\n",
    "\n",
    "    def emit(self, record):\n",
    "        try:\n",
    "            # Format the message\n",
    "            msg = self.format(record)\n",
    "            \n",
    "            # Define colors for different log levels\n",
    "            colors = {\n",
    "                logging.DEBUG: '#6c757d',    # gray\n",
    "                logging.INFO: '#0d6efd',     # blue\n",
    "                logging.WARNING: '#ffc107',   # yellow\n",
    "                logging.ERROR: '#dc3545',     # red\n",
    "                logging.CRITICAL: '#721c24'   # dark red\n",
    "            }\n",
    "            \n",
    "            # Get color for current log level\n",
    "            color = colors.get(record.levelno, '#000000')\n",
    "            \n",
    "            # Create HTML formatted log entry\n",
    "            log_entry = f\"\"\"\n",
    "            <div style='\n",
    "                padding: 2px 6px;\n",
    "                margin: 2px 0;\n",
    "                border-left: 3px solid {color};\n",
    "                background-color: #f8f9fa;\n",
    "                font-family: Monaco, monospace;\n",
    "                font-size: 12px;\n",
    "            '>\n",
    "                <span style='color: {color}; font-weight: bold;'>{record.levelname}</span>\n",
    "                <span style='color: #666; margin-right: 8px;'>{datetime.now().strftime('%H:%M:%S')}</span>\n",
    "                <span>{msg}</span>\n",
    "            </div>\n",
    "            \"\"\"\n",
    "            \n",
    "            # Display the formatted log entry\n",
    "            display(HTML(log_entry))\n",
    "            \n",
    "            # Also print to stderr for VSCode's native console\n",
    "            print(msg, file=sys.stderr)\n",
    "            \n",
    "        except Exception as e:\n",
    "            print(f\"Error in log handler: {str(e)}\", file=sys.stderr)\n",
    "\n",
    "def setup_notebook_logging(level=logging.INFO):\n",
    "    \"\"\"\n",
    "    Configure logging for VSCode Jupyter notebooks\n",
    "    \n",
    "    Args:\n",
    "        level: The logging level to use (default: INFO)\n",
    "    Returns:\n",
    "        logger: Configured logger instance\n",
    "    \"\"\"\n",
    "    # Create or get the root logger\n",
    "    logger = logging.getLogger()\n",
    "    \n",
    "    # Remove any existing handlers\n",
    "    for handler in logger.handlers[:]:\n",
    "        logger.removeHandler(handler)\n",
    "    \n",
    "    # Set the logging level\n",
    "    logger.setLevel(level)\n",
    "    \n",
    "    # Create and configure the VSCode notebook handler\n",
    "    handler = VSCodeNotebookHandler()\n",
    "    formatter = logging.Formatter('%(message)s')\n",
    "    handler.setFormatter(formatter)\n",
    "    logger.addHandler(handler)\n",
    "    \n",
    "    return logger\n",
    "\n",
    "# Usage example:\n",
    "logger = setup_notebook_logging(logging.INFO)\n",
    "\n",
    "# Test the logger\n",
    "def test_logging():\n",
    "    logger.debug(\"This is a debug message\")\n",
    "    logger.info(\"This is an info message\")\n",
    "    logger.warning(\"This is a warning message\")\n",
    "    logger.error(\"This is an error message\")\n",
    "    logger.critical(\"This is a critical message\")"
   ]
  },
  {
   "cell_type": "code",
   "execution_count": 3,
   "metadata": {},
   "outputs": [],
   "source": [
    "logger = setup_notebook_logging()"
   ]
  },
  {
   "cell_type": "code",
   "execution_count": 4,
   "metadata": {},
   "outputs": [
    {
     "name": "stdout",
     "output_type": "stream",
     "text": [
      "Using AWS Profile: aws-prototype\n",
      "Using AWS Region: us-east-1\n",
      "Using LLM model: anthropic.claude-3-5-sonnet-20240620-v1:0\n"
     ]
    }
   ],
   "source": [
    "# Load .env file\n",
    "load_dotenv()\n",
    "aws_profile = os.getenv('AWS_PROFILE')\n",
    "llm_region = os.getenv('LLM_REGION')\n",
    "llm_model = os.getenv('LLM_MODEL')\n",
    "print(f\"Using AWS Profile: {aws_profile}\")\n",
    "print(f\"Using AWS Region: {llm_region}\")\n",
    "print(f\"Using LLM model: {llm_model}\")"
   ]
  },
  {
   "cell_type": "code",
   "execution_count": 5,
   "metadata": {},
   "outputs": [],
   "source": [
    "from langchain import hub\n",
    "from langchain.agents import (\n",
    "    AgentExecutor,\n",
    "    tool,\n",
    "    create_tool_calling_agent,\n",
    "    create_json_chat_agent,\n",
    ")\n",
    "from langchain_core.tools import StructuredTool, Tool\n",
    "from langchain_community.tools.tavily_search import TavilySearchResults\n",
    "from langchain_aws import ChatBedrock\n",
    "from langchain_experimental.utilities import PythonREPL\n",
    "from langchain_core.messages import HumanMessage"
   ]
  },
  {
   "cell_type": "code",
   "execution_count": 6,
   "metadata": {},
   "outputs": [],
   "source": [
    "from config import Config\n",
    "from aws.bedrock import BedrockHandler\n",
    "from tools.python_repl import PythonREPLTool\n",
    "from tools.outputformatter import create_formatting_tool"
   ]
  },
  {
   "cell_type": "code",
   "execution_count": 7,
   "metadata": {},
   "outputs": [],
   "source": [
    "import pandas as pd\n",
    "\n",
    "class chartist:\n",
    "    def __init__(self, region_name: str = \"us-east-1\"):\n",
    "        \"\"\"\n",
    "        Initialize chartist with required configuration\n",
    "\n",
    "        Parameters:\n",
    "        region_name (str): AWS region name\n",
    "        \"\"\"\n",
    "        logger.info(\"Chartist Start\")\n",
    "        self.config = Config()\n",
    "        self.bedrock = BedrockHandler(self.config)\n",
    "        self.llm = self.bedrock.get_llm()\n",
    "        self.prompt = hub.pull(\"hwchase17/react-chat-json\")\n",
    "        \n",
    "        self.python_repl = PythonREPLTool()\n",
    "        self.tools = [\n",
    "            #self.python_repl.get_tool(),\n",
    "            create_formatting_tool(),\n",
    "            #Tool(\n",
    "            #    name=\"parse_dataframe\",\n",
    "            #    func=self.parse_dataframe,\n",
    "            #    description=\"Parses a DataFrame and returns its structure, columns, data types, summary statistics, and sample data in JSON format.\",\n",
    "            #    ),\n",
    "        ]\n",
    "        self.agent_executor = self.set_agent_executor()\n",
    "\n",
    "        # Set up holder for visualisations\n",
    "        self.visualizations = None\n",
    "\n",
    "    def set_agent_executor(self, verbose=False, handle_parse=True):\n",
    "        logger.info(\"Setting up chartist executor\")\n",
    "        try:\n",
    "            agent = create_json_chat_agent(self.llm, self.tools, self.prompt)\n",
    "            logger.debug(\"Structured chat agent created\")\n",
    "\n",
    "            executor = AgentExecutor(\n",
    "                agent=agent,\n",
    "                tools=self.tools,\n",
    "                verbose=verbose,\n",
    "                handle_parsing_errors=handle_parse,\n",
    "            )\n",
    "            logger.info(\"Agent executor successfully set up\")\n",
    "            return executor\n",
    "        except Exception as e:\n",
    "            logger.error(f\"Error setting up agent executor: {str(e)}\")\n",
    "            raise\n",
    "\n",
    "    def parse_dataframe(self, df: pd.DataFrame) -> dict:\n",
    "        \"\"\"\n",
    "        Extract useful information from a DataFrame and return it as a JSON-like dictionary.\n",
    "\n",
    "        Parameters:\n",
    "        df: DataFrame to analyze.\n",
    "\n",
    "        Returns:\n",
    "        dict: A structured dictionary containing DataFrame details.\n",
    "        \"\"\"\n",
    "        logger.info(\"Parsing DataFrame into structured JSON dictionary\")\n",
    "        try:\n",
    "            try:\n",
    "                summary = df.describe(include=\"all\").to_dict()\n",
    "            except ValueError as e:\n",
    "                logger.warning(f\"Could not generate full summary statistics: {e}\")\n",
    "                summary = {}\n",
    "            \n",
    "            data_info = {\n",
    "                \"columns\": [{\"name\": col, \"dtype\": str(dtype)} for col, dtype in df.dtypes.items()],\n",
    "                \"shape\": {\"rows\": df.shape[0], \"columns\": df.shape[1]},\n",
    "                \"summary\": summary,\n",
    "                \"sample_data\": df.head(10).to_dict(orient=\"records\"),\n",
    "            }\n",
    "            logger.debug(f\"DataFrame parsed: {data_info}\")\n",
    "            return data_info\n",
    "        except Exception as e:\n",
    "            logger.error(f\"Error parsing DataFrame: {str(e)}\")\n",
    "            raise\n",
    "        \n",
    "\n",
    "    def handle_request(self, data=None, prompt=None, **kwargs):\n",
    "        \"\"\"\n",
    "        Handle user input by deciding how to process it, based on the type of data provided.\n",
    "\n",
    "        Parameters:\n",
    "        data: Input data for the agent. Could be a DataFrame or other types.\n",
    "        prompt: String prompt to guide the agent.\n",
    "\n",
    "        Returns:\n",
    "        Response generated by the agent executor.\n",
    "        \"\"\"\n",
    "        if isinstance(data, pd.DataFrame):\n",
    "            logger.info(\"Detected DataFrame input. Preparing to analyze...\")\n",
    "\n",
    "            # Limit the DataFrame to the top 300 rows if necessary\n",
    "            max_rows = 300\n",
    "            if len(data) > max_rows:\n",
    "                logger.info(f\"DataFrame has more than {max_rows} rows. Trimming for processing.\")\n",
    "                data = data.head(max_rows)\n",
    "\n",
    "            # Convert DataFrame to JSON string\n",
    "            dataframe_json = data.to_json(orient=\"split\")\n",
    "\n",
    "            # Construct the combined prompt - TODO: maybe instead of creating a separate prompt, we add the bits\n",
    "            # to the prompt depending on what is being analysed as we do with citations.\n",
    "            combined_prompt = f\"\"\"\n",
    "                        User Prompt:\n",
    "                        {prompt}\n",
    "\n",
    "                        DataFrame Information (Top {len(data)} Rows):\n",
    "                        The following is a JSON representation of the DataFrame. Use this to suggest suitable visualizations:\n",
    "                        {data.to_json(orient=\"split\")}\n",
    "\n",
    "                        Instructions:\n",
    "                        1. Analyze the DataFrame to understand its structure and content\n",
    "                        2. Suggest meaningful visualizations based on the data and user's instructions\n",
    "                        3. For each visualization, include:\n",
    "                        - Clear purpose\n",
    "                        - Chart type\n",
    "                        - Variables used\n",
    "                        - Expected insights\n",
    "                        4. Use the format_visualization_output tool to structure your response\n",
    "                        5. Make sure to provide concrete, specific suggestions based on the actual data\n",
    "\n",
    "                        Remember to use the formatting tool for your final output.\n",
    "                        \"\"\"\n",
    "\n",
    "            # Send to the agent executor\n",
    "            try:\n",
    "                logger.info(\"Sending prompt and DataFrame to agent executor...\")\n",
    "                response = self.agent_executor.invoke({\"input\": combined_prompt})\n",
    "                return response\n",
    "            except Exception as e:\n",
    "                logger.error(f\"Error in agent executor: {str(e)}\")\n",
    "                return f\"Error processing visualization suggestions: {str(e)}\"\n",
    "\n",
    "        elif prompt:\n",
    "            logger.info(\"No DataFrame detected. Using agent executor for the provided prompt...\")\n",
    "            try:\n",
    "                response = self.agent_executor.invoke({\"input\": prompt})\n",
    "                return response\n",
    "            except Exception as e:\n",
    "                logger.error(f\"Error in agent executor: {str(e)}\")\n",
    "                return f\"Error processing prompt: {str(e)}\"\n",
    "\n",
    "        else:\n",
    "            logger.warning(\"No input provided to handle_request method.\")\n",
    "            return \"Please provide a DataFrame or a prompt for the agent to process.\"\n",
    "        "
   ]
  },
  {
   "cell_type": "code",
   "execution_count": 8,
   "metadata": {},
   "outputs": [],
   "source": [
    "import numpy as np\n",
    "def create_sample_dataset():\n",
    "    \"\"\"Create a sample dataset for testing\"\"\"\n",
    "    np.random.seed(42)\n",
    "    dates = pd.date_range(start=\"2023-01-01\", periods=100, freq=\"D\")\n",
    "\n",
    "    sample_df = pd.DataFrame(\n",
    "        {\n",
    "            \"date\": dates,\n",
    "            \"sales\": np.random.normal(1000, 100, 100),\n",
    "            \"customers\": np.random.randint(50, 200, 100),\n",
    "            \"satisfaction_score\": np.random.uniform(3.5, 5.0, 100),\n",
    "            \"category\": np.random.choice([\"A\", \"B\", \"C\"], 100),\n",
    "        }\n",
    "    )\n",
    "\n",
    "    return sample_df"
   ]
  },
  {
   "cell_type": "code",
   "execution_count": 9,
   "metadata": {},
   "outputs": [
    {
     "data": {
      "text/html": [
       "\n",
       "            <div style='\n",
       "                padding: 2px 6px;\n",
       "                margin: 2px 0;\n",
       "                border-left: 3px solid #0d6efd;\n",
       "                background-color: #f8f9fa;\n",
       "                font-family: Monaco, monospace;\n",
       "                font-size: 12px;\n",
       "            '>\n",
       "                <span style='color: #0d6efd; font-weight: bold;'>INFO</span>\n",
       "                <span style='color: #666; margin-right: 8px;'>18:53:03</span>\n",
       "                <span>Chartist Start</span>\n",
       "            </div>\n",
       "            "
      ],
      "text/plain": [
       "<IPython.core.display.HTML object>"
      ]
     },
     "metadata": {},
     "output_type": "display_data"
    },
    {
     "name": "stderr",
     "output_type": "stream",
     "text": [
      "Chartist Start\n"
     ]
    },
    {
     "data": {
      "text/html": [
       "\n",
       "            <div style='\n",
       "                padding: 2px 6px;\n",
       "                margin: 2px 0;\n",
       "                border-left: 3px solid #0d6efd;\n",
       "                background-color: #f8f9fa;\n",
       "                font-family: Monaco, monospace;\n",
       "                font-size: 12px;\n",
       "            '>\n",
       "                <span style='color: #0d6efd; font-weight: bold;'>INFO</span>\n",
       "                <span style='color: #666; margin-right: 8px;'>18:53:03</span>\n",
       "                <span>Loaded config for agent successfully.</span>\n",
       "            </div>\n",
       "            "
      ],
      "text/plain": [
       "<IPython.core.display.HTML object>"
      ]
     },
     "metadata": {},
     "output_type": "display_data"
    },
    {
     "name": "stderr",
     "output_type": "stream",
     "text": [
      "Loaded config for agent successfully.\n"
     ]
    },
    {
     "data": {
      "text/html": [
       "\n",
       "            <div style='\n",
       "                padding: 2px 6px;\n",
       "                margin: 2px 0;\n",
       "                border-left: 3px solid #0d6efd;\n",
       "                background-color: #f8f9fa;\n",
       "                font-family: Monaco, monospace;\n",
       "                font-size: 12px;\n",
       "            '>\n",
       "                <span style='color: #0d6efd; font-weight: bold;'>INFO</span>\n",
       "                <span style='color: #666; margin-right: 8px;'>18:53:03</span>\n",
       "                <span>Initializing BedrockHandler</span>\n",
       "            </div>\n",
       "            "
      ],
      "text/plain": [
       "<IPython.core.display.HTML object>"
      ]
     },
     "metadata": {},
     "output_type": "display_data"
    },
    {
     "name": "stderr",
     "output_type": "stream",
     "text": [
      "Initializing BedrockHandler\n"
     ]
    },
    {
     "data": {
      "text/html": [
       "\n",
       "            <div style='\n",
       "                padding: 2px 6px;\n",
       "                margin: 2px 0;\n",
       "                border-left: 3px solid #0d6efd;\n",
       "                background-color: #f8f9fa;\n",
       "                font-family: Monaco, monospace;\n",
       "                font-size: 12px;\n",
       "            '>\n",
       "                <span style='color: #0d6efd; font-weight: bold;'>INFO</span>\n",
       "                <span style='color: #666; margin-right: 8px;'>18:53:03</span>\n",
       "                <span>Creating ChatBedrock LLM instance</span>\n",
       "            </div>\n",
       "            "
      ],
      "text/plain": [
       "<IPython.core.display.HTML object>"
      ]
     },
     "metadata": {},
     "output_type": "display_data"
    },
    {
     "name": "stderr",
     "output_type": "stream",
     "text": [
      "Creating ChatBedrock LLM instance\n"
     ]
    },
    {
     "data": {
      "text/html": [
       "\n",
       "            <div style='\n",
       "                padding: 2px 6px;\n",
       "                margin: 2px 0;\n",
       "                border-left: 3px solid #0d6efd;\n",
       "                background-color: #f8f9fa;\n",
       "                font-family: Monaco, monospace;\n",
       "                font-size: 12px;\n",
       "            '>\n",
       "                <span style='color: #0d6efd; font-weight: bold;'>INFO</span>\n",
       "                <span style='color: #666; margin-right: 8px;'>18:53:03</span>\n",
       "                <span>Found credentials in shared credentials file: ~/.aws/credentials</span>\n",
       "            </div>\n",
       "            "
      ],
      "text/plain": [
       "<IPython.core.display.HTML object>"
      ]
     },
     "metadata": {},
     "output_type": "display_data"
    },
    {
     "name": "stderr",
     "output_type": "stream",
     "text": [
      "Found credentials in shared credentials file: ~/.aws/credentials\n"
     ]
    },
    {
     "data": {
      "text/html": [
       "\n",
       "            <div style='\n",
       "                padding: 2px 6px;\n",
       "                margin: 2px 0;\n",
       "                border-left: 3px solid #0d6efd;\n",
       "                background-color: #f8f9fa;\n",
       "                font-family: Monaco, monospace;\n",
       "                font-size: 12px;\n",
       "            '>\n",
       "                <span style='color: #0d6efd; font-weight: bold;'>INFO</span>\n",
       "                <span style='color: #666; margin-right: 8px;'>18:53:03</span>\n",
       "                <span>Successfully created ChatBedrock LLM instance</span>\n",
       "            </div>\n",
       "            "
      ],
      "text/plain": [
       "<IPython.core.display.HTML object>"
      ]
     },
     "metadata": {},
     "output_type": "display_data"
    },
    {
     "name": "stderr",
     "output_type": "stream",
     "text": [
      "Successfully created ChatBedrock LLM instance\n",
      "/Users/jose.orjales/c-af-chartist/.venv/lib/python3.13/site-packages/langsmith/client.py:253: LangSmithMissingAPIKeyWarning: API key must be provided when using hosted LangSmith API\n",
      "  warnings.warn(\n"
     ]
    },
    {
     "data": {
      "text/html": [
       "\n",
       "            <div style='\n",
       "                padding: 2px 6px;\n",
       "                margin: 2px 0;\n",
       "                border-left: 3px solid #0d6efd;\n",
       "                background-color: #f8f9fa;\n",
       "                font-family: Monaco, monospace;\n",
       "                font-size: 12px;\n",
       "            '>\n",
       "                <span style='color: #0d6efd; font-weight: bold;'>INFO</span>\n",
       "                <span style='color: #666; margin-right: 8px;'>18:53:03</span>\n",
       "                <span>Initialising PythonREPLTool</span>\n",
       "            </div>\n",
       "            "
      ],
      "text/plain": [
       "<IPython.core.display.HTML object>"
      ]
     },
     "metadata": {},
     "output_type": "display_data"
    },
    {
     "name": "stderr",
     "output_type": "stream",
     "text": [
      "Initialising PythonREPLTool\n"
     ]
    },
    {
     "data": {
      "text/html": [
       "\n",
       "            <div style='\n",
       "                padding: 2px 6px;\n",
       "                margin: 2px 0;\n",
       "                border-left: 3px solid #0d6efd;\n",
       "                background-color: #f8f9fa;\n",
       "                font-family: Monaco, monospace;\n",
       "                font-size: 12px;\n",
       "            '>\n",
       "                <span style='color: #0d6efd; font-weight: bold;'>INFO</span>\n",
       "                <span style='color: #666; margin-right: 8px;'>18:53:03</span>\n",
       "                <span>Launching SafeREPL</span>\n",
       "            </div>\n",
       "            "
      ],
      "text/plain": [
       "<IPython.core.display.HTML object>"
      ]
     },
     "metadata": {},
     "output_type": "display_data"
    },
    {
     "name": "stderr",
     "output_type": "stream",
     "text": [
      "Launching SafeREPL\n"
     ]
    },
    {
     "data": {
      "text/html": [
       "\n",
       "            <div style='\n",
       "                padding: 2px 6px;\n",
       "                margin: 2px 0;\n",
       "                border-left: 3px solid #0d6efd;\n",
       "                background-color: #f8f9fa;\n",
       "                font-family: Monaco, monospace;\n",
       "                font-size: 12px;\n",
       "            '>\n",
       "                <span style='color: #0d6efd; font-weight: bold;'>INFO</span>\n",
       "                <span style='color: #666; margin-right: 8px;'>18:53:03</span>\n",
       "                <span>Setting up chartist executor</span>\n",
       "            </div>\n",
       "            "
      ],
      "text/plain": [
       "<IPython.core.display.HTML object>"
      ]
     },
     "metadata": {},
     "output_type": "display_data"
    },
    {
     "name": "stderr",
     "output_type": "stream",
     "text": [
      "Setting up chartist executor\n"
     ]
    },
    {
     "data": {
      "text/html": [
       "\n",
       "            <div style='\n",
       "                padding: 2px 6px;\n",
       "                margin: 2px 0;\n",
       "                border-left: 3px solid #0d6efd;\n",
       "                background-color: #f8f9fa;\n",
       "                font-family: Monaco, monospace;\n",
       "                font-size: 12px;\n",
       "            '>\n",
       "                <span style='color: #0d6efd; font-weight: bold;'>INFO</span>\n",
       "                <span style='color: #666; margin-right: 8px;'>18:53:03</span>\n",
       "                <span>Agent executor successfully set up</span>\n",
       "            </div>\n",
       "            "
      ],
      "text/plain": [
       "<IPython.core.display.HTML object>"
      ]
     },
     "metadata": {},
     "output_type": "display_data"
    },
    {
     "name": "stderr",
     "output_type": "stream",
     "text": [
      "Agent executor successfully set up\n"
     ]
    }
   ],
   "source": [
    "chartist = chartist()"
   ]
  },
  {
   "cell_type": "code",
   "execution_count": 10,
   "metadata": {},
   "outputs": [],
   "source": [
    "sample_df = create_sample_dataset()"
   ]
  },
  {
   "cell_type": "code",
   "execution_count": 11,
   "metadata": {},
   "outputs": [
    {
     "data": {
      "text/html": [
       "\n",
       "            <div style='\n",
       "                padding: 2px 6px;\n",
       "                margin: 2px 0;\n",
       "                border-left: 3px solid #0d6efd;\n",
       "                background-color: #f8f9fa;\n",
       "                font-family: Monaco, monospace;\n",
       "                font-size: 12px;\n",
       "            '>\n",
       "                <span style='color: #0d6efd; font-weight: bold;'>INFO</span>\n",
       "                <span style='color: #666; margin-right: 8px;'>18:53:03</span>\n",
       "                <span>Detected DataFrame input. Preparing to analyze...</span>\n",
       "            </div>\n",
       "            "
      ],
      "text/plain": [
       "<IPython.core.display.HTML object>"
      ]
     },
     "metadata": {},
     "output_type": "display_data"
    },
    {
     "name": "stderr",
     "output_type": "stream",
     "text": [
      "Detected DataFrame input. Preparing to analyze...\n"
     ]
    },
    {
     "data": {
      "text/html": [
       "\n",
       "            <div style='\n",
       "                padding: 2px 6px;\n",
       "                margin: 2px 0;\n",
       "                border-left: 3px solid #0d6efd;\n",
       "                background-color: #f8f9fa;\n",
       "                font-family: Monaco, monospace;\n",
       "                font-size: 12px;\n",
       "            '>\n",
       "                <span style='color: #0d6efd; font-weight: bold;'>INFO</span>\n",
       "                <span style='color: #666; margin-right: 8px;'>18:53:03</span>\n",
       "                <span>Sending prompt and DataFrame to agent executor...</span>\n",
       "            </div>\n",
       "            "
      ],
      "text/plain": [
       "<IPython.core.display.HTML object>"
      ]
     },
     "metadata": {},
     "output_type": "display_data"
    },
    {
     "name": "stderr",
     "output_type": "stream",
     "text": [
      "Sending prompt and DataFrame to agent executor...\n"
     ]
    }
   ],
   "source": [
    "prompt = \"Analyze this dataset and suggest visualizations to explore trends and insights.\"\n",
    "response = chartist.handle_request(data=sample_df, prompt=prompt)"
   ]
  },
  {
   "cell_type": "code",
   "execution_count": 12,
   "metadata": {},
   "outputs": [
    {
     "name": "stdout",
     "output_type": "stream",
     "text": [
      "📊 VISUALIZATION SUGGESTIONS:\n",
      "\n",
      "\n",
      "📈 TIME SERIES ANALYSIS OF SALES\n",
      "Purpose: To visualize the trend of sales over time\n",
      "Chart Type: Line chart\n",
      "Variables: date (x-axis), sales (y-axis)\n",
      "Expected Insights: Identify any seasonal patterns, overall trends, or unusual spikes/dips in sales\n",
      "\n",
      "--------------------------------------------------\n",
      "\n",
      "📈 CUSTOMER COUNT VS\n",
      "Purpose: To examine the relationship between the number of customers and sales\n",
      "Chart Type: Scatter plot\n",
      "Variables: customers (x-axis), sales (y-axis)\n",
      "Expected Insights: Determine if there's a correlation between customer count and sales volume\n",
      "\n",
      "--------------------------------------------------\n",
      "\n",
      "📈 SATISFACTION SCORE DISTRIBUTION\n",
      "Purpose: To analyze the distribution of customer satisfaction scores\n",
      "Chart Type: Histogram or Box plot\n",
      "Variables: satisfaction_score\n",
      "Expected Insights: Understand the overall customer satisfaction levels and identify any outliers\n",
      "\n",
      "--------------------------------------------------\n",
      "\n",
      "📈 SALES BY CATEGORY COMPARISON\n",
      "Purpose: To compare sales performance across different categories\n",
      "Chart Type: Bar chart or Box plot\n",
      "Variables: category (x-axis), sales (y-axis)\n",
      "Expected Insights: Identify which categories are performing best in terms of sales\n",
      "\n",
      "--------------------------------------------------\n",
      "\n",
      "📈 SATISFACTION SCORE VS\n",
      "Purpose: To visualize the relationship between satisfaction scores and sales\n",
      "Chart Type: Heatmap\n",
      "Variables: satisfaction_score (x-axis), sales (y-axis), color intensity representing frequency\n",
      "Expected Insights: Determine if higher satisfaction scores correlate with higher sales\n",
      "\n",
      "--------------------------------------------------\n",
      "\n",
      "📈 CUSTOMER COUNT BY CATEGORY\n",
      "Purpose: To compare the number of customers across different categories\n",
      "Chart Type: Stacked bar chart or Pie chart\n",
      "Variables: category, customers\n",
      "Expected Insights: Understand which categories attract the most customers\n",
      "\n",
      "--------------------------------------------------\n",
      "\n",
      "📈 SATISFACTION SCORE TRENDS OVER TIME\n",
      "Purpose: To analyze how customer satisfaction changes over time\n",
      "Chart Type: Line chart with moving average\n",
      "Variables: date (x-axis), satisfaction_score (y-axis)\n",
      "Expected Insights: Identify any trends or patterns in customer satisfaction over the given time period\n"
     ]
    }
   ],
   "source": [
    "print(response['output'])"
   ]
  },
  {
   "cell_type": "code",
   "execution_count": 2,
   "metadata": {},
   "outputs": [],
   "source": [
    "# Python Interpreter Tool\n",
    "python_repl = PythonREPL()\n",
    "repl_tool = StructuredTool.from_function(\n",
    "    func=python_repl.run,\n",
    "    name=\"python_repl\",\n",
    "    description=\"A Python shell. Use this whenever calculations are required by passing in the required python commands to solve the calculation. Input should be a valid python command. If you want to see the output of a value, you should print it out with `print(...)`.\"\n",
    ")"
   ]
  },
  {
   "cell_type": "code",
   "execution_count": null,
   "metadata": {},
   "outputs": [],
   "source": []
  }
 ],
 "metadata": {
  "kernelspec": {
   "display_name": ".venv",
   "language": "python",
   "name": "python3"
  },
  "language_info": {
   "codemirror_mode": {
    "name": "ipython",
    "version": 3
   },
   "file_extension": ".py",
   "mimetype": "text/x-python",
   "name": "python",
   "nbconvert_exporter": "python",
   "pygments_lexer": "ipython3",
   "version": "3.13.1"
  }
 },
 "nbformat": 4,
 "nbformat_minor": 2
}
