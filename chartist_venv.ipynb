{
 "cells": [
  {
   "cell_type": "code",
   "execution_count": 1,
   "metadata": {},
   "outputs": [],
   "source": [
    "import json\n",
    "import logging\n",
    "import os\n",
    "import time\n",
    "from dataclasses import dataclass\n",
    "from datetime import datetime\n",
    "from typing import Any, Dict, List, Literal, Optional\n",
    "from uuid import uuid4\n",
    "import boto3\n",
    "from dotenv import load_dotenv\n",
    "\n",
    "\n",
    "\n",
    "logger = logging.getLogger()"
   ]
  },
  {
   "cell_type": "code",
   "execution_count": 2,
   "metadata": {},
   "outputs": [
    {
     "name": "stdout",
     "output_type": "stream",
     "text": [
      "Using AWS Profile: aws-prototype\n",
      "Using AWS Region: us-east-1\n",
      "Using LLM model: anthropic.claude-3-5-sonnet-20240620-v1:0\n"
     ]
    }
   ],
   "source": [
    "# Load .env file\n",
    "load_dotenv()\n",
    "aws_profile = os.getenv('AWS_PROFILE')\n",
    "llm_region = os.getenv('LLM_REGION')\n",
    "llm_model = os.getenv('LLM_MODEL')\n",
    "print(f\"Using AWS Profile: {aws_profile}\")\n",
    "print(f\"Using AWS Region: {llm_region}\")\n",
    "print(f\"Using LLM model: {llm_model}\")"
   ]
  },
  {
   "cell_type": "code",
   "execution_count": 3,
   "metadata": {},
   "outputs": [],
   "source": [
    "from langchain import hub\n",
    "from langchain.agents import (\n",
    "    AgentExecutor,\n",
    "    tool,\n",
    "    create_tool_calling_agent,\n",
    "    create_json_chat_agent,\n",
    ")\n",
    "from langchain_core.tools import StructuredTool, Tool\n",
    "from langchain_community.tools.tavily_search import TavilySearchResults\n",
    "from langchain_aws import ChatBedrock\n",
    "from langchain_experimental.utilities import PythonREPL\n",
    "from langchain_core.messages import HumanMessage"
   ]
  },
  {
   "cell_type": "code",
   "execution_count": 4,
   "metadata": {},
   "outputs": [],
   "source": [
    "from config import Config\n",
    "from aws.bedrock import BedrockHandler\n",
    "from tools.python_repl import PythonREPLTool\n",
    "from tools.outputformatter import create_formatting_tool"
   ]
  },
  {
   "cell_type": "code",
   "execution_count": 5,
   "metadata": {},
   "outputs": [],
   "source": [
    "import pandas as pd\n",
    "\n",
    "class chartist:\n",
    "    def __init__(self, region_name: str = \"us-east-1\"):\n",
    "        \"\"\"\n",
    "        Initialize chartist with required configuration\n",
    "\n",
    "        Parameters:\n",
    "        region_name (str): AWS region name\n",
    "        \"\"\"\n",
    "        logger.info(\"Chartist Start\")\n",
    "        self.config = Config()\n",
    "        self.bedrock = BedrockHandler(self.config)\n",
    "        self.llm = self.bedrock.get_llm()\n",
    "        self.prompt = hub.pull(\"hwchase17/react-chat-json\")\n",
    "        \n",
    "        self.python_repl = PythonREPLTool()\n",
    "        self.tools = [\n",
    "            self.python_repl.get_tool(),\n",
    "            create_formatting_tool(),\n",
    "            #Tool(\n",
    "            #    name=\"parse_dataframe\",\n",
    "            #    func=self.parse_dataframe,\n",
    "            #    description=\"Parses a DataFrame and returns its structure, columns, data types, summary statistics, and sample data in JSON format.\",\n",
    "            #    ),\n",
    "        ]\n",
    "        self.agent_executor = self.set_agent_executor()\n",
    "\n",
    "        # Set up holder for visualisations\n",
    "        self.visualizations = None\n",
    "\n",
    "    def set_agent_executor(self, verbose=False, handle_parse=True):\n",
    "        logger.info(\"Setting up chartist executor\")\n",
    "        try:\n",
    "            agent = create_json_chat_agent(self.llm, self.tools, self.prompt)\n",
    "            logger.debug(\"Structured chat agent created\")\n",
    "\n",
    "            executor = AgentExecutor(\n",
    "                agent=agent,\n",
    "                tools=self.tools,\n",
    "                verbose=verbose,\n",
    "                handle_parsing_errors=handle_parse,\n",
    "            )\n",
    "            logger.info(\"Agent executor successfully set up\")\n",
    "            return executor\n",
    "        except Exception as e:\n",
    "            logger.error(f\"Error setting up agent executor: {str(e)}\")\n",
    "            raise\n",
    "\n",
    "    def parse_dataframe(self, df: pd.DataFrame) -> dict:\n",
    "        \"\"\"\n",
    "        Extract useful information from a DataFrame and return it as a JSON-like dictionary.\n",
    "\n",
    "        Parameters:\n",
    "        df: DataFrame to analyze.\n",
    "\n",
    "        Returns:\n",
    "        dict: A structured dictionary containing DataFrame details.\n",
    "        \"\"\"\n",
    "        logger.info(\"Parsing DataFrame into structured JSON dictionary\")\n",
    "        try:\n",
    "            try:\n",
    "                summary = df.describe(include=\"all\").to_dict()\n",
    "            except ValueError as e:\n",
    "                logger.warning(f\"Could not generate full summary statistics: {e}\")\n",
    "                summary = {}\n",
    "            \n",
    "            data_info = {\n",
    "                \"columns\": [{\"name\": col, \"dtype\": str(dtype)} for col, dtype in df.dtypes.items()],\n",
    "                \"shape\": {\"rows\": df.shape[0], \"columns\": df.shape[1]},\n",
    "                \"summary\": summary,\n",
    "                \"sample_data\": df.head(10).to_dict(orient=\"records\"),\n",
    "            }\n",
    "            logger.debug(f\"DataFrame parsed: {data_info}\")\n",
    "            return data_info\n",
    "        except Exception as e:\n",
    "            logger.error(f\"Error parsing DataFrame: {str(e)}\")\n",
    "            raise\n",
    "        \n",
    "\n",
    "    def handle_request(self, data=None, prompt=None, **kwargs):\n",
    "        \"\"\"\n",
    "        Handle user input by deciding how to process it, based on the type of data provided.\n",
    "\n",
    "        Parameters:\n",
    "        data: Input data for the agent. Could be a DataFrame or other types.\n",
    "        prompt: String prompt to guide the agent.\n",
    "\n",
    "        Returns:\n",
    "        Response generated by the agent executor.\n",
    "        \"\"\"\n",
    "        if isinstance(data, pd.DataFrame):\n",
    "            logger.info(\"Detected DataFrame input. Preparing to analyze...\")\n",
    "\n",
    "            # Limit the DataFrame to the top 300 rows if necessary\n",
    "            max_rows = 300\n",
    "            if len(data) > max_rows:\n",
    "                logger.info(f\"DataFrame has more than {max_rows} rows. Trimming for processing.\")\n",
    "                data = data.head(max_rows)\n",
    "\n",
    "            # Convert DataFrame to JSON string\n",
    "            dataframe_json = data.to_json(orient=\"split\")\n",
    "\n",
    "            # Construct the combined prompt - TODO: maybe instead of creating a separate prompt, we add the bits\n",
    "            # to the prompt depending on what is being analysed as we do with citations.\n",
    "            combined_prompt = f\"\"\"\n",
    "                        User Prompt:\n",
    "                        {prompt}\n",
    "\n",
    "                        DataFrame Information (Top {len(data)} Rows):\n",
    "                        The following is a JSON representation of the DataFrame. Use this to suggest suitable visualizations:\n",
    "                        {data.to_json(orient=\"split\")}\n",
    "\n",
    "                        Instructions:\n",
    "                        1. Analyze the DataFrame to understand its structure and content\n",
    "                        2. Suggest meaningful visualizations based on the data and user's instructions\n",
    "                        3. For each visualization, include:\n",
    "                        - Clear purpose\n",
    "                        - Chart type\n",
    "                        - Variables used\n",
    "                        - Expected insights\n",
    "                        4. Use the format_visualization_output tool to structure your response\n",
    "                        5. Make sure to provide concrete, specific suggestions based on the actual data\n",
    "\n",
    "                        Remember to use the formatting tool for your final output.\n",
    "                        \"\"\"\n",
    "\n",
    "            # Send to the agent executor\n",
    "            try:\n",
    "                logger.info(\"Sending prompt and DataFrame to agent executor...\")\n",
    "                response = self.agent_executor.invoke({\"input\": combined_prompt})\n",
    "                return response\n",
    "            except Exception as e:\n",
    "                logger.error(f\"Error in agent executor: {str(e)}\")\n",
    "                return f\"Error processing visualization suggestions: {str(e)}\"\n",
    "\n",
    "        elif prompt:\n",
    "            logger.info(\"No DataFrame detected. Using agent executor for the provided prompt...\")\n",
    "            try:\n",
    "                response = self.agent_executor.invoke({\"input\": prompt})\n",
    "                return response\n",
    "            except Exception as e:\n",
    "                logger.error(f\"Error in agent executor: {str(e)}\")\n",
    "                return f\"Error processing prompt: {str(e)}\"\n",
    "\n",
    "        else:\n",
    "            logger.warning(\"No input provided to handle_request method.\")\n",
    "            return \"Please provide a DataFrame or a prompt for the agent to process.\"\n",
    "        "
   ]
  },
  {
   "cell_type": "code",
   "execution_count": 6,
   "metadata": {},
   "outputs": [],
   "source": [
    "import numpy as np\n",
    "def create_sample_dataset():\n",
    "    \"\"\"Create a sample dataset for testing\"\"\"\n",
    "    np.random.seed(42)\n",
    "    dates = pd.date_range(start=\"2023-01-01\", periods=100, freq=\"D\")\n",
    "\n",
    "    sample_df = pd.DataFrame(\n",
    "        {\n",
    "            \"date\": dates,\n",
    "            \"sales\": np.random.normal(1000, 100, 100),\n",
    "            \"customers\": np.random.randint(50, 200, 100),\n",
    "            \"satisfaction_score\": np.random.uniform(3.5, 5.0, 100),\n",
    "            \"category\": np.random.choice([\"A\", \"B\", \"C\"], 100),\n",
    "        }\n",
    "    )\n",
    "\n",
    "    return sample_df"
   ]
  },
  {
   "cell_type": "code",
   "execution_count": 7,
   "metadata": {},
   "outputs": [
    {
     "name": "stderr",
     "output_type": "stream",
     "text": [
      "/Users/jose.orjales/c-af-chartist/.venv/lib/python3.13/site-packages/langsmith/client.py:253: LangSmithMissingAPIKeyWarning: API key must be provided when using hosted LangSmith API\n",
      "  warnings.warn(\n"
     ]
    }
   ],
   "source": [
    "chartist = chartist()"
   ]
  },
  {
   "cell_type": "code",
   "execution_count": 8,
   "metadata": {},
   "outputs": [],
   "source": [
    "sample_df = create_sample_dataset()"
   ]
  },
  {
   "cell_type": "code",
   "execution_count": 9,
   "metadata": {},
   "outputs": [],
   "source": [
    "prompt = \"Analyze this dataset and suggest visualizations to explore trends and insights.\"\n",
    "response = chartist.handle_request(data=sample_df, prompt=prompt)"
   ]
  },
  {
   "cell_type": "code",
   "execution_count": 10,
   "metadata": {},
   "outputs": [
    {
     "name": "stdout",
     "output_type": "stream",
     "text": [
      "{'input': '\\n            User Prompt:\\n            Analyze this dataset and suggest visualizations to explore trends and insights.\\n\\n            DataFrame Information (Top 100 Rows):\\n            The following is a JSON representation of the DataFrame. Use this to suggest suitable visualizations:\\n            {\"columns\":[\"date\",\"sales\",\"customers\",\"satisfaction_score\",\"category\"],\"index\":[0,1,2,3,4,5,6,7,8,9,10,11,12,13,14,15,16,17,18,19,20,21,22,23,24,25,26,27,28,29,30,31,32,33,34,35,36,37,38,39,40,41,42,43,44,45,46,47,48,49,50,51,52,53,54,55,56,57,58,59,60,61,62,63,64,65,66,67,68,69,70,71,72,73,74,75,76,77,78,79,80,81,82,83,84,85,86,87,88,89,90,91,92,93,94,95,96,97,98,99],\"data\":[[1672531200000,1049.6714153011,186,4.352462905,\"A\"],[1672617600000,986.1735698829,111,3.6405121517,\"A\"],[1672704000000,1064.7688538101,100,4.0515737046,\"A\"],[1672790400000,1152.3029856408,108,3.8978035515,\"A\"],[1672876800000,976.5846625277,167,3.8659844651,\"A\"],[1672963200000,976.5863043051,145,4.9595158321,\"C\"],[1673049600000,1157.9212815507,162,4.089646587,\"C\"],[1673136000000,1076.7434729153,111,4.8380698328,\"A\"],[1673222400000,953.0525614065,101,4.446707939,\"B\"],[1673308800000,1054.2560043586,61,4.6922169553,\"A\"],[1673395200000,953.6582307188,88,4.2539556397,\"C\"],[1673481600000,953.427024643,179,4.3653558269,\"C\"],[1673568000000,1024.1962271566,180,4.2387765407,\"B\"],[1673654400000,808.6719755342,162,3.7928644817,\"C\"],[1673740800000,827.5082167487,150,4.5836781729,\"A\"],[1673827200000,943.7712470759,162,3.9211585437,\"B\"],[1673913600000,898.7168879666,130,3.5364739496,\"A\"],[1674000000000,1031.4247332595,162,4.4682084439,\"A\"],[1674086400000,909.1975924479,51,3.7656660191,\"B\"],[1674172800000,858.7696298665,179,4.9106878765,\"A\"],[1674259200000,1146.5648768922,103,4.9308928655,\"C\"],[1674345600000,977.4223699513,136,4.8722965853,\"A\"],[1674432000000,1006.7528204688,178,4.0552380504,\"B\"],[1674518400000,857.5251813787,196,3.5231849248,\"B\"],[1674604800000,945.5617275475,175,4.8924778439,\"B\"],[1674691200000,1011.092258971,179,4.1422762225,\"A\"],[1674777600000,884.9006422578,102,4.9499822286,\"B\"],[1674864000000,1037.5698018346,117,4.9454299656,\"B\"],[1674950400000,939.9361310081,172,4.7795141832,\"A\"],[1675036800000,970.8306250207,194,3.9416733381,\"C\"],[1675123200000,939.8293387771,87,4.0776465929,\"A\"],[1675209600000,1185.2278184509,73,4.7767050073,\"B\"],[1675296000000,998.6502775262,118,3.9753830077,\"B\"],[1675382400000,894.2289071044,165,3.75423912,\"A\"],[1675468800000,1082.2544912103,147,4.3352018937,\"C\"],[1675555200000,877.9156350029,188,4.9042321612,\"B\"],[1675641600000,1020.8863595005,193,4.544044695,\"B\"],[1675728000000,804.032987612,146,4.3550917551,\"B\"],[1675814400000,867.1813951102,173,3.6457647407,\"A\"],[1675900800000,1019.6861235869,119,4.42251084,\"B\"],[1675987200000,1073.8466579995,142,4.9850807752,\"C\"],[1676073600000,1017.136828119,52,3.7101260229,\"B\"],[1676160000000,988.4351717612,197,4.2774944785,\"B\"],[1676246400000,969.8896304411,196,4.8160596079,\"C\"],[1676332800000,852.1478009633,139,4.6111529266,\"B\"],[1676419200000,928.0155791605,196,4.5455236115,\"A\"],[1676505600000,953.936122904,197,4.553726126,\"A\"],[1676592000000,1105.7122226219,145,4.0392367268,\"A\"],[1676678400000,1034.3618289568,101,3.9403877664,\"C\"],[1676764800000,823.6959844637,177,4.7140417332,\"B\"],[1676851200000,1032.4083969395,88,4.715170092,\"A\"],[1676937600000,961.4917719584,131,4.8006084779,\"C\"],[1677024000000,932.3077999694,153,4.8698608288,\"B\"],[1677110400000,1061.1676288841,178,4.2670135983,\"C\"],[1677196800000,1103.0999522496,60,4.252274442,\"A\"],[1677283200000,1093.1280119116,91,4.6974427685,\"A\"],[1677369600000,916.0782476777,148,4.4749458962,\"A\"],[1677456000000,969.0787624149,56,4.5529503159,\"C\"],[1677542400000,1033.1263431404,193,4.6936890042,\"C\"],[1677628800000,1097.5545127122,139,4.8350080127,\"A\"],[1677715200000,952.0825762155,161,4.0069927353,\"C\"],[1677801600000,981.4341023336,109,4.063374429,\"A\"],[1677888000000,889.3665025994,162,3.6409729098,\"A\"],[1677974400000,880.3793375919,51,4.3674202115,\"B\"],[1678060800000,1081.2525822394,178,3.5539134107,\"C\"],[1678147200000,1135.6240028571,97,4.1983970272,\"A\"],[1678233600000,992.798987842,189,4.3139669521,\"A\"],[1678320000000,1100.3532897892,86,3.9298118782,\"C\"],[1678406400000,1036.1636025048,58,4.3862498909,\"B\"],[1678492800000,935.4880245395,148,3.5457503749,\"B\"],[1678579200000,1036.1395605508,196,3.5560222831,\"A\"],[1678665600000,1153.8036566466,97,4.733900841,\"C\"],[1678752000000,996.417396089,180,4.0402859621,\"B\"],[1678838400000,1156.4643655814,197,3.690590769,\"C\"],[1678924800000,738.025489591,103,4.2833648901,\"C\"],[1679011200000,1082.1902504375,169,4.6549903296,\"A\"],[1679097600000,1008.7047068238,165,3.8237315412,\"B\"],[1679184000000,970.0992649534,124,4.4343357137,\"A\"],[1679270400000,1009.1760776536,162,3.6280211975,\"B\"],[1679356800000,801.2431085399,153,3.5775225818,\"B\"],[1679443200000,978.0328112162,133,4.2970319474,\"B\"],[1679529600000,1035.7112571512,161,4.3109526824,\"B\"],[1679616000000,1147.7894044742,148,4.4561448522,\"B\"],[1679702400000,948.1729781726,142,4.5891370006,\"C\"],[1679788800000,919.1506397107,195,4.9637781192,\"A\"],[1679875200000,949.8242956415,177,4.2744505225,\"C\"],[1679961600000,1091.5402117702,159,3.9844347094,\"B\"],[1680048000000,1032.875110966,131,4.6927792922,\"A\"],[1680134400000,947.0239796233,103,3.9062483769,\"B\"],[1680220800000,1051.3267433113,117,4.1584571311,\"A\"],[1680307200000,1009.7077549348,82,3.617684572,\"C\"],[1680393600000,1096.8644990533,191,3.5380261151,\"A\"],[1680480000000,929.7946906123,70,4.943972622,\"A\"],[1680566400000,967.2337853402,97,4.7539701808,\"A\"],[1680652800000,960.7891846868,197,4.5439613091,\"A\"],[1680739200000,853.6485051868,177,4.1134294166,\"A\"],[1680825600000,1029.6120277065,185,3.7599414801,\"B\"],[1680912000000,1026.105527218,184,3.734655564,\"A\"],[1680998400000,1000.5113456642,194,3.8753643472,\"A\"],[1681084800000,976.5412866625,177,4.3238399971,\"C\"]]}\\n\\n            Instructions:\\n            - Analyze the DataFrame to understand its structure and content.\\n            - Suggest meaningful visualizations based on the data and the user\\'s instructions.\\n            - For each visualization, describe its purpose and the type of insights it provides.\\n            ', 'output': \"Based on the provided dataset, I suggest the following visualizations to explore trends and insights:\\n\\n1. Time Series Plot:\\n   - Purpose: Visualize sales trends over time.\\n   - Type: Line chart\\n   - X-axis: date\\n   - Y-axis: sales\\n   - Insights: This will help identify any seasonal patterns, overall trends, and potential outliers in sales data.\\n\\n2. Scatter Plot with Trend Line:\\n   - Purpose: Explore the relationship between sales and number of customers.\\n   - Type: Scatter plot with a trend line\\n   - X-axis: customers\\n   - Y-axis: sales\\n   - Insights: This will show if there's a correlation between the number of customers and sales, and if so, how strong it is.\\n\\n3. Box Plot:\\n   - Purpose: Compare sales distribution across different categories.\\n   - Type: Box plot\\n   - X-axis: category\\n   - Y-axis: sales\\n   - Insights: This will help identify which categories have higher or lower sales, as well as the variability within each category.\\n\\n4. Heatmap:\\n   - Purpose: Visualize the correlation between numerical variables.\\n   - Type: Heatmap\\n   - Variables: sales, customers, satisfaction_score\\n   - Insights: This will show the strength and direction of relationships between these variables.\\n\\n5. Stacked Bar Chart:\\n   - Purpose: Show the composition of sales by category over time.\\n   - Type: Stacked bar chart\\n   - X-axis: date (grouped by month)\\n   - Y-axis: sales\\n   - Color: category\\n   - Insights: This will help identify how the contribution of each category to total sales changes over time.\\n\\n6. Bubble Chart:\\n   - Purpose: Visualize the relationship between sales, customers, and satisfaction score.\\n   - Type: Bubble chart\\n   - X-axis: customers\\n   - Y-axis: sales\\n   - Bubble size: satisfaction_score\\n   - Color: category\\n   - Insights: This multi-dimensional visualization will help identify patterns between all four variables simultaneously.\\n\\n7. Histogram:\\n   - Purpose: Analyze the distribution of satisfaction scores.\\n   - Type: Histogram\\n   - X-axis: satisfaction_score\\n   - Y-axis: frequency\\n   - Insights: This will show the overall distribution of customer satisfaction and identify any peaks or unusual patterns.\\n\\nThese visualizations will provide a comprehensive view of the dataset, helping to uncover trends, relationships, and insights across different variables and dimensions.\"}\n"
     ]
    }
   ],
   "source": [
    "print(response)"
   ]
  },
  {
   "cell_type": "code",
   "execution_count": 2,
   "metadata": {},
   "outputs": [],
   "source": [
    "# Python Interpreter Tool\n",
    "python_repl = PythonREPL()\n",
    "repl_tool = StructuredTool.from_function(\n",
    "    func=python_repl.run,\n",
    "    name=\"python_repl\",\n",
    "    description=\"A Python shell. Use this whenever calculations are required by passing in the required python commands to solve the calculation. Input should be a valid python command. If you want to see the output of a value, you should print it out with `print(...)`.\"\n",
    ")"
   ]
  },
  {
   "cell_type": "code",
   "execution_count": null,
   "metadata": {},
   "outputs": [],
   "source": []
  }
 ],
 "metadata": {
  "kernelspec": {
   "display_name": ".venv",
   "language": "python",
   "name": "python3"
  },
  "language_info": {
   "codemirror_mode": {
    "name": "ipython",
    "version": 3
   },
   "file_extension": ".py",
   "mimetype": "text/x-python",
   "name": "python",
   "nbconvert_exporter": "python",
   "pygments_lexer": "ipython3",
   "version": "3.13.1"
  }
 },
 "nbformat": 4,
 "nbformat_minor": 2
}
