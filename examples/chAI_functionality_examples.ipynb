{
 "cells": [
  {
   "cell_type": "code",
   "execution_count": 9,
   "metadata": {},
   "outputs": [],
   "source": [
    "# RUN THIS BEFORE ATTEMPTING, OTHERWISE MAY GET CLIENT ERRORS ON SOME AWS CALLS\n",
    "import boto3\n",
    "boto3.setup_default_session()"
   ]
  },
  {
   "cell_type": "code",
   "execution_count": 10,
   "metadata": {},
   "outputs": [
    {
     "name": "stdout",
     "output_type": "stream",
     "text": [
      "Using AWS Profile: bedrock-access-jose\n",
      "Using AWS Region: us-east-1\n",
      "Using LLM model: anthropic.claude-3-5-sonnet-20240620-v1:0\n"
     ]
    }
   ],
   "source": [
    "from dotenv import load_dotenv\n",
    "import os\n",
    "\n",
    "# Load .env file\n",
    "load_dotenv()\n",
    "aws_profile = os.getenv('AWS_PROFILE')\n",
    "llm_region = os.getenv('LLM_REGION')\n",
    "llm_model = os.getenv('LLM_MODEL')\n",
    "print(f\"Using AWS Region: {llm_region}\")\n",
    "print(f\"Using LLM model: {llm_model}\")"
   ]
  },
  {
   "cell_type": "code",
   "execution_count": 11,
   "metadata": {},
   "outputs": [],
   "source": [
    "# Setup notebook to show logger messages\n",
    "import logging\n",
    "import sys\n",
    "from datetime import datetime\n",
    "from IPython.display import display, HTML\n",
    "\n",
    "class VSCodeNotebookHandler(logging.Handler):\n",
    "    def __init__(self):\n",
    "        super().__init__()\n",
    "        self.log_buffer = []\n",
    "\n",
    "    def emit(self, record):\n",
    "        try:\n",
    "            # Format the message\n",
    "            msg = self.format(record)\n",
    "            \n",
    "            # Define colors for different log levels\n",
    "            colors = {\n",
    "                logging.DEBUG: '#6c757d',    # gray\n",
    "                logging.INFO: '#0d6efd',     # blue\n",
    "                logging.WARNING: '#ffc107',   # yellow\n",
    "                logging.ERROR: '#dc3545',     # red\n",
    "                logging.CRITICAL: '#721c24'   # dark red\n",
    "            }\n",
    "            \n",
    "            # Get color for current log level\n",
    "            color = colors.get(record.levelno, '#000000')\n",
    "            \n",
    "            # Create HTML formatted log entry\n",
    "            log_entry = f\"\"\"\n",
    "            <div style='\n",
    "                padding: 2px 6px;\n",
    "                margin: 2px 0;\n",
    "                border-left: 3px solid {color};\n",
    "                background-color: #f8f9fa;\n",
    "                font-family: Monaco, monospace;\n",
    "                font-sise: 12px;\n",
    "            '>\n",
    "                <span style='color: {color}; font-weight: bold;'>{record.levelname}</span>\n",
    "                <span style='color: #666; margin-right: 8px;'>{datetime.now().strftime('%H:%M:%S')}</span>\n",
    "                <span>{msg}</span>\n",
    "            </div>\n",
    "            \"\"\"\n",
    "            \n",
    "            # Display the formatted log entry\n",
    "            display(HTML(log_entry))\n",
    "            \n",
    "            # Also print to stderr for VSCode's native console\n",
    "            print(msg, file=sys.stderr)\n",
    "            \n",
    "        except Exception as e:\n",
    "            print(f\"Error in log handler: {str(e)}\", file=sys.stderr)\n",
    "\n",
    "def setup_notebook_logging(level=logging.INFO):\n",
    "    \"\"\"\n",
    "    Configure logging for VSCode Jupyter notebooks\n",
    "    \n",
    "    Args:\n",
    "        level: The logging level to use (default: INFO)\n",
    "    Returns:\n",
    "        logger: Configured logger instance\n",
    "    \"\"\"\n",
    "    # Create or get the root logger\n",
    "    logger = logging.getLogger()\n",
    "    \n",
    "    # Remove any existing handlers\n",
    "    for handler in logger.handlers[:]:\n",
    "        logger.removeHandler(handler)\n",
    "    \n",
    "    # Set the logging level\n",
    "    logger.setLevel(level)\n",
    "    \n",
    "    # Create and configure the VSCode notebook handler\n",
    "    handler = VSCodeNotebookHandler()\n",
    "    formatter = logging.Formatter('%(message)s')\n",
    "    handler.setFormatter(formatter)\n",
    "    logger.addHandler(handler)\n",
    "    \n",
    "    return logger\n",
    "\n",
    "# Usage example:\n",
    "logger = setup_notebook_logging(logging.INFO)\n",
    "\n",
    "# Test the logger\n",
    "def test_logging():\n",
    "    logger.debug(\"This is a debug message\")\n",
    "    logger.info(\"This is an info message\")\n",
    "    logger.warning(\"This is a warning message\")\n",
    "    logger.error(\"This is an error message\")\n",
    "    logger.critical(\"This is a critical message\")"
   ]
  },
  {
   "cell_type": "code",
   "execution_count": 12,
   "metadata": {},
   "outputs": [],
   "source": [
    "logger = setup_notebook_logging()"
   ]
  },
  {
   "cell_type": "markdown",
   "metadata": {},
   "source": [
    "# Package Tests"
   ]
  },
  {
   "cell_type": "code",
   "execution_count": 13,
   "metadata": {},
   "outputs": [],
   "source": [
    "import numpy as np\n",
    "import pandas as pd\n",
    "def create_sample_dataset():\n",
    "    \"\"\"Create a sample dataset for testing\"\"\"\n",
    "    np.random.seed(42)\n",
    "    dates = pd.date_range(start=\"2023-01-01\", periods=100, freq=\"D\")\n",
    "\n",
    "    sample_df = pd.DataFrame(\n",
    "        {\n",
    "            \"date\": dates,\n",
    "            \"sales\": np.random.normal(1000, 100, 100),\n",
    "            \"customers\": np.random.randint(50, 200, 100),\n",
    "            \"satisfaction_score\": np.random.uniform(3.5, 5.0, 100),\n",
    "            \"category\": np.random.choice([\"A\", \"B\", \"C\"], 100),\n",
    "        }\n",
    "    )\n",
    "\n",
    "    return sample_df"
   ]
  },
  {
   "cell_type": "code",
   "execution_count": 15,
   "metadata": {},
   "outputs": [
    {
     "data": {
      "text/html": [
       "\n",
       "            <div style='\n",
       "                padding: 2px 6px;\n",
       "                margin: 2px 0;\n",
       "                border-left: 3px solid #0d6efd;\n",
       "                background-color: #f8f9fa;\n",
       "                font-family: Monaco, monospace;\n",
       "                font-sise: 12px;\n",
       "            '>\n",
       "                <span style='color: #0d6efd; font-weight: bold;'>INFO</span>\n",
       "                <span style='color: #666; margin-right: 8px;'>12:39:53</span>\n",
       "                <span>chAI Start</span>\n",
       "            </div>\n",
       "            "
      ],
      "text/plain": [
       "<IPython.core.display.HTML object>"
      ]
     },
     "metadata": {},
     "output_type": "display_data"
    },
    {
     "name": "stderr",
     "output_type": "stream",
     "text": [
      "chAI Start\n"
     ]
    },
    {
     "data": {
      "text/html": [
       "\n",
       "            <div style='\n",
       "                padding: 2px 6px;\n",
       "                margin: 2px 0;\n",
       "                border-left: 3px solid #0d6efd;\n",
       "                background-color: #f8f9fa;\n",
       "                font-family: Monaco, monospace;\n",
       "                font-sise: 12px;\n",
       "            '>\n",
       "                <span style='color: #0d6efd; font-weight: bold;'>INFO</span>\n",
       "                <span style='color: #666; margin-right: 8px;'>12:39:53</span>\n",
       "                <span>Loaded config for agent successfully.</span>\n",
       "            </div>\n",
       "            "
      ],
      "text/plain": [
       "<IPython.core.display.HTML object>"
      ]
     },
     "metadata": {},
     "output_type": "display_data"
    },
    {
     "name": "stderr",
     "output_type": "stream",
     "text": [
      "Loaded config for agent successfully.\n"
     ]
    },
    {
     "data": {
      "text/html": [
       "\n",
       "            <div style='\n",
       "                padding: 2px 6px;\n",
       "                margin: 2px 0;\n",
       "                border-left: 3px solid #0d6efd;\n",
       "                background-color: #f8f9fa;\n",
       "                font-family: Monaco, monospace;\n",
       "                font-sise: 12px;\n",
       "            '>\n",
       "                <span style='color: #0d6efd; font-weight: bold;'>INFO</span>\n",
       "                <span style='color: #666; margin-right: 8px;'>12:39:53</span>\n",
       "                <span>Loaded config for agent successfully.</span>\n",
       "            </div>\n",
       "            "
      ],
      "text/plain": [
       "<IPython.core.display.HTML object>"
      ]
     },
     "metadata": {},
     "output_type": "display_data"
    },
    {
     "name": "stderr",
     "output_type": "stream",
     "text": [
      "Loaded config for agent successfully.\n"
     ]
    },
    {
     "data": {
      "text/html": [
       "\n",
       "            <div style='\n",
       "                padding: 2px 6px;\n",
       "                margin: 2px 0;\n",
       "                border-left: 3px solid #0d6efd;\n",
       "                background-color: #f8f9fa;\n",
       "                font-family: Monaco, monospace;\n",
       "                font-sise: 12px;\n",
       "            '>\n",
       "                <span style='color: #0d6efd; font-weight: bold;'>INFO</span>\n",
       "                <span style='color: #666; margin-right: 8px;'>12:39:53</span>\n",
       "                <span>Initializing BedrockHandler</span>\n",
       "            </div>\n",
       "            "
      ],
      "text/plain": [
       "<IPython.core.display.HTML object>"
      ]
     },
     "metadata": {},
     "output_type": "display_data"
    },
    {
     "name": "stderr",
     "output_type": "stream",
     "text": [
      "Initializing BedrockHandler\n"
     ]
    },
    {
     "data": {
      "text/html": [
       "\n",
       "            <div style='\n",
       "                padding: 2px 6px;\n",
       "                margin: 2px 0;\n",
       "                border-left: 3px solid #0d6efd;\n",
       "                background-color: #f8f9fa;\n",
       "                font-family: Monaco, monospace;\n",
       "                font-sise: 12px;\n",
       "            '>\n",
       "                <span style='color: #0d6efd; font-weight: bold;'>INFO</span>\n",
       "                <span style='color: #666; margin-right: 8px;'>12:39:53</span>\n",
       "                <span>Found credentials in shared credentials file: ~/.aws/credentials</span>\n",
       "            </div>\n",
       "            "
      ],
      "text/plain": [
       "<IPython.core.display.HTML object>"
      ]
     },
     "metadata": {},
     "output_type": "display_data"
    },
    {
     "name": "stderr",
     "output_type": "stream",
     "text": [
      "Found credentials in shared credentials file: ~/.aws/credentials\n"
     ]
    },
    {
     "data": {
      "text/html": [
       "\n",
       "            <div style='\n",
       "                padding: 2px 6px;\n",
       "                margin: 2px 0;\n",
       "                border-left: 3px solid #0d6efd;\n",
       "                background-color: #f8f9fa;\n",
       "                font-family: Monaco, monospace;\n",
       "                font-sise: 12px;\n",
       "            '>\n",
       "                <span style='color: #0d6efd; font-weight: bold;'>INFO</span>\n",
       "                <span style='color: #666; margin-right: 8px;'>12:39:53</span>\n",
       "                <span>Creating ChatBedrock LLM instance</span>\n",
       "            </div>\n",
       "            "
      ],
      "text/plain": [
       "<IPython.core.display.HTML object>"
      ]
     },
     "metadata": {},
     "output_type": "display_data"
    },
    {
     "name": "stderr",
     "output_type": "stream",
     "text": [
      "Creating ChatBedrock LLM instance\n"
     ]
    },
    {
     "data": {
      "text/html": [
       "\n",
       "            <div style='\n",
       "                padding: 2px 6px;\n",
       "                margin: 2px 0;\n",
       "                border-left: 3px solid #0d6efd;\n",
       "                background-color: #f8f9fa;\n",
       "                font-family: Monaco, monospace;\n",
       "                font-sise: 12px;\n",
       "            '>\n",
       "                <span style='color: #0d6efd; font-weight: bold;'>INFO</span>\n",
       "                <span style='color: #666; margin-right: 8px;'>12:39:53</span>\n",
       "                <span>Found credentials in shared credentials file: ~/.aws/credentials</span>\n",
       "            </div>\n",
       "            "
      ],
      "text/plain": [
       "<IPython.core.display.HTML object>"
      ]
     },
     "metadata": {},
     "output_type": "display_data"
    },
    {
     "name": "stderr",
     "output_type": "stream",
     "text": [
      "Found credentials in shared credentials file: ~/.aws/credentials\n"
     ]
    },
    {
     "data": {
      "text/html": [
       "\n",
       "            <div style='\n",
       "                padding: 2px 6px;\n",
       "                margin: 2px 0;\n",
       "                border-left: 3px solid #0d6efd;\n",
       "                background-color: #f8f9fa;\n",
       "                font-family: Monaco, monospace;\n",
       "                font-sise: 12px;\n",
       "            '>\n",
       "                <span style='color: #0d6efd; font-weight: bold;'>INFO</span>\n",
       "                <span style='color: #666; margin-right: 8px;'>12:39:53</span>\n",
       "                <span>Successfully created ChatBedrock LLM instance</span>\n",
       "            </div>\n",
       "            "
      ],
      "text/plain": [
       "<IPython.core.display.HTML object>"
      ]
     },
     "metadata": {},
     "output_type": "display_data"
    },
    {
     "name": "stderr",
     "output_type": "stream",
     "text": [
      "Successfully created ChatBedrock LLM instance\n",
      "/Users/jose.orjales/gds-idea-chai/.venv/lib/python3.12/site-packages/langsmith/client.py:253: LangSmithMissingAPIKeyWarning: API key must be provided when using hosted LangSmith API\n",
      "  warnings.warn(\n"
     ]
    },
    {
     "data": {
      "text/html": [
       "\n",
       "            <div style='\n",
       "                padding: 2px 6px;\n",
       "                margin: 2px 0;\n",
       "                border-left: 3px solid #0d6efd;\n",
       "                background-color: #f8f9fa;\n",
       "                font-family: Monaco, monospace;\n",
       "                font-sise: 12px;\n",
       "            '>\n",
       "                <span style='color: #0d6efd; font-weight: bold;'>INFO</span>\n",
       "                <span style='color: #666; margin-right: 8px;'>12:39:54</span>\n",
       "                <span>Setting up chAI agent</span>\n",
       "            </div>\n",
       "            "
      ],
      "text/plain": [
       "<IPython.core.display.HTML object>"
      ]
     },
     "metadata": {},
     "output_type": "display_data"
    },
    {
     "name": "stderr",
     "output_type": "stream",
     "text": [
      "Setting up chAI agent\n"
     ]
    },
    {
     "data": {
      "text/html": [
       "\n",
       "            <div style='\n",
       "                padding: 2px 6px;\n",
       "                margin: 2px 0;\n",
       "                border-left: 3px solid #0d6efd;\n",
       "                background-color: #f8f9fa;\n",
       "                font-family: Monaco, monospace;\n",
       "                font-sise: 12px;\n",
       "            '>\n",
       "                <span style='color: #0d6efd; font-weight: bold;'>INFO</span>\n",
       "                <span style='color: #666; margin-right: 8px;'>12:39:54</span>\n",
       "                <span>chAI agent successfully set up</span>\n",
       "            </div>\n",
       "            "
      ],
      "text/plain": [
       "<IPython.core.display.HTML object>"
      ]
     },
     "metadata": {},
     "output_type": "display_data"
    },
    {
     "name": "stderr",
     "output_type": "stream",
     "text": [
      "chAI agent successfully set up\n"
     ]
    }
   ],
   "source": [
    "from chai import chAI\n",
    "chai = chAI()"
   ]
  },
  {
   "cell_type": "code",
   "execution_count": 16,
   "metadata": {},
   "outputs": [],
   "source": [
    "sample_df = create_sample_dataset()"
   ]
  },
  {
   "cell_type": "code",
   "execution_count": 17,
   "metadata": {},
   "outputs": [
    {
     "data": {
      "text/html": [
       "\n",
       "            <div style='\n",
       "                padding: 2px 6px;\n",
       "                margin: 2px 0;\n",
       "                border-left: 3px solid #0d6efd;\n",
       "                background-color: #f8f9fa;\n",
       "                font-family: Monaco, monospace;\n",
       "                font-sise: 12px;\n",
       "            '>\n",
       "                <span style='color: #0d6efd; font-weight: bold;'>INFO</span>\n",
       "                <span style='color: #666; margin-right: 8px;'>12:39:54</span>\n",
       "                <span>Detected DataFrame input. Preparing to analyse...</span>\n",
       "            </div>\n",
       "            "
      ],
      "text/plain": [
       "<IPython.core.display.HTML object>"
      ]
     },
     "metadata": {},
     "output_type": "display_data"
    },
    {
     "name": "stderr",
     "output_type": "stream",
     "text": [
      "Detected DataFrame input. Preparing to analyse...\n"
     ]
    },
    {
     "data": {
      "text/html": [
       "\n",
       "            <div style='\n",
       "                padding: 2px 6px;\n",
       "                margin: 2px 0;\n",
       "                border-left: 3px solid #0d6efd;\n",
       "                background-color: #f8f9fa;\n",
       "                font-family: Monaco, monospace;\n",
       "                font-sise: 12px;\n",
       "            '>\n",
       "                <span style='color: #0d6efd; font-weight: bold;'>INFO</span>\n",
       "                <span style='color: #666; margin-right: 8px;'>12:39:54</span>\n",
       "                <span>Parsing DataFrame into structured JSON dictionary</span>\n",
       "            </div>\n",
       "            "
      ],
      "text/plain": [
       "<IPython.core.display.HTML object>"
      ]
     },
     "metadata": {},
     "output_type": "display_data"
    },
    {
     "name": "stderr",
     "output_type": "stream",
     "text": [
      "Parsing DataFrame into structured JSON dictionary\n"
     ]
    },
    {
     "data": {
      "text/html": [
       "\n",
       "            <div style='\n",
       "                padding: 2px 6px;\n",
       "                margin: 2px 0;\n",
       "                border-left: 3px solid #0d6efd;\n",
       "                background-color: #f8f9fa;\n",
       "                font-family: Monaco, monospace;\n",
       "                font-sise: 12px;\n",
       "            '>\n",
       "                <span style='color: #0d6efd; font-weight: bold;'>INFO</span>\n",
       "                <span style='color: #666; margin-right: 8px;'>12:39:54</span>\n",
       "                <span>Sending prompt and data to agent executor...</span>\n",
       "            </div>\n",
       "            "
      ],
      "text/plain": [
       "<IPython.core.display.HTML object>"
      ]
     },
     "metadata": {},
     "output_type": "display_data"
    },
    {
     "name": "stderr",
     "output_type": "stream",
     "text": [
      "Sending prompt and data to agent executor...\n"
     ]
    }
   ],
   "source": [
    "prompt = \"Analyse this dataset and suggest visualisations to explore trends and insights.\"\n",
    "response = chai.handle_request(data=sample_df, prompt=prompt)"
   ]
  },
  {
   "cell_type": "code",
   "execution_count": 18,
   "metadata": {},
   "outputs": [
    {
     "name": "stdout",
     "output_type": "stream",
     "text": [
      "📊 VISUALISATION SUGGESTIONS:\n",
      "\n",
      "\n",
      "📈 TIME SERIES ANALYSIS OF SALES\n",
      "Purpose: To visualize the trend of sales over time\n",
      "Chart Type: Line chart\n",
      "Variables: date (x-axis), sales (y-axis)\n",
      "Expected Insights: Identify any seasonal patterns, overall trends, or unusual spikes/dips in sales\n",
      "\n",
      "--------------------------------------------------\n",
      "\n",
      "📈 CUSTOMER COUNT VS\n",
      "Purpose: To examine the relationship between number of customers and sales\n",
      "Chart Type: Scatter plot\n",
      "Variables: customers (x-axis), sales (y-axis)\n",
      "Expected Insights: Determine if there's a correlation between customer count and sales, identify any outliers\n",
      "\n",
      "--------------------------------------------------\n",
      "\n",
      "📈 SATISFACTION SCORE DISTRIBUTION\n",
      "Purpose: To understand the distribution of customer satisfaction scores\n",
      "Chart Type: Histogram or Box plot\n",
      "Variables: satisfaction_score\n",
      "Expected Insights: Analyze the range and frequency of satisfaction scores, identify any skewness or outliers\n",
      "\n",
      "--------------------------------------------------\n",
      "\n",
      "📈 SALES BY CATEGORY\n",
      "Purpose: To compare sales across different categories\n",
      "Chart Type: Bar chart or Box plot\n",
      "Variables: category (x-axis), sales (y-axis)\n",
      "Expected Insights: Identify which categories have higher or lower sales, and the variability within each category\n",
      "\n",
      "--------------------------------------------------\n",
      "\n",
      "📈 SATISFACTION SCORE VS\n",
      "Purpose: To visualize the relationship between satisfaction scores and sales\n",
      "Chart Type: Heatmap\n",
      "Variables: satisfaction_score (x-axis), sales (y-axis), color intensity representing frequency\n",
      "Expected Insights: Identify any patterns or correlations between satisfaction scores and sales\n",
      "\n",
      "--------------------------------------------------\n",
      "\n",
      "📈 CUSTOMER COUNT OVER TIME\n",
      "Purpose: To analyze the trend of customer numbers over time\n",
      "Chart Type: Line chart or Area chart\n",
      "Variables: date (x-axis), customers (y-axis)\n",
      "Expected Insights: Identify any patterns or trends in customer numbers, compare with sales trend\n",
      "\n",
      "--------------------------------------------------\n",
      "\n",
      "📈 CATEGORY DISTRIBUTION\n",
      "Purpose: To visualize the distribution of categories\n",
      "Chart Type: Pie chart or Donut chart\n",
      "Variables: category\n",
      "Expected Insights: Understand the proportion of each category in the dataset\n"
     ]
    }
   ],
   "source": [
    "print(response)"
   ]
  },
  {
   "cell_type": "markdown",
   "metadata": {},
   "source": [
    "## Copycat functionality\n",
    "\n",
    "Provide a chart image and ask LLM to provide the plotly code and output to an html file"
   ]
  },
  {
   "cell_type": "code",
   "execution_count": 19,
   "metadata": {},
   "outputs": [],
   "source": [
    "prompt = \"\"\"\n",
    "    Please analyse this chart and provide a comprehensive review with the following structure:\n",
    "\n",
    "    1. Key Findings:\n",
    "    - What are the most significant patterns or insights?\n",
    "    - What are the highest and lowest values?\n",
    "    - Are there any notable disparities or trends?\n",
    "\n",
    "    2. Comparative Analysis:\n",
    "    - Compare the different outcome groups\n",
    "    - Identify any significant gaps or differences\n",
    "    - Highlight any unexpected patterns\n",
    "\n",
    "    Please provide your analysis in clear, business-friendly language suitable for stakeholders.\n",
    "    \"\"\""
   ]
  },
  {
   "cell_type": "code",
   "execution_count": 26,
   "metadata": {},
   "outputs": [
    {
     "data": {
      "text/html": [
       "\n",
       "            <div style='\n",
       "                padding: 2px 6px;\n",
       "                margin: 2px 0;\n",
       "                border-left: 3px solid #0d6efd;\n",
       "                background-color: #f8f9fa;\n",
       "                font-family: Monaco, monospace;\n",
       "                font-sise: 12px;\n",
       "            '>\n",
       "                <span style='color: #0d6efd; font-weight: bold;'>INFO</span>\n",
       "                <span style='color: #666; margin-right: 8px;'>12:42:44</span>\n",
       "                <span>Detected image location input. Preparing to review...</span>\n",
       "            </div>\n",
       "            "
      ],
      "text/plain": [
       "<IPython.core.display.HTML object>"
      ]
     },
     "metadata": {},
     "output_type": "display_data"
    },
    {
     "name": "stderr",
     "output_type": "stream",
     "text": [
      "Detected image location input. Preparing to review...\n"
     ]
    },
    {
     "data": {
      "text/html": [
       "\n",
       "            <div style='\n",
       "                padding: 2px 6px;\n",
       "                margin: 2px 0;\n",
       "                border-left: 3px solid #0d6efd;\n",
       "                background-color: #f8f9fa;\n",
       "                font-family: Monaco, monospace;\n",
       "                font-sise: 12px;\n",
       "            '>\n",
       "                <span style='color: #0d6efd; font-weight: bold;'>INFO</span>\n",
       "                <span style='color: #666; margin-right: 8px;'>12:42:44</span>\n",
       "                <span>Encoding image to base64</span>\n",
       "            </div>\n",
       "            "
      ],
      "text/plain": [
       "<IPython.core.display.HTML object>"
      ]
     },
     "metadata": {},
     "output_type": "display_data"
    },
    {
     "name": "stderr",
     "output_type": "stream",
     "text": [
      "Encoding image to base64\n"
     ]
    },
    {
     "data": {
      "text/html": [
       "\n",
       "            <div style='\n",
       "                padding: 2px 6px;\n",
       "                margin: 2px 0;\n",
       "                border-left: 3px solid #0d6efd;\n",
       "                background-color: #f8f9fa;\n",
       "                font-family: Monaco, monospace;\n",
       "                font-sise: 12px;\n",
       "            '>\n",
       "                <span style='color: #0d6efd; font-weight: bold;'>INFO</span>\n",
       "                <span style='color: #666; margin-right: 8px;'>12:43:05</span>\n",
       "                <span>Sending prompt and data to agent executor...</span>\n",
       "            </div>\n",
       "            "
      ],
      "text/plain": [
       "<IPython.core.display.HTML object>"
      ]
     },
     "metadata": {},
     "output_type": "display_data"
    },
    {
     "name": "stderr",
     "output_type": "stream",
     "text": [
      "Sending prompt and data to agent executor...\n"
     ]
    },
    {
     "data": {
      "application/vnd.plotly.v1+json": {
       "config": {
        "plotlyServerURL": "https://plot.ly"
       },
       "data": [
        {
         "marker": {
          "color": "orange"
         },
         "opacity": 0.75,
         "type": "histogram",
         "x": {
          "bdata": "iGxgy8qgDEB0zkNVHRAMQAgN02/tfQxA3grfLj2iDEDIOvtHdLULQOTuDftGYAtAZykh74+QC0AFOjNMvnsNQJdzeN3bGw5AOgF28VotDkDHB6LIpc8MQJ6LTokAng1Aw9IYhMV3DUCzQPB9xicNQHH+QJjl/QxAzX8MURZXDUA5BG8MBE8OQMmZcRUvUQ1AjvmC8EuhDUD2eeFHW4YPQMGFNrpX+w5AHwANI3H0D0AO1z9QnvAPQGZz8K+HzQ5AEqtXrxIyD0ABlQfHo+EOQJUVMxcS2w5AjXXaRoJ1DkDjM2XaE2APQCWlrh1MNA9AzUqbVnx7DkB21YgZETkQQBYKXUoDuhBARaBE8Q8xEECIlw2qrB0QQMupvms9ZBBA1410eNzJEEAZ+duqkjEQQHurm0KniRBA+NxvzfqbEECfzB8NqzAQQEJcYYIjlRBAw6OlbVJLEEBdk//VS04RQFbPowCMThFAXrPh0oY6EUAJcJSVSt8QQFh1HbXedxFA72jz6X4OEUDhnN69//IQQL5ffJcm1RBAzvGhm9BFEUCT1rivkFcRQGQB33oy0BBAjB97Oa01EUCehqKzL/sQQLTcaG/uUBFAneBkn4LwEEAhxyPWTVoRQFZ0wN4AHBFA0j7ibaSMEUCbsneow7URQOprrExz3xFAk8Br4dawEUCiD0Et+lYSQOTPEXNHTRJA09mFK23OEUCWeoTFwyASQPBXTJT3QBJABm3AHE4LEkAselOLEgYSQA2BGaAhyxFALOrL3aqsEUBu5KeLWVESQNj+/DzOHhNAg6FRJg/oEkDPVjpT1asSQERU+AnrrRJArayVYhP7EkBoUnzQIB4TQMkn10YTHBNASu3JVh4GE0DY+0hZ4+kSQJPA5MGhdxJAAk5HZoCHEkBIIJGEbB4TQMoQQoxlrxNAMe7vYxU1E0DcqjE7+0cTQJqGMs0VuxNATt6gkjw0E0AInlQsIlQTQOvUcqeUoxNAmEdYb+bAE0BHdRm/uLgTQFjn6l4hYRNA3Nzm5g3FE0DIpIziyWMTQO+TBITXdRNA5JQ82RTME0DM2V+sPrgTQI1B3/Ye4RNA",
          "dtype": "f8"
         },
         "xbins": {
          "end": 5,
          "size": 0.2,
          "start": 3.4
         }
        }
       ],
       "layout": {
        "bargap": 0.1,
        "plot_bgcolor": "rgba(240, 240, 250, 0.5)",
        "template": {
         "data": {
          "bar": [
           {
            "error_x": {
             "color": "#2a3f5f"
            },
            "error_y": {
             "color": "#2a3f5f"
            },
            "marker": {
             "line": {
              "color": "white",
              "width": 0.5
             },
             "pattern": {
              "fillmode": "overlay",
              "size": 10,
              "solidity": 0.2
             }
            },
            "type": "bar"
           }
          ],
          "barpolar": [
           {
            "marker": {
             "line": {
              "color": "white",
              "width": 0.5
             },
             "pattern": {
              "fillmode": "overlay",
              "size": 10,
              "solidity": 0.2
             }
            },
            "type": "barpolar"
           }
          ],
          "carpet": [
           {
            "aaxis": {
             "endlinecolor": "#2a3f5f",
             "gridcolor": "#C8D4E3",
             "linecolor": "#C8D4E3",
             "minorgridcolor": "#C8D4E3",
             "startlinecolor": "#2a3f5f"
            },
            "baxis": {
             "endlinecolor": "#2a3f5f",
             "gridcolor": "#C8D4E3",
             "linecolor": "#C8D4E3",
             "minorgridcolor": "#C8D4E3",
             "startlinecolor": "#2a3f5f"
            },
            "type": "carpet"
           }
          ],
          "choropleth": [
           {
            "colorbar": {
             "outlinewidth": 0,
             "ticks": ""
            },
            "type": "choropleth"
           }
          ],
          "contour": [
           {
            "colorbar": {
             "outlinewidth": 0,
             "ticks": ""
            },
            "colorscale": [
             [
              0,
              "#0d0887"
             ],
             [
              0.1111111111111111,
              "#46039f"
             ],
             [
              0.2222222222222222,
              "#7201a8"
             ],
             [
              0.3333333333333333,
              "#9c179e"
             ],
             [
              0.4444444444444444,
              "#bd3786"
             ],
             [
              0.5555555555555556,
              "#d8576b"
             ],
             [
              0.6666666666666666,
              "#ed7953"
             ],
             [
              0.7777777777777778,
              "#fb9f3a"
             ],
             [
              0.8888888888888888,
              "#fdca26"
             ],
             [
              1,
              "#f0f921"
             ]
            ],
            "type": "contour"
           }
          ],
          "contourcarpet": [
           {
            "colorbar": {
             "outlinewidth": 0,
             "ticks": ""
            },
            "type": "contourcarpet"
           }
          ],
          "heatmap": [
           {
            "colorbar": {
             "outlinewidth": 0,
             "ticks": ""
            },
            "colorscale": [
             [
              0,
              "#0d0887"
             ],
             [
              0.1111111111111111,
              "#46039f"
             ],
             [
              0.2222222222222222,
              "#7201a8"
             ],
             [
              0.3333333333333333,
              "#9c179e"
             ],
             [
              0.4444444444444444,
              "#bd3786"
             ],
             [
              0.5555555555555556,
              "#d8576b"
             ],
             [
              0.6666666666666666,
              "#ed7953"
             ],
             [
              0.7777777777777778,
              "#fb9f3a"
             ],
             [
              0.8888888888888888,
              "#fdca26"
             ],
             [
              1,
              "#f0f921"
             ]
            ],
            "type": "heatmap"
           }
          ],
          "histogram": [
           {
            "marker": {
             "pattern": {
              "fillmode": "overlay",
              "size": 10,
              "solidity": 0.2
             }
            },
            "type": "histogram"
           }
          ],
          "histogram2d": [
           {
            "colorbar": {
             "outlinewidth": 0,
             "ticks": ""
            },
            "colorscale": [
             [
              0,
              "#0d0887"
             ],
             [
              0.1111111111111111,
              "#46039f"
             ],
             [
              0.2222222222222222,
              "#7201a8"
             ],
             [
              0.3333333333333333,
              "#9c179e"
             ],
             [
              0.4444444444444444,
              "#bd3786"
             ],
             [
              0.5555555555555556,
              "#d8576b"
             ],
             [
              0.6666666666666666,
              "#ed7953"
             ],
             [
              0.7777777777777778,
              "#fb9f3a"
             ],
             [
              0.8888888888888888,
              "#fdca26"
             ],
             [
              1,
              "#f0f921"
             ]
            ],
            "type": "histogram2d"
           }
          ],
          "histogram2dcontour": [
           {
            "colorbar": {
             "outlinewidth": 0,
             "ticks": ""
            },
            "colorscale": [
             [
              0,
              "#0d0887"
             ],
             [
              0.1111111111111111,
              "#46039f"
             ],
             [
              0.2222222222222222,
              "#7201a8"
             ],
             [
              0.3333333333333333,
              "#9c179e"
             ],
             [
              0.4444444444444444,
              "#bd3786"
             ],
             [
              0.5555555555555556,
              "#d8576b"
             ],
             [
              0.6666666666666666,
              "#ed7953"
             ],
             [
              0.7777777777777778,
              "#fb9f3a"
             ],
             [
              0.8888888888888888,
              "#fdca26"
             ],
             [
              1,
              "#f0f921"
             ]
            ],
            "type": "histogram2dcontour"
           }
          ],
          "mesh3d": [
           {
            "colorbar": {
             "outlinewidth": 0,
             "ticks": ""
            },
            "type": "mesh3d"
           }
          ],
          "parcoords": [
           {
            "line": {
             "colorbar": {
              "outlinewidth": 0,
              "ticks": ""
             }
            },
            "type": "parcoords"
           }
          ],
          "pie": [
           {
            "automargin": true,
            "type": "pie"
           }
          ],
          "scatter": [
           {
            "fillpattern": {
             "fillmode": "overlay",
             "size": 10,
             "solidity": 0.2
            },
            "type": "scatter"
           }
          ],
          "scatter3d": [
           {
            "line": {
             "colorbar": {
              "outlinewidth": 0,
              "ticks": ""
             }
            },
            "marker": {
             "colorbar": {
              "outlinewidth": 0,
              "ticks": ""
             }
            },
            "type": "scatter3d"
           }
          ],
          "scattercarpet": [
           {
            "marker": {
             "colorbar": {
              "outlinewidth": 0,
              "ticks": ""
             }
            },
            "type": "scattercarpet"
           }
          ],
          "scattergeo": [
           {
            "marker": {
             "colorbar": {
              "outlinewidth": 0,
              "ticks": ""
             }
            },
            "type": "scattergeo"
           }
          ],
          "scattergl": [
           {
            "marker": {
             "colorbar": {
              "outlinewidth": 0,
              "ticks": ""
             }
            },
            "type": "scattergl"
           }
          ],
          "scattermap": [
           {
            "marker": {
             "colorbar": {
              "outlinewidth": 0,
              "ticks": ""
             }
            },
            "type": "scattermap"
           }
          ],
          "scattermapbox": [
           {
            "marker": {
             "colorbar": {
              "outlinewidth": 0,
              "ticks": ""
             }
            },
            "type": "scattermapbox"
           }
          ],
          "scatterpolar": [
           {
            "marker": {
             "colorbar": {
              "outlinewidth": 0,
              "ticks": ""
             }
            },
            "type": "scatterpolar"
           }
          ],
          "scatterpolargl": [
           {
            "marker": {
             "colorbar": {
              "outlinewidth": 0,
              "ticks": ""
             }
            },
            "type": "scatterpolargl"
           }
          ],
          "scatterternary": [
           {
            "marker": {
             "colorbar": {
              "outlinewidth": 0,
              "ticks": ""
             }
            },
            "type": "scatterternary"
           }
          ],
          "surface": [
           {
            "colorbar": {
             "outlinewidth": 0,
             "ticks": ""
            },
            "colorscale": [
             [
              0,
              "#0d0887"
             ],
             [
              0.1111111111111111,
              "#46039f"
             ],
             [
              0.2222222222222222,
              "#7201a8"
             ],
             [
              0.3333333333333333,
              "#9c179e"
             ],
             [
              0.4444444444444444,
              "#bd3786"
             ],
             [
              0.5555555555555556,
              "#d8576b"
             ],
             [
              0.6666666666666666,
              "#ed7953"
             ],
             [
              0.7777777777777778,
              "#fb9f3a"
             ],
             [
              0.8888888888888888,
              "#fdca26"
             ],
             [
              1,
              "#f0f921"
             ]
            ],
            "type": "surface"
           }
          ],
          "table": [
           {
            "cells": {
             "fill": {
              "color": "#EBF0F8"
             },
             "line": {
              "color": "white"
             }
            },
            "header": {
             "fill": {
              "color": "#C8D4E3"
             },
             "line": {
              "color": "white"
             }
            },
            "type": "table"
           }
          ]
         },
         "layout": {
          "annotationdefaults": {
           "arrowcolor": "#2a3f5f",
           "arrowhead": 0,
           "arrowwidth": 1
          },
          "autotypenumbers": "strict",
          "coloraxis": {
           "colorbar": {
            "outlinewidth": 0,
            "ticks": ""
           }
          },
          "colorscale": {
           "diverging": [
            [
             0,
             "#8e0152"
            ],
            [
             0.1,
             "#c51b7d"
            ],
            [
             0.2,
             "#de77ae"
            ],
            [
             0.3,
             "#f1b6da"
            ],
            [
             0.4,
             "#fde0ef"
            ],
            [
             0.5,
             "#f7f7f7"
            ],
            [
             0.6,
             "#e6f5d0"
            ],
            [
             0.7,
             "#b8e186"
            ],
            [
             0.8,
             "#7fbc41"
            ],
            [
             0.9,
             "#4d9221"
            ],
            [
             1,
             "#276419"
            ]
           ],
           "sequential": [
            [
             0,
             "#0d0887"
            ],
            [
             0.1111111111111111,
             "#46039f"
            ],
            [
             0.2222222222222222,
             "#7201a8"
            ],
            [
             0.3333333333333333,
             "#9c179e"
            ],
            [
             0.4444444444444444,
             "#bd3786"
            ],
            [
             0.5555555555555556,
             "#d8576b"
            ],
            [
             0.6666666666666666,
             "#ed7953"
            ],
            [
             0.7777777777777778,
             "#fb9f3a"
            ],
            [
             0.8888888888888888,
             "#fdca26"
            ],
            [
             1,
             "#f0f921"
            ]
           ],
           "sequentialminus": [
            [
             0,
             "#0d0887"
            ],
            [
             0.1111111111111111,
             "#46039f"
            ],
            [
             0.2222222222222222,
             "#7201a8"
            ],
            [
             0.3333333333333333,
             "#9c179e"
            ],
            [
             0.4444444444444444,
             "#bd3786"
            ],
            [
             0.5555555555555556,
             "#d8576b"
            ],
            [
             0.6666666666666666,
             "#ed7953"
            ],
            [
             0.7777777777777778,
             "#fb9f3a"
            ],
            [
             0.8888888888888888,
             "#fdca26"
            ],
            [
             1,
             "#f0f921"
            ]
           ]
          },
          "colorway": [
           "#636efa",
           "#EF553B",
           "#00cc96",
           "#ab63fa",
           "#FFA15A",
           "#19d3f3",
           "#FF6692",
           "#B6E880",
           "#FF97FF",
           "#FECB52"
          ],
          "font": {
           "color": "#2a3f5f"
          },
          "geo": {
           "bgcolor": "white",
           "lakecolor": "white",
           "landcolor": "white",
           "showlakes": true,
           "showland": true,
           "subunitcolor": "#C8D4E3"
          },
          "hoverlabel": {
           "align": "left"
          },
          "hovermode": "closest",
          "mapbox": {
           "style": "light"
          },
          "paper_bgcolor": "white",
          "plot_bgcolor": "white",
          "polar": {
           "angularaxis": {
            "gridcolor": "#EBF0F8",
            "linecolor": "#EBF0F8",
            "ticks": ""
           },
           "bgcolor": "white",
           "radialaxis": {
            "gridcolor": "#EBF0F8",
            "linecolor": "#EBF0F8",
            "ticks": ""
           }
          },
          "scene": {
           "xaxis": {
            "backgroundcolor": "white",
            "gridcolor": "#DFE8F3",
            "gridwidth": 2,
            "linecolor": "#EBF0F8",
            "showbackground": true,
            "ticks": "",
            "zerolinecolor": "#EBF0F8"
           },
           "yaxis": {
            "backgroundcolor": "white",
            "gridcolor": "#DFE8F3",
            "gridwidth": 2,
            "linecolor": "#EBF0F8",
            "showbackground": true,
            "ticks": "",
            "zerolinecolor": "#EBF0F8"
           },
           "zaxis": {
            "backgroundcolor": "white",
            "gridcolor": "#DFE8F3",
            "gridwidth": 2,
            "linecolor": "#EBF0F8",
            "showbackground": true,
            "ticks": "",
            "zerolinecolor": "#EBF0F8"
           }
          },
          "shapedefaults": {
           "line": {
            "color": "#2a3f5f"
           }
          },
          "ternary": {
           "aaxis": {
            "gridcolor": "#DFE8F3",
            "linecolor": "#A2B1C6",
            "ticks": ""
           },
           "baxis": {
            "gridcolor": "#DFE8F3",
            "linecolor": "#A2B1C6",
            "ticks": ""
           },
           "bgcolor": "white",
           "caxis": {
            "gridcolor": "#DFE8F3",
            "linecolor": "#A2B1C6",
            "ticks": ""
           }
          },
          "title": {
           "x": 0.05
          },
          "xaxis": {
           "automargin": true,
           "gridcolor": "#EBF0F8",
           "linecolor": "#EBF0F8",
           "ticks": "",
           "title": {
            "standoff": 15
           },
           "zerolinecolor": "#EBF0F8",
           "zerolinewidth": 2
          },
          "yaxis": {
           "automargin": true,
           "gridcolor": "#EBF0F8",
           "linecolor": "#EBF0F8",
           "ticks": "",
           "title": {
            "standoff": 15
           },
           "zerolinecolor": "#EBF0F8",
           "zerolinewidth": 2
          }
         }
        },
        "title": {
         "text": "Satisfaction Score Distribution"
        },
        "xaxis": {
         "range": [
          3.4,
          5
         ],
         "title": {
          "text": "Satisfaction Score"
         }
        },
        "yaxis": {
         "range": [
          0,
          20
         ],
         "title": {
          "text": "Count"
         }
        }
       }
      }
     },
     "metadata": {},
     "output_type": "display_data"
    }
   ],
   "source": [
    "json_images = chai.handle_request(prompt = prompt, image_path='../tests/img/satisfaction.png')"
   ]
  },
  {
   "cell_type": "code",
   "execution_count": 27,
   "metadata": {},
   "outputs": [
    {
     "name": "stdout",
     "output_type": "stream",
     "text": [
      "## Insights\n",
      "1. The distribution of satisfaction scores is somewhat bimodal, with peaks around 4.2-4.4 and 4.8-5.0.\n",
      "2. The highest count is in the 4.2-4.4 range, with approximately 18 occurrences.\n",
      "3. The lowest count is in the 3.4-3.6 range, with about 7 occurrences.\n",
      "4. There's a notable trend of increasing frequency as the satisfaction score increases, with a slight dip in the 4.6-4.8 range.\n",
      "5. The majority of satisfaction scores fall between 4.0 and 5.0, indicating generally positive feedback.\n",
      "6. There's a significant gap between the frequency of scores in the 3.4-3.6 range and the rest of the distribution.\n"
     ]
    }
   ],
   "source": [
    "print(json_images['analysis'])"
   ]
  },
  {
   "cell_type": "code",
   "execution_count": 28,
   "metadata": {},
   "outputs": [
    {
     "name": "stdout",
     "output_type": "stream",
     "text": [
      "import plotly.graph_objects as go\n",
      "import numpy as np\n",
      "\n",
      "# Create the data\n",
      "satisfaction_scores = np.concatenate([\n",
      "    np.random.uniform(3.4, 3.6, 7),\n",
      "    np.random.uniform(3.6, 3.8, 12),\n",
      "    np.random.uniform(3.8, 4.0, 12),\n",
      "    np.random.uniform(4.0, 4.2, 12),\n",
      "    np.random.uniform(4.2, 4.4, 18),\n",
      "    np.random.uniform(4.4, 4.6, 13),\n",
      "    np.random.uniform(4.6, 4.8, 12),\n",
      "    np.random.uniform(4.8, 5.0, 16)\n",
      "])\n",
      "\n",
      "# Create the histogram\n",
      "fig = go.Figure(data=[go.Histogram(\n",
      "    x=satisfaction_scores,\n",
      "    xbins=dict(start=3.4, end=5.0, size=0.2),\n",
      "    marker_color='orange',\n",
      "    opacity=0.75\n",
      ")])\n",
      "\n",
      "# Update the layout\n",
      "fig.update_layout(\n",
      "    title='Satisfaction Score Distribution',\n",
      "    xaxis_title='Satisfaction Score',\n",
      "    yaxis_title='Count',\n",
      "    bargap=0.1,\n",
      "    xaxis=dict(range=[3.4, 5.0]),\n",
      "    yaxis=dict(range=[0, 20]),\n",
      "    plot_bgcolor='rgba(240, 240, 250, 0.5)',\n",
      "    template='plotly_white'\n",
      ")\n",
      "\n",
      "fig.show()\n"
     ]
    }
   ],
   "source": [
    "print(json_images['code'])"
   ]
  },
  {
   "cell_type": "markdown",
   "metadata": {},
   "source": [
    "## Asking for some template code"
   ]
  },
  {
   "cell_type": "code",
   "execution_count": 23,
   "metadata": {},
   "outputs": [
    {
     "data": {
      "text/html": [
       "\n",
       "            <div style='\n",
       "                padding: 2px 6px;\n",
       "                margin: 2px 0;\n",
       "                border-left: 3px solid #0d6efd;\n",
       "                background-color: #f8f9fa;\n",
       "                font-family: Monaco, monospace;\n",
       "                font-sise: 12px;\n",
       "            '>\n",
       "                <span style='color: #0d6efd; font-weight: bold;'>INFO</span>\n",
       "                <span style='color: #666; margin-right: 8px;'>12:41:03</span>\n",
       "                <span>Processing chart type request: scatter</span>\n",
       "            </div>\n",
       "            "
      ],
      "text/plain": [
       "<IPython.core.display.HTML object>"
      ]
     },
     "metadata": {},
     "output_type": "display_data"
    },
    {
     "name": "stderr",
     "output_type": "stream",
     "text": [
      "Processing chart type request: scatter\n"
     ]
    },
    {
     "data": {
      "text/html": [
       "\n",
       "            <div style='\n",
       "                padding: 2px 6px;\n",
       "                margin: 2px 0;\n",
       "                border-left: 3px solid #0d6efd;\n",
       "                background-color: #f8f9fa;\n",
       "                font-family: Monaco, monospace;\n",
       "                font-sise: 12px;\n",
       "            '>\n",
       "                <span style='color: #0d6efd; font-weight: bold;'>INFO</span>\n",
       "                <span style='color: #666; margin-right: 8px;'>12:41:03</span>\n",
       "                <span>Sending prompt and data to agent executor...</span>\n",
       "            </div>\n",
       "            "
      ],
      "text/plain": [
       "<IPython.core.display.HTML object>"
      ]
     },
     "metadata": {},
     "output_type": "display_data"
    },
    {
     "name": "stderr",
     "output_type": "stream",
     "text": [
      "Sending prompt and data to agent executor...\n"
     ]
    },
    {
     "data": {
      "application/vnd.plotly.v1+json": {
       "config": {
        "plotlyServerURL": "https://plot.ly"
       },
       "data": [
        {
         "hovertemplate": "x: %{x:.2f}<br>y: %{y:.2f}<extra></extra>",
         "marker": {
          "color": "#ff0000",
          "line": {
           "color": "#444444",
           "width": 1
          },
          "opacity": 0.7,
          "size": 10
         },
         "mode": "markers",
         "name": "Series 1",
         "type": "scatter",
         "x": {
          "bdata": "Zyb35ZT2DUD0ZXVBqAMjQCUB5jKeRx1A3Pf7S0PyF0DlqeoEhvb4Px/f/xmJ9fg/ZrVeojWW4j/RktVl0lIhQJjetu9qCxhAIiNBx6lSHEAgngaJIFnKP0cUzj3wZSNAeqzYNxumIEBf/gF6tPwAQIYf2PeMF/0/WoFZrD9Y/T8C1R2S4VYIQHwLCYCB/RRAGIUd8x1HEUBSbD9vX0wHQHHS/6ZfeRhAm+3uJKtR9j9p0LxVH18HQAblUy4XTw1A6vlzGSg+EkC6iBesM2gfQJE0pluj8v8/GInqucKRFEDddFU/U7IXQEyUy4Rvut0/LMtmYEJNGEBhjgIJq0j7P0jVh8gG0eQ/VgJbQEv6IkAkgeg3CVAjQKOqdpL+KiBApN8ocH1eCEBMWjyxTEHvPzmDNNOLXhtAypNqWimbEUDOLjOkr4bzP099Ko+czhNAAILeHTcC1j9fR/pvuC8iQDyG0mPQswRA1NzGajqAGkAmZkDE1+8IQFIqCh1/zRRAC6jWMVDeFUDzUqB0o5P9Pw==",
          "dtype": "f8"
         },
         "y": {
          "bdata": "66ZECHvvIUCs9svWZVszQGA4C7Ix0SxA3uwGxe69JkDwHZ+D9efEPxcYV3sb4vo/zO9q6kDFzj8di7CFEXAzQLDixmhIaylAzt09YU9FJUCkU3h6LfXwP83DnLzGoDJAylE8ZQuXLkCdecQDa+EVQC2OZilDyxZAtOfk02IfFkCtD9rkKaARQN/YwVTfwCNA4Xmuq1SaIkBShsUJShofQAxMPQCzjiZA2T/fmDVZA0CiMj1esgoNQAxqBmdCvRNAoFRd3i5+JUAdPtztfmoyQFGC00Wvyw5AMimu2mCVKEAh/yf2oyQpQCQCbbJpHte/xRnxEFS/KUBAdwmiO/IZQLODPSKKq/M/PD2COWQbNkCYUun5cyUsQC9AKPrOzzFAFT3jK8MQGUBo40vU1K/1P2KdrVyCvCtAIxnfLMhPE0A2YdH46AIAQOwFKXpLPCVAt4NJAQImDUCcUy65XSYxQFLTrcoJeAxAAO6T0W1+KEDlE1kOSyEgQKo2jD4jHiZArAxfvNa/I0B6wAqv/eQSQA==",
          "dtype": "f8"
         }
        },
        {
         "hovertemplate": "x: %{x:.2f}<br>y: %{y:.2f}<extra></extra>",
         "marker": {
          "color": "#ff3333",
          "line": {
           "color": "#444444",
           "width": 1
          },
          "opacity": 0.7,
          "size": 10
         },
         "mode": "markers",
         "name": "Series 2",
         "type": "scatter",
         "x": {
          "bdata": "Zyb35ZT2DUD0ZXVBqAMjQCUB5jKeRx1A3Pf7S0PyF0DlqeoEhvb4Px/f/xmJ9fg/ZrVeojWW4j/RktVl0lIhQJjetu9qCxhAIiNBx6lSHEAgngaJIFnKP0cUzj3wZSNAeqzYNxumIEBf/gF6tPwAQIYf2PeMF/0/WoFZrD9Y/T8C1R2S4VYIQHwLCYCB/RRAGIUd8x1HEUBSbD9vX0wHQHHS/6ZfeRhAm+3uJKtR9j9p0LxVH18HQAblUy4XTw1A6vlzGSg+EkC6iBesM2gfQJE0pluj8v8/GInqucKRFEDddFU/U7IXQEyUy4Rvut0/LMtmYEJNGEBhjgIJq0j7P0jVh8gG0eQ/VgJbQEv6IkAkgeg3CVAjQKOqdpL+KiBApN8ocH1eCEBMWjyxTEHvPzmDNNOLXhtAypNqWimbEUDOLjOkr4bzP099Ko+czhNAAILeHTcC1j9fR/pvuC8iQDyG0mPQswRA1NzGajqAGkAmZkDE1+8IQFIqCh1/zRRAC6jWMVDeFUDzUqB0o5P9Pw==",
          "dtype": "f8"
         },
         "y": {
          "bdata": "66ZECHvvJUCs9svWZVs1QDCcBdmYaDBA3uwGxe69KkDf8TlYf04BQAyMq70NcQ1A/a6mDlTsAUAdi7CFEXA1QLDixmhIay1Azt09YU9FKUDSKTy9lnoIQM3DnLzGoDRA5SiesoVLMUCdecQDa+EdQC2OZilDyx5AtOfk02IfHkCtD9rkKaAZQN/YwVTfwCdA4Xmuq1SaJkApw+IEJY0jQAxMPQCzjipA7J9vzJqsEUBRmR4vWYUWQAxqBmdCvRtAoFRd3i5+KUAdPtztfmo0QCjB6aLXZRdAMimu2mCVLEAh/yf2oyQtQHe/ZJNlOPo/xRnxEFS/LUCguwTRHfkgQNrBHhHF1QlAPD2COWQbOEBMqfT8uRIwQC9AKPrOzzNAip7xlWGIIEC08SVq6tcKQGKdrVyCvC9AIxnfLMhPG0CbsGh8dAEQQOwFKXpLPClA3MGkAAGTFkCcUy65XSYzQKnpVuUEPBZAAO6T0W1+LEDlE1kOSyEkQKo2jD4jHipArAxfvNa/J0B6wAqv/eQaQA==",
          "dtype": "f8"
         }
        },
        {
         "hovertemplate": "x: %{x:.2f}<br>y: %{y:.2f}<extra></extra>",
         "marker": {
          "color": "#ff6666",
          "line": {
           "color": "#444444",
           "width": 1
          },
          "opacity": 0.7,
          "size": 10
         },
         "mode": "markers",
         "name": "Series 3",
         "type": "scatter",
         "x": {
          "bdata": "Zyb35ZT2DUD0ZXVBqAMjQCUB5jKeRx1A3Pf7S0PyF0DlqeoEhvb4Px/f/xmJ9fg/ZrVeojWW4j/RktVl0lIhQJjetu9qCxhAIiNBx6lSHEAgngaJIFnKP0cUzj3wZSNAeqzYNxumIEBf/gF6tPwAQIYf2PeMF/0/WoFZrD9Y/T8C1R2S4VYIQHwLCYCB/RRAGIUd8x1HEUBSbD9vX0wHQHHS/6ZfeRhAm+3uJKtR9j9p0LxVH18HQAblUy4XTw1A6vlzGSg+EkC6iBesM2gfQJE0pluj8v8/GInqucKRFEDddFU/U7IXQEyUy4Rvut0/LMtmYEJNGEBhjgIJq0j7P0jVh8gG0eQ/VgJbQEv6IkAkgeg3CVAjQKOqdpL+KiBApN8ocH1eCEBMWjyxTEHvPzmDNNOLXhtAypNqWimbEUDOLjOkr4bzP099Ko+czhNAAILeHTcC1j9fR/pvuC8iQDyG0mPQswRA1NzGajqAGkAmZkDE1+8IQFIqCh1/zRRAC6jWMVDeFUDzUqB0o5P9Pw==",
          "dtype": "f8"
         },
         "y": {
          "bdata": "1k2JEPbeG0Cs9svWZVsxQGA4C7Ix0ShA3uwGxe69IkBCHIxPAWP9v6SfoxKSd9S/BqKy4lcn/L8di7CFEXAxQLDixmhIayVAzt09YU9FIUC4WA8LpRXuv83DnLzGoDBAylE8ZQuXKkA684gH1sILQFoczVKGlg1AaM/Jp8U+DEBaH7TJU0ADQL6xg6m+gR9AwvNcV6k0HUBShsUJShoXQAxMPQCzjiJAyP75xqzJ2j9EZXq8ZBX6PxjUDM6EegdAoFRd3i5+IUAdPtztfmowQKIEp4tel/0/Mimu2mCVJEAh/yf2oyQlQESgTTbN4wLAxRnxEFS/JUBAdwmiO/IRQJr4hLvrqOi/PD2COWQbNECYUun5cyUoQF6AUPSdny9AFT3jK8MQEUAwOWhXVqDkv2KdrVyCvCdARjK+WZCfBkAAsAmLxkdXP+wFKXpLPCFAbgeTAgRM+j84p1xyu0wuQKSmW5UT8Pg/AO6T0W1+JEDKJ7IclkIYQKo2jD4jHiJAWBm+eK1/H0D0gBVe+8kFQA==",
          "dtype": "f8"
         }
        },
        {
         "hovertemplate": "x: %{x:.2f}<br>y: %{y:.2f}<extra></extra>",
         "marker": {
          "color": "#ff9999",
          "line": {
           "color": "#444444",
           "width": 1
          },
          "opacity": 0.7,
          "size": 10
         },
         "mode": "markers",
         "name": "Series 4",
         "type": "scatter",
         "x": {
          "bdata": "Zyb35ZT2DUD0ZXVBqAMjQCUB5jKeRx1A3Pf7S0PyF0DlqeoEhvb4Px/f/xmJ9fg/ZrVeojWW4j/RktVl0lIhQJjetu9qCxhAIiNBx6lSHEAgngaJIFnKP0cUzj3wZSNAeqzYNxumIEBf/gF6tPwAQIYf2PeMF/0/WoFZrD9Y/T8C1R2S4VYIQHwLCYCB/RRAGIUd8x1HEUBSbD9vX0wHQHHS/6ZfeRhAm+3uJKtR9j9p0LxVH18HQAblUy4XTw1A6vlzGSg+EkC6iBesM2gfQJE0pluj8v8/GInqucKRFEDddFU/U7IXQEyUy4Rvut0/LMtmYEJNGEBhjgIJq0j7P0jVh8gG0eQ/VgJbQEv6IkAkgeg3CVAjQKOqdpL+KiBApN8ocH1eCEBMWjyxTEHvPzmDNNOLXhtAypNqWimbEUDOLjOkr4bzP099Ko+czhNAAILeHTcC1j9fR/pvuC8iQDyG0mPQswRA1NzGajqAGkAmZkDE1+8IQFIqCh1/zRRAC6jWMVDeFUDzUqB0o5P9Pw==",
          "dtype": "f8"
         },
         "y": {
          "bdata": "Eguhc16yHEB6V0bxovguQBotPFvBDSdAGFfS0IsxIkDA5Bg2kbnAP3lG35WvgfU/pIxViM2dyD/IEbSitRkvQCeCBYfTVSRAC0v+gD8EIUCgUo1d4iHrP0g5YccKzi1A1aeW6tV4KEDk+mlpIoERQL5xuLo1PBJAXblQdrWyEUB8f/Y6djMMQJj0Au7+mh9AnFxKrLrDHUAPBZ7U1OEYQApwl2bCCyJAwv8xjiL1/j8cwv3kwTsHQHp2PQs3lQ9AGqpKGL8xIUCVlpN8MXctQKjOQp7yoghAwu0k4rOqI0BO/x/4Tx0kQLcBJPW6ftK/OK6NDRCZJEAA+W1OycEUQIWflQPdeO8/yv00YYOvMUCt2+3HXIQmQLJmQJCxfyxAq/3o72gNFEDttTwQd1nxP+h9JEpoMCZAOCiYFA3mDkC9zhuOQZ75P/A3hy4J/SBAxs86NJtRB0At7Bb1lXArQKhCvjtuxgZAZ77c2leYI0AIU1t93s4ZQO9eo8u1sSFAekfLk1eZH0Bdmnd+LzsOQA==",
          "dtype": "f8"
         }
        }
       ],
       "layout": {
        "legend": {
         "font": {
          "color": "#444444",
          "size": 14,
          "weight": "bold"
         },
         "orientation": "h",
         "x": 0.5,
         "xanchor": "center",
         "y": -0.3,
         "yanchor": "bottom"
        },
        "margin": {
         "b": 100,
         "l": 100,
         "r": 50,
         "t": 100
        },
        "showlegend": true,
        "template": {
         "data": {
          "bar": [
           {
            "error_x": {
             "color": "#2a3f5f"
            },
            "error_y": {
             "color": "#2a3f5f"
            },
            "marker": {
             "line": {
              "color": "white",
              "width": 0.5
             },
             "pattern": {
              "fillmode": "overlay",
              "size": 10,
              "solidity": 0.2
             }
            },
            "type": "bar"
           }
          ],
          "barpolar": [
           {
            "marker": {
             "line": {
              "color": "white",
              "width": 0.5
             },
             "pattern": {
              "fillmode": "overlay",
              "size": 10,
              "solidity": 0.2
             }
            },
            "type": "barpolar"
           }
          ],
          "carpet": [
           {
            "aaxis": {
             "endlinecolor": "#2a3f5f",
             "gridcolor": "#C8D4E3",
             "linecolor": "#C8D4E3",
             "minorgridcolor": "#C8D4E3",
             "startlinecolor": "#2a3f5f"
            },
            "baxis": {
             "endlinecolor": "#2a3f5f",
             "gridcolor": "#C8D4E3",
             "linecolor": "#C8D4E3",
             "minorgridcolor": "#C8D4E3",
             "startlinecolor": "#2a3f5f"
            },
            "type": "carpet"
           }
          ],
          "choropleth": [
           {
            "colorbar": {
             "outlinewidth": 0,
             "ticks": ""
            },
            "type": "choropleth"
           }
          ],
          "contour": [
           {
            "colorbar": {
             "outlinewidth": 0,
             "ticks": ""
            },
            "colorscale": [
             [
              0,
              "#0d0887"
             ],
             [
              0.1111111111111111,
              "#46039f"
             ],
             [
              0.2222222222222222,
              "#7201a8"
             ],
             [
              0.3333333333333333,
              "#9c179e"
             ],
             [
              0.4444444444444444,
              "#bd3786"
             ],
             [
              0.5555555555555556,
              "#d8576b"
             ],
             [
              0.6666666666666666,
              "#ed7953"
             ],
             [
              0.7777777777777778,
              "#fb9f3a"
             ],
             [
              0.8888888888888888,
              "#fdca26"
             ],
             [
              1,
              "#f0f921"
             ]
            ],
            "type": "contour"
           }
          ],
          "contourcarpet": [
           {
            "colorbar": {
             "outlinewidth": 0,
             "ticks": ""
            },
            "type": "contourcarpet"
           }
          ],
          "heatmap": [
           {
            "colorbar": {
             "outlinewidth": 0,
             "ticks": ""
            },
            "colorscale": [
             [
              0,
              "#0d0887"
             ],
             [
              0.1111111111111111,
              "#46039f"
             ],
             [
              0.2222222222222222,
              "#7201a8"
             ],
             [
              0.3333333333333333,
              "#9c179e"
             ],
             [
              0.4444444444444444,
              "#bd3786"
             ],
             [
              0.5555555555555556,
              "#d8576b"
             ],
             [
              0.6666666666666666,
              "#ed7953"
             ],
             [
              0.7777777777777778,
              "#fb9f3a"
             ],
             [
              0.8888888888888888,
              "#fdca26"
             ],
             [
              1,
              "#f0f921"
             ]
            ],
            "type": "heatmap"
           }
          ],
          "histogram": [
           {
            "marker": {
             "pattern": {
              "fillmode": "overlay",
              "size": 10,
              "solidity": 0.2
             }
            },
            "type": "histogram"
           }
          ],
          "histogram2d": [
           {
            "colorbar": {
             "outlinewidth": 0,
             "ticks": ""
            },
            "colorscale": [
             [
              0,
              "#0d0887"
             ],
             [
              0.1111111111111111,
              "#46039f"
             ],
             [
              0.2222222222222222,
              "#7201a8"
             ],
             [
              0.3333333333333333,
              "#9c179e"
             ],
             [
              0.4444444444444444,
              "#bd3786"
             ],
             [
              0.5555555555555556,
              "#d8576b"
             ],
             [
              0.6666666666666666,
              "#ed7953"
             ],
             [
              0.7777777777777778,
              "#fb9f3a"
             ],
             [
              0.8888888888888888,
              "#fdca26"
             ],
             [
              1,
              "#f0f921"
             ]
            ],
            "type": "histogram2d"
           }
          ],
          "histogram2dcontour": [
           {
            "colorbar": {
             "outlinewidth": 0,
             "ticks": ""
            },
            "colorscale": [
             [
              0,
              "#0d0887"
             ],
             [
              0.1111111111111111,
              "#46039f"
             ],
             [
              0.2222222222222222,
              "#7201a8"
             ],
             [
              0.3333333333333333,
              "#9c179e"
             ],
             [
              0.4444444444444444,
              "#bd3786"
             ],
             [
              0.5555555555555556,
              "#d8576b"
             ],
             [
              0.6666666666666666,
              "#ed7953"
             ],
             [
              0.7777777777777778,
              "#fb9f3a"
             ],
             [
              0.8888888888888888,
              "#fdca26"
             ],
             [
              1,
              "#f0f921"
             ]
            ],
            "type": "histogram2dcontour"
           }
          ],
          "mesh3d": [
           {
            "colorbar": {
             "outlinewidth": 0,
             "ticks": ""
            },
            "type": "mesh3d"
           }
          ],
          "parcoords": [
           {
            "line": {
             "colorbar": {
              "outlinewidth": 0,
              "ticks": ""
             }
            },
            "type": "parcoords"
           }
          ],
          "pie": [
           {
            "automargin": true,
            "type": "pie"
           }
          ],
          "scatter": [
           {
            "fillpattern": {
             "fillmode": "overlay",
             "size": 10,
             "solidity": 0.2
            },
            "type": "scatter"
           }
          ],
          "scatter3d": [
           {
            "line": {
             "colorbar": {
              "outlinewidth": 0,
              "ticks": ""
             }
            },
            "marker": {
             "colorbar": {
              "outlinewidth": 0,
              "ticks": ""
             }
            },
            "type": "scatter3d"
           }
          ],
          "scattercarpet": [
           {
            "marker": {
             "colorbar": {
              "outlinewidth": 0,
              "ticks": ""
             }
            },
            "type": "scattercarpet"
           }
          ],
          "scattergeo": [
           {
            "marker": {
             "colorbar": {
              "outlinewidth": 0,
              "ticks": ""
             }
            },
            "type": "scattergeo"
           }
          ],
          "scattergl": [
           {
            "marker": {
             "colorbar": {
              "outlinewidth": 0,
              "ticks": ""
             }
            },
            "type": "scattergl"
           }
          ],
          "scattermap": [
           {
            "marker": {
             "colorbar": {
              "outlinewidth": 0,
              "ticks": ""
             }
            },
            "type": "scattermap"
           }
          ],
          "scattermapbox": [
           {
            "marker": {
             "colorbar": {
              "outlinewidth": 0,
              "ticks": ""
             }
            },
            "type": "scattermapbox"
           }
          ],
          "scatterpolar": [
           {
            "marker": {
             "colorbar": {
              "outlinewidth": 0,
              "ticks": ""
             }
            },
            "type": "scatterpolar"
           }
          ],
          "scatterpolargl": [
           {
            "marker": {
             "colorbar": {
              "outlinewidth": 0,
              "ticks": ""
             }
            },
            "type": "scatterpolargl"
           }
          ],
          "scatterternary": [
           {
            "marker": {
             "colorbar": {
              "outlinewidth": 0,
              "ticks": ""
             }
            },
            "type": "scatterternary"
           }
          ],
          "surface": [
           {
            "colorbar": {
             "outlinewidth": 0,
             "ticks": ""
            },
            "colorscale": [
             [
              0,
              "#0d0887"
             ],
             [
              0.1111111111111111,
              "#46039f"
             ],
             [
              0.2222222222222222,
              "#7201a8"
             ],
             [
              0.3333333333333333,
              "#9c179e"
             ],
             [
              0.4444444444444444,
              "#bd3786"
             ],
             [
              0.5555555555555556,
              "#d8576b"
             ],
             [
              0.6666666666666666,
              "#ed7953"
             ],
             [
              0.7777777777777778,
              "#fb9f3a"
             ],
             [
              0.8888888888888888,
              "#fdca26"
             ],
             [
              1,
              "#f0f921"
             ]
            ],
            "type": "surface"
           }
          ],
          "table": [
           {
            "cells": {
             "fill": {
              "color": "#EBF0F8"
             },
             "line": {
              "color": "white"
             }
            },
            "header": {
             "fill": {
              "color": "#C8D4E3"
             },
             "line": {
              "color": "white"
             }
            },
            "type": "table"
           }
          ]
         },
         "layout": {
          "annotationdefaults": {
           "arrowcolor": "#2a3f5f",
           "arrowhead": 0,
           "arrowwidth": 1
          },
          "autotypenumbers": "strict",
          "coloraxis": {
           "colorbar": {
            "outlinewidth": 0,
            "ticks": ""
           }
          },
          "colorscale": {
           "diverging": [
            [
             0,
             "#8e0152"
            ],
            [
             0.1,
             "#c51b7d"
            ],
            [
             0.2,
             "#de77ae"
            ],
            [
             0.3,
             "#f1b6da"
            ],
            [
             0.4,
             "#fde0ef"
            ],
            [
             0.5,
             "#f7f7f7"
            ],
            [
             0.6,
             "#e6f5d0"
            ],
            [
             0.7,
             "#b8e186"
            ],
            [
             0.8,
             "#7fbc41"
            ],
            [
             0.9,
             "#4d9221"
            ],
            [
             1,
             "#276419"
            ]
           ],
           "sequential": [
            [
             0,
             "#0d0887"
            ],
            [
             0.1111111111111111,
             "#46039f"
            ],
            [
             0.2222222222222222,
             "#7201a8"
            ],
            [
             0.3333333333333333,
             "#9c179e"
            ],
            [
             0.4444444444444444,
             "#bd3786"
            ],
            [
             0.5555555555555556,
             "#d8576b"
            ],
            [
             0.6666666666666666,
             "#ed7953"
            ],
            [
             0.7777777777777778,
             "#fb9f3a"
            ],
            [
             0.8888888888888888,
             "#fdca26"
            ],
            [
             1,
             "#f0f921"
            ]
           ],
           "sequentialminus": [
            [
             0,
             "#0d0887"
            ],
            [
             0.1111111111111111,
             "#46039f"
            ],
            [
             0.2222222222222222,
             "#7201a8"
            ],
            [
             0.3333333333333333,
             "#9c179e"
            ],
            [
             0.4444444444444444,
             "#bd3786"
            ],
            [
             0.5555555555555556,
             "#d8576b"
            ],
            [
             0.6666666666666666,
             "#ed7953"
            ],
            [
             0.7777777777777778,
             "#fb9f3a"
            ],
            [
             0.8888888888888888,
             "#fdca26"
            ],
            [
             1,
             "#f0f921"
            ]
           ]
          },
          "colorway": [
           "#636efa",
           "#EF553B",
           "#00cc96",
           "#ab63fa",
           "#FFA15A",
           "#19d3f3",
           "#FF6692",
           "#B6E880",
           "#FF97FF",
           "#FECB52"
          ],
          "font": {
           "color": "#2a3f5f"
          },
          "geo": {
           "bgcolor": "white",
           "lakecolor": "white",
           "landcolor": "white",
           "showlakes": true,
           "showland": true,
           "subunitcolor": "#C8D4E3"
          },
          "hoverlabel": {
           "align": "left"
          },
          "hovermode": "closest",
          "mapbox": {
           "style": "light"
          },
          "paper_bgcolor": "white",
          "plot_bgcolor": "white",
          "polar": {
           "angularaxis": {
            "gridcolor": "#EBF0F8",
            "linecolor": "#EBF0F8",
            "ticks": ""
           },
           "bgcolor": "white",
           "radialaxis": {
            "gridcolor": "#EBF0F8",
            "linecolor": "#EBF0F8",
            "ticks": ""
           }
          },
          "scene": {
           "xaxis": {
            "backgroundcolor": "white",
            "gridcolor": "#DFE8F3",
            "gridwidth": 2,
            "linecolor": "#EBF0F8",
            "showbackground": true,
            "ticks": "",
            "zerolinecolor": "#EBF0F8"
           },
           "yaxis": {
            "backgroundcolor": "white",
            "gridcolor": "#DFE8F3",
            "gridwidth": 2,
            "linecolor": "#EBF0F8",
            "showbackground": true,
            "ticks": "",
            "zerolinecolor": "#EBF0F8"
           },
           "zaxis": {
            "backgroundcolor": "white",
            "gridcolor": "#DFE8F3",
            "gridwidth": 2,
            "linecolor": "#EBF0F8",
            "showbackground": true,
            "ticks": "",
            "zerolinecolor": "#EBF0F8"
           }
          },
          "shapedefaults": {
           "line": {
            "color": "#2a3f5f"
           }
          },
          "ternary": {
           "aaxis": {
            "gridcolor": "#DFE8F3",
            "linecolor": "#A2B1C6",
            "ticks": ""
           },
           "baxis": {
            "gridcolor": "#DFE8F3",
            "linecolor": "#A2B1C6",
            "ticks": ""
           },
           "bgcolor": "white",
           "caxis": {
            "gridcolor": "#DFE8F3",
            "linecolor": "#A2B1C6",
            "ticks": ""
           }
          },
          "title": {
           "x": 0.05
          },
          "xaxis": {
           "automargin": true,
           "gridcolor": "#EBF0F8",
           "linecolor": "#EBF0F8",
           "ticks": "",
           "title": {
            "standoff": 15
           },
           "zerolinecolor": "#EBF0F8",
           "zerolinewidth": 2
          },
          "yaxis": {
           "automargin": true,
           "gridcolor": "#EBF0F8",
           "linecolor": "#EBF0F8",
           "ticks": "",
           "title": {
            "standoff": 15
           },
           "zerolinecolor": "#EBF0F8",
           "zerolinewidth": 2
          }
         }
        },
        "title": {
         "font": {
          "color": "#ff0000",
          "size": 24
         },
         "text": "Red Scatter Plot",
         "x": 0.5,
         "xanchor": "center"
        },
        "xaxis": {
         "tickfont": {
          "color": "#444444",
          "size": 14,
          "weight": "bold"
         },
         "title": {
          "font": {
           "color": "#444444",
           "size": 16,
           "weight": "bold"
          },
          "text": "X Values"
         }
        },
        "yaxis": {
         "tickfont": {
          "color": "#444444",
          "size": 14,
          "weight": "bold"
         },
         "title": {
          "font": {
           "color": "#444444",
           "size": 16,
           "weight": "bold"
          },
          "text": "Y Values"
         }
        }
       }
      }
     },
     "metadata": {},
     "output_type": "display_data"
    }
   ],
   "source": [
    "chart_prompt = \"I want a red chart with bold axis titles and labels on the bars. There should also be a legend showing each distinct category\"\n",
    "chart_request = chai.handle_request(prompt = chart_prompt, chart_type='scatter')"
   ]
  },
  {
   "cell_type": "code",
   "execution_count": 24,
   "metadata": {},
   "outputs": [
    {
     "name": "stdout",
     "output_type": "stream",
     "text": [
      "import plotly.graph_objects as go\n",
      "import numpy as np\n",
      "\n",
      "# Generate sample data\n",
      "np.random.seed(42)\n",
      "x = np.random.uniform(0, 10, 50)\n",
      "y = 2 * x + np.random.normal(0, 2, 50)\n",
      "\n",
      "# Create figure with multiple series\n",
      "fig = go.Figure()\n",
      "\n",
      "# Add multiple scatter series with different shades of red\n",
      "series_data = [\n",
      "    {'x': x, 'y': y, 'name': 'Series 1', 'color': '#ff0000'},\n",
      "    {'x': x, 'y': y + 2, 'name': 'Series 2', 'color': '#ff3333'},\n",
      "    {'x': x, 'y': y - 2, 'name': 'Series 3', 'color': '#ff6666'},\n",
      "    {'x': x, 'y': y * 0.8, 'name': 'Series 4', 'color': '#ff9999'}\n",
      "]\n",
      "\n",
      "for series in series_data:\n",
      "    fig.add_trace(\n",
      "        go.Scatter(\n",
      "            x=series['x'],\n",
      "            y=series['y'],\n",
      "            mode='markers',\n",
      "            name=series['name'],\n",
      "            marker=dict(\n",
      "                size=10,\n",
      "                color=series['color'],\n",
      "                opacity=0.7,\n",
      "                line=dict(width=1, color='#444444')\n",
      "            ),\n",
      "            hovertemplate='x: %{x:.2f}<br>y: %{y:.2f}<extra></extra>'\n",
      "        )\n",
      "    )\n",
      "\n",
      "# Update layout with professional styling\n",
      "fig.update_layout(\n",
      "    title={\n",
      "        'text': 'Red Scatter Plot',\n",
      "        'font': {'size': 24, 'color': '#ff0000'},\n",
      "        'x': 0.5,\n",
      "        'xanchor': 'center'\n",
      "    },\n",
      "    xaxis_title={\n",
      "        'text': 'X Values',\n",
      "        'font': {'size': 16, 'color': '#444444', 'weight': 'bold'}\n",
      "    },\n",
      "    yaxis_title={\n",
      "        'text': 'Y Values',\n",
      "        'font': {'size': 16, 'color': '#444444', 'weight': 'bold'}\n",
      "    },\n",
      "    xaxis={\n",
      "        'tickfont': {'size': 14, 'color': '#444444', 'weight': 'bold'}\n",
      "    },\n",
      "    yaxis={\n",
      "        'tickfont': {'size': 14, 'color': '#444444', 'weight': 'bold'}\n",
      "    },\n",
      "    template='plotly_white',\n",
      "    showlegend=True,\n",
      "    legend={\n",
      "        'orientation': 'h',\n",
      "        'yanchor': 'bottom',\n",
      "        'y': -0.3,\n",
      "        'xanchor': 'center',\n",
      "        'x': 0.5,\n",
      "        'font': {'size': 14, 'color': '#444444', 'weight': 'bold'}\n",
      "    },\n",
      "    margin=dict(t=100, l=100, r=50, b=100)\n",
      ")\n",
      "\n",
      "fig.show()\n"
     ]
    }
   ],
   "source": [
    "print(chart_request['code'])"
   ]
  }
 ],
 "metadata": {
  "kernelspec": {
   "display_name": ".venv",
   "language": "python",
   "name": "python3"
  },
  "language_info": {
   "codemirror_mode": {
    "name": "ipython",
    "version": 3
   },
   "file_extension": ".py",
   "mimetype": "text/x-python",
   "name": "python",
   "nbconvert_exporter": "python",
   "pygments_lexer": "ipython3",
   "version": "3.12.8"
  }
 },
 "nbformat": 4,
 "nbformat_minor": 2
}
