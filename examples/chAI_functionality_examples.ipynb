{
 "cells": [
  {
   "cell_type": "code",
   "execution_count": null,
   "metadata": {},
   "outputs": [],
   "source": [
    "import logging\n",
    "\n",
    "import boto3\n",
    "\n",
    "boto3.setup_default_session()\n",
    "logger = logging.getLogger()\n",
    "logger.setLevel(logging.INFO)\n",
    "logging.debug(\"test\")"
   ]
  },
  {
   "cell_type": "markdown",
   "metadata": {},
   "source": [
    "# Getting started with chAI\n",
    "\n",
    "chAI is a powerful tool that leverages AWS Bedrock and Claude AI models to analyze data, generate visualisations, and provide insights. This notebook demonstrates how to initialise and use chAI in your data analysis workflow.\n",
    "\n",
    "## Initialising chAI\n",
    "There are two ways to initialise chAI:"
   ]
  },
  {
   "cell_type": "markdown",
   "metadata": {},
   "source": [
    "### Option 1: Specifying Parameters Directly\n",
    "You can provide configuration parameters explicitly when initializing the chAI object. For convenience, we've defined Enum values in the AWSRegion and LLMModel classes that represent commonly used AWS regions and Claude model variants:"
   ]
  },
  {
   "cell_type": "code",
   "execution_count": null,
   "metadata": {},
   "outputs": [
    {
     "name": "stderr",
     "output_type": "stream",
     "text": [
      "INFO:chai.chAI:chAI Start\n",
      "INFO:chai.config:Using user-specified variables: AWS_PROFILE: aws-prototype, LLM_REGION: us-east-1, LLM_MODEL: CLAUDE_SONNET_3_5\n",
      "INFO:chai.config:Loaded config for agent successfully.\n",
      "INFO:chai.bedrock:Initialising BedrockHandler\n",
      "INFO:botocore.credentials:Found credentials in shared credentials file: ~/.aws/credentials\n",
      "INFO:chai.bedrock:Creating ChatBedrock LLM instance\n",
      "INFO:chai.bedrock:Successfully created ChatBedrock LLM instance\n",
      "INFO:chai.chAI:Setting up chAI agent\n",
      "INFO:chai.chAI:chAI agent successfully set up\n"
     ]
    }
   ],
   "source": [
    "from chai import chAI\n",
    "from chai.constants import AWSRegion, LLMModel\n",
    "\n",
    "chai = chAI(\n",
    "    aws_profile=\"aws-prototype\",\n",
    "    llm_region=AWSRegion.US_EAST_1,\n",
    "    llm_model=LLMModel.CLAUDE_SONNET_3_7,\n",
    ")"
   ]
  },
  {
   "cell_type": "markdown",
   "metadata": {},
   "source": [
    "### Option 2: Using Environment Variables\n",
    "For an alternative configuration approach or where you wish to keep profile credentials out of your code, chAI can automatically load settings from environment variables. Simply create a .env file in your project directory with the following parameters:\n",
    "\n",
    "- AWS_PROFILE=your-aws-profile\n",
    "- LLM_REGION=your-aws-region\n",
    "- LLM_MODEL=your-chosen-model"
   ]
  },
  {
   "cell_type": "code",
   "execution_count": 28,
   "metadata": {},
   "outputs": [
    {
     "name": "stderr",
     "output_type": "stream",
     "text": [
      "INFO:chai.chAI:chAI Start\n",
      "INFO:chai.config:Using .env variables: AWS_PROFILE: aws-prototype, LLM_REGION: us-east-1, LLM_MODEL: CLAUDE_SONNET_3_5\n",
      "INFO:chai.config:Loaded config for agent successfully.\n",
      "INFO:chai.bedrock:Initialising BedrockHandler\n",
      "INFO:botocore.credentials:Found credentials in shared credentials file: ~/.aws/credentials\n",
      "INFO:chai.bedrock:Creating ChatBedrock LLM instance\n",
      "INFO:chai.bedrock:Successfully created ChatBedrock LLM instance\n",
      "INFO:chai.chAI:Setting up chAI agent\n",
      "INFO:chai.chAI:chAI agent successfully set up\n"
     ]
    }
   ],
   "source": [
    "from chai import chAI\n",
    "\n",
    "chai = chAI()"
   ]
  },
  {
   "cell_type": "markdown",
   "metadata": {},
   "source": [
    "For both approaches, for the LLM_MODEL variable you can use either the full model identifier (e.g., anthropic.claude-3-sonnet-20240229-v1:0) or one of the predefined Enum values from constants.py (e.g., CLAUDE_SONNET_3_5)."
   ]
  },
  {
   "cell_type": "markdown",
   "metadata": {},
   "source": [
    "## What Happens During Initialisation\n",
    "When you initialise chAI, several important steps occur:\n",
    "- Configuration Loading: chAI loads configuration either from your specified parameters or from environment variables.\n",
    "- AWS Authentication: chAI connects to AWS using the specified profile, automatically handling credentials from your ~/.aws/credentials file.\n",
    "- Bedrock Handler Setup: A connection to AWS Bedrock service is established.\n",
    "- LLM Instance Creation: chAI initialises a ChatBedrock LLM instance using the Claude model you specified to handle agentic functions.\n",
    "- Agent Setup: Finally, chAI sets up an agent with specialised tools for data analysis and visualisation."
   ]
  },
  {
   "cell_type": "markdown",
   "metadata": {},
   "source": [
    "# Functionality Examples"
   ]
  },
  {
   "cell_type": "markdown",
   "metadata": {},
   "source": [
    "## Intelligent Visualisation Recommendations\n",
    "\n",
    "Have a dataset but don't know where to start looking for insights? chAI can help! With its data analysis capabilities, chAI examines your dataset and provides tailored visualisation recommendations to uncover meaningful patterns and insights.\n",
    "\n",
    "Simply pass your DataFrame to the steep() method along with a prompt describing what you're looking for. \n",
    "\n",
    "When analysing your dataset, chAI delivers a comprehensive set of visualisation recommendations, each containing:\n",
    "- 📊 Visualisation Type: Specific chart recommendations tailored to your data\n",
    "- 🎯 Purpose: Clear explanation of what each visualisation aims to reveal\n",
    "- 📈 Chart Type: The most appropriate chart type for the analysis\n",
    "- 🔢 Variables: Which columns to use for x and y axes\n",
    "- 💡 Expected Insights: What patterns or relationships you might discover"
   ]
  },
  {
   "cell_type": "markdown",
   "metadata": {},
   "source": [
    "### Sample Data"
   ]
  },
  {
   "cell_type": "code",
   "execution_count": null,
   "metadata": {},
   "outputs": [],
   "source": [
    "import numpy as np\n",
    "import pandas as pd\n",
    "\n",
    "\n",
    "def create_sample_dataset():\n",
    "    \"\"\"Create a sample dataset for testing\"\"\"\n",
    "    np.random.seed(42)\n",
    "    dates = pd.date_range(start=\"2023-01-01\", periods=100, freq=\"D\")\n",
    "\n",
    "    sample_df = pd.DataFrame(\n",
    "        {\n",
    "            \"date\": dates,\n",
    "            \"sales\": np.random.normal(1000, 100, 100),\n",
    "            \"customers\": np.random.randint(50, 200, 100),\n",
    "            \"satisfaction_score\": np.random.uniform(3.5, 5.0, 100),\n",
    "            \"category\": np.random.choice([\"A\", \"B\", \"C\"], 100),\n",
    "        }\n",
    "    )\n",
    "\n",
    "    return sample_df\n",
    "\n",
    "\n",
    "sample_df = create_sample_dataset()"
   ]
  },
  {
   "cell_type": "markdown",
   "metadata": {},
   "source": [
    "### Call chAI"
   ]
  },
  {
   "cell_type": "code",
   "execution_count": 7,
   "metadata": {},
   "outputs": [
    {
     "name": "stderr",
     "output_type": "stream",
     "text": [
      "INFO:chai.chAI:Detected DataFrame input. Preparing to analyse...\n",
      "INFO:chai.requests:Parsing DataFrame into structured JSON dictionary\n",
      "INFO:chai.chAI:Sending prompt and data to agent executor...\n"
     ]
    }
   ],
   "source": [
    "response = chai.steep(\n",
    "    data=sample_df,\n",
    "    prompt=\"Analyse this dataset and suggest visualisations to explore trends and insights.\",\n",
    ")"
   ]
  },
  {
   "cell_type": "code",
   "execution_count": 8,
   "metadata": {},
   "outputs": [
    {
     "name": "stdout",
     "output_type": "stream",
     "text": [
      "📊 VISUALISATION SUGGESTIONS:\n",
      "\n",
      "\n",
      "📈 TIME SERIES ANALYSIS OF SALES AND CUSTOMERS\n",
      "Purpose: To analyze the trend of sales and customer count over time\n",
      "Chart Type: Line Chart\n",
      "Variables: date (x-axis), sales and customers (y-axis)\n",
      "Expected Insights: Identify any patterns, seasonality, or trends in sales and customer numbers over the given time period. This can help in understanding business performance and potential correlations between sales and customer count.\n",
      "\n",
      "--------------------------------------------------\n",
      "\n",
      "📈 CORRELATION BETWEEN SALES AND CUSTOMER SATISFACTION\n",
      "Purpose: To explore the relationship between sales and customer satisfaction scores\n",
      "Chart Type: Scatter Plot\n",
      "Variables: sales (x-axis), satisfaction_score (y-axis)\n",
      "Expected Insights: Determine if there's a correlation between sales performance and customer satisfaction. This can help in understanding if higher sales are associated with higher satisfaction scores or vice versa.\n",
      "\n",
      "--------------------------------------------------\n",
      "\n",
      "📈 SALES DISTRIBUTION BY CATEGORY\n",
      "Purpose: To compare sales performance across different categories\n",
      "Chart Type: Box Plot\n",
      "Variables: category (x-axis), sales (y-axis)\n",
      "Expected Insights: Visualize the distribution of sales for each category, including median, quartiles, and any outliers. This can help identify which categories are performing better or worse in terms of sales.\n",
      "\n",
      "--------------------------------------------------\n",
      "\n",
      "📈 CUSTOMER SATISFACTION BY CATEGORY\n",
      "Purpose: To compare customer satisfaction across different categories\n",
      "Chart Type: Bar Chart\n",
      "Variables: category (x-axis), average satisfaction_score (y-axis)\n",
      "Expected Insights: Understand which categories have higher or lower customer satisfaction scores on average. This can help identify areas for improvement or best practices.\n",
      "\n",
      "--------------------------------------------------\n",
      "\n",
      "📈 SALES VS\n",
      "Purpose: To examine the relationship between the number of customers and total sales\n",
      "Chart Type: Scatter Plot with Trend Line\n",
      "Variables: customers (x-axis), sales (y-axis)\n",
      "Expected Insights: Determine if there's a correlation between the number of customers and sales. This can help in understanding if sales are primarily driven by the number of customers or if there are other factors at play.\n"
     ]
    }
   ],
   "source": [
    "# Access the visualization suggestions\n",
    "print(response.suggestions)"
   ]
  },
  {
   "cell_type": "markdown",
   "metadata": {},
   "source": [
    "## Chart Analysis and Replication with chAI\n",
    "\n",
    "chAI's powerful image analysis capabilities allow you to extract insights from chart images AND recreate them as interactive Plotly visualisations. This feature is perfect for reproducing charts taken from reports, presentations, or publications with full interactivity. You can turn static charts into interactive ones, guide the analysis with specific prompts, or get production-ready Plotly code that you can modify and extend as required.\n",
    "\n",
    "When analysing chart images, chAI provides:\n",
    "- 📊 Comprehensive Analysis: Insights about the data represented in the chart\n",
    "- 💻 Plotly Code: Ready-to-use Python code that attempts to recreate as faithfully as possible the visualisation using Plotly Graph Objects\n",
    "- 🔄 Interactive Chart: An HTML file auto-generated with the interactive version of the chart and stored locally.\n",
    "\n",
    "Each of these components is stored in the `teapot` object as `analysis`, `code`, and `path` respectively."
   ]
  },
  {
   "cell_type": "markdown",
   "metadata": {},
   "source": [
    "### How to Analyse a Chart Image\n",
    "Simply provide an image path and a prompt describing what you want to learn:"
   ]
  },
  {
   "cell_type": "code",
   "execution_count": 18,
   "metadata": {},
   "outputs": [],
   "source": [
    "prompt = \"\"\"\n",
    "    Please analyse this chart and provide a comprehensive review with the following structure:\n",
    "\n",
    "    1. Key Findings:\n",
    "    - What are the most significant patterns or insights?\n",
    "    - What are the highest and lowest values?\n",
    "    - Are there any notable disparities or trends?\n",
    "\n",
    "    2. Comparative Analysis:\n",
    "    - Compare the different outcome groups\n",
    "    - Identify any significant gaps or differences\n",
    "    - Highlight any unexpected patterns\n",
    "\n",
    "    Please provide your analysis in clear, business-friendly language suitable for stakeholders.\n",
    "    \"\"\""
   ]
  },
  {
   "cell_type": "code",
   "execution_count": 19,
   "metadata": {},
   "outputs": [
    {
     "name": "stderr",
     "output_type": "stream",
     "text": [
      "INFO:chai.chAI:Detected image location input. Preparing to review...\n",
      "INFO:chai.requests:Encoding image to base64\n",
      "INFO:chai.chAI:Sending prompt and data to agent executor...\n"
     ]
    },
    {
     "data": {
      "application/vnd.plotly.v1+json": {
       "config": {
        "plotlyServerURL": "https://plot.ly"
       },
       "data": [
        {
         "marker": {
          "color": "orange"
         },
         "type": "bar",
         "x": [
          3.4,
          3.6,
          3.8,
          4,
          4.2,
          4.4,
          4.6,
          4.8,
          5
         ],
         "y": [
          7,
          7,
          12,
          12,
          17,
          13,
          12,
          12,
          16
         ]
        }
       ],
       "layout": {
        "bargap": 0,
        "template": {
         "data": {
          "bar": [
           {
            "error_x": {
             "color": "#2a3f5f"
            },
            "error_y": {
             "color": "#2a3f5f"
            },
            "marker": {
             "line": {
              "color": "white",
              "width": 0.5
             },
             "pattern": {
              "fillmode": "overlay",
              "size": 10,
              "solidity": 0.2
             }
            },
            "type": "bar"
           }
          ],
          "barpolar": [
           {
            "marker": {
             "line": {
              "color": "white",
              "width": 0.5
             },
             "pattern": {
              "fillmode": "overlay",
              "size": 10,
              "solidity": 0.2
             }
            },
            "type": "barpolar"
           }
          ],
          "carpet": [
           {
            "aaxis": {
             "endlinecolor": "#2a3f5f",
             "gridcolor": "#C8D4E3",
             "linecolor": "#C8D4E3",
             "minorgridcolor": "#C8D4E3",
             "startlinecolor": "#2a3f5f"
            },
            "baxis": {
             "endlinecolor": "#2a3f5f",
             "gridcolor": "#C8D4E3",
             "linecolor": "#C8D4E3",
             "minorgridcolor": "#C8D4E3",
             "startlinecolor": "#2a3f5f"
            },
            "type": "carpet"
           }
          ],
          "choropleth": [
           {
            "colorbar": {
             "outlinewidth": 0,
             "ticks": ""
            },
            "type": "choropleth"
           }
          ],
          "contour": [
           {
            "colorbar": {
             "outlinewidth": 0,
             "ticks": ""
            },
            "colorscale": [
             [
              0,
              "#0d0887"
             ],
             [
              0.1111111111111111,
              "#46039f"
             ],
             [
              0.2222222222222222,
              "#7201a8"
             ],
             [
              0.3333333333333333,
              "#9c179e"
             ],
             [
              0.4444444444444444,
              "#bd3786"
             ],
             [
              0.5555555555555556,
              "#d8576b"
             ],
             [
              0.6666666666666666,
              "#ed7953"
             ],
             [
              0.7777777777777778,
              "#fb9f3a"
             ],
             [
              0.8888888888888888,
              "#fdca26"
             ],
             [
              1,
              "#f0f921"
             ]
            ],
            "type": "contour"
           }
          ],
          "contourcarpet": [
           {
            "colorbar": {
             "outlinewidth": 0,
             "ticks": ""
            },
            "type": "contourcarpet"
           }
          ],
          "heatmap": [
           {
            "colorbar": {
             "outlinewidth": 0,
             "ticks": ""
            },
            "colorscale": [
             [
              0,
              "#0d0887"
             ],
             [
              0.1111111111111111,
              "#46039f"
             ],
             [
              0.2222222222222222,
              "#7201a8"
             ],
             [
              0.3333333333333333,
              "#9c179e"
             ],
             [
              0.4444444444444444,
              "#bd3786"
             ],
             [
              0.5555555555555556,
              "#d8576b"
             ],
             [
              0.6666666666666666,
              "#ed7953"
             ],
             [
              0.7777777777777778,
              "#fb9f3a"
             ],
             [
              0.8888888888888888,
              "#fdca26"
             ],
             [
              1,
              "#f0f921"
             ]
            ],
            "type": "heatmap"
           }
          ],
          "histogram": [
           {
            "marker": {
             "pattern": {
              "fillmode": "overlay",
              "size": 10,
              "solidity": 0.2
             }
            },
            "type": "histogram"
           }
          ],
          "histogram2d": [
           {
            "colorbar": {
             "outlinewidth": 0,
             "ticks": ""
            },
            "colorscale": [
             [
              0,
              "#0d0887"
             ],
             [
              0.1111111111111111,
              "#46039f"
             ],
             [
              0.2222222222222222,
              "#7201a8"
             ],
             [
              0.3333333333333333,
              "#9c179e"
             ],
             [
              0.4444444444444444,
              "#bd3786"
             ],
             [
              0.5555555555555556,
              "#d8576b"
             ],
             [
              0.6666666666666666,
              "#ed7953"
             ],
             [
              0.7777777777777778,
              "#fb9f3a"
             ],
             [
              0.8888888888888888,
              "#fdca26"
             ],
             [
              1,
              "#f0f921"
             ]
            ],
            "type": "histogram2d"
           }
          ],
          "histogram2dcontour": [
           {
            "colorbar": {
             "outlinewidth": 0,
             "ticks": ""
            },
            "colorscale": [
             [
              0,
              "#0d0887"
             ],
             [
              0.1111111111111111,
              "#46039f"
             ],
             [
              0.2222222222222222,
              "#7201a8"
             ],
             [
              0.3333333333333333,
              "#9c179e"
             ],
             [
              0.4444444444444444,
              "#bd3786"
             ],
             [
              0.5555555555555556,
              "#d8576b"
             ],
             [
              0.6666666666666666,
              "#ed7953"
             ],
             [
              0.7777777777777778,
              "#fb9f3a"
             ],
             [
              0.8888888888888888,
              "#fdca26"
             ],
             [
              1,
              "#f0f921"
             ]
            ],
            "type": "histogram2dcontour"
           }
          ],
          "mesh3d": [
           {
            "colorbar": {
             "outlinewidth": 0,
             "ticks": ""
            },
            "type": "mesh3d"
           }
          ],
          "parcoords": [
           {
            "line": {
             "colorbar": {
              "outlinewidth": 0,
              "ticks": ""
             }
            },
            "type": "parcoords"
           }
          ],
          "pie": [
           {
            "automargin": true,
            "type": "pie"
           }
          ],
          "scatter": [
           {
            "fillpattern": {
             "fillmode": "overlay",
             "size": 10,
             "solidity": 0.2
            },
            "type": "scatter"
           }
          ],
          "scatter3d": [
           {
            "line": {
             "colorbar": {
              "outlinewidth": 0,
              "ticks": ""
             }
            },
            "marker": {
             "colorbar": {
              "outlinewidth": 0,
              "ticks": ""
             }
            },
            "type": "scatter3d"
           }
          ],
          "scattercarpet": [
           {
            "marker": {
             "colorbar": {
              "outlinewidth": 0,
              "ticks": ""
             }
            },
            "type": "scattercarpet"
           }
          ],
          "scattergeo": [
           {
            "marker": {
             "colorbar": {
              "outlinewidth": 0,
              "ticks": ""
             }
            },
            "type": "scattergeo"
           }
          ],
          "scattergl": [
           {
            "marker": {
             "colorbar": {
              "outlinewidth": 0,
              "ticks": ""
             }
            },
            "type": "scattergl"
           }
          ],
          "scattermap": [
           {
            "marker": {
             "colorbar": {
              "outlinewidth": 0,
              "ticks": ""
             }
            },
            "type": "scattermap"
           }
          ],
          "scattermapbox": [
           {
            "marker": {
             "colorbar": {
              "outlinewidth": 0,
              "ticks": ""
             }
            },
            "type": "scattermapbox"
           }
          ],
          "scatterpolar": [
           {
            "marker": {
             "colorbar": {
              "outlinewidth": 0,
              "ticks": ""
             }
            },
            "type": "scatterpolar"
           }
          ],
          "scatterpolargl": [
           {
            "marker": {
             "colorbar": {
              "outlinewidth": 0,
              "ticks": ""
             }
            },
            "type": "scatterpolargl"
           }
          ],
          "scatterternary": [
           {
            "marker": {
             "colorbar": {
              "outlinewidth": 0,
              "ticks": ""
             }
            },
            "type": "scatterternary"
           }
          ],
          "surface": [
           {
            "colorbar": {
             "outlinewidth": 0,
             "ticks": ""
            },
            "colorscale": [
             [
              0,
              "#0d0887"
             ],
             [
              0.1111111111111111,
              "#46039f"
             ],
             [
              0.2222222222222222,
              "#7201a8"
             ],
             [
              0.3333333333333333,
              "#9c179e"
             ],
             [
              0.4444444444444444,
              "#bd3786"
             ],
             [
              0.5555555555555556,
              "#d8576b"
             ],
             [
              0.6666666666666666,
              "#ed7953"
             ],
             [
              0.7777777777777778,
              "#fb9f3a"
             ],
             [
              0.8888888888888888,
              "#fdca26"
             ],
             [
              1,
              "#f0f921"
             ]
            ],
            "type": "surface"
           }
          ],
          "table": [
           {
            "cells": {
             "fill": {
              "color": "#EBF0F8"
             },
             "line": {
              "color": "white"
             }
            },
            "header": {
             "fill": {
              "color": "#C8D4E3"
             },
             "line": {
              "color": "white"
             }
            },
            "type": "table"
           }
          ]
         },
         "layout": {
          "annotationdefaults": {
           "arrowcolor": "#2a3f5f",
           "arrowhead": 0,
           "arrowwidth": 1
          },
          "autotypenumbers": "strict",
          "coloraxis": {
           "colorbar": {
            "outlinewidth": 0,
            "ticks": ""
           }
          },
          "colorscale": {
           "diverging": [
            [
             0,
             "#8e0152"
            ],
            [
             0.1,
             "#c51b7d"
            ],
            [
             0.2,
             "#de77ae"
            ],
            [
             0.3,
             "#f1b6da"
            ],
            [
             0.4,
             "#fde0ef"
            ],
            [
             0.5,
             "#f7f7f7"
            ],
            [
             0.6,
             "#e6f5d0"
            ],
            [
             0.7,
             "#b8e186"
            ],
            [
             0.8,
             "#7fbc41"
            ],
            [
             0.9,
             "#4d9221"
            ],
            [
             1,
             "#276419"
            ]
           ],
           "sequential": [
            [
             0,
             "#0d0887"
            ],
            [
             0.1111111111111111,
             "#46039f"
            ],
            [
             0.2222222222222222,
             "#7201a8"
            ],
            [
             0.3333333333333333,
             "#9c179e"
            ],
            [
             0.4444444444444444,
             "#bd3786"
            ],
            [
             0.5555555555555556,
             "#d8576b"
            ],
            [
             0.6666666666666666,
             "#ed7953"
            ],
            [
             0.7777777777777778,
             "#fb9f3a"
            ],
            [
             0.8888888888888888,
             "#fdca26"
            ],
            [
             1,
             "#f0f921"
            ]
           ],
           "sequentialminus": [
            [
             0,
             "#0d0887"
            ],
            [
             0.1111111111111111,
             "#46039f"
            ],
            [
             0.2222222222222222,
             "#7201a8"
            ],
            [
             0.3333333333333333,
             "#9c179e"
            ],
            [
             0.4444444444444444,
             "#bd3786"
            ],
            [
             0.5555555555555556,
             "#d8576b"
            ],
            [
             0.6666666666666666,
             "#ed7953"
            ],
            [
             0.7777777777777778,
             "#fb9f3a"
            ],
            [
             0.8888888888888888,
             "#fdca26"
            ],
            [
             1,
             "#f0f921"
            ]
           ]
          },
          "colorway": [
           "#636efa",
           "#EF553B",
           "#00cc96",
           "#ab63fa",
           "#FFA15A",
           "#19d3f3",
           "#FF6692",
           "#B6E880",
           "#FF97FF",
           "#FECB52"
          ],
          "font": {
           "color": "#2a3f5f"
          },
          "geo": {
           "bgcolor": "white",
           "lakecolor": "white",
           "landcolor": "white",
           "showlakes": true,
           "showland": true,
           "subunitcolor": "#C8D4E3"
          },
          "hoverlabel": {
           "align": "left"
          },
          "hovermode": "closest",
          "mapbox": {
           "style": "light"
          },
          "paper_bgcolor": "white",
          "plot_bgcolor": "white",
          "polar": {
           "angularaxis": {
            "gridcolor": "#EBF0F8",
            "linecolor": "#EBF0F8",
            "ticks": ""
           },
           "bgcolor": "white",
           "radialaxis": {
            "gridcolor": "#EBF0F8",
            "linecolor": "#EBF0F8",
            "ticks": ""
           }
          },
          "scene": {
           "xaxis": {
            "backgroundcolor": "white",
            "gridcolor": "#DFE8F3",
            "gridwidth": 2,
            "linecolor": "#EBF0F8",
            "showbackground": true,
            "ticks": "",
            "zerolinecolor": "#EBF0F8"
           },
           "yaxis": {
            "backgroundcolor": "white",
            "gridcolor": "#DFE8F3",
            "gridwidth": 2,
            "linecolor": "#EBF0F8",
            "showbackground": true,
            "ticks": "",
            "zerolinecolor": "#EBF0F8"
           },
           "zaxis": {
            "backgroundcolor": "white",
            "gridcolor": "#DFE8F3",
            "gridwidth": 2,
            "linecolor": "#EBF0F8",
            "showbackground": true,
            "ticks": "",
            "zerolinecolor": "#EBF0F8"
           }
          },
          "shapedefaults": {
           "line": {
            "color": "#2a3f5f"
           }
          },
          "ternary": {
           "aaxis": {
            "gridcolor": "#DFE8F3",
            "linecolor": "#A2B1C6",
            "ticks": ""
           },
           "baxis": {
            "gridcolor": "#DFE8F3",
            "linecolor": "#A2B1C6",
            "ticks": ""
           },
           "bgcolor": "white",
           "caxis": {
            "gridcolor": "#DFE8F3",
            "linecolor": "#A2B1C6",
            "ticks": ""
           }
          },
          "title": {
           "x": 0.05
          },
          "xaxis": {
           "automargin": true,
           "gridcolor": "#EBF0F8",
           "linecolor": "#EBF0F8",
           "ticks": "",
           "title": {
            "standoff": 15
           },
           "zerolinecolor": "#EBF0F8",
           "zerolinewidth": 2
          },
          "yaxis": {
           "automargin": true,
           "gridcolor": "#EBF0F8",
           "linecolor": "#EBF0F8",
           "ticks": "",
           "title": {
            "standoff": 15
           },
           "zerolinecolor": "#EBF0F8",
           "zerolinewidth": 2
          }
         }
        },
        "title": {
         "text": "Satisfaction Score Distribution"
        },
        "xaxis": {
         "title": {
          "text": "Satisfaction Score"
         }
        },
        "yaxis": {
         "title": {
          "text": "Count"
         }
        }
       }
      }
     },
     "metadata": {},
     "output_type": "display_data"
    }
   ],
   "source": [
    "image_analysis = chai.steep(prompt=prompt, image_path=\"../tests/img/satisfaction.png\")"
   ]
  },
  {
   "cell_type": "code",
   "execution_count": 20,
   "metadata": {},
   "outputs": [
    {
     "name": "stdout",
     "output_type": "stream",
     "text": [
      "## Insights\n",
      "1. The distribution of satisfaction scores is somewhat bimodal, with peaks around 4.2-4.4 and at 5.0.\n",
      "2. The highest frequency is in the 4.2-4.4 range, with about 17 counts.\n",
      "3. The lowest frequency is in the 3.4-3.6 range, with about 7 counts.\n",
      "4. There's a notable increase in frequency for the highest satisfaction score of 5.0.\n",
      "5. The distribution is generally skewed towards higher satisfaction scores, with most counts occurring above 4.0.\n"
     ]
    }
   ],
   "source": [
    "# Access the analysis\n",
    "print(image_analysis.analysis)"
   ]
  },
  {
   "cell_type": "code",
   "execution_count": 21,
   "metadata": {},
   "outputs": [
    {
     "name": "stdout",
     "output_type": "stream",
     "text": [
      "import plotly.graph_objects as go\n",
      "\n",
      "satisfaction_scores = [3.4, 3.6, 3.8, 4.0, 4.2, 4.4, 4.6, 4.8, 5.0]\n",
      "counts = [7, 7, 12, 12, 17, 13, 12, 12, 16]\n",
      "\n",
      "fig = go.Figure(data=[go.Bar(\n",
      "    x=satisfaction_scores,\n",
      "    y=counts,\n",
      "    marker_color='orange'\n",
      ")])\n",
      "\n",
      "fig.update_layout(\n",
      "    title='Satisfaction Score Distribution',\n",
      "    xaxis_title='Satisfaction Score',\n",
      "    yaxis_title='Count',\n",
      "    template='plotly_white',\n",
      "    bargap=0\n",
      ")\n",
      "\n",
      "fig.show()\n"
     ]
    }
   ],
   "source": [
    "# View the generated Plotly code\n",
    "print(image_analysis.code)"
   ]
  },
  {
   "cell_type": "code",
   "execution_count": 22,
   "metadata": {},
   "outputs": [
    {
     "name": "stdout",
     "output_type": "stream",
     "text": [
      "/Users/jose.orjales/gds-ideas-chai/examples/plotly_visualisations/visualisation_1742559196.html\n"
     ]
    }
   ],
   "source": [
    "# View the path to the locally generated chart\n",
    "print(image_analysis.path)"
   ]
  },
  {
   "cell_type": "code",
   "execution_count": 23,
   "metadata": {},
   "outputs": [
    {
     "name": "stdout",
     "output_type": "stream",
     "text": [
      "{\"analysis\": \"## Insights\\n1. The distribution of satisfaction scores is somewhat bimodal, with peaks around 4.2-4.4 and at 5.0.\\n2. The highest frequency is in the 4.2-4.4 range, with about 17 counts.\\n3. The lowest frequency is in the 3.4-3.6 range, with about 7 counts.\\n4. There's a notable increase in frequency for the highest satisfaction score of 5.0.\\n5. The distribution is generally skewed towards higher satisfaction scores, with most counts occurring above 4.0.\", \"path\": \"/Users/jose.orjales/gds-ideas-chai/examples/plotly_visualisations/visualisation_1742559196.html\", \"code\": \"import plotly.graph_objects as go\\n\\nsatisfaction_scores = [3.4, 3.6, 3.8, 4.0, 4.2, 4.4, 4.6, 4.8, 5.0]\\ncounts = [7, 7, 12, 12, 17, 13, 12, 12, 16]\\n\\nfig = go.Figure(data=[go.Bar(\\n    x=satisfaction_scores,\\n    y=counts,\\n    marker_color='orange'\\n)])\\n\\nfig.update_layout(\\n    title='Satisfaction Score Distribution',\\n    xaxis_title='Satisfaction Score',\\n    yaxis_title='Count',\\n    template='plotly_white',\\n    bargap=0\\n)\\n\\nfig.show()\"}\n"
     ]
    }
   ],
   "source": [
    "print(image_analysis)"
   ]
  },
  {
   "cell_type": "markdown",
   "metadata": {},
   "source": [
    "## Chart Template Generation\n",
    "\n",
    "The chAI library provides a powerful and intuitive way to generate data visualisations through natural language prompts. You can simply describe how you wish a chart to be structured, coloured, and more, alongside the chart_type parameter, and chAI will output plotly code and a copy of the generated chart locally. Using a back-end library of \"typical\" chart templates upon which to base its responses, you can get production-ready Plotly code that you can modify further and extend as required in seconds.\n",
    "\n",
    "When generating charts, chAI provides:\n",
    "- 💻 Plotly Code: Ready-to-use Python code that attempts to recreate as faithfully as possible your requirements using Plotly Graph Objects\n",
    "- 🔄 Interactive Chart: An HTML file auto-generated with the interactive version of the chart and stored locally.\n",
    "\n",
    "Each of these components is stored in the `teapot` object as `code` and `path` respectively."
   ]
  },
  {
   "cell_type": "markdown",
   "metadata": {},
   "source": [
    "### How to generate a chart"
   ]
  },
  {
   "cell_type": "code",
   "execution_count": 14,
   "metadata": {},
   "outputs": [
    {
     "name": "stderr",
     "output_type": "stream",
     "text": [
      "INFO:chai.chAI:Processing chart type request: scatter\n",
      "INFO:chai.chAI:Sending prompt and data to agent executor...\n"
     ]
    },
    {
     "data": {
      "application/vnd.plotly.v1+json": {
       "config": {
        "plotlyServerURL": "https://plot.ly"
       },
       "data": [
        {
         "hovertemplate": "x: %{x:.2f}<br>y: %{y:.2f}<extra></extra>",
         "marker": {
          "color": "#ff0000",
          "line": {
           "color": "#444444",
           "width": 1
          },
          "opacity": 0.7,
          "size": 10
         },
         "mode": "markers",
         "name": "Series 1",
         "type": "scatter",
         "x": {
          "bdata": "Zyb35ZT2DUD0ZXVBqAMjQCUB5jKeRx1A3Pf7S0PyF0DlqeoEhvb4Px/f/xmJ9fg/ZrVeojWW4j/RktVl0lIhQJjetu9qCxhAIiNBx6lSHEAgngaJIFnKP0cUzj3wZSNAeqzYNxumIEBf/gF6tPwAQIYf2PeMF/0/WoFZrD9Y/T8C1R2S4VYIQHwLCYCB/RRAGIUd8x1HEUBSbD9vX0wHQHHS/6ZfeRhAm+3uJKtR9j9p0LxVH18HQAblUy4XTw1A6vlzGSg+EkC6iBesM2gfQJE0pluj8v8/GInqucKRFEDddFU/U7IXQEyUy4Rvut0/LMtmYEJNGEBhjgIJq0j7P0jVh8gG0eQ/VgJbQEv6IkAkgeg3CVAjQKOqdpL+KiBApN8ocH1eCEBMWjyxTEHvPzmDNNOLXhtAypNqWimbEUDOLjOkr4bzP099Ko+czhNAAILeHTcC1j9fR/pvuC8iQDyG0mPQswRA1NzGajqAGkAmZkDE1+8IQFIqCh1/zRRAC6jWMVDeFUDzUqB0o5P9Pw==",
          "dtype": "f8"
         },
         "y": {
          "bdata": "66ZECHvvIUCs9svWZVszQGA4C7Ix0SxA3uwGxe69JkDwHZ+D9efEPxcYV3sb4vo/zO9q6kDFzj8di7CFEXAzQLDixmhIaylAzt09YU9FJUCkU3h6LfXwP83DnLzGoDJAylE8ZQuXLkCdecQDa+EVQC2OZilDyxZAtOfk02IfFkCtD9rkKaARQN/YwVTfwCNA4Xmuq1SaIkBShsUJShofQAxMPQCzjiZA2T/fmDVZA0CiMj1esgoNQAxqBmdCvRNAoFRd3i5+JUAdPtztfmoyQFGC00Wvyw5AMimu2mCVKEAh/yf2oyQpQCQCbbJpHte/xRnxEFS/KUBAdwmiO/IZQLODPSKKq/M/PD2COWQbNkCYUun5cyUsQC9AKPrOzzFAFT3jK8MQGUBo40vU1K/1P2KdrVyCvCtAIxnfLMhPE0A2YdH46AIAQOwFKXpLPCVAt4NJAQImDUCcUy65XSYxQFLTrcoJeAxAAO6T0W1+KEDlE1kOSyEgQKo2jD4jHiZArAxfvNa/I0B6wAqv/eQSQA==",
          "dtype": "f8"
         }
        },
        {
         "hovertemplate": "x: %{x:.2f}<br>y: %{y:.2f}<extra></extra>",
         "marker": {
          "color": "#ff3333",
          "line": {
           "color": "#444444",
           "width": 1
          },
          "opacity": 0.7,
          "size": 10
         },
         "mode": "markers",
         "name": "Series 2",
         "type": "scatter",
         "x": {
          "bdata": "Zyb35ZT2DUD0ZXVBqAMjQCUB5jKeRx1A3Pf7S0PyF0DlqeoEhvb4Px/f/xmJ9fg/ZrVeojWW4j/RktVl0lIhQJjetu9qCxhAIiNBx6lSHEAgngaJIFnKP0cUzj3wZSNAeqzYNxumIEBf/gF6tPwAQIYf2PeMF/0/WoFZrD9Y/T8C1R2S4VYIQHwLCYCB/RRAGIUd8x1HEUBSbD9vX0wHQHHS/6ZfeRhAm+3uJKtR9j9p0LxVH18HQAblUy4XTw1A6vlzGSg+EkC6iBesM2gfQJE0pluj8v8/GInqucKRFEDddFU/U7IXQEyUy4Rvut0/LMtmYEJNGEBhjgIJq0j7P0jVh8gG0eQ/VgJbQEv6IkAkgeg3CVAjQKOqdpL+KiBApN8ocH1eCEBMWjyxTEHvPzmDNNOLXhtAypNqWimbEUDOLjOkr4bzP099Ko+czhNAAILeHTcC1j9fR/pvuC8iQDyG0mPQswRA1NzGajqAGkAmZkDE1+8IQFIqCh1/zRRAC6jWMVDeFUDzUqB0o5P9Pw==",
          "dtype": "f8"
         },
         "y": {
          "bdata": "66ZECHvvJUCs9svWZVs1QDCcBdmYaDBA3uwGxe69KkDf8TlYf04BQAyMq70NcQ1A/a6mDlTsAUAdi7CFEXA1QLDixmhIay1Azt09YU9FKUDSKTy9lnoIQM3DnLzGoDRA5SiesoVLMUCdecQDa+EdQC2OZilDyx5AtOfk02IfHkCtD9rkKaAZQN/YwVTfwCdA4Xmuq1SaJkApw+IEJY0jQAxMPQCzjipA7J9vzJqsEUBRmR4vWYUWQAxqBmdCvRtAoFRd3i5+KUAdPtztfmo0QCjB6aLXZRdAMimu2mCVLEAh/yf2oyQtQHe/ZJNlOPo/xRnxEFS/LUCguwTRHfkgQNrBHhHF1QlAPD2COWQbOEBMqfT8uRIwQC9AKPrOzzNAip7xlWGIIEC08SVq6tcKQGKdrVyCvC9AIxnfLMhPG0CbsGh8dAEQQOwFKXpLPClA3MGkAAGTFkCcUy65XSYzQKnpVuUEPBZAAO6T0W1+LEDlE1kOSyEkQKo2jD4jHipArAxfvNa/J0B6wAqv/eQaQA==",
          "dtype": "f8"
         }
        },
        {
         "hovertemplate": "x: %{x:.2f}<br>y: %{y:.2f}<extra></extra>",
         "marker": {
          "color": "#ff6666",
          "line": {
           "color": "#444444",
           "width": 1
          },
          "opacity": 0.7,
          "size": 10
         },
         "mode": "markers",
         "name": "Series 3",
         "type": "scatter",
         "x": {
          "bdata": "Zyb35ZT2DUD0ZXVBqAMjQCUB5jKeRx1A3Pf7S0PyF0DlqeoEhvb4Px/f/xmJ9fg/ZrVeojWW4j/RktVl0lIhQJjetu9qCxhAIiNBx6lSHEAgngaJIFnKP0cUzj3wZSNAeqzYNxumIEBf/gF6tPwAQIYf2PeMF/0/WoFZrD9Y/T8C1R2S4VYIQHwLCYCB/RRAGIUd8x1HEUBSbD9vX0wHQHHS/6ZfeRhAm+3uJKtR9j9p0LxVH18HQAblUy4XTw1A6vlzGSg+EkC6iBesM2gfQJE0pluj8v8/GInqucKRFEDddFU/U7IXQEyUy4Rvut0/LMtmYEJNGEBhjgIJq0j7P0jVh8gG0eQ/VgJbQEv6IkAkgeg3CVAjQKOqdpL+KiBApN8ocH1eCEBMWjyxTEHvPzmDNNOLXhtAypNqWimbEUDOLjOkr4bzP099Ko+czhNAAILeHTcC1j9fR/pvuC8iQDyG0mPQswRA1NzGajqAGkAmZkDE1+8IQFIqCh1/zRRAC6jWMVDeFUDzUqB0o5P9Pw==",
          "dtype": "f8"
         },
         "y": {
          "bdata": "1k2JEPbeG0Cs9svWZVsxQGA4C7Ix0ShA3uwGxe69IkBCHIxPAWP9v6SfoxKSd9S/BqKy4lcn/L8di7CFEXAxQLDixmhIayVAzt09YU9FIUC4WA8LpRXuv83DnLzGoDBAylE8ZQuXKkA684gH1sILQFoczVKGlg1AaM/Jp8U+DEBaH7TJU0ADQL6xg6m+gR9AwvNcV6k0HUBShsUJShoXQAxMPQCzjiJAyP75xqzJ2j9EZXq8ZBX6PxjUDM6EegdAoFRd3i5+IUAdPtztfmowQKIEp4tel/0/Mimu2mCVJEAh/yf2oyQlQESgTTbN4wLAxRnxEFS/JUBAdwmiO/IRQJr4hLvrqOi/PD2COWQbNECYUun5cyUoQF6AUPSdny9AFT3jK8MQEUAwOWhXVqDkv2KdrVyCvCdARjK+WZCfBkAAsAmLxkdXP+wFKXpLPCFAbgeTAgRM+j84p1xyu0wuQKSmW5UT8Pg/AO6T0W1+JEDKJ7IclkIYQKo2jD4jHiJAWBm+eK1/H0D0gBVe+8kFQA==",
          "dtype": "f8"
         }
        },
        {
         "hovertemplate": "x: %{x:.2f}<br>y: %{y:.2f}<extra></extra>",
         "marker": {
          "color": "#ff9999",
          "line": {
           "color": "#444444",
           "width": 1
          },
          "opacity": 0.7,
          "size": 10
         },
         "mode": "markers",
         "name": "Series 4",
         "type": "scatter",
         "x": {
          "bdata": "Zyb35ZT2DUD0ZXVBqAMjQCUB5jKeRx1A3Pf7S0PyF0DlqeoEhvb4Px/f/xmJ9fg/ZrVeojWW4j/RktVl0lIhQJjetu9qCxhAIiNBx6lSHEAgngaJIFnKP0cUzj3wZSNAeqzYNxumIEBf/gF6tPwAQIYf2PeMF/0/WoFZrD9Y/T8C1R2S4VYIQHwLCYCB/RRAGIUd8x1HEUBSbD9vX0wHQHHS/6ZfeRhAm+3uJKtR9j9p0LxVH18HQAblUy4XTw1A6vlzGSg+EkC6iBesM2gfQJE0pluj8v8/GInqucKRFEDddFU/U7IXQEyUy4Rvut0/LMtmYEJNGEBhjgIJq0j7P0jVh8gG0eQ/VgJbQEv6IkAkgeg3CVAjQKOqdpL+KiBApN8ocH1eCEBMWjyxTEHvPzmDNNOLXhtAypNqWimbEUDOLjOkr4bzP099Ko+czhNAAILeHTcC1j9fR/pvuC8iQDyG0mPQswRA1NzGajqAGkAmZkDE1+8IQFIqCh1/zRRAC6jWMVDeFUDzUqB0o5P9Pw==",
          "dtype": "f8"
         },
         "y": {
          "bdata": "Eguhc16yHEB6V0bxovguQBotPFvBDSdAGFfS0IsxIkDA5Bg2kbnAP3lG35WvgfU/pIxViM2dyD/IEbSitRkvQCeCBYfTVSRAC0v+gD8EIUCgUo1d4iHrP0g5YccKzi1A1aeW6tV4KEDk+mlpIoERQL5xuLo1PBJAXblQdrWyEUB8f/Y6djMMQJj0Au7+mh9AnFxKrLrDHUAPBZ7U1OEYQApwl2bCCyJAwv8xjiL1/j8cwv3kwTsHQHp2PQs3lQ9AGqpKGL8xIUCVlpN8MXctQKjOQp7yoghAwu0k4rOqI0BO/x/4Tx0kQLcBJPW6ftK/OK6NDRCZJEAA+W1OycEUQIWflQPdeO8/yv00YYOvMUCt2+3HXIQmQLJmQJCxfyxAq/3o72gNFEDttTwQd1nxP+h9JEpoMCZAOCiYFA3mDkC9zhuOQZ75P/A3hy4J/SBAxs86NJtRB0At7Bb1lXArQKhCvjtuxgZAZ77c2leYI0AIU1t93s4ZQO9eo8u1sSFAekfLk1eZH0Bdmnd+LzsOQA==",
          "dtype": "f8"
         }
        }
       ],
       "layout": {
        "legend": {
         "orientation": "h",
         "x": 0.5,
         "xanchor": "center",
         "y": -0.3,
         "yanchor": "bottom"
        },
        "margin": {
         "b": 100,
         "l": 100,
         "r": 50,
         "t": 100
        },
        "showlegend": true,
        "template": {
         "data": {
          "bar": [
           {
            "error_x": {
             "color": "#2a3f5f"
            },
            "error_y": {
             "color": "#2a3f5f"
            },
            "marker": {
             "line": {
              "color": "white",
              "width": 0.5
             },
             "pattern": {
              "fillmode": "overlay",
              "size": 10,
              "solidity": 0.2
             }
            },
            "type": "bar"
           }
          ],
          "barpolar": [
           {
            "marker": {
             "line": {
              "color": "white",
              "width": 0.5
             },
             "pattern": {
              "fillmode": "overlay",
              "size": 10,
              "solidity": 0.2
             }
            },
            "type": "barpolar"
           }
          ],
          "carpet": [
           {
            "aaxis": {
             "endlinecolor": "#2a3f5f",
             "gridcolor": "#C8D4E3",
             "linecolor": "#C8D4E3",
             "minorgridcolor": "#C8D4E3",
             "startlinecolor": "#2a3f5f"
            },
            "baxis": {
             "endlinecolor": "#2a3f5f",
             "gridcolor": "#C8D4E3",
             "linecolor": "#C8D4E3",
             "minorgridcolor": "#C8D4E3",
             "startlinecolor": "#2a3f5f"
            },
            "type": "carpet"
           }
          ],
          "choropleth": [
           {
            "colorbar": {
             "outlinewidth": 0,
             "ticks": ""
            },
            "type": "choropleth"
           }
          ],
          "contour": [
           {
            "colorbar": {
             "outlinewidth": 0,
             "ticks": ""
            },
            "colorscale": [
             [
              0,
              "#0d0887"
             ],
             [
              0.1111111111111111,
              "#46039f"
             ],
             [
              0.2222222222222222,
              "#7201a8"
             ],
             [
              0.3333333333333333,
              "#9c179e"
             ],
             [
              0.4444444444444444,
              "#bd3786"
             ],
             [
              0.5555555555555556,
              "#d8576b"
             ],
             [
              0.6666666666666666,
              "#ed7953"
             ],
             [
              0.7777777777777778,
              "#fb9f3a"
             ],
             [
              0.8888888888888888,
              "#fdca26"
             ],
             [
              1,
              "#f0f921"
             ]
            ],
            "type": "contour"
           }
          ],
          "contourcarpet": [
           {
            "colorbar": {
             "outlinewidth": 0,
             "ticks": ""
            },
            "type": "contourcarpet"
           }
          ],
          "heatmap": [
           {
            "colorbar": {
             "outlinewidth": 0,
             "ticks": ""
            },
            "colorscale": [
             [
              0,
              "#0d0887"
             ],
             [
              0.1111111111111111,
              "#46039f"
             ],
             [
              0.2222222222222222,
              "#7201a8"
             ],
             [
              0.3333333333333333,
              "#9c179e"
             ],
             [
              0.4444444444444444,
              "#bd3786"
             ],
             [
              0.5555555555555556,
              "#d8576b"
             ],
             [
              0.6666666666666666,
              "#ed7953"
             ],
             [
              0.7777777777777778,
              "#fb9f3a"
             ],
             [
              0.8888888888888888,
              "#fdca26"
             ],
             [
              1,
              "#f0f921"
             ]
            ],
            "type": "heatmap"
           }
          ],
          "histogram": [
           {
            "marker": {
             "pattern": {
              "fillmode": "overlay",
              "size": 10,
              "solidity": 0.2
             }
            },
            "type": "histogram"
           }
          ],
          "histogram2d": [
           {
            "colorbar": {
             "outlinewidth": 0,
             "ticks": ""
            },
            "colorscale": [
             [
              0,
              "#0d0887"
             ],
             [
              0.1111111111111111,
              "#46039f"
             ],
             [
              0.2222222222222222,
              "#7201a8"
             ],
             [
              0.3333333333333333,
              "#9c179e"
             ],
             [
              0.4444444444444444,
              "#bd3786"
             ],
             [
              0.5555555555555556,
              "#d8576b"
             ],
             [
              0.6666666666666666,
              "#ed7953"
             ],
             [
              0.7777777777777778,
              "#fb9f3a"
             ],
             [
              0.8888888888888888,
              "#fdca26"
             ],
             [
              1,
              "#f0f921"
             ]
            ],
            "type": "histogram2d"
           }
          ],
          "histogram2dcontour": [
           {
            "colorbar": {
             "outlinewidth": 0,
             "ticks": ""
            },
            "colorscale": [
             [
              0,
              "#0d0887"
             ],
             [
              0.1111111111111111,
              "#46039f"
             ],
             [
              0.2222222222222222,
              "#7201a8"
             ],
             [
              0.3333333333333333,
              "#9c179e"
             ],
             [
              0.4444444444444444,
              "#bd3786"
             ],
             [
              0.5555555555555556,
              "#d8576b"
             ],
             [
              0.6666666666666666,
              "#ed7953"
             ],
             [
              0.7777777777777778,
              "#fb9f3a"
             ],
             [
              0.8888888888888888,
              "#fdca26"
             ],
             [
              1,
              "#f0f921"
             ]
            ],
            "type": "histogram2dcontour"
           }
          ],
          "mesh3d": [
           {
            "colorbar": {
             "outlinewidth": 0,
             "ticks": ""
            },
            "type": "mesh3d"
           }
          ],
          "parcoords": [
           {
            "line": {
             "colorbar": {
              "outlinewidth": 0,
              "ticks": ""
             }
            },
            "type": "parcoords"
           }
          ],
          "pie": [
           {
            "automargin": true,
            "type": "pie"
           }
          ],
          "scatter": [
           {
            "fillpattern": {
             "fillmode": "overlay",
             "size": 10,
             "solidity": 0.2
            },
            "type": "scatter"
           }
          ],
          "scatter3d": [
           {
            "line": {
             "colorbar": {
              "outlinewidth": 0,
              "ticks": ""
             }
            },
            "marker": {
             "colorbar": {
              "outlinewidth": 0,
              "ticks": ""
             }
            },
            "type": "scatter3d"
           }
          ],
          "scattercarpet": [
           {
            "marker": {
             "colorbar": {
              "outlinewidth": 0,
              "ticks": ""
             }
            },
            "type": "scattercarpet"
           }
          ],
          "scattergeo": [
           {
            "marker": {
             "colorbar": {
              "outlinewidth": 0,
              "ticks": ""
             }
            },
            "type": "scattergeo"
           }
          ],
          "scattergl": [
           {
            "marker": {
             "colorbar": {
              "outlinewidth": 0,
              "ticks": ""
             }
            },
            "type": "scattergl"
           }
          ],
          "scattermap": [
           {
            "marker": {
             "colorbar": {
              "outlinewidth": 0,
              "ticks": ""
             }
            },
            "type": "scattermap"
           }
          ],
          "scattermapbox": [
           {
            "marker": {
             "colorbar": {
              "outlinewidth": 0,
              "ticks": ""
             }
            },
            "type": "scattermapbox"
           }
          ],
          "scatterpolar": [
           {
            "marker": {
             "colorbar": {
              "outlinewidth": 0,
              "ticks": ""
             }
            },
            "type": "scatterpolar"
           }
          ],
          "scatterpolargl": [
           {
            "marker": {
             "colorbar": {
              "outlinewidth": 0,
              "ticks": ""
             }
            },
            "type": "scatterpolargl"
           }
          ],
          "scatterternary": [
           {
            "marker": {
             "colorbar": {
              "outlinewidth": 0,
              "ticks": ""
             }
            },
            "type": "scatterternary"
           }
          ],
          "surface": [
           {
            "colorbar": {
             "outlinewidth": 0,
             "ticks": ""
            },
            "colorscale": [
             [
              0,
              "#0d0887"
             ],
             [
              0.1111111111111111,
              "#46039f"
             ],
             [
              0.2222222222222222,
              "#7201a8"
             ],
             [
              0.3333333333333333,
              "#9c179e"
             ],
             [
              0.4444444444444444,
              "#bd3786"
             ],
             [
              0.5555555555555556,
              "#d8576b"
             ],
             [
              0.6666666666666666,
              "#ed7953"
             ],
             [
              0.7777777777777778,
              "#fb9f3a"
             ],
             [
              0.8888888888888888,
              "#fdca26"
             ],
             [
              1,
              "#f0f921"
             ]
            ],
            "type": "surface"
           }
          ],
          "table": [
           {
            "cells": {
             "fill": {
              "color": "#EBF0F8"
             },
             "line": {
              "color": "white"
             }
            },
            "header": {
             "fill": {
              "color": "#C8D4E3"
             },
             "line": {
              "color": "white"
             }
            },
            "type": "table"
           }
          ]
         },
         "layout": {
          "annotationdefaults": {
           "arrowcolor": "#2a3f5f",
           "arrowhead": 0,
           "arrowwidth": 1
          },
          "autotypenumbers": "strict",
          "coloraxis": {
           "colorbar": {
            "outlinewidth": 0,
            "ticks": ""
           }
          },
          "colorscale": {
           "diverging": [
            [
             0,
             "#8e0152"
            ],
            [
             0.1,
             "#c51b7d"
            ],
            [
             0.2,
             "#de77ae"
            ],
            [
             0.3,
             "#f1b6da"
            ],
            [
             0.4,
             "#fde0ef"
            ],
            [
             0.5,
             "#f7f7f7"
            ],
            [
             0.6,
             "#e6f5d0"
            ],
            [
             0.7,
             "#b8e186"
            ],
            [
             0.8,
             "#7fbc41"
            ],
            [
             0.9,
             "#4d9221"
            ],
            [
             1,
             "#276419"
            ]
           ],
           "sequential": [
            [
             0,
             "#0d0887"
            ],
            [
             0.1111111111111111,
             "#46039f"
            ],
            [
             0.2222222222222222,
             "#7201a8"
            ],
            [
             0.3333333333333333,
             "#9c179e"
            ],
            [
             0.4444444444444444,
             "#bd3786"
            ],
            [
             0.5555555555555556,
             "#d8576b"
            ],
            [
             0.6666666666666666,
             "#ed7953"
            ],
            [
             0.7777777777777778,
             "#fb9f3a"
            ],
            [
             0.8888888888888888,
             "#fdca26"
            ],
            [
             1,
             "#f0f921"
            ]
           ],
           "sequentialminus": [
            [
             0,
             "#0d0887"
            ],
            [
             0.1111111111111111,
             "#46039f"
            ],
            [
             0.2222222222222222,
             "#7201a8"
            ],
            [
             0.3333333333333333,
             "#9c179e"
            ],
            [
             0.4444444444444444,
             "#bd3786"
            ],
            [
             0.5555555555555556,
             "#d8576b"
            ],
            [
             0.6666666666666666,
             "#ed7953"
            ],
            [
             0.7777777777777778,
             "#fb9f3a"
            ],
            [
             0.8888888888888888,
             "#fdca26"
            ],
            [
             1,
             "#f0f921"
            ]
           ]
          },
          "colorway": [
           "#636efa",
           "#EF553B",
           "#00cc96",
           "#ab63fa",
           "#FFA15A",
           "#19d3f3",
           "#FF6692",
           "#B6E880",
           "#FF97FF",
           "#FECB52"
          ],
          "font": {
           "color": "#2a3f5f"
          },
          "geo": {
           "bgcolor": "white",
           "lakecolor": "white",
           "landcolor": "white",
           "showlakes": true,
           "showland": true,
           "subunitcolor": "#C8D4E3"
          },
          "hoverlabel": {
           "align": "left"
          },
          "hovermode": "closest",
          "mapbox": {
           "style": "light"
          },
          "paper_bgcolor": "white",
          "plot_bgcolor": "white",
          "polar": {
           "angularaxis": {
            "gridcolor": "#EBF0F8",
            "linecolor": "#EBF0F8",
            "ticks": ""
           },
           "bgcolor": "white",
           "radialaxis": {
            "gridcolor": "#EBF0F8",
            "linecolor": "#EBF0F8",
            "ticks": ""
           }
          },
          "scene": {
           "xaxis": {
            "backgroundcolor": "white",
            "gridcolor": "#DFE8F3",
            "gridwidth": 2,
            "linecolor": "#EBF0F8",
            "showbackground": true,
            "ticks": "",
            "zerolinecolor": "#EBF0F8"
           },
           "yaxis": {
            "backgroundcolor": "white",
            "gridcolor": "#DFE8F3",
            "gridwidth": 2,
            "linecolor": "#EBF0F8",
            "showbackground": true,
            "ticks": "",
            "zerolinecolor": "#EBF0F8"
           },
           "zaxis": {
            "backgroundcolor": "white",
            "gridcolor": "#DFE8F3",
            "gridwidth": 2,
            "linecolor": "#EBF0F8",
            "showbackground": true,
            "ticks": "",
            "zerolinecolor": "#EBF0F8"
           }
          },
          "shapedefaults": {
           "line": {
            "color": "#2a3f5f"
           }
          },
          "ternary": {
           "aaxis": {
            "gridcolor": "#DFE8F3",
            "linecolor": "#A2B1C6",
            "ticks": ""
           },
           "baxis": {
            "gridcolor": "#DFE8F3",
            "linecolor": "#A2B1C6",
            "ticks": ""
           },
           "bgcolor": "white",
           "caxis": {
            "gridcolor": "#DFE8F3",
            "linecolor": "#A2B1C6",
            "ticks": ""
           }
          },
          "title": {
           "x": 0.05
          },
          "xaxis": {
           "automargin": true,
           "gridcolor": "#EBF0F8",
           "linecolor": "#EBF0F8",
           "ticks": "",
           "title": {
            "standoff": 15
           },
           "zerolinecolor": "#EBF0F8",
           "zerolinewidth": 2
          },
          "yaxis": {
           "automargin": true,
           "gridcolor": "#EBF0F8",
           "linecolor": "#EBF0F8",
           "ticks": "",
           "title": {
            "standoff": 15
           },
           "zerolinecolor": "#EBF0F8",
           "zerolinewidth": 2
          }
         }
        },
        "title": {
         "font": {
          "color": "#ff0000",
          "size": 24
         },
         "text": "Red Scatter Plot",
         "x": 0.5,
         "xanchor": "center"
        },
        "xaxis": {
         "tickfont": {
          "color": "#444444",
          "size": 12,
          "weight": "bold"
         },
         "title": {
          "font": {
           "color": "#444444",
           "size": 16,
           "weight": "bold"
          },
          "text": "X Values"
         }
        },
        "yaxis": {
         "tickfont": {
          "color": "#444444",
          "size": 12,
          "weight": "bold"
         },
         "title": {
          "font": {
           "color": "#444444",
           "size": 16,
           "weight": "bold"
          },
          "text": "Y Values"
         }
        }
       }
      }
     },
     "metadata": {},
     "output_type": "display_data"
    }
   ],
   "source": [
    "chart_prompt = \"I want a red chart with bold axis titles and labels on the bars. There should also be a legend showing each distinct category\"\n",
    "chart_generation = chai.steep(prompt=chart_prompt, chart_type=\"scatter\")"
   ]
  },
  {
   "cell_type": "code",
   "execution_count": 15,
   "metadata": {},
   "outputs": [
    {
     "name": "stdout",
     "output_type": "stream",
     "text": [
      "import plotly.graph_objects as go\n",
      "import numpy as np\n",
      "\n",
      "# Generate sample data\n",
      "np.random.seed(42)\n",
      "x = np.random.uniform(0, 10, 50)\n",
      "y = 2 * x + np.random.normal(0, 2, 50)\n",
      "\n",
      "# Create figure with multiple series\n",
      "fig = go.Figure()\n",
      "\n",
      "# Add multiple scatter series with different shades of red\n",
      "series_data = [\n",
      "    {'x': x, 'y': y, 'name': 'Series 1', 'color': '#ff0000'},\n",
      "    {'x': x, 'y': y + 2, 'name': 'Series 2', 'color': '#ff3333'},\n",
      "    {'x': x, 'y': y - 2, 'name': 'Series 3', 'color': '#ff6666'},\n",
      "    {'x': x, 'y': y * 0.8, 'name': 'Series 4', 'color': '#ff9999'}\n",
      "]\n",
      "\n",
      "for series in series_data:\n",
      "    fig.add_trace(\n",
      "        go.Scatter(\n",
      "            x=series['x'],\n",
      "            y=series['y'],\n",
      "            mode='markers',\n",
      "            name=series['name'],\n",
      "            marker=dict(\n",
      "                size=10,\n",
      "                color=series['color'],\n",
      "                opacity=0.7,\n",
      "                line=dict(width=1, color='#444444')\n",
      "            ),\n",
      "            hovertemplate='x: %{x:.2f}<br>y: %{y:.2f}<extra></extra>'\n",
      "        )\n",
      "    )\n",
      "\n",
      "# Update layout with professional styling\n",
      "fig.update_layout(\n",
      "    title={\n",
      "        'text': 'Red Scatter Plot',\n",
      "        'font': {'size': 24, 'color': '#ff0000'},\n",
      "        'x': 0.5,\n",
      "        'xanchor': 'center'\n",
      "    },\n",
      "    xaxis_title={\n",
      "        'text': 'X Values',\n",
      "        'font': {'size': 16, 'color': '#444444', 'weight': 'bold'}\n",
      "    },\n",
      "    yaxis_title={\n",
      "        'text': 'Y Values',\n",
      "        'font': {'size': 16, 'color': '#444444', 'weight': 'bold'}\n",
      "    },\n",
      "    template='plotly_white',\n",
      "    showlegend=True,\n",
      "    legend={\n",
      "        'orientation': 'h',\n",
      "        'yanchor': 'bottom',\n",
      "        'y': -0.3,\n",
      "        'xanchor': 'center',\n",
      "        'x': 0.5\n",
      "    },\n",
      "    margin=dict(t=100, l=100, r=50, b=100)\n",
      ")\n",
      "\n",
      "# Update axis labels to be bold\n",
      "fig.update_xaxes(tickfont=dict(size=12, color='#444444', weight='bold'))\n",
      "fig.update_yaxes(tickfont=dict(size=12, color='#444444', weight='bold'))\n",
      "\n",
      "fig.show()\n"
     ]
    }
   ],
   "source": [
    "# View the generated Plotly code\n",
    "print(chart_generation.code)"
   ]
  },
  {
   "cell_type": "code",
   "execution_count": 16,
   "metadata": {},
   "outputs": [
    {
     "name": "stdout",
     "output_type": "stream",
     "text": [
      "/Users/jose.orjales/gds-ideas-chai/examples/plotly_visualisations/visualisation_1742559136.html\n"
     ]
    }
   ],
   "source": [
    "# View the path to the locally generated chart\n",
    "print(chart_generation.path)"
   ]
  },
  {
   "cell_type": "code",
   "execution_count": null,
   "metadata": {},
   "outputs": [
    {
     "name": "stdout",
     "output_type": "stream",
     "text": [
      "{\"path\": \"/Users/jose.orjales/gds-ideas-chai/examples/plotly_visualisations/visualisation_1742559136.html\", \"code\": \"import plotly.graph_objects as go\\nimport numpy as np\\n\\n# Generate sample data\\nnp.random.seed(42)\\nx = np.random.uniform(0, 10, 50)\\ny = 2 * x + np.random.normal(0, 2, 50)\\n\\n# Create figure with multiple series\\nfig = go.Figure()\\n\\n# Add multiple scatter series with different shades of red\\nseries_data = [\\n    {'x': x, 'y': y, 'name': 'Series 1', 'color': '#ff0000'},\\n    {'x': x, 'y': y + 2, 'name': 'Series 2', 'color': '#ff3333'},\\n    {'x': x, 'y': y - 2, 'name': 'Series 3', 'color': '#ff6666'},\\n    {'x': x, 'y': y * 0.8, 'name': 'Series 4', 'color': '#ff9999'}\\n]\\n\\nfor series in series_data:\\n    fig.add_trace(\\n        go.Scatter(\\n            x=series['x'],\\n            y=series['y'],\\n            mode='markers',\\n            name=series['name'],\\n            marker=dict(\\n                size=10,\\n                color=series['color'],\\n                opacity=0.7,\\n                line=dict(width=1, color='#444444')\\n            ),\\n            hovertemplate='x: %{x:.2f}<br>y: %{y:.2f}<extra></extra>'\\n        )\\n    )\\n\\n# Update layout with professional styling\\nfig.update_layout(\\n    title={\\n        'text': 'Red Scatter Plot',\\n        'font': {'size': 24, 'color': '#ff0000'},\\n        'x': 0.5,\\n        'xanchor': 'center'\\n    },\\n    xaxis_title={\\n        'text': 'X Values',\\n        'font': {'size': 16, 'color': '#444444', 'weight': 'bold'}\\n    },\\n    yaxis_title={\\n        'text': 'Y Values',\\n        'font': {'size': 16, 'color': '#444444', 'weight': 'bold'}\\n    },\\n    template='plotly_white',\\n    showlegend=True,\\n    legend={\\n        'orientation': 'h',\\n        'yanchor': 'bottom',\\n        'y': -0.3,\\n        'xanchor': 'center',\\n        'x': 0.5\\n    },\\n    margin=dict(t=100, l=100, r=50, b=100)\\n)\\n\\n# Update axis labels to be bold\\nfig.update_xaxes(tickfont=dict(size=12, color='#444444', weight='bold'))\\nfig.update_yaxes(tickfont=dict(size=12, color='#444444', weight='bold'))\\n\\nfig.show()\"}\n"
     ]
    }
   ],
   "source": [
    "print(chart_generation)"
   ]
  }
 ],
 "metadata": {
  "kernelspec": {
   "display_name": ".venv",
   "language": "python",
   "name": "python3"
  },
  "language_info": {
   "codemirror_mode": {
    "name": "ipython",
    "version": 3
   },
   "file_extension": ".py",
   "mimetype": "text/x-python",
   "name": "python",
   "nbconvert_exporter": "python",
   "pygments_lexer": "ipython3",
   "version": "3.13.2"
  }
 },
 "nbformat": 4,
 "nbformat_minor": 2
}
