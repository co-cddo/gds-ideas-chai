{
 "cells": [
  {
   "cell_type": "code",
   "execution_count": 1,
   "metadata": {},
   "outputs": [],
   "source": [
    "# RUN THIS BEFORE ATTEMPTING, OTHERWISE MAY GET CLIENT ERRORS ON SOME AWS CALLS\n",
    "import boto3\n",
    "boto3.setup_default_session()"
   ]
  },
  {
   "cell_type": "code",
   "execution_count": 2,
   "metadata": {},
   "outputs": [],
   "source": [
    "import sys\n",
    "import os\n",
    "from pathlib import Path\n",
    "notebook_dir = Path(os.getcwd()) \n",
    "project_root = notebook_dir.parent\n",
    "sys.path.append(str(project_root))"
   ]
  },
  {
   "cell_type": "code",
   "execution_count": 3,
   "metadata": {},
   "outputs": [
    {
     "name": "stdout",
     "output_type": "stream",
     "text": [
      "Using AWS Profile: aws-prototype\n",
      "Using AWS Region: us-east-1\n",
      "Using LLM model: anthropic.claude-3-5-sonnet-20240620-v1:0\n",
      "\n",
      "Available models in LLMModel enum:\n",
      "- CLAUDE_V2_1: anthropic.claude-v2:1\n",
      "- CLAUDE_SONNET_3_5: anthropic.claude-3-5-sonnet-20240620-v1:0\n",
      "- CLAUDE_HAIKU_3_5: anthropic.claude-3-5-haiku-20241022-v1:0\n"
     ]
    }
   ],
   "source": [
    "from dotenv import load_dotenv\n",
    "import os\n",
    "from chAI.constants import LLMModel\n",
    "\n",
    "# Load .env file\n",
    "load_dotenv()\n",
    "aws_profile = os.getenv('AWS_PROFILE')\n",
    "llm_region = os.getenv('LLM_REGION')\n",
    "llm_model = os.getenv('LLM_MODEL')\n",
    "print(f\"Using AWS Profile: {aws_profile}\")\n",
    "print(f\"Using AWS Region: {llm_region}\")\n",
    "print(f\"Using LLM model: {llm_model}\")\n",
    "\n",
    "print(\"\\nAvailable models in LLMModel enum:\")\n",
    "for model in LLMModel:\n",
    "    print(f\"- {model.name}: {model.value}\")"
   ]
  },
  {
   "cell_type": "code",
   "execution_count": 4,
   "metadata": {},
   "outputs": [],
   "source": [
    "# Setup notebook to show logger messages\n",
    "import logging\n",
    "import sys\n",
    "from datetime import datetime\n",
    "from IPython.display import display, HTML\n",
    "\n",
    "class VSCodeNotebookHandler(logging.Handler):\n",
    "    def __init__(self):\n",
    "        super().__init__()\n",
    "        self.log_buffer = []\n",
    "\n",
    "    def emit(self, record):\n",
    "        try:\n",
    "            # Format the message\n",
    "            msg = self.format(record)\n",
    "            \n",
    "            # Define colors for different log levels\n",
    "            colors = {\n",
    "                logging.DEBUG: '#6c757d',    # gray\n",
    "                logging.INFO: '#0d6efd',     # blue\n",
    "                logging.WARNING: '#ffc107',   # yellow\n",
    "                logging.ERROR: '#dc3545',     # red\n",
    "                logging.CRITICAL: '#721c24'   # dark red\n",
    "            }\n",
    "            \n",
    "            # Get color for current log level\n",
    "            color = colors.get(record.levelno, '#000000')\n",
    "            \n",
    "            # Create HTML formatted log entry\n",
    "            log_entry = f\"\"\"\n",
    "            <div style='\n",
    "                padding: 2px 6px;\n",
    "                margin: 2px 0;\n",
    "                border-left: 3px solid {color};\n",
    "                background-color: #f8f9fa;\n",
    "                font-family: Monaco, monospace;\n",
    "                font-sise: 12px;\n",
    "            '>\n",
    "                <span style='color: {color}; font-weight: bold;'>{record.levelname}</span>\n",
    "                <span style='color: #666; margin-right: 8px;'>{datetime.now().strftime('%H:%M:%S')}</span>\n",
    "                <span>{msg}</span>\n",
    "            </div>\n",
    "            \"\"\"\n",
    "            \n",
    "            # Display the formatted log entry\n",
    "            display(HTML(log_entry))\n",
    "            \n",
    "            # Also print to stderr for VSCode's native console\n",
    "            print(msg, file=sys.stderr)\n",
    "            \n",
    "        except Exception as e:\n",
    "            print(f\"Error in log handler: {str(e)}\", file=sys.stderr)\n",
    "\n",
    "def setup_notebook_logging(level=logging.INFO):\n",
    "    \"\"\"\n",
    "    Configure logging for VSCode Jupyter notebooks\n",
    "    \n",
    "    Args:\n",
    "        level: The logging level to use (default: INFO)\n",
    "    Returns:\n",
    "        logger: Configured logger instance\n",
    "    \"\"\"\n",
    "    # Create or get the root logger\n",
    "    logger = logging.getLogger()\n",
    "    \n",
    "    # Remove any existing handlers\n",
    "    for handler in logger.handlers[:]:\n",
    "        logger.removeHandler(handler)\n",
    "    \n",
    "    # Set the logging level\n",
    "    logger.setLevel(level)\n",
    "    \n",
    "    # Create and configure the VSCode notebook handler\n",
    "    handler = VSCodeNotebookHandler()\n",
    "    formatter = logging.Formatter('%(message)s')\n",
    "    handler.setFormatter(formatter)\n",
    "    logger.addHandler(handler)\n",
    "    \n",
    "    return logger\n",
    "\n",
    "# Usage example:\n",
    "logger = setup_notebook_logging(logging.INFO)\n",
    "\n",
    "# Test the logger\n",
    "def test_logging():\n",
    "    logger.debug(\"This is a debug message\")\n",
    "    logger.info(\"This is an info message\")\n",
    "    logger.warning(\"This is a warning message\")\n",
    "    logger.error(\"This is an error message\")\n",
    "    logger.critical(\"This is a critical message\")"
   ]
  },
  {
   "cell_type": "code",
   "execution_count": 5,
   "metadata": {},
   "outputs": [],
   "source": [
    "logger = setup_notebook_logging()"
   ]
  },
  {
   "cell_type": "markdown",
   "metadata": {},
   "source": [
    "# chAI testing and examples"
   ]
  },
  {
   "cell_type": "code",
   "execution_count": 6,
   "metadata": {},
   "outputs": [],
   "source": [
    "import numpy as np\n",
    "import pandas as pd\n",
    "def create_sample_dataset():\n",
    "    \"\"\"Create a sample dataset for testing\"\"\"\n",
    "    np.random.seed(42)\n",
    "    dates = pd.date_range(start=\"2023-01-01\", periods=100, freq=\"D\")\n",
    "\n",
    "    sample_df = pd.DataFrame(\n",
    "        {\n",
    "            \"date\": dates,\n",
    "            \"sales\": np.random.normal(1000, 100, 100),\n",
    "            \"customers\": np.random.randint(50, 200, 100),\n",
    "            \"satisfaction_score\": np.random.uniform(3.5, 5.0, 100),\n",
    "            \"category\": np.random.choice([\"A\", \"B\", \"C\"], 100),\n",
    "        }\n",
    "    )\n",
    "\n",
    "    return sample_df"
   ]
  },
  {
   "cell_type": "code",
   "execution_count": 7,
   "metadata": {},
   "outputs": [
    {
     "data": {
      "text/html": [
       "\n",
       "            <div style='\n",
       "                padding: 2px 6px;\n",
       "                margin: 2px 0;\n",
       "                border-left: 3px solid #0d6efd;\n",
       "                background-color: #f8f9fa;\n",
       "                font-family: Monaco, monospace;\n",
       "                font-sise: 12px;\n",
       "            '>\n",
       "                <span style='color: #0d6efd; font-weight: bold;'>INFO</span>\n",
       "                <span style='color: #666; margin-right: 8px;'>15:48:32</span>\n",
       "                <span>chAI Start</span>\n",
       "            </div>\n",
       "            "
      ],
      "text/plain": [
       "<IPython.core.display.HTML object>"
      ]
     },
     "metadata": {},
     "output_type": "display_data"
    },
    {
     "name": "stderr",
     "output_type": "stream",
     "text": [
      "chAI Start\n"
     ]
    },
    {
     "data": {
      "text/html": [
       "\n",
       "            <div style='\n",
       "                padding: 2px 6px;\n",
       "                margin: 2px 0;\n",
       "                border-left: 3px solid #0d6efd;\n",
       "                background-color: #f8f9fa;\n",
       "                font-family: Monaco, monospace;\n",
       "                font-sise: 12px;\n",
       "            '>\n",
       "                <span style='color: #0d6efd; font-weight: bold;'>INFO</span>\n",
       "                <span style='color: #666; margin-right: 8px;'>15:48:32</span>\n",
       "                <span>Loaded config for agent successfully.</span>\n",
       "            </div>\n",
       "            "
      ],
      "text/plain": [
       "<IPython.core.display.HTML object>"
      ]
     },
     "metadata": {},
     "output_type": "display_data"
    },
    {
     "name": "stderr",
     "output_type": "stream",
     "text": [
      "Loaded config for agent successfully.\n"
     ]
    },
    {
     "data": {
      "text/html": [
       "\n",
       "            <div style='\n",
       "                padding: 2px 6px;\n",
       "                margin: 2px 0;\n",
       "                border-left: 3px solid #0d6efd;\n",
       "                background-color: #f8f9fa;\n",
       "                font-family: Monaco, monospace;\n",
       "                font-sise: 12px;\n",
       "            '>\n",
       "                <span style='color: #0d6efd; font-weight: bold;'>INFO</span>\n",
       "                <span style='color: #666; margin-right: 8px;'>15:48:32</span>\n",
       "                <span>Loaded config for agent successfully.</span>\n",
       "            </div>\n",
       "            "
      ],
      "text/plain": [
       "<IPython.core.display.HTML object>"
      ]
     },
     "metadata": {},
     "output_type": "display_data"
    },
    {
     "name": "stderr",
     "output_type": "stream",
     "text": [
      "Loaded config for agent successfully.\n"
     ]
    },
    {
     "data": {
      "text/html": [
       "\n",
       "            <div style='\n",
       "                padding: 2px 6px;\n",
       "                margin: 2px 0;\n",
       "                border-left: 3px solid #0d6efd;\n",
       "                background-color: #f8f9fa;\n",
       "                font-family: Monaco, monospace;\n",
       "                font-sise: 12px;\n",
       "            '>\n",
       "                <span style='color: #0d6efd; font-weight: bold;'>INFO</span>\n",
       "                <span style='color: #666; margin-right: 8px;'>15:48:32</span>\n",
       "                <span>Initializing BedrockHandler</span>\n",
       "            </div>\n",
       "            "
      ],
      "text/plain": [
       "<IPython.core.display.HTML object>"
      ]
     },
     "metadata": {},
     "output_type": "display_data"
    },
    {
     "name": "stderr",
     "output_type": "stream",
     "text": [
      "Initializing BedrockHandler\n"
     ]
    },
    {
     "data": {
      "text/html": [
       "\n",
       "            <div style='\n",
       "                padding: 2px 6px;\n",
       "                margin: 2px 0;\n",
       "                border-left: 3px solid #0d6efd;\n",
       "                background-color: #f8f9fa;\n",
       "                font-family: Monaco, monospace;\n",
       "                font-sise: 12px;\n",
       "            '>\n",
       "                <span style='color: #0d6efd; font-weight: bold;'>INFO</span>\n",
       "                <span style='color: #666; margin-right: 8px;'>15:48:32</span>\n",
       "                <span>Found credentials in shared credentials file: ~/.aws/credentials</span>\n",
       "            </div>\n",
       "            "
      ],
      "text/plain": [
       "<IPython.core.display.HTML object>"
      ]
     },
     "metadata": {},
     "output_type": "display_data"
    },
    {
     "name": "stderr",
     "output_type": "stream",
     "text": [
      "Found credentials in shared credentials file: ~/.aws/credentials\n"
     ]
    },
    {
     "data": {
      "text/html": [
       "\n",
       "            <div style='\n",
       "                padding: 2px 6px;\n",
       "                margin: 2px 0;\n",
       "                border-left: 3px solid #0d6efd;\n",
       "                background-color: #f8f9fa;\n",
       "                font-family: Monaco, monospace;\n",
       "                font-sise: 12px;\n",
       "            '>\n",
       "                <span style='color: #0d6efd; font-weight: bold;'>INFO</span>\n",
       "                <span style='color: #666; margin-right: 8px;'>15:48:32</span>\n",
       "                <span>Creating ChatBedrock LLM instance</span>\n",
       "            </div>\n",
       "            "
      ],
      "text/plain": [
       "<IPython.core.display.HTML object>"
      ]
     },
     "metadata": {},
     "output_type": "display_data"
    },
    {
     "name": "stderr",
     "output_type": "stream",
     "text": [
      "Creating ChatBedrock LLM instance\n"
     ]
    },
    {
     "data": {
      "text/html": [
       "\n",
       "            <div style='\n",
       "                padding: 2px 6px;\n",
       "                margin: 2px 0;\n",
       "                border-left: 3px solid #0d6efd;\n",
       "                background-color: #f8f9fa;\n",
       "                font-family: Monaco, monospace;\n",
       "                font-sise: 12px;\n",
       "            '>\n",
       "                <span style='color: #0d6efd; font-weight: bold;'>INFO</span>\n",
       "                <span style='color: #666; margin-right: 8px;'>15:48:32</span>\n",
       "                <span>Found credentials in shared credentials file: ~/.aws/credentials</span>\n",
       "            </div>\n",
       "            "
      ],
      "text/plain": [
       "<IPython.core.display.HTML object>"
      ]
     },
     "metadata": {},
     "output_type": "display_data"
    },
    {
     "name": "stderr",
     "output_type": "stream",
     "text": [
      "Found credentials in shared credentials file: ~/.aws/credentials\n"
     ]
    },
    {
     "data": {
      "text/html": [
       "\n",
       "            <div style='\n",
       "                padding: 2px 6px;\n",
       "                margin: 2px 0;\n",
       "                border-left: 3px solid #0d6efd;\n",
       "                background-color: #f8f9fa;\n",
       "                font-family: Monaco, monospace;\n",
       "                font-sise: 12px;\n",
       "            '>\n",
       "                <span style='color: #0d6efd; font-weight: bold;'>INFO</span>\n",
       "                <span style='color: #666; margin-right: 8px;'>15:48:32</span>\n",
       "                <span>Successfully created ChatBedrock LLM instance</span>\n",
       "            </div>\n",
       "            "
      ],
      "text/plain": [
       "<IPython.core.display.HTML object>"
      ]
     },
     "metadata": {},
     "output_type": "display_data"
    },
    {
     "name": "stderr",
     "output_type": "stream",
     "text": [
      "Successfully created ChatBedrock LLM instance\n",
      "/Users/jose.orjales/c-af-chartist/.venv/lib/python3.13/site-packages/langsmith/client.py:253: LangSmithMissingAPIKeyWarning: API key must be provided when using hosted LangSmith API\n",
      "  warnings.warn(\n"
     ]
    },
    {
     "data": {
      "text/html": [
       "\n",
       "            <div style='\n",
       "                padding: 2px 6px;\n",
       "                margin: 2px 0;\n",
       "                border-left: 3px solid #0d6efd;\n",
       "                background-color: #f8f9fa;\n",
       "                font-family: Monaco, monospace;\n",
       "                font-sise: 12px;\n",
       "            '>\n",
       "                <span style='color: #0d6efd; font-weight: bold;'>INFO</span>\n",
       "                <span style='color: #666; margin-right: 8px;'>15:48:32</span>\n",
       "                <span>Setting up chAI agent</span>\n",
       "            </div>\n",
       "            "
      ],
      "text/plain": [
       "<IPython.core.display.HTML object>"
      ]
     },
     "metadata": {},
     "output_type": "display_data"
    },
    {
     "name": "stderr",
     "output_type": "stream",
     "text": [
      "Setting up chAI agent\n"
     ]
    },
    {
     "data": {
      "text/html": [
       "\n",
       "            <div style='\n",
       "                padding: 2px 6px;\n",
       "                margin: 2px 0;\n",
       "                border-left: 3px solid #0d6efd;\n",
       "                background-color: #f8f9fa;\n",
       "                font-family: Monaco, monospace;\n",
       "                font-sise: 12px;\n",
       "            '>\n",
       "                <span style='color: #0d6efd; font-weight: bold;'>INFO</span>\n",
       "                <span style='color: #666; margin-right: 8px;'>15:48:32</span>\n",
       "                <span>chAI agent successfully set up</span>\n",
       "            </div>\n",
       "            "
      ],
      "text/plain": [
       "<IPython.core.display.HTML object>"
      ]
     },
     "metadata": {},
     "output_type": "display_data"
    },
    {
     "name": "stderr",
     "output_type": "stream",
     "text": [
      "chAI agent successfully set up\n"
     ]
    }
   ],
   "source": [
    "from chAI.chAI import chAI\n",
    "chai = chAI()"
   ]
  },
  {
   "cell_type": "markdown",
   "metadata": {},
   "source": [
    "## Visualisation Suggestions"
   ]
  },
  {
   "cell_type": "code",
   "execution_count": 8,
   "metadata": {},
   "outputs": [],
   "source": [
    "sample_df = create_sample_dataset()"
   ]
  },
  {
   "cell_type": "code",
   "execution_count": null,
   "metadata": {},
   "outputs": [],
   "source": [
    "prompt = \"Analyse this dataset and suggest visualisations to explore trends and insights.\"\n",
    "response = chai.handle_request(data=sample_df, prompt=prompt)"
   ]
  },
  {
   "cell_type": "markdown",
   "metadata": {},
   "source": [
    "## Copycat functionality\n",
    "\n",
    "Provide a chart image and ask LLM to provide the plotly code and output to an html file"
   ]
  },
  {
   "cell_type": "code",
   "execution_count": 1,
   "metadata": {},
   "outputs": [],
   "source": [
    "prompt = \"\"\"\n",
    "    Please analyse this chart and provide a comprehensive review with the following structure:\n",
    "\n",
    "    1. Key Findings:\n",
    "    - What are the most significant patterns or insights?\n",
    "    - What are the highest and lowest values?\n",
    "    - Are there any notable disparities or trends?\n",
    "\n",
    "    2. Comparative Analysis:\n",
    "    - Compare the different outcome groups\n",
    "    - Identify any significant gaps or differences\n",
    "    - Highlight any unexpected patterns\n",
    "\n",
    "    Please provide your analysis in clear, business-friendly language suitable for stakeholders.\n",
    "    \"\"\""
   ]
  },
  {
   "cell_type": "code",
   "execution_count": 12,
   "metadata": {},
   "outputs": [
    {
     "data": {
      "text/html": [
       "\n",
       "            <div style='\n",
       "                padding: 2px 6px;\n",
       "                margin: 2px 0;\n",
       "                border-left: 3px solid #0d6efd;\n",
       "                background-color: #f8f9fa;\n",
       "                font-family: Monaco, monospace;\n",
       "                font-sise: 12px;\n",
       "            '>\n",
       "                <span style='color: #0d6efd; font-weight: bold;'>INFO</span>\n",
       "                <span style='color: #666; margin-right: 8px;'>15:49:13</span>\n",
       "                <span>Detected image location input. Preparing to review...</span>\n",
       "            </div>\n",
       "            "
      ],
      "text/plain": [
       "<IPython.core.display.HTML object>"
      ]
     },
     "metadata": {},
     "output_type": "display_data"
    },
    {
     "name": "stderr",
     "output_type": "stream",
     "text": [
      "Detected image location input. Preparing to review...\n"
     ]
    },
    {
     "data": {
      "text/html": [
       "\n",
       "            <div style='\n",
       "                padding: 2px 6px;\n",
       "                margin: 2px 0;\n",
       "                border-left: 3px solid #0d6efd;\n",
       "                background-color: #f8f9fa;\n",
       "                font-family: Monaco, monospace;\n",
       "                font-sise: 12px;\n",
       "            '>\n",
       "                <span style='color: #0d6efd; font-weight: bold;'>INFO</span>\n",
       "                <span style='color: #666; margin-right: 8px;'>15:49:13</span>\n",
       "                <span>Encoding image to base64</span>\n",
       "            </div>\n",
       "            "
      ],
      "text/plain": [
       "<IPython.core.display.HTML object>"
      ]
     },
     "metadata": {},
     "output_type": "display_data"
    },
    {
     "name": "stderr",
     "output_type": "stream",
     "text": [
      "Encoding image to base64\n"
     ]
    },
    {
     "data": {
      "text/html": [
       "\n",
       "            <div style='\n",
       "                padding: 2px 6px;\n",
       "                margin: 2px 0;\n",
       "                border-left: 3px solid #ffc107;\n",
       "                background-color: #f8f9fa;\n",
       "                font-family: Monaco, monospace;\n",
       "                font-sise: 12px;\n",
       "            '>\n",
       "                <span style='color: #ffc107; font-weight: bold;'>WARNING</span>\n",
       "                <span style='color: #666; margin-right: 8px;'>15:49:13</span>\n",
       "                <span>Refreshing temporary credentials failed during mandatory refresh period.\n",
       "Traceback (most recent call last):\n",
       "  File \"/Users/jose.orjales/c-af-chartist/.venv/lib/python3.13/site-packages/botocore/credentials.py\", line 538, in _protected_refresh\n",
       "    metadata = self._refresh_using()\n",
       "  File \"/Users/jose.orjales/c-af-chartist/.venv/lib/python3.13/site-packages/botocore/credentials.py\", line 299, in __call__\n",
       "    return self._refresh()\n",
       "           ~~~~~~~~~~~~~^^\n",
       "  File \"/Users/jose.orjales/c-af-chartist/.venv/lib/python3.13/site-packages/botocore/credentials.py\", line 685, in fetch_credentials\n",
       "    return self._get_cached_credentials()\n",
       "           ~~~~~~~~~~~~~~~~~~~~~~~~~~~~^^\n",
       "  File \"/Users/jose.orjales/c-af-chartist/.venv/lib/python3.13/site-packages/botocore/credentials.py\", line 695, in _get_cached_credentials\n",
       "    response = self._get_credentials()\n",
       "  File \"/Users/jose.orjales/c-af-chartist/.venv/lib/python3.13/site-packages/botocore/credentials.py\", line 842, in _get_credentials\n",
       "    return client.assume_role(**kwargs)\n",
       "           ~~~~~~~~~~~~~~~~~~^^^^^^^^^^\n",
       "  File \"/Users/jose.orjales/c-af-chartist/.venv/lib/python3.13/site-packages/botocore/client.py\", line 569, in _api_call\n",
       "    return self._make_api_call(operation_name, kwargs)\n",
       "           ~~~~~~~~~~~~~~~~~~~^^^^^^^^^^^^^^^^^^^^^^^^\n",
       "  File \"/Users/jose.orjales/c-af-chartist/.venv/lib/python3.13/site-packages/botocore/client.py\", line 980, in _make_api_call\n",
       "    request_dict = self._convert_to_request_dict(\n",
       "        api_params=api_params,\n",
       "    ...<3 lines>...\n",
       "        headers=additional_headers,\n",
       "    )\n",
       "  File \"/Users/jose.orjales/c-af-chartist/.venv/lib/python3.13/site-packages/botocore/client.py\", line 1047, in _convert_to_request_dict\n",
       "    request_dict = self._serializer.serialize_to_request(\n",
       "        api_params, operation_model\n",
       "    )\n",
       "  File \"/Users/jose.orjales/c-af-chartist/.venv/lib/python3.13/site-packages/botocore/validate.py\", line 381, in serialize_to_request\n",
       "    raise ParamValidationError(report=report.generate_report())\n",
       "botocore.exceptions.ParamValidationError: Parameter validation failed:\n",
       "Invalid length for parameter TokenCode, value: 0, valid min length: 6</span>\n",
       "            </div>\n",
       "            "
      ],
      "text/plain": [
       "<IPython.core.display.HTML object>"
      ]
     },
     "metadata": {},
     "output_type": "display_data"
    },
    {
     "name": "stderr",
     "output_type": "stream",
     "text": [
      "Refreshing temporary credentials failed during mandatory refresh period.\n",
      "Traceback (most recent call last):\n",
      "  File \"/Users/jose.orjales/c-af-chartist/.venv/lib/python3.13/site-packages/botocore/credentials.py\", line 538, in _protected_refresh\n",
      "    metadata = self._refresh_using()\n",
      "  File \"/Users/jose.orjales/c-af-chartist/.venv/lib/python3.13/site-packages/botocore/credentials.py\", line 299, in __call__\n",
      "    return self._refresh()\n",
      "           ~~~~~~~~~~~~~^^\n",
      "  File \"/Users/jose.orjales/c-af-chartist/.venv/lib/python3.13/site-packages/botocore/credentials.py\", line 685, in fetch_credentials\n",
      "    return self._get_cached_credentials()\n",
      "           ~~~~~~~~~~~~~~~~~~~~~~~~~~~~^^\n",
      "  File \"/Users/jose.orjales/c-af-chartist/.venv/lib/python3.13/site-packages/botocore/credentials.py\", line 695, in _get_cached_credentials\n",
      "    response = self._get_credentials()\n",
      "  File \"/Users/jose.orjales/c-af-chartist/.venv/lib/python3.13/site-packages/botocore/credentials.py\", line 842, in _get_credentials\n",
      "    return client.assume_role(**kwargs)\n",
      "           ~~~~~~~~~~~~~~~~~~^^^^^^^^^^\n",
      "  File \"/Users/jose.orjales/c-af-chartist/.venv/lib/python3.13/site-packages/botocore/client.py\", line 569, in _api_call\n",
      "    return self._make_api_call(operation_name, kwargs)\n",
      "           ~~~~~~~~~~~~~~~~~~~^^^^^^^^^^^^^^^^^^^^^^^^\n",
      "  File \"/Users/jose.orjales/c-af-chartist/.venv/lib/python3.13/site-packages/botocore/client.py\", line 980, in _make_api_call\n",
      "    request_dict = self._convert_to_request_dict(\n",
      "        api_params=api_params,\n",
      "    ...<3 lines>...\n",
      "        headers=additional_headers,\n",
      "    )\n",
      "  File \"/Users/jose.orjales/c-af-chartist/.venv/lib/python3.13/site-packages/botocore/client.py\", line 1047, in _convert_to_request_dict\n",
      "    request_dict = self._serializer.serialize_to_request(\n",
      "        api_params, operation_model\n",
      "    )\n",
      "  File \"/Users/jose.orjales/c-af-chartist/.venv/lib/python3.13/site-packages/botocore/validate.py\", line 381, in serialize_to_request\n",
      "    raise ParamValidationError(report=report.generate_report())\n",
      "botocore.exceptions.ParamValidationError: Parameter validation failed:\n",
      "Invalid length for parameter TokenCode, value: 0, valid min length: 6\n"
     ]
    },
    {
     "data": {
      "text/html": [
       "\n",
       "            <div style='\n",
       "                padding: 2px 6px;\n",
       "                margin: 2px 0;\n",
       "                border-left: 3px solid #dc3545;\n",
       "                background-color: #f8f9fa;\n",
       "                font-family: Monaco, monospace;\n",
       "                font-sise: 12px;\n",
       "            '>\n",
       "                <span style='color: #dc3545; font-weight: bold;'>ERROR</span>\n",
       "                <span style='color: #666; margin-right: 8px;'>15:49:13</span>\n",
       "                <span>Error in analyse_image: Parameter validation failed:\n",
       "Invalid length for parameter TokenCode, value: 0, valid min length: 6</span>\n",
       "            </div>\n",
       "            "
      ],
      "text/plain": [
       "<IPython.core.display.HTML object>"
      ]
     },
     "metadata": {},
     "output_type": "display_data"
    },
    {
     "name": "stderr",
     "output_type": "stream",
     "text": [
      "Error in analyse_image: Parameter validation failed:\n",
      "Invalid length for parameter TokenCode, value: 0, valid min length: 6\n"
     ]
    },
    {
     "ename": "ChAIError",
     "evalue": "Failed to analyse image: Parameter validation failed:\nInvalid length for parameter TokenCode, value: 0, valid min length: 6",
     "output_type": "error",
     "traceback": [
      "\u001b[0;31m---------------------------------------------------------------------------\u001b[0m",
      "\u001b[0;31mParamValidationError\u001b[0m                      Traceback (most recent call last)",
      "File \u001b[0;32m~/c-af-chartist/chAI/chAI.py:244\u001b[0m, in \u001b[0;36mchAI.analyse_image\u001b[0;34m(self, base64_data, custom_prompt)\u001b[0m\n\u001b[1;32m    243\u001b[0m \u001b[38;5;66;03m# Call Bedrock\u001b[39;00m\n\u001b[0;32m--> 244\u001b[0m response \u001b[38;5;241m=\u001b[39m \u001b[38;5;28;43mself\u001b[39;49m\u001b[38;5;241;43m.\u001b[39;49m\u001b[43mbedrock_runtime\u001b[49m\u001b[38;5;241;43m.\u001b[39;49m\u001b[43minvoke_model\u001b[49m\u001b[43m(\u001b[49m\n\u001b[1;32m    245\u001b[0m \u001b[43m    \u001b[49m\u001b[43mmodelId\u001b[49m\u001b[38;5;241;43m=\u001b[39;49m\u001b[38;5;28;43mself\u001b[39;49m\u001b[38;5;241;43m.\u001b[39;49m\u001b[43mconfig\u001b[49m\u001b[38;5;241;43m.\u001b[39;49m\u001b[43mLLM_MODEL\u001b[49m\u001b[43m,\u001b[49m\u001b[43m \u001b[49m\u001b[43mbody\u001b[49m\u001b[38;5;241;43m=\u001b[39;49m\u001b[43mbody_bytes\u001b[49m\n\u001b[1;32m    246\u001b[0m \u001b[43m\u001b[49m\u001b[43m)\u001b[49m\n\u001b[1;32m    248\u001b[0m response_body \u001b[38;5;241m=\u001b[39m json\u001b[38;5;241m.\u001b[39mloads(response\u001b[38;5;241m.\u001b[39mget(\u001b[38;5;124m\"\u001b[39m\u001b[38;5;124mbody\u001b[39m\u001b[38;5;124m\"\u001b[39m)\u001b[38;5;241m.\u001b[39mread())\n",
      "File \u001b[0;32m~/c-af-chartist/.venv/lib/python3.13/site-packages/botocore/client.py:569\u001b[0m, in \u001b[0;36mClientCreator._create_api_method.<locals>._api_call\u001b[0;34m(self, *args, **kwargs)\u001b[0m\n\u001b[1;32m    568\u001b[0m \u001b[38;5;66;03m# The \"self\" in this scope is referring to the BaseClient.\u001b[39;00m\n\u001b[0;32m--> 569\u001b[0m \u001b[38;5;28;01mreturn\u001b[39;00m \u001b[38;5;28;43mself\u001b[39;49m\u001b[38;5;241;43m.\u001b[39;49m\u001b[43m_make_api_call\u001b[49m\u001b[43m(\u001b[49m\u001b[43moperation_name\u001b[49m\u001b[43m,\u001b[49m\u001b[43m \u001b[49m\u001b[43mkwargs\u001b[49m\u001b[43m)\u001b[49m\n",
      "File \u001b[0;32m~/c-af-chartist/.venv/lib/python3.13/site-packages/botocore/client.py:1005\u001b[0m, in \u001b[0;36mBaseClient._make_api_call\u001b[0;34m(self, operation_name, api_params)\u001b[0m\n\u001b[1;32m   1004\u001b[0m     apply_request_checksum(request_dict)\n\u001b[0;32m-> 1005\u001b[0m     http, parsed_response \u001b[38;5;241m=\u001b[39m \u001b[38;5;28;43mself\u001b[39;49m\u001b[38;5;241;43m.\u001b[39;49m\u001b[43m_make_request\u001b[49m\u001b[43m(\u001b[49m\n\u001b[1;32m   1006\u001b[0m \u001b[43m        \u001b[49m\u001b[43moperation_model\u001b[49m\u001b[43m,\u001b[49m\u001b[43m \u001b[49m\u001b[43mrequest_dict\u001b[49m\u001b[43m,\u001b[49m\u001b[43m \u001b[49m\u001b[43mrequest_context\u001b[49m\n\u001b[1;32m   1007\u001b[0m \u001b[43m    \u001b[49m\u001b[43m)\u001b[49m\n\u001b[1;32m   1009\u001b[0m \u001b[38;5;28mself\u001b[39m\u001b[38;5;241m.\u001b[39mmeta\u001b[38;5;241m.\u001b[39mevents\u001b[38;5;241m.\u001b[39memit(\n\u001b[1;32m   1010\u001b[0m     \u001b[38;5;124mf\u001b[39m\u001b[38;5;124m'\u001b[39m\u001b[38;5;124mafter-call.\u001b[39m\u001b[38;5;132;01m{\u001b[39;00mservice_id\u001b[38;5;132;01m}\u001b[39;00m\u001b[38;5;124m.\u001b[39m\u001b[38;5;132;01m{\u001b[39;00moperation_name\u001b[38;5;132;01m}\u001b[39;00m\u001b[38;5;124m'\u001b[39m,\n\u001b[1;32m   1011\u001b[0m     http_response\u001b[38;5;241m=\u001b[39mhttp,\n\u001b[0;32m   (...)\u001b[0m\n\u001b[1;32m   1014\u001b[0m     context\u001b[38;5;241m=\u001b[39mrequest_context,\n\u001b[1;32m   1015\u001b[0m )\n",
      "File \u001b[0;32m~/c-af-chartist/.venv/lib/python3.13/site-packages/botocore/client.py:1029\u001b[0m, in \u001b[0;36mBaseClient._make_request\u001b[0;34m(self, operation_model, request_dict, request_context)\u001b[0m\n\u001b[1;32m   1028\u001b[0m \u001b[38;5;28;01mtry\u001b[39;00m:\n\u001b[0;32m-> 1029\u001b[0m     \u001b[38;5;28;01mreturn\u001b[39;00m \u001b[38;5;28;43mself\u001b[39;49m\u001b[38;5;241;43m.\u001b[39;49m\u001b[43m_endpoint\u001b[49m\u001b[38;5;241;43m.\u001b[39;49m\u001b[43mmake_request\u001b[49m\u001b[43m(\u001b[49m\u001b[43moperation_model\u001b[49m\u001b[43m,\u001b[49m\u001b[43m \u001b[49m\u001b[43mrequest_dict\u001b[49m\u001b[43m)\u001b[49m\n\u001b[1;32m   1030\u001b[0m \u001b[38;5;28;01mexcept\u001b[39;00m \u001b[38;5;167;01mException\u001b[39;00m \u001b[38;5;28;01mas\u001b[39;00m e:\n",
      "File \u001b[0;32m~/c-af-chartist/.venv/lib/python3.13/site-packages/botocore/endpoint.py:119\u001b[0m, in \u001b[0;36mEndpoint.make_request\u001b[0;34m(self, operation_model, request_dict)\u001b[0m\n\u001b[1;32m    114\u001b[0m logger\u001b[38;5;241m.\u001b[39mdebug(\n\u001b[1;32m    115\u001b[0m     \u001b[38;5;124m\"\u001b[39m\u001b[38;5;124mMaking request for \u001b[39m\u001b[38;5;132;01m%s\u001b[39;00m\u001b[38;5;124m with params: \u001b[39m\u001b[38;5;132;01m%s\u001b[39;00m\u001b[38;5;124m\"\u001b[39m,\n\u001b[1;32m    116\u001b[0m     operation_model,\n\u001b[1;32m    117\u001b[0m     request_dict,\n\u001b[1;32m    118\u001b[0m )\n\u001b[0;32m--> 119\u001b[0m \u001b[38;5;28;01mreturn\u001b[39;00m \u001b[38;5;28;43mself\u001b[39;49m\u001b[38;5;241;43m.\u001b[39;49m\u001b[43m_send_request\u001b[49m\u001b[43m(\u001b[49m\u001b[43mrequest_dict\u001b[49m\u001b[43m,\u001b[49m\u001b[43m \u001b[49m\u001b[43moperation_model\u001b[49m\u001b[43m)\u001b[49m\n",
      "File \u001b[0;32m~/c-af-chartist/.venv/lib/python3.13/site-packages/botocore/endpoint.py:196\u001b[0m, in \u001b[0;36mEndpoint._send_request\u001b[0;34m(self, request_dict, operation_model)\u001b[0m\n\u001b[1;32m    195\u001b[0m \u001b[38;5;28mself\u001b[39m\u001b[38;5;241m.\u001b[39m_update_retries_context(context, attempts)\n\u001b[0;32m--> 196\u001b[0m request \u001b[38;5;241m=\u001b[39m \u001b[38;5;28;43mself\u001b[39;49m\u001b[38;5;241;43m.\u001b[39;49m\u001b[43mcreate_request\u001b[49m\u001b[43m(\u001b[49m\u001b[43mrequest_dict\u001b[49m\u001b[43m,\u001b[49m\u001b[43m \u001b[49m\u001b[43moperation_model\u001b[49m\u001b[43m)\u001b[49m\n\u001b[1;32m    197\u001b[0m success_response, exception \u001b[38;5;241m=\u001b[39m \u001b[38;5;28mself\u001b[39m\u001b[38;5;241m.\u001b[39m_get_response(\n\u001b[1;32m    198\u001b[0m     request, operation_model, context\n\u001b[1;32m    199\u001b[0m )\n",
      "File \u001b[0;32m~/c-af-chartist/.venv/lib/python3.13/site-packages/botocore/endpoint.py:132\u001b[0m, in \u001b[0;36mEndpoint.create_request\u001b[0;34m(self, params, operation_model)\u001b[0m\n\u001b[1;32m    131\u001b[0m     event_name \u001b[38;5;241m=\u001b[39m \u001b[38;5;124mf\u001b[39m\u001b[38;5;124m'\u001b[39m\u001b[38;5;124mrequest-created.\u001b[39m\u001b[38;5;132;01m{\u001b[39;00mservice_id\u001b[38;5;132;01m}\u001b[39;00m\u001b[38;5;124m.\u001b[39m\u001b[38;5;132;01m{\u001b[39;00moperation_model\u001b[38;5;241m.\u001b[39mname\u001b[38;5;132;01m}\u001b[39;00m\u001b[38;5;124m'\u001b[39m\n\u001b[0;32m--> 132\u001b[0m     \u001b[38;5;28;43mself\u001b[39;49m\u001b[38;5;241;43m.\u001b[39;49m\u001b[43m_event_emitter\u001b[49m\u001b[38;5;241;43m.\u001b[39;49m\u001b[43memit\u001b[49m\u001b[43m(\u001b[49m\n\u001b[1;32m    133\u001b[0m \u001b[43m        \u001b[49m\u001b[43mevent_name\u001b[49m\u001b[43m,\u001b[49m\n\u001b[1;32m    134\u001b[0m \u001b[43m        \u001b[49m\u001b[43mrequest\u001b[49m\u001b[38;5;241;43m=\u001b[39;49m\u001b[43mrequest\u001b[49m\u001b[43m,\u001b[49m\n\u001b[1;32m    135\u001b[0m \u001b[43m        \u001b[49m\u001b[43moperation_name\u001b[49m\u001b[38;5;241;43m=\u001b[39;49m\u001b[43moperation_model\u001b[49m\u001b[38;5;241;43m.\u001b[39;49m\u001b[43mname\u001b[49m\u001b[43m,\u001b[49m\n\u001b[1;32m    136\u001b[0m \u001b[43m    \u001b[49m\u001b[43m)\u001b[49m\n\u001b[1;32m    137\u001b[0m prepared_request \u001b[38;5;241m=\u001b[39m \u001b[38;5;28mself\u001b[39m\u001b[38;5;241m.\u001b[39mprepare_request(request)\n",
      "File \u001b[0;32m~/c-af-chartist/.venv/lib/python3.13/site-packages/botocore/hooks.py:412\u001b[0m, in \u001b[0;36mEventAliaser.emit\u001b[0;34m(self, event_name, **kwargs)\u001b[0m\n\u001b[1;32m    411\u001b[0m aliased_event_name \u001b[38;5;241m=\u001b[39m \u001b[38;5;28mself\u001b[39m\u001b[38;5;241m.\u001b[39m_alias_event_name(event_name)\n\u001b[0;32m--> 412\u001b[0m \u001b[38;5;28;01mreturn\u001b[39;00m \u001b[38;5;28;43mself\u001b[39;49m\u001b[38;5;241;43m.\u001b[39;49m\u001b[43m_emitter\u001b[49m\u001b[38;5;241;43m.\u001b[39;49m\u001b[43memit\u001b[49m\u001b[43m(\u001b[49m\u001b[43maliased_event_name\u001b[49m\u001b[43m,\u001b[49m\u001b[43m \u001b[49m\u001b[38;5;241;43m*\u001b[39;49m\u001b[38;5;241;43m*\u001b[39;49m\u001b[43mkwargs\u001b[49m\u001b[43m)\u001b[49m\n",
      "File \u001b[0;32m~/c-af-chartist/.venv/lib/python3.13/site-packages/botocore/hooks.py:256\u001b[0m, in \u001b[0;36mHierarchicalEmitter.emit\u001b[0;34m(self, event_name, **kwargs)\u001b[0m\n\u001b[1;32m    246\u001b[0m \u001b[38;5;250m\u001b[39m\u001b[38;5;124;03m\"\"\"\u001b[39;00m\n\u001b[1;32m    247\u001b[0m \u001b[38;5;124;03mEmit an event by name with arguments passed as keyword args.\u001b[39;00m\n\u001b[1;32m    248\u001b[0m \n\u001b[0;32m   (...)\u001b[0m\n\u001b[1;32m    254\u001b[0m \u001b[38;5;124;03m         handlers.\u001b[39;00m\n\u001b[1;32m    255\u001b[0m \u001b[38;5;124;03m\"\"\"\u001b[39;00m\n\u001b[0;32m--> 256\u001b[0m \u001b[38;5;28;01mreturn\u001b[39;00m \u001b[38;5;28;43mself\u001b[39;49m\u001b[38;5;241;43m.\u001b[39;49m\u001b[43m_emit\u001b[49m\u001b[43m(\u001b[49m\u001b[43mevent_name\u001b[49m\u001b[43m,\u001b[49m\u001b[43m \u001b[49m\u001b[43mkwargs\u001b[49m\u001b[43m)\u001b[49m\n",
      "File \u001b[0;32m~/c-af-chartist/.venv/lib/python3.13/site-packages/botocore/hooks.py:239\u001b[0m, in \u001b[0;36mHierarchicalEmitter._emit\u001b[0;34m(self, event_name, kwargs, stop_on_response)\u001b[0m\n\u001b[1;32m    238\u001b[0m logger\u001b[38;5;241m.\u001b[39mdebug(\u001b[38;5;124m'\u001b[39m\u001b[38;5;124mEvent \u001b[39m\u001b[38;5;132;01m%s\u001b[39;00m\u001b[38;5;124m: calling handler \u001b[39m\u001b[38;5;132;01m%s\u001b[39;00m\u001b[38;5;124m'\u001b[39m, event_name, handler)\n\u001b[0;32m--> 239\u001b[0m response \u001b[38;5;241m=\u001b[39m \u001b[43mhandler\u001b[49m\u001b[43m(\u001b[49m\u001b[38;5;241;43m*\u001b[39;49m\u001b[38;5;241;43m*\u001b[39;49m\u001b[43mkwargs\u001b[49m\u001b[43m)\u001b[49m\n\u001b[1;32m    240\u001b[0m responses\u001b[38;5;241m.\u001b[39mappend((handler, response))\n",
      "File \u001b[0;32m~/c-af-chartist/.venv/lib/python3.13/site-packages/botocore/signers.py:106\u001b[0m, in \u001b[0;36mRequestSigner.handler\u001b[0;34m(self, operation_name, request, **kwargs)\u001b[0m\n\u001b[1;32m    101\u001b[0m \u001b[38;5;28;01mdef\u001b[39;00m\u001b[38;5;250m \u001b[39m\u001b[38;5;21mhandler\u001b[39m(\u001b[38;5;28mself\u001b[39m, operation_name\u001b[38;5;241m=\u001b[39m\u001b[38;5;28;01mNone\u001b[39;00m, request\u001b[38;5;241m=\u001b[39m\u001b[38;5;28;01mNone\u001b[39;00m, \u001b[38;5;241m*\u001b[39m\u001b[38;5;241m*\u001b[39mkwargs):\n\u001b[1;32m    102\u001b[0m     \u001b[38;5;66;03m# This is typically hooked up to the \"request-created\" event\u001b[39;00m\n\u001b[1;32m    103\u001b[0m     \u001b[38;5;66;03m# from a client's event emitter.  When a new request is created\u001b[39;00m\n\u001b[1;32m    104\u001b[0m     \u001b[38;5;66;03m# this method is invoked to sign the request.\u001b[39;00m\n\u001b[1;32m    105\u001b[0m     \u001b[38;5;66;03m# Don't call this method directly.\u001b[39;00m\n\u001b[0;32m--> 106\u001b[0m     \u001b[38;5;28;01mreturn\u001b[39;00m \u001b[38;5;28;43mself\u001b[39;49m\u001b[38;5;241;43m.\u001b[39;49m\u001b[43msign\u001b[49m\u001b[43m(\u001b[49m\u001b[43moperation_name\u001b[49m\u001b[43m,\u001b[49m\u001b[43m \u001b[49m\u001b[43mrequest\u001b[49m\u001b[43m)\u001b[49m\n",
      "File \u001b[0;32m~/c-af-chartist/.venv/lib/python3.13/site-packages/botocore/signers.py:189\u001b[0m, in \u001b[0;36mRequestSigner.sign\u001b[0;34m(self, operation_name, request, region_name, signing_type, expires_in, signing_name)\u001b[0m\n\u001b[1;32m    188\u001b[0m \u001b[38;5;28;01mtry\u001b[39;00m:\n\u001b[0;32m--> 189\u001b[0m     auth \u001b[38;5;241m=\u001b[39m \u001b[38;5;28;43mself\u001b[39;49m\u001b[38;5;241;43m.\u001b[39;49m\u001b[43mget_auth_instance\u001b[49m\u001b[43m(\u001b[49m\u001b[38;5;241;43m*\u001b[39;49m\u001b[38;5;241;43m*\u001b[39;49m\u001b[43mkwargs\u001b[49m\u001b[43m)\u001b[49m\n\u001b[1;32m    190\u001b[0m \u001b[38;5;28;01mexcept\u001b[39;00m UnknownSignatureVersionError \u001b[38;5;28;01mas\u001b[39;00m e:\n",
      "File \u001b[0;32m~/c-af-chartist/.venv/lib/python3.13/site-packages/botocore/signers.py:307\u001b[0m, in \u001b[0;36mRequestSigner.get_auth_instance\u001b[0;34m(self, signing_name, region_name, signature_version, request_credentials, **kwargs)\u001b[0m\n\u001b[1;32m    306\u001b[0m \u001b[38;5;28;01mif\u001b[39;00m credentials \u001b[38;5;129;01mis\u001b[39;00m \u001b[38;5;129;01mnot\u001b[39;00m \u001b[38;5;28;01mNone\u001b[39;00m:\n\u001b[0;32m--> 307\u001b[0m     frozen_credentials \u001b[38;5;241m=\u001b[39m \u001b[43mcredentials\u001b[49m\u001b[38;5;241;43m.\u001b[39;49m\u001b[43mget_frozen_credentials\u001b[49m\u001b[43m(\u001b[49m\u001b[43m)\u001b[49m\n\u001b[1;32m    308\u001b[0m kwargs[\u001b[38;5;124m'\u001b[39m\u001b[38;5;124mcredentials\u001b[39m\u001b[38;5;124m'\u001b[39m] \u001b[38;5;241m=\u001b[39m frozen_credentials\n",
      "File \u001b[0;32m~/c-af-chartist/.venv/lib/python3.13/site-packages/botocore/credentials.py:634\u001b[0m, in \u001b[0;36mRefreshableCredentials.get_frozen_credentials\u001b[0;34m(self)\u001b[0m\n\u001b[1;32m    601\u001b[0m \u001b[38;5;250m\u001b[39m\u001b[38;5;124;03m\"\"\"Return immutable credentials.\u001b[39;00m\n\u001b[1;32m    602\u001b[0m \n\u001b[1;32m    603\u001b[0m \u001b[38;5;124;03mThe ``access_key``, ``secret_key``, and ``token`` properties\u001b[39;00m\n\u001b[0;32m   (...)\u001b[0m\n\u001b[1;32m    632\u001b[0m \n\u001b[1;32m    633\u001b[0m \u001b[38;5;124;03m\"\"\"\u001b[39;00m\n\u001b[0;32m--> 634\u001b[0m \u001b[38;5;28;43mself\u001b[39;49m\u001b[38;5;241;43m.\u001b[39;49m\u001b[43m_refresh\u001b[49m\u001b[43m(\u001b[49m\u001b[43m)\u001b[49m\n\u001b[1;32m    635\u001b[0m \u001b[38;5;28;01mreturn\u001b[39;00m \u001b[38;5;28mself\u001b[39m\u001b[38;5;241m.\u001b[39m_frozen_credentials\n",
      "File \u001b[0;32m~/c-af-chartist/.venv/lib/python3.13/site-packages/botocore/credentials.py:522\u001b[0m, in \u001b[0;36mRefreshableCredentials._refresh\u001b[0;34m(self)\u001b[0m\n\u001b[1;32m    519\u001b[0m is_mandatory_refresh \u001b[38;5;241m=\u001b[39m \u001b[38;5;28mself\u001b[39m\u001b[38;5;241m.\u001b[39mrefresh_needed(\n\u001b[1;32m    520\u001b[0m     \u001b[38;5;28mself\u001b[39m\u001b[38;5;241m.\u001b[39m_mandatory_refresh_timeout\n\u001b[1;32m    521\u001b[0m )\n\u001b[0;32m--> 522\u001b[0m \u001b[38;5;28;43mself\u001b[39;49m\u001b[38;5;241;43m.\u001b[39;49m\u001b[43m_protected_refresh\u001b[49m\u001b[43m(\u001b[49m\u001b[43mis_mandatory\u001b[49m\u001b[38;5;241;43m=\u001b[39;49m\u001b[43mis_mandatory_refresh\u001b[49m\u001b[43m)\u001b[49m\n\u001b[1;32m    523\u001b[0m \u001b[38;5;28;01mreturn\u001b[39;00m\n",
      "File \u001b[0;32m~/c-af-chartist/.venv/lib/python3.13/site-packages/botocore/credentials.py:538\u001b[0m, in \u001b[0;36mRefreshableCredentials._protected_refresh\u001b[0;34m(self, is_mandatory)\u001b[0m\n\u001b[1;32m    537\u001b[0m \u001b[38;5;28;01mtry\u001b[39;00m:\n\u001b[0;32m--> 538\u001b[0m     metadata \u001b[38;5;241m=\u001b[39m \u001b[38;5;28;43mself\u001b[39;49m\u001b[38;5;241;43m.\u001b[39;49m\u001b[43m_refresh_using\u001b[49m\u001b[43m(\u001b[49m\u001b[43m)\u001b[49m\n\u001b[1;32m    539\u001b[0m \u001b[38;5;28;01mexcept\u001b[39;00m \u001b[38;5;167;01mException\u001b[39;00m:\n",
      "File \u001b[0;32m~/c-af-chartist/.venv/lib/python3.13/site-packages/botocore/credentials.py:299\u001b[0m, in \u001b[0;36mcreate_mfa_serial_refresher.<locals>._Refresher.__call__\u001b[0;34m(self)\u001b[0m\n\u001b[1;32m    298\u001b[0m \u001b[38;5;28mself\u001b[39m\u001b[38;5;241m.\u001b[39m_has_been_called \u001b[38;5;241m=\u001b[39m \u001b[38;5;28;01mTrue\u001b[39;00m\n\u001b[0;32m--> 299\u001b[0m \u001b[38;5;28;01mreturn\u001b[39;00m \u001b[38;5;28;43mself\u001b[39;49m\u001b[38;5;241;43m.\u001b[39;49m\u001b[43m_refresh\u001b[49m\u001b[43m(\u001b[49m\u001b[43m)\u001b[49m\n",
      "File \u001b[0;32m~/c-af-chartist/.venv/lib/python3.13/site-packages/botocore/credentials.py:685\u001b[0m, in \u001b[0;36mCachedCredentialFetcher.fetch_credentials\u001b[0;34m(self)\u001b[0m\n\u001b[1;32m    684\u001b[0m \u001b[38;5;28;01mdef\u001b[39;00m\u001b[38;5;250m \u001b[39m\u001b[38;5;21mfetch_credentials\u001b[39m(\u001b[38;5;28mself\u001b[39m):\n\u001b[0;32m--> 685\u001b[0m     \u001b[38;5;28;01mreturn\u001b[39;00m \u001b[38;5;28;43mself\u001b[39;49m\u001b[38;5;241;43m.\u001b[39;49m\u001b[43m_get_cached_credentials\u001b[49m\u001b[43m(\u001b[49m\u001b[43m)\u001b[49m\n",
      "File \u001b[0;32m~/c-af-chartist/.venv/lib/python3.13/site-packages/botocore/credentials.py:695\u001b[0m, in \u001b[0;36mCachedCredentialFetcher._get_cached_credentials\u001b[0;34m(self)\u001b[0m\n\u001b[1;32m    694\u001b[0m \u001b[38;5;28;01mif\u001b[39;00m response \u001b[38;5;129;01mis\u001b[39;00m \u001b[38;5;28;01mNone\u001b[39;00m:\n\u001b[0;32m--> 695\u001b[0m     response \u001b[38;5;241m=\u001b[39m \u001b[38;5;28;43mself\u001b[39;49m\u001b[38;5;241;43m.\u001b[39;49m\u001b[43m_get_credentials\u001b[49m\u001b[43m(\u001b[49m\u001b[43m)\u001b[49m\n\u001b[1;32m    696\u001b[0m     \u001b[38;5;28mself\u001b[39m\u001b[38;5;241m.\u001b[39m_write_to_cache(response)\n",
      "File \u001b[0;32m~/c-af-chartist/.venv/lib/python3.13/site-packages/botocore/credentials.py:842\u001b[0m, in \u001b[0;36mAssumeRoleCredentialFetcher._get_credentials\u001b[0;34m(self)\u001b[0m\n\u001b[1;32m    841\u001b[0m client \u001b[38;5;241m=\u001b[39m \u001b[38;5;28mself\u001b[39m\u001b[38;5;241m.\u001b[39m_create_client()\n\u001b[0;32m--> 842\u001b[0m \u001b[38;5;28;01mreturn\u001b[39;00m \u001b[43mclient\u001b[49m\u001b[38;5;241;43m.\u001b[39;49m\u001b[43massume_role\u001b[49m\u001b[43m(\u001b[49m\u001b[38;5;241;43m*\u001b[39;49m\u001b[38;5;241;43m*\u001b[39;49m\u001b[43mkwargs\u001b[49m\u001b[43m)\u001b[49m\n",
      "File \u001b[0;32m~/c-af-chartist/.venv/lib/python3.13/site-packages/botocore/client.py:569\u001b[0m, in \u001b[0;36mClientCreator._create_api_method.<locals>._api_call\u001b[0;34m(self, *args, **kwargs)\u001b[0m\n\u001b[1;32m    568\u001b[0m \u001b[38;5;66;03m# The \"self\" in this scope is referring to the BaseClient.\u001b[39;00m\n\u001b[0;32m--> 569\u001b[0m \u001b[38;5;28;01mreturn\u001b[39;00m \u001b[38;5;28;43mself\u001b[39;49m\u001b[38;5;241;43m.\u001b[39;49m\u001b[43m_make_api_call\u001b[49m\u001b[43m(\u001b[49m\u001b[43moperation_name\u001b[49m\u001b[43m,\u001b[49m\u001b[43m \u001b[49m\u001b[43mkwargs\u001b[49m\u001b[43m)\u001b[49m\n",
      "File \u001b[0;32m~/c-af-chartist/.venv/lib/python3.13/site-packages/botocore/client.py:980\u001b[0m, in \u001b[0;36mBaseClient._make_api_call\u001b[0;34m(self, operation_name, api_params)\u001b[0m\n\u001b[1;32m    979\u001b[0m     request_context[\u001b[38;5;124m'\u001b[39m\u001b[38;5;124mendpoint_properties\u001b[39m\u001b[38;5;124m'\u001b[39m] \u001b[38;5;241m=\u001b[39m properties\n\u001b[0;32m--> 980\u001b[0m request_dict \u001b[38;5;241m=\u001b[39m \u001b[38;5;28;43mself\u001b[39;49m\u001b[38;5;241;43m.\u001b[39;49m\u001b[43m_convert_to_request_dict\u001b[49m\u001b[43m(\u001b[49m\n\u001b[1;32m    981\u001b[0m \u001b[43m    \u001b[49m\u001b[43mapi_params\u001b[49m\u001b[38;5;241;43m=\u001b[39;49m\u001b[43mapi_params\u001b[49m\u001b[43m,\u001b[49m\n\u001b[1;32m    982\u001b[0m \u001b[43m    \u001b[49m\u001b[43moperation_model\u001b[49m\u001b[38;5;241;43m=\u001b[39;49m\u001b[43moperation_model\u001b[49m\u001b[43m,\u001b[49m\n\u001b[1;32m    983\u001b[0m \u001b[43m    \u001b[49m\u001b[43mendpoint_url\u001b[49m\u001b[38;5;241;43m=\u001b[39;49m\u001b[43mendpoint_url\u001b[49m\u001b[43m,\u001b[49m\n\u001b[1;32m    984\u001b[0m \u001b[43m    \u001b[49m\u001b[43mcontext\u001b[49m\u001b[38;5;241;43m=\u001b[39;49m\u001b[43mrequest_context\u001b[49m\u001b[43m,\u001b[49m\n\u001b[1;32m    985\u001b[0m \u001b[43m    \u001b[49m\u001b[43mheaders\u001b[49m\u001b[38;5;241;43m=\u001b[39;49m\u001b[43madditional_headers\u001b[49m\u001b[43m,\u001b[49m\n\u001b[1;32m    986\u001b[0m \u001b[43m\u001b[49m\u001b[43m)\u001b[49m\n\u001b[1;32m    987\u001b[0m resolve_checksum_context(request_dict, operation_model, api_params)\n",
      "File \u001b[0;32m~/c-af-chartist/.venv/lib/python3.13/site-packages/botocore/client.py:1047\u001b[0m, in \u001b[0;36mBaseClient._convert_to_request_dict\u001b[0;34m(self, api_params, operation_model, endpoint_url, context, headers, set_user_agent_header)\u001b[0m\n\u001b[1;32m   1038\u001b[0m \u001b[38;5;28;01mdef\u001b[39;00m\u001b[38;5;250m \u001b[39m\u001b[38;5;21m_convert_to_request_dict\u001b[39m(\n\u001b[1;32m   1039\u001b[0m     \u001b[38;5;28mself\u001b[39m,\n\u001b[1;32m   1040\u001b[0m     api_params,\n\u001b[0;32m   (...)\u001b[0m\n\u001b[1;32m   1045\u001b[0m     set_user_agent_header\u001b[38;5;241m=\u001b[39m\u001b[38;5;28;01mTrue\u001b[39;00m,\n\u001b[1;32m   1046\u001b[0m ):\n\u001b[0;32m-> 1047\u001b[0m     request_dict \u001b[38;5;241m=\u001b[39m \u001b[38;5;28;43mself\u001b[39;49m\u001b[38;5;241;43m.\u001b[39;49m\u001b[43m_serializer\u001b[49m\u001b[38;5;241;43m.\u001b[39;49m\u001b[43mserialize_to_request\u001b[49m\u001b[43m(\u001b[49m\n\u001b[1;32m   1048\u001b[0m \u001b[43m        \u001b[49m\u001b[43mapi_params\u001b[49m\u001b[43m,\u001b[49m\u001b[43m \u001b[49m\u001b[43moperation_model\u001b[49m\n\u001b[1;32m   1049\u001b[0m \u001b[43m    \u001b[49m\u001b[43m)\u001b[49m\n\u001b[1;32m   1050\u001b[0m     \u001b[38;5;28;01mif\u001b[39;00m \u001b[38;5;129;01mnot\u001b[39;00m \u001b[38;5;28mself\u001b[39m\u001b[38;5;241m.\u001b[39m_client_config\u001b[38;5;241m.\u001b[39minject_host_prefix:\n",
      "File \u001b[0;32m~/c-af-chartist/.venv/lib/python3.13/site-packages/botocore/validate.py:381\u001b[0m, in \u001b[0;36mParamValidationDecorator.serialize_to_request\u001b[0;34m(self, parameters, operation_model)\u001b[0m\n\u001b[1;32m    380\u001b[0m     \u001b[38;5;28;01mif\u001b[39;00m report\u001b[38;5;241m.\u001b[39mhas_errors():\n\u001b[0;32m--> 381\u001b[0m         \u001b[38;5;28;01mraise\u001b[39;00m ParamValidationError(report\u001b[38;5;241m=\u001b[39mreport\u001b[38;5;241m.\u001b[39mgenerate_report())\n\u001b[1;32m    382\u001b[0m \u001b[38;5;28;01mreturn\u001b[39;00m \u001b[38;5;28mself\u001b[39m\u001b[38;5;241m.\u001b[39m_serializer\u001b[38;5;241m.\u001b[39mserialize_to_request(\n\u001b[1;32m    383\u001b[0m     parameters, operation_model\n\u001b[1;32m    384\u001b[0m )\n",
      "\u001b[0;31mParamValidationError\u001b[0m: Parameter validation failed:\nInvalid length for parameter TokenCode, value: 0, valid min length: 6",
      "\nDuring handling of the above exception, another exception occurred:\n",
      "\u001b[0;31mChAIError\u001b[0m                                 Traceback (most recent call last)",
      "Cell \u001b[0;32mIn[12], line 1\u001b[0m\n\u001b[0;32m----> 1\u001b[0m json_images \u001b[38;5;241m=\u001b[39m \u001b[43mchai\u001b[49m\u001b[38;5;241;43m.\u001b[39;49m\u001b[43mhandle_request\u001b[49m\u001b[43m(\u001b[49m\u001b[43mprompt\u001b[49m\u001b[43m \u001b[49m\u001b[38;5;241;43m=\u001b[39;49m\u001b[43m \u001b[49m\u001b[43mprompt\u001b[49m\u001b[43m,\u001b[49m\u001b[43m \u001b[49m\u001b[43mimage_path\u001b[49m\u001b[38;5;241;43m=\u001b[39;49m\u001b[38;5;124;43m'\u001b[39;49m\u001b[38;5;124;43m/Users/jose.orjales/c-af-chartist/tests/img/satisfaction.png\u001b[39;49m\u001b[38;5;124;43m'\u001b[39;49m\u001b[43m,\u001b[49m\u001b[43m \u001b[49m\u001b[43moutput_path\u001b[49m\u001b[38;5;241;43m=\u001b[39;49m\u001b[38;5;124;43m'\u001b[39;49m\u001b[38;5;124;43m/Users/jose.orjales/c-af-chartist/tests/img\u001b[39;49m\u001b[38;5;124;43m'\u001b[39;49m\u001b[43m)\u001b[49m\n",
      "File \u001b[0;32m~/c-af-chartist/chAI/chAI.py:300\u001b[0m, in \u001b[0;36mchAI.handle_request\u001b[0;34m(self, data, prompt, image_path, chart_type, **kwargs)\u001b[0m\n\u001b[1;32m    298\u001b[0m \u001b[38;5;28;01melif\u001b[39;00m \u001b[38;5;28misinstance\u001b[39m(image_path, \u001b[38;5;28mstr\u001b[39m):\n\u001b[1;32m    299\u001b[0m     logger\u001b[38;5;241m.\u001b[39minfo(\u001b[38;5;124m\"\u001b[39m\u001b[38;5;124mDetected image location input. Preparing to review...\u001b[39m\u001b[38;5;124m\"\u001b[39m)\n\u001b[0;32m--> 300\u001b[0m     final_prompt \u001b[38;5;241m=\u001b[39m \u001b[38;5;28;43mself\u001b[39;49m\u001b[38;5;241;43m.\u001b[39;49m\u001b[43m_handle_image_request\u001b[49m\u001b[43m(\u001b[49m\u001b[43mimage_path\u001b[49m\u001b[43m)\u001b[49m\n\u001b[1;32m    301\u001b[0m     \u001b[38;5;28mprint\u001b[39m(final_prompt)\n\u001b[1;32m    303\u001b[0m \u001b[38;5;28;01melif\u001b[39;00m chart_type:\n",
      "File \u001b[0;32m~/c-af-chartist/chAI/chAI.py:325\u001b[0m, in \u001b[0;36mchAI._handle_image_request\u001b[0;34m(self, image_path)\u001b[0m\n\u001b[1;32m    323\u001b[0m \u001b[38;5;250m\u001b[39m\u001b[38;5;124;03m\"\"\"Handle image analysis request.\"\"\"\u001b[39;00m\n\u001b[1;32m    324\u001b[0m image_base64 \u001b[38;5;241m=\u001b[39m \u001b[38;5;28mself\u001b[39m\u001b[38;5;241m.\u001b[39mencode_image(image_path)\n\u001b[0;32m--> 325\u001b[0m image_response \u001b[38;5;241m=\u001b[39m \u001b[38;5;28;43mself\u001b[39;49m\u001b[38;5;241;43m.\u001b[39;49m\u001b[43manalyse_image\u001b[49m\u001b[43m(\u001b[49m\u001b[43mimage_base64\u001b[49m\u001b[43m)\u001b[49m\n\u001b[1;32m    327\u001b[0m \u001b[38;5;28;01mreturn\u001b[39;00m \u001b[38;5;124mf\u001b[39m\u001b[38;5;124m\"\"\"\u001b[39m\n\u001b[1;32m    328\u001b[0m \u001b[38;5;124m    Review the supplied image information and create an interactive visualisation that matches it as closely as possible.\u001b[39m\n\u001b[1;32m    329\u001b[0m \u001b[38;5;124m    \u001b[39m\n\u001b[0;32m   (...)\u001b[0m\n\u001b[1;32m    369\u001b[0m \u001b[38;5;124m    Focus on creating a visualisation that accurately represents the original image while maintaining professional standards and interactive functionality.\u001b[39m\n\u001b[1;32m    370\u001b[0m \u001b[38;5;124m\u001b[39m\u001b[38;5;124m\"\"\"\u001b[39m\n",
      "File \u001b[0;32m~/c-af-chartist/chAI/chAI.py:253\u001b[0m, in \u001b[0;36mchAI.analyse_image\u001b[0;34m(self, base64_data, custom_prompt)\u001b[0m\n\u001b[1;32m    251\u001b[0m \u001b[38;5;28;01mexcept\u001b[39;00m \u001b[38;5;167;01mException\u001b[39;00m \u001b[38;5;28;01mas\u001b[39;00m e:\n\u001b[1;32m    252\u001b[0m     logger\u001b[38;5;241m.\u001b[39merror(\u001b[38;5;124mf\u001b[39m\u001b[38;5;124m\"\u001b[39m\u001b[38;5;124mError in analyse_image: \u001b[39m\u001b[38;5;132;01m{\u001b[39;00m\u001b[38;5;28mstr\u001b[39m(e)\u001b[38;5;132;01m}\u001b[39;00m\u001b[38;5;124m\"\u001b[39m)\n\u001b[0;32m--> 253\u001b[0m     \u001b[38;5;28;01mraise\u001b[39;00m ChAIError(\u001b[38;5;124mf\u001b[39m\u001b[38;5;124m\"\u001b[39m\u001b[38;5;124mFailed to analyse image: \u001b[39m\u001b[38;5;132;01m{\u001b[39;00me\u001b[38;5;132;01m}\u001b[39;00m\u001b[38;5;124m\"\u001b[39m)\n",
      "\u001b[0;31mChAIError\u001b[0m: Failed to analyse image: Parameter validation failed:\nInvalid length for parameter TokenCode, value: 0, valid min length: 6"
     ]
    }
   ],
   "source": [
    "json_images = chai.handle_request(prompt = prompt, image_path='/Users/jose.orjales/c-af-chartist/tests/img/satisfaction.png')"
   ]
  },
  {
   "cell_type": "code",
   "execution_count": null,
   "metadata": {},
   "outputs": [],
   "source": [
    "print(json_images['analysis'])"
   ]
  },
  {
   "cell_type": "code",
   "execution_count": null,
   "metadata": {},
   "outputs": [],
   "source": [
    "print(json_images['code'])"
   ]
  },
  {
   "cell_type": "code",
   "execution_count": null,
   "metadata": {},
   "outputs": [],
   "source": [
    "print(json_images['path'])"
   ]
  },
  {
   "cell_type": "code",
   "execution_count": null,
   "metadata": {},
   "outputs": [],
   "source": [
    "import plotly.graph_objects as go\n",
    "\n",
    "satisfaction_scores = [3.4, 3.6, 3.8, 4.0, 4.2, 4.4, 4.6, 4.8, 5.0]\n",
    "counts = [7, 7, 12, 12, 13, 18, 13, 12, 16]\n",
    "\n",
    "fig = go.Figure(data=[go.Bar(\n",
    "    x=satisfaction_scores,\n",
    "    y=counts,\n",
    "    marker_color='orange',\n",
    "    width=0.2\n",
    ")])\n",
    "\n",
    "fig.update_layout(\n",
    "    title_text='Satisfaction Score Distribution',\n",
    "    xaxis_title='Satisfaction Score',\n",
    "    yaxis_title='Count',\n",
    "    xaxis=dict(tickmode='linear', dtick=0.2),\n",
    "    yaxis=dict(range=[0, 20]),\n",
    "    plot_bgcolor='rgba(240, 240, 250, 0.5)',\n",
    "    template='plotly_white'\n",
    ")\n",
    "\n",
    "fig.show()"
   ]
  },
  {
   "cell_type": "markdown",
   "metadata": {},
   "source": [
    "## Asking for some template code"
   ]
  },
  {
   "cell_type": "code",
   "execution_count": 9,
   "metadata": {},
   "outputs": [],
   "source": [
    "chart_prompt = \"I want a red chart with bold axis titles and labels on the bars. There should also be a legend showing each distinct category\""
   ]
  },
  {
   "cell_type": "code",
   "execution_count": 10,
   "metadata": {},
   "outputs": [
    {
     "data": {
      "text/html": [
       "\n",
       "            <div style='\n",
       "                padding: 2px 6px;\n",
       "                margin: 2px 0;\n",
       "                border-left: 3px solid #0d6efd;\n",
       "                background-color: #f8f9fa;\n",
       "                font-family: Monaco, monospace;\n",
       "                font-sise: 12px;\n",
       "            '>\n",
       "                <span style='color: #0d6efd; font-weight: bold;'>INFO</span>\n",
       "                <span style='color: #666; margin-right: 8px;'>15:48:38</span>\n",
       "                <span>Processing chart type request: scatter</span>\n",
       "            </div>\n",
       "            "
      ],
      "text/plain": [
       "<IPython.core.display.HTML object>"
      ]
     },
     "metadata": {},
     "output_type": "display_data"
    },
    {
     "name": "stdout",
     "output_type": "stream",
     "text": [
      "\n",
      "            import plotly.graph_objects as go\n",
      "            import numpy as np\n",
      "\n",
      "            # Generate sample data\n",
      "            np.random.seed(42)\n",
      "            x = np.random.uniform(0, 10, 50)\n",
      "            y = 2 * x + np.random.normal(0, 2, 50)\n",
      "\n",
      "            # Create figure with multiple series\n",
      "            fig = go.Figure()\n",
      "\n",
      "            # Add multiple scatter series with different colors\n",
      "            series_data = [\n",
      "                {'x': x, 'y': y, 'name': 'Series 1', 'color': '#1f77b4'},\n",
      "                {'x': x, 'y': y + 2, 'name': 'Series 2', 'color': '#2d91c2'},\n",
      "                {'x': x, 'y': y - 2, 'name': 'Series 3', 'color': '#7eb0d5'},\n",
      "                {'x': x, 'y': y * 0.8, 'name': 'Series 4', 'color': '#bddbf5'}\n",
      "            ]\n",
      "\n",
      "            for series in series_data:\n",
      "                fig.add_trace(\n",
      "                    go.Scatter(\n",
      "                        x=series['x'],\n",
      "                        y=series['y'],\n",
      "                        mode='markers',\n",
      "                        name=series['name'],\n",
      "                        marker=dict(\n",
      "                            sise=10,\n",
      "                            color=series['color'],\n",
      "                            opacity=0.7,\n",
      "                            line=dict(width=1, color='#444444')\n",
      "                        ),\n",
      "                        hovertemplate='x: %{x:.2f}<br>y: %{y:.2f}<extra></extra>'\n",
      "                    )\n",
      "                )\n",
      "\n",
      "            # Update layout with professional styling\n",
      "            fig.update_layout(\n",
      "                title={\n",
      "                    'text': 'Default Scatter Plot',\n",
      "                    'font': {'sise': 24, 'color': '#1f77b4'},\n",
      "                    'x': 0.5,\n",
      "                    'xanchor': 'center'\n",
      "                },\n",
      "                xaxis_title={\n",
      "                    'text': 'X Values',\n",
      "                    'font': {'sise': 16, 'color': '#444444', 'weight': 'bold'}\n",
      "                },\n",
      "                yaxis_title={\n",
      "                    'text': 'Y Values',\n",
      "                    'font': {'sise': 16, 'color': '#444444', 'weight': 'bold'}\n",
      "                },\n",
      "                template='plotly_white',\n",
      "                showlegend=True,\n",
      "                legend={\n",
      "                    'orientation': 'h',\n",
      "                    'yanchor': 'bottom',\n",
      "                    'y': -0.3,\n",
      "                    'xanchor': 'center',\n",
      "                    'x': 0.5\n",
      "                },\n",
      "                margin=dict(t=100, l=100, r=50, b=100)\n",
      "            )\n",
      "            \n"
     ]
    },
    {
     "name": "stderr",
     "output_type": "stream",
     "text": [
      "Processing chart type request: scatter\n"
     ]
    },
    {
     "data": {
      "text/html": [
       "\n",
       "            <div style='\n",
       "                padding: 2px 6px;\n",
       "                margin: 2px 0;\n",
       "                border-left: 3px solid #0d6efd;\n",
       "                background-color: #f8f9fa;\n",
       "                font-family: Monaco, monospace;\n",
       "                font-sise: 12px;\n",
       "            '>\n",
       "                <span style='color: #0d6efd; font-weight: bold;'>INFO</span>\n",
       "                <span style='color: #666; margin-right: 8px;'>15:48:38</span>\n",
       "                <span>Sending prompt and data to agent executor...</span>\n",
       "            </div>\n",
       "            "
      ],
      "text/plain": [
       "<IPython.core.display.HTML object>"
      ]
     },
     "metadata": {},
     "output_type": "display_data"
    },
    {
     "name": "stderr",
     "output_type": "stream",
     "text": [
      "Sending prompt and data to agent executor...\n"
     ]
    },
    {
     "data": {
      "application/vnd.plotly.v1+json": {
       "config": {
        "plotlyServerURL": "https://plot.ly"
       },
       "data": [
        {
         "hovertemplate": "x: %{x:.2f}<br>y: %{y:.2f}<extra></extra>",
         "marker": {
          "color": "#FF0000",
          "line": {
           "color": "#444444",
           "width": 1
          },
          "opacity": 0.7,
          "size": 10
         },
         "mode": "markers",
         "name": "Series 1",
         "type": "scatter",
         "x": [
          3.745401188473625,
          9.50714306409916,
          7.319939418114051,
          5.986584841970366,
          1.5601864044243652,
          1.5599452033620265,
          0.5808361216819946,
          8.661761457749352,
          6.011150117432088,
          7.080725777960454,
          0.20584494295802447,
          9.699098521619943,
          8.324426408004218,
          2.1233911067827616,
          1.8182496720710062,
          1.8340450985343382,
          3.0424224295953772,
          5.247564316322379,
          4.319450186421157,
          2.9122914019804194,
          6.118528947223795,
          1.3949386065204183,
          2.9214464853521815,
          3.663618432936917,
          4.56069984217036,
          7.851759613930136,
          1.9967378215835974,
          5.142344384136116,
          5.924145688620425,
          0.46450412719997725,
          6.075448519014383,
          1.7052412368729153,
          0.6505159298527952,
          9.488855372533333,
          9.656320330745594,
          8.08397348116461,
          3.0461376917337066,
          0.9767211400638387,
          6.842330265121569,
          4.4015249373960135,
          1.2203823484477883,
          4.951769101112702,
          0.34388521115218396,
          9.093204020787821,
          2.587799816000169,
          6.62522284353982,
          3.1171107608941098,
          5.200680211778108,
          5.4671027934327965,
          1.8485445552552704
         ],
         "y": [
          8.96773553693807,
          19.357022690578262,
          14.408582271451621,
          11.370962292762155,
          0.1633288281138756,
          1.6802019899346357,
          0.24039470144441422,
          19.437767367936534,
          12.709536814001098,
          10.63537124519544,
          1.059857824705639,
          18.628032482407253,
          15.295008815396518,
          5.470134791247259,
          5.698498389133914,
          5.530650435301073,
          4.406409812745477,
          9.876703880942328,
          9.301427235649443,
          7.775673058205557,
          11.27870941875701,
          2.4185592597132026,
          3.6302230226923067,
          4.9348236177124924,
          10.746451329129115,
          18.41599928500192,
          3.849455400006527,
          12.29175456405628,
          12.571563427336118,
          -0.36123125481029406,
          12.873688249045594,
          6.4865556066777685,
          1.2293797814856873,
          22.106998056694678,
          14.073150453311698,
          17.81175197107967,
          6.266369519943756,
          1.3554275791959416,
          13.868182083314142,
          4.827912045590241,
          2.0014209212205527,
          10.617763345248896,
          3.6435585117874,
          17.149867605028348,
          3.558612426213963,
          12.246931599910567,
          8.065025757192368,
          11.058862642875585,
          9.874685179331514,
          4.723623976737253
         ]
        },
        {
         "hovertemplate": "x: %{x:.2f}<br>y: %{y:.2f}<extra></extra>",
         "marker": {
          "color": "#FF3333",
          "line": {
           "color": "#444444",
           "width": 1
          },
          "opacity": 0.7,
          "size": 10
         },
         "mode": "markers",
         "name": "Series 2",
         "type": "scatter",
         "x": [
          3.745401188473625,
          9.50714306409916,
          7.319939418114051,
          5.986584841970366,
          1.5601864044243652,
          1.5599452033620265,
          0.5808361216819946,
          8.661761457749352,
          6.011150117432088,
          7.080725777960454,
          0.20584494295802447,
          9.699098521619943,
          8.324426408004218,
          2.1233911067827616,
          1.8182496720710062,
          1.8340450985343382,
          3.0424224295953772,
          5.247564316322379,
          4.319450186421157,
          2.9122914019804194,
          6.118528947223795,
          1.3949386065204183,
          2.9214464853521815,
          3.663618432936917,
          4.56069984217036,
          7.851759613930136,
          1.9967378215835974,
          5.142344384136116,
          5.924145688620425,
          0.46450412719997725,
          6.075448519014383,
          1.7052412368729153,
          0.6505159298527952,
          9.488855372533333,
          9.656320330745594,
          8.08397348116461,
          3.0461376917337066,
          0.9767211400638387,
          6.842330265121569,
          4.4015249373960135,
          1.2203823484477883,
          4.951769101112702,
          0.34388521115218396,
          9.093204020787821,
          2.587799816000169,
          6.62522284353982,
          3.1171107608941098,
          5.200680211778108,
          5.4671027934327965,
          1.8485445552552704
         ],
         "y": [
          10.96773553693807,
          21.357022690578262,
          16.40858227145162,
          13.370962292762155,
          2.1633288281138756,
          3.680201989934636,
          2.2403947014444143,
          21.437767367936534,
          14.709536814001098,
          12.63537124519544,
          3.059857824705639,
          20.628032482407253,
          17.295008815396518,
          7.470134791247259,
          7.698498389133914,
          7.530650435301073,
          6.406409812745477,
          11.876703880942328,
          11.301427235649443,
          9.775673058205557,
          13.27870941875701,
          4.418559259713202,
          5.630223022692307,
          6.9348236177124924,
          12.746451329129115,
          20.41599928500192,
          5.849455400006526,
          14.29175456405628,
          14.571563427336118,
          1.638768745189706,
          14.873688249045594,
          8.486555606677769,
          3.2293797814856875,
          24.106998056694678,
          16.073150453311698,
          19.81175197107967,
          8.266369519943755,
          3.3554275791959416,
          15.868182083314142,
          6.827912045590241,
          4.001420921220553,
          12.617763345248896,
          5.6435585117874005,
          19.149867605028348,
          5.558612426213963,
          14.246931599910567,
          10.065025757192368,
          13.058862642875585,
          11.874685179331514,
          6.723623976737253
         ]
        },
        {
         "hovertemplate": "x: %{x:.2f}<br>y: %{y:.2f}<extra></extra>",
         "marker": {
          "color": "#FF6666",
          "line": {
           "color": "#444444",
           "width": 1
          },
          "opacity": 0.7,
          "size": 10
         },
         "mode": "markers",
         "name": "Series 3",
         "type": "scatter",
         "x": [
          3.745401188473625,
          9.50714306409916,
          7.319939418114051,
          5.986584841970366,
          1.5601864044243652,
          1.5599452033620265,
          0.5808361216819946,
          8.661761457749352,
          6.011150117432088,
          7.080725777960454,
          0.20584494295802447,
          9.699098521619943,
          8.324426408004218,
          2.1233911067827616,
          1.8182496720710062,
          1.8340450985343382,
          3.0424224295953772,
          5.247564316322379,
          4.319450186421157,
          2.9122914019804194,
          6.118528947223795,
          1.3949386065204183,
          2.9214464853521815,
          3.663618432936917,
          4.56069984217036,
          7.851759613930136,
          1.9967378215835974,
          5.142344384136116,
          5.924145688620425,
          0.46450412719997725,
          6.075448519014383,
          1.7052412368729153,
          0.6505159298527952,
          9.488855372533333,
          9.656320330745594,
          8.08397348116461,
          3.0461376917337066,
          0.9767211400638387,
          6.842330265121569,
          4.4015249373960135,
          1.2203823484477883,
          4.951769101112702,
          0.34388521115218396,
          9.093204020787821,
          2.587799816000169,
          6.62522284353982,
          3.1171107608941098,
          5.200680211778108,
          5.4671027934327965,
          1.8485445552552704
         ],
         "y": [
          6.96773553693807,
          17.357022690578262,
          12.408582271451621,
          9.370962292762155,
          -1.8366711718861244,
          -0.31979801006536435,
          -1.7596052985555857,
          17.437767367936534,
          10.709536814001098,
          8.63537124519544,
          -0.9401421752943611,
          16.628032482407253,
          13.295008815396518,
          3.4701347912472587,
          3.6984983891339143,
          3.530650435301073,
          2.406409812745477,
          7.876703880942328,
          7.301427235649443,
          5.775673058205557,
          9.27870941875701,
          0.4185592597132026,
          1.6302230226923067,
          2.9348236177124924,
          8.746451329129115,
          16.41599928500192,
          1.8494554000065269,
          10.29175456405628,
          10.571563427336118,
          -2.361231254810294,
          10.873688249045594,
          4.4865556066777685,
          -0.7706202185143127,
          20.106998056694678,
          12.073150453311698,
          15.81175197107967,
          4.266369519943756,
          -0.6445724208040584,
          11.868182083314142,
          2.8279120455902413,
          0.0014209212205527066,
          8.617763345248896,
          1.6435585117874,
          15.149867605028348,
          1.558612426213963,
          10.246931599910567,
          6.065025757192368,
          9.058862642875585,
          7.8746851793315145,
          2.7236239767372528
         ]
        },
        {
         "hovertemplate": "x: %{x:.2f}<br>y: %{y:.2f}<extra></extra>",
         "marker": {
          "color": "#FF9999",
          "line": {
           "color": "#444444",
           "width": 1
          },
          "opacity": 0.7,
          "size": 10
         },
         "mode": "markers",
         "name": "Series 4",
         "type": "scatter",
         "x": [
          3.745401188473625,
          9.50714306409916,
          7.319939418114051,
          5.986584841970366,
          1.5601864044243652,
          1.5599452033620265,
          0.5808361216819946,
          8.661761457749352,
          6.011150117432088,
          7.080725777960454,
          0.20584494295802447,
          9.699098521619943,
          8.324426408004218,
          2.1233911067827616,
          1.8182496720710062,
          1.8340450985343382,
          3.0424224295953772,
          5.247564316322379,
          4.319450186421157,
          2.9122914019804194,
          6.118528947223795,
          1.3949386065204183,
          2.9214464853521815,
          3.663618432936917,
          4.56069984217036,
          7.851759613930136,
          1.9967378215835974,
          5.142344384136116,
          5.924145688620425,
          0.46450412719997725,
          6.075448519014383,
          1.7052412368729153,
          0.6505159298527952,
          9.488855372533333,
          9.656320330745594,
          8.08397348116461,
          3.0461376917337066,
          0.9767211400638387,
          6.842330265121569,
          4.4015249373960135,
          1.2203823484477883,
          4.951769101112702,
          0.34388521115218396,
          9.093204020787821,
          2.587799816000169,
          6.62522284353982,
          3.1171107608941098,
          5.200680211778108,
          5.4671027934327965,
          1.8485445552552704
         ],
         "y": [
          7.1741884295504565,
          15.48561815246261,
          11.526865817161298,
          9.096769834209724,
          0.1306630624911005,
          1.3441615919477086,
          0.1923157611555314,
          15.550213894349227,
          10.16762945120088,
          8.508296996156352,
          0.8478862597645112,
          14.902425985925802,
          12.236007052317214,
          4.376107832997807,
          4.558798711307132,
          4.424520348240859,
          3.525127850196382,
          7.901363104753862,
          7.441141788519555,
          6.220538446564446,
          9.022967535005609,
          1.9348474077705622,
          2.9041784181538457,
          3.947858894169994,
          8.597161063303293,
          14.732799428001536,
          3.079564320005222,
          9.833403651245025,
          10.057250741868895,
          -0.2889850038482353,
          10.298950599236477,
          5.189244485342215,
          0.9835038251885498,
          17.685598445355744,
          11.258520362649358,
          14.249401576863736,
          5.013095615955005,
          1.0843420633567533,
          11.094545666651314,
          3.862329636472193,
          1.6011367369764422,
          8.494210676199117,
          2.9148468094299202,
          13.719894084022679,
          2.8468899409711703,
          9.797545279928455,
          6.452020605753894,
          8.84709011430047,
          7.899748143465212,
          3.7788991813898023
         ]
        }
       ],
       "layout": {
        "legend": {
         "font": {
          "color": "#FF0000",
          "weight": "bold"
         },
         "orientation": "h",
         "x": 0.5,
         "xanchor": "center",
         "y": -0.3,
         "yanchor": "bottom"
        },
        "margin": {
         "b": 100,
         "l": 100,
         "r": 50,
         "t": 100
        },
        "paper_bgcolor": "white",
        "plot_bgcolor": "white",
        "showlegend": true,
        "template": {
         "data": {
          "bar": [
           {
            "error_x": {
             "color": "#2a3f5f"
            },
            "error_y": {
             "color": "#2a3f5f"
            },
            "marker": {
             "line": {
              "color": "white",
              "width": 0.5
             },
             "pattern": {
              "fillmode": "overlay",
              "size": 10,
              "solidity": 0.2
             }
            },
            "type": "bar"
           }
          ],
          "barpolar": [
           {
            "marker": {
             "line": {
              "color": "white",
              "width": 0.5
             },
             "pattern": {
              "fillmode": "overlay",
              "size": 10,
              "solidity": 0.2
             }
            },
            "type": "barpolar"
           }
          ],
          "carpet": [
           {
            "aaxis": {
             "endlinecolor": "#2a3f5f",
             "gridcolor": "#C8D4E3",
             "linecolor": "#C8D4E3",
             "minorgridcolor": "#C8D4E3",
             "startlinecolor": "#2a3f5f"
            },
            "baxis": {
             "endlinecolor": "#2a3f5f",
             "gridcolor": "#C8D4E3",
             "linecolor": "#C8D4E3",
             "minorgridcolor": "#C8D4E3",
             "startlinecolor": "#2a3f5f"
            },
            "type": "carpet"
           }
          ],
          "choropleth": [
           {
            "colorbar": {
             "outlinewidth": 0,
             "ticks": ""
            },
            "type": "choropleth"
           }
          ],
          "contour": [
           {
            "colorbar": {
             "outlinewidth": 0,
             "ticks": ""
            },
            "colorscale": [
             [
              0,
              "#0d0887"
             ],
             [
              0.1111111111111111,
              "#46039f"
             ],
             [
              0.2222222222222222,
              "#7201a8"
             ],
             [
              0.3333333333333333,
              "#9c179e"
             ],
             [
              0.4444444444444444,
              "#bd3786"
             ],
             [
              0.5555555555555556,
              "#d8576b"
             ],
             [
              0.6666666666666666,
              "#ed7953"
             ],
             [
              0.7777777777777778,
              "#fb9f3a"
             ],
             [
              0.8888888888888888,
              "#fdca26"
             ],
             [
              1,
              "#f0f921"
             ]
            ],
            "type": "contour"
           }
          ],
          "contourcarpet": [
           {
            "colorbar": {
             "outlinewidth": 0,
             "ticks": ""
            },
            "type": "contourcarpet"
           }
          ],
          "heatmap": [
           {
            "colorbar": {
             "outlinewidth": 0,
             "ticks": ""
            },
            "colorscale": [
             [
              0,
              "#0d0887"
             ],
             [
              0.1111111111111111,
              "#46039f"
             ],
             [
              0.2222222222222222,
              "#7201a8"
             ],
             [
              0.3333333333333333,
              "#9c179e"
             ],
             [
              0.4444444444444444,
              "#bd3786"
             ],
             [
              0.5555555555555556,
              "#d8576b"
             ],
             [
              0.6666666666666666,
              "#ed7953"
             ],
             [
              0.7777777777777778,
              "#fb9f3a"
             ],
             [
              0.8888888888888888,
              "#fdca26"
             ],
             [
              1,
              "#f0f921"
             ]
            ],
            "type": "heatmap"
           }
          ],
          "heatmapgl": [
           {
            "colorbar": {
             "outlinewidth": 0,
             "ticks": ""
            },
            "colorscale": [
             [
              0,
              "#0d0887"
             ],
             [
              0.1111111111111111,
              "#46039f"
             ],
             [
              0.2222222222222222,
              "#7201a8"
             ],
             [
              0.3333333333333333,
              "#9c179e"
             ],
             [
              0.4444444444444444,
              "#bd3786"
             ],
             [
              0.5555555555555556,
              "#d8576b"
             ],
             [
              0.6666666666666666,
              "#ed7953"
             ],
             [
              0.7777777777777778,
              "#fb9f3a"
             ],
             [
              0.8888888888888888,
              "#fdca26"
             ],
             [
              1,
              "#f0f921"
             ]
            ],
            "type": "heatmapgl"
           }
          ],
          "histogram": [
           {
            "marker": {
             "pattern": {
              "fillmode": "overlay",
              "size": 10,
              "solidity": 0.2
             }
            },
            "type": "histogram"
           }
          ],
          "histogram2d": [
           {
            "colorbar": {
             "outlinewidth": 0,
             "ticks": ""
            },
            "colorscale": [
             [
              0,
              "#0d0887"
             ],
             [
              0.1111111111111111,
              "#46039f"
             ],
             [
              0.2222222222222222,
              "#7201a8"
             ],
             [
              0.3333333333333333,
              "#9c179e"
             ],
             [
              0.4444444444444444,
              "#bd3786"
             ],
             [
              0.5555555555555556,
              "#d8576b"
             ],
             [
              0.6666666666666666,
              "#ed7953"
             ],
             [
              0.7777777777777778,
              "#fb9f3a"
             ],
             [
              0.8888888888888888,
              "#fdca26"
             ],
             [
              1,
              "#f0f921"
             ]
            ],
            "type": "histogram2d"
           }
          ],
          "histogram2dcontour": [
           {
            "colorbar": {
             "outlinewidth": 0,
             "ticks": ""
            },
            "colorscale": [
             [
              0,
              "#0d0887"
             ],
             [
              0.1111111111111111,
              "#46039f"
             ],
             [
              0.2222222222222222,
              "#7201a8"
             ],
             [
              0.3333333333333333,
              "#9c179e"
             ],
             [
              0.4444444444444444,
              "#bd3786"
             ],
             [
              0.5555555555555556,
              "#d8576b"
             ],
             [
              0.6666666666666666,
              "#ed7953"
             ],
             [
              0.7777777777777778,
              "#fb9f3a"
             ],
             [
              0.8888888888888888,
              "#fdca26"
             ],
             [
              1,
              "#f0f921"
             ]
            ],
            "type": "histogram2dcontour"
           }
          ],
          "mesh3d": [
           {
            "colorbar": {
             "outlinewidth": 0,
             "ticks": ""
            },
            "type": "mesh3d"
           }
          ],
          "parcoords": [
           {
            "line": {
             "colorbar": {
              "outlinewidth": 0,
              "ticks": ""
             }
            },
            "type": "parcoords"
           }
          ],
          "pie": [
           {
            "automargin": true,
            "type": "pie"
           }
          ],
          "scatter": [
           {
            "fillpattern": {
             "fillmode": "overlay",
             "size": 10,
             "solidity": 0.2
            },
            "type": "scatter"
           }
          ],
          "scatter3d": [
           {
            "line": {
             "colorbar": {
              "outlinewidth": 0,
              "ticks": ""
             }
            },
            "marker": {
             "colorbar": {
              "outlinewidth": 0,
              "ticks": ""
             }
            },
            "type": "scatter3d"
           }
          ],
          "scattercarpet": [
           {
            "marker": {
             "colorbar": {
              "outlinewidth": 0,
              "ticks": ""
             }
            },
            "type": "scattercarpet"
           }
          ],
          "scattergeo": [
           {
            "marker": {
             "colorbar": {
              "outlinewidth": 0,
              "ticks": ""
             }
            },
            "type": "scattergeo"
           }
          ],
          "scattergl": [
           {
            "marker": {
             "colorbar": {
              "outlinewidth": 0,
              "ticks": ""
             }
            },
            "type": "scattergl"
           }
          ],
          "scattermapbox": [
           {
            "marker": {
             "colorbar": {
              "outlinewidth": 0,
              "ticks": ""
             }
            },
            "type": "scattermapbox"
           }
          ],
          "scatterpolar": [
           {
            "marker": {
             "colorbar": {
              "outlinewidth": 0,
              "ticks": ""
             }
            },
            "type": "scatterpolar"
           }
          ],
          "scatterpolargl": [
           {
            "marker": {
             "colorbar": {
              "outlinewidth": 0,
              "ticks": ""
             }
            },
            "type": "scatterpolargl"
           }
          ],
          "scatterternary": [
           {
            "marker": {
             "colorbar": {
              "outlinewidth": 0,
              "ticks": ""
             }
            },
            "type": "scatterternary"
           }
          ],
          "surface": [
           {
            "colorbar": {
             "outlinewidth": 0,
             "ticks": ""
            },
            "colorscale": [
             [
              0,
              "#0d0887"
             ],
             [
              0.1111111111111111,
              "#46039f"
             ],
             [
              0.2222222222222222,
              "#7201a8"
             ],
             [
              0.3333333333333333,
              "#9c179e"
             ],
             [
              0.4444444444444444,
              "#bd3786"
             ],
             [
              0.5555555555555556,
              "#d8576b"
             ],
             [
              0.6666666666666666,
              "#ed7953"
             ],
             [
              0.7777777777777778,
              "#fb9f3a"
             ],
             [
              0.8888888888888888,
              "#fdca26"
             ],
             [
              1,
              "#f0f921"
             ]
            ],
            "type": "surface"
           }
          ],
          "table": [
           {
            "cells": {
             "fill": {
              "color": "#EBF0F8"
             },
             "line": {
              "color": "white"
             }
            },
            "header": {
             "fill": {
              "color": "#C8D4E3"
             },
             "line": {
              "color": "white"
             }
            },
            "type": "table"
           }
          ]
         },
         "layout": {
          "annotationdefaults": {
           "arrowcolor": "#2a3f5f",
           "arrowhead": 0,
           "arrowwidth": 1
          },
          "autotypenumbers": "strict",
          "coloraxis": {
           "colorbar": {
            "outlinewidth": 0,
            "ticks": ""
           }
          },
          "colorscale": {
           "diverging": [
            [
             0,
             "#8e0152"
            ],
            [
             0.1,
             "#c51b7d"
            ],
            [
             0.2,
             "#de77ae"
            ],
            [
             0.3,
             "#f1b6da"
            ],
            [
             0.4,
             "#fde0ef"
            ],
            [
             0.5,
             "#f7f7f7"
            ],
            [
             0.6,
             "#e6f5d0"
            ],
            [
             0.7,
             "#b8e186"
            ],
            [
             0.8,
             "#7fbc41"
            ],
            [
             0.9,
             "#4d9221"
            ],
            [
             1,
             "#276419"
            ]
           ],
           "sequential": [
            [
             0,
             "#0d0887"
            ],
            [
             0.1111111111111111,
             "#46039f"
            ],
            [
             0.2222222222222222,
             "#7201a8"
            ],
            [
             0.3333333333333333,
             "#9c179e"
            ],
            [
             0.4444444444444444,
             "#bd3786"
            ],
            [
             0.5555555555555556,
             "#d8576b"
            ],
            [
             0.6666666666666666,
             "#ed7953"
            ],
            [
             0.7777777777777778,
             "#fb9f3a"
            ],
            [
             0.8888888888888888,
             "#fdca26"
            ],
            [
             1,
             "#f0f921"
            ]
           ],
           "sequentialminus": [
            [
             0,
             "#0d0887"
            ],
            [
             0.1111111111111111,
             "#46039f"
            ],
            [
             0.2222222222222222,
             "#7201a8"
            ],
            [
             0.3333333333333333,
             "#9c179e"
            ],
            [
             0.4444444444444444,
             "#bd3786"
            ],
            [
             0.5555555555555556,
             "#d8576b"
            ],
            [
             0.6666666666666666,
             "#ed7953"
            ],
            [
             0.7777777777777778,
             "#fb9f3a"
            ],
            [
             0.8888888888888888,
             "#fdca26"
            ],
            [
             1,
             "#f0f921"
            ]
           ]
          },
          "colorway": [
           "#636efa",
           "#EF553B",
           "#00cc96",
           "#ab63fa",
           "#FFA15A",
           "#19d3f3",
           "#FF6692",
           "#B6E880",
           "#FF97FF",
           "#FECB52"
          ],
          "font": {
           "color": "#2a3f5f"
          },
          "geo": {
           "bgcolor": "white",
           "lakecolor": "white",
           "landcolor": "white",
           "showlakes": true,
           "showland": true,
           "subunitcolor": "#C8D4E3"
          },
          "hoverlabel": {
           "align": "left"
          },
          "hovermode": "closest",
          "mapbox": {
           "style": "light"
          },
          "paper_bgcolor": "white",
          "plot_bgcolor": "white",
          "polar": {
           "angularaxis": {
            "gridcolor": "#EBF0F8",
            "linecolor": "#EBF0F8",
            "ticks": ""
           },
           "bgcolor": "white",
           "radialaxis": {
            "gridcolor": "#EBF0F8",
            "linecolor": "#EBF0F8",
            "ticks": ""
           }
          },
          "scene": {
           "xaxis": {
            "backgroundcolor": "white",
            "gridcolor": "#DFE8F3",
            "gridwidth": 2,
            "linecolor": "#EBF0F8",
            "showbackground": true,
            "ticks": "",
            "zerolinecolor": "#EBF0F8"
           },
           "yaxis": {
            "backgroundcolor": "white",
            "gridcolor": "#DFE8F3",
            "gridwidth": 2,
            "linecolor": "#EBF0F8",
            "showbackground": true,
            "ticks": "",
            "zerolinecolor": "#EBF0F8"
           },
           "zaxis": {
            "backgroundcolor": "white",
            "gridcolor": "#DFE8F3",
            "gridwidth": 2,
            "linecolor": "#EBF0F8",
            "showbackground": true,
            "ticks": "",
            "zerolinecolor": "#EBF0F8"
           }
          },
          "shapedefaults": {
           "line": {
            "color": "#2a3f5f"
           }
          },
          "ternary": {
           "aaxis": {
            "gridcolor": "#DFE8F3",
            "linecolor": "#A2B1C6",
            "ticks": ""
           },
           "baxis": {
            "gridcolor": "#DFE8F3",
            "linecolor": "#A2B1C6",
            "ticks": ""
           },
           "bgcolor": "white",
           "caxis": {
            "gridcolor": "#DFE8F3",
            "linecolor": "#A2B1C6",
            "ticks": ""
           }
          },
          "title": {
           "x": 0.05
          },
          "xaxis": {
           "automargin": true,
           "gridcolor": "#EBF0F8",
           "linecolor": "#EBF0F8",
           "ticks": "",
           "title": {
            "standoff": 15
           },
           "zerolinecolor": "#EBF0F8",
           "zerolinewidth": 2
          },
          "yaxis": {
           "automargin": true,
           "gridcolor": "#EBF0F8",
           "linecolor": "#EBF0F8",
           "ticks": "",
           "title": {
            "standoff": 15
           },
           "zerolinecolor": "#EBF0F8",
           "zerolinewidth": 2
          }
         }
        },
        "title": {
         "font": {
          "color": "#FF0000",
          "size": 24
         },
         "text": "Default Scatter Plot",
         "x": 0.5,
         "xanchor": "center"
        },
        "xaxis": {
         "tickfont": {
          "color": "#FF0000",
          "weight": "bold"
         },
         "title": {
          "font": {
           "color": "#FF0000",
           "size": 16,
           "weight": "bold"
          },
          "text": "X Values"
         }
        },
        "yaxis": {
         "tickfont": {
          "color": "#FF0000",
          "weight": "bold"
         },
         "title": {
          "font": {
           "color": "#FF0000",
           "size": 16,
           "weight": "bold"
          },
          "text": "Y Values"
         }
        }
       }
      }
     },
     "metadata": {},
     "output_type": "display_data"
    }
   ],
   "source": [
    "chart_request = chai.handle_request(prompt = chart_prompt, chart_type='scatter')"
   ]
  },
  {
   "cell_type": "code",
   "execution_count": null,
   "metadata": {},
   "outputs": [],
   "source": [
    "print(chart_request)"
   ]
  },
  {
   "cell_type": "code",
   "execution_count": null,
   "metadata": {},
   "outputs": [],
   "source": [
    "print(chart_request['code'])"
   ]
  },
  {
   "cell_type": "code",
   "execution_count": null,
   "metadata": {},
   "outputs": [],
   "source": [
    "print(chart_request['path'])"
   ]
  },
  {
   "cell_type": "code",
   "execution_count": null,
   "metadata": {},
   "outputs": [],
   "source": [
    "import plotly.graph_objects as go\n",
    "import numpy as np\n",
    "\n",
    "# Generate sample data\n",
    "np.random.seed(42)\n",
    "x = np.random.uniform(0, 10, 50)\n",
    "y = 2 * x + np.random.normal(0, 2, 50)\n",
    "\n",
    "# Create figure with multiple series\n",
    "fig = go.Figure()\n",
    "\n",
    "# Add multiple scatter series with different shades of red\n",
    "series_data = [\n",
    "    {'x': x, 'y': y, 'name': 'Series 1', 'color': '#FF0000'},\n",
    "    {'x': x, 'y': y + 2, 'name': 'Series 2', 'color': '#FF3333'},\n",
    "    {'x': x, 'y': y - 2, 'name': 'Series 3', 'color': '#FF6666'},\n",
    "    {'x': x, 'y': y * 0.8, 'name': 'Series 4', 'color': '#FF9999'}\n",
    "]\n",
    "\n",
    "for series in series_data:\n",
    "    fig.add_trace(\n",
    "        go.Scatter(\n",
    "            x=series['x'],\n",
    "            y=series['y'],\n",
    "            mode='markers',\n",
    "            name=series['name'],\n",
    "            marker=dict(\n",
    "                size=10,\n",
    "                color=series['color'],\n",
    "                opacity=0.7,\n",
    "                line=dict(width=1, color='#444444')\n",
    "            ),\n",
    "            hovertemplate='x: %{x:.2f}<br>y: %{y:.2f}<extra></extra>'\n",
    "        )\n",
    "    )\n",
    "\n",
    "# Update layout with professional styling and bold axis titles\n",
    "fig.update_layout(\n",
    "    title={\n",
    "        'text': 'Default Scatter Plot',\n",
    "        'font': {'size': 24, 'color': '#FF0000'},\n",
    "        'x': 0.5,\n",
    "        'xanchor': 'center'\n",
    "    },\n",
    "    xaxis_title={\n",
    "        'text': 'X Values',\n",
    "        'font': {'size': 16, 'color': '#444444', 'weight': 'bold'}\n",
    "    },\n",
    "    yaxis_title={\n",
    "        'text': 'Y Values',\n",
    "        'font': {'size': 16, 'color': '#444444', 'weight': 'bold'}\n",
    "    },\n",
    "    template='plotly_white',\n",
    "    showlegend=True,\n",
    "    legend={\n",
    "        'orientation': 'h',\n",
    "        'yanchor': 'bottom',\n",
    "        'y': -0.3,\n",
    "        'xanchor': 'center',\n",
    "        'x': 0.5\n",
    "    },\n",
    "    margin=dict(t=100, l=100, r=50, b=100)\n",
    ")\n",
    "\n",
    "# Update axis labels to be bold\n",
    "fig.update_xaxes(tickfont=dict(weight='bold'))\n",
    "fig.update_yaxes(tickfont=dict(weight='bold'))\n",
    "\n",
    "fig.show()"
   ]
  }
 ],
 "metadata": {
  "kernelspec": {
   "display_name": ".venv",
   "language": "python",
   "name": "python3"
  },
  "language_info": {
   "codemirror_mode": {
    "name": "ipython",
    "version": 3
   },
   "file_extension": ".py",
   "mimetype": "text/x-python",
   "name": "python",
   "nbconvert_exporter": "python",
   "pygments_lexer": "ipython3",
   "version": "3.13.1"
  }
 },
 "nbformat": 4,
 "nbformat_minor": 2
}
