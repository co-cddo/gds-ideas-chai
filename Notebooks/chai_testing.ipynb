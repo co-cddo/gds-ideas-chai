{
 "cells": [
  {
   "cell_type": "code",
   "execution_count": 1,
   "metadata": {},
   "outputs": [],
   "source": [
    "# RUN THIS BEFORE ATTEMPTING, OTHERWISE MAY GET CLIENT ERRORS ON SOME AWS CALLS\n",
    "import boto3\n",
    "boto3.setup_default_session()"
   ]
  },
  {
   "cell_type": "code",
   "execution_count": 2,
   "metadata": {},
   "outputs": [],
   "source": [
    "import sys\n",
    "import os\n",
    "from pathlib import Path\n",
    "notebook_dir = Path(os.getcwd()) \n",
    "project_root = notebook_dir.parent\n",
    "sys.path.append(str(project_root))"
   ]
  },
  {
   "cell_type": "code",
   "execution_count": 3,
   "metadata": {},
   "outputs": [
    {
     "name": "stdout",
     "output_type": "stream",
     "text": [
      "Using AWS Profile: aws-prototype\n",
      "Using AWS Region: us-east-1\n",
      "Using LLM model: anthropic.claude-3-5-sonnet-20240620-v1:0\n",
      "\n",
      "Available models in LLMModel enum:\n",
      "- CLAUDE_V2_1: anthropic.claude-v2:1\n",
      "- CLAUDE_SONNET_3_5: anthropic.claude-3-5-sonnet-20240620-v1:0\n",
      "- CLAUDE_HAIKU_3_5: anthropic.claude-3-5-haiku-20241022-v1:0\n"
     ]
    }
   ],
   "source": [
    "from dotenv import load_dotenv\n",
    "import os\n",
    "from chAI.constants import LLMModel\n",
    "\n",
    "# Load .env file\n",
    "load_dotenv()\n",
    "aws_profile = os.getenv('AWS_PROFILE')\n",
    "llm_region = os.getenv('LLM_REGION')\n",
    "llm_model = os.getenv('LLM_MODEL')\n",
    "print(f\"Using AWS Profile: {aws_profile}\")\n",
    "print(f\"Using AWS Region: {llm_region}\")\n",
    "print(f\"Using LLM model: {llm_model}\")\n",
    "\n",
    "print(\"\\nAvailable models in LLMModel enum:\")\n",
    "for model in LLMModel:\n",
    "    print(f\"- {model.name}: {model.value}\")"
   ]
  },
  {
   "cell_type": "code",
   "execution_count": 4,
   "metadata": {},
   "outputs": [],
   "source": [
    "# Setup notebook to show logger messages\n",
    "import logging\n",
    "import sys\n",
    "from datetime import datetime\n",
    "from IPython.display import display, HTML\n",
    "\n",
    "class VSCodeNotebookHandler(logging.Handler):\n",
    "    def __init__(self):\n",
    "        super().__init__()\n",
    "        self.log_buffer = []\n",
    "\n",
    "    def emit(self, record):\n",
    "        try:\n",
    "            # Format the message\n",
    "            msg = self.format(record)\n",
    "            \n",
    "            # Define colors for different log levels\n",
    "            colors = {\n",
    "                logging.DEBUG: '#6c757d',    # gray\n",
    "                logging.INFO: '#0d6efd',     # blue\n",
    "                logging.WARNING: '#ffc107',   # yellow\n",
    "                logging.ERROR: '#dc3545',     # red\n",
    "                logging.CRITICAL: '#721c24'   # dark red\n",
    "            }\n",
    "            \n",
    "            # Get color for current log level\n",
    "            color = colors.get(record.levelno, '#000000')\n",
    "            \n",
    "            # Create HTML formatted log entry\n",
    "            log_entry = f\"\"\"\n",
    "            <div style='\n",
    "                padding: 2px 6px;\n",
    "                margin: 2px 0;\n",
    "                border-left: 3px solid {color};\n",
    "                background-color: #f8f9fa;\n",
    "                font-family: Monaco, monospace;\n",
    "                font-sise: 12px;\n",
    "            '>\n",
    "                <span style='color: {color}; font-weight: bold;'>{record.levelname}</span>\n",
    "                <span style='color: #666; margin-right: 8px;'>{datetime.now().strftime('%H:%M:%S')}</span>\n",
    "                <span>{msg}</span>\n",
    "            </div>\n",
    "            \"\"\"\n",
    "            \n",
    "            # Display the formatted log entry\n",
    "            display(HTML(log_entry))\n",
    "            \n",
    "            # Also print to stderr for VSCode's native console\n",
    "            print(msg, file=sys.stderr)\n",
    "            \n",
    "        except Exception as e:\n",
    "            print(f\"Error in log handler: {str(e)}\", file=sys.stderr)\n",
    "\n",
    "def setup_notebook_logging(level=logging.INFO):\n",
    "    \"\"\"\n",
    "    Configure logging for VSCode Jupyter notebooks\n",
    "    \n",
    "    Args:\n",
    "        level: The logging level to use (default: INFO)\n",
    "    Returns:\n",
    "        logger: Configured logger instance\n",
    "    \"\"\"\n",
    "    # Create or get the root logger\n",
    "    logger = logging.getLogger()\n",
    "    \n",
    "    # Remove any existing handlers\n",
    "    for handler in logger.handlers[:]:\n",
    "        logger.removeHandler(handler)\n",
    "    \n",
    "    # Set the logging level\n",
    "    logger.setLevel(level)\n",
    "    \n",
    "    # Create and configure the VSCode notebook handler\n",
    "    handler = VSCodeNotebookHandler()\n",
    "    formatter = logging.Formatter('%(message)s')\n",
    "    handler.setFormatter(formatter)\n",
    "    logger.addHandler(handler)\n",
    "    \n",
    "    return logger\n",
    "\n",
    "# Usage example:\n",
    "logger = setup_notebook_logging(logging.INFO)\n",
    "\n",
    "# Test the logger\n",
    "def test_logging():\n",
    "    logger.debug(\"This is a debug message\")\n",
    "    logger.info(\"This is an info message\")\n",
    "    logger.warning(\"This is a warning message\")\n",
    "    logger.error(\"This is an error message\")\n",
    "    logger.critical(\"This is a critical message\")"
   ]
  },
  {
   "cell_type": "code",
   "execution_count": 5,
   "metadata": {},
   "outputs": [],
   "source": [
    "logger = setup_notebook_logging()"
   ]
  },
  {
   "cell_type": "markdown",
   "metadata": {},
   "source": [
    "# chAI testing and examples"
   ]
  },
  {
   "cell_type": "code",
   "execution_count": 6,
   "metadata": {},
   "outputs": [],
   "source": [
    "import numpy as np\n",
    "import pandas as pd\n",
    "def create_sample_dataset():\n",
    "    \"\"\"Create a sample dataset for testing\"\"\"\n",
    "    np.random.seed(42)\n",
    "    dates = pd.date_range(start=\"2023-01-01\", periods=100, freq=\"D\")\n",
    "\n",
    "    sample_df = pd.DataFrame(\n",
    "        {\n",
    "            \"date\": dates,\n",
    "            \"sales\": np.random.normal(1000, 100, 100),\n",
    "            \"customers\": np.random.randint(50, 200, 100),\n",
    "            \"satisfaction_score\": np.random.uniform(3.5, 5.0, 100),\n",
    "            \"category\": np.random.choice([\"A\", \"B\", \"C\"], 100),\n",
    "        }\n",
    "    )\n",
    "\n",
    "    return sample_df"
   ]
  },
  {
   "cell_type": "code",
   "execution_count": 7,
   "metadata": {},
   "outputs": [
    {
     "data": {
      "text/html": [
       "\n",
       "            <div style='\n",
       "                padding: 2px 6px;\n",
       "                margin: 2px 0;\n",
       "                border-left: 3px solid #0d6efd;\n",
       "                background-color: #f8f9fa;\n",
       "                font-family: Monaco, monospace;\n",
       "                font-sise: 12px;\n",
       "            '>\n",
       "                <span style='color: #0d6efd; font-weight: bold;'>INFO</span>\n",
       "                <span style='color: #666; margin-right: 8px;'>17:38:48</span>\n",
       "                <span>chAI Start</span>\n",
       "            </div>\n",
       "            "
      ],
      "text/plain": [
       "<IPython.core.display.HTML object>"
      ]
     },
     "metadata": {},
     "output_type": "display_data"
    },
    {
     "name": "stderr",
     "output_type": "stream",
     "text": [
      "chAI Start\n"
     ]
    },
    {
     "data": {
      "text/html": [
       "\n",
       "            <div style='\n",
       "                padding: 2px 6px;\n",
       "                margin: 2px 0;\n",
       "                border-left: 3px solid #0d6efd;\n",
       "                background-color: #f8f9fa;\n",
       "                font-family: Monaco, monospace;\n",
       "                font-sise: 12px;\n",
       "            '>\n",
       "                <span style='color: #0d6efd; font-weight: bold;'>INFO</span>\n",
       "                <span style='color: #666; margin-right: 8px;'>17:38:48</span>\n",
       "                <span>Loaded config for agent successfully.</span>\n",
       "            </div>\n",
       "            "
      ],
      "text/plain": [
       "<IPython.core.display.HTML object>"
      ]
     },
     "metadata": {},
     "output_type": "display_data"
    },
    {
     "name": "stderr",
     "output_type": "stream",
     "text": [
      "Loaded config for agent successfully.\n"
     ]
    },
    {
     "data": {
      "text/html": [
       "\n",
       "            <div style='\n",
       "                padding: 2px 6px;\n",
       "                margin: 2px 0;\n",
       "                border-left: 3px solid #0d6efd;\n",
       "                background-color: #f8f9fa;\n",
       "                font-family: Monaco, monospace;\n",
       "                font-sise: 12px;\n",
       "            '>\n",
       "                <span style='color: #0d6efd; font-weight: bold;'>INFO</span>\n",
       "                <span style='color: #666; margin-right: 8px;'>17:38:48</span>\n",
       "                <span>Loaded config for agent successfully.</span>\n",
       "            </div>\n",
       "            "
      ],
      "text/plain": [
       "<IPython.core.display.HTML object>"
      ]
     },
     "metadata": {},
     "output_type": "display_data"
    },
    {
     "name": "stderr",
     "output_type": "stream",
     "text": [
      "Loaded config for agent successfully.\n"
     ]
    },
    {
     "data": {
      "text/html": [
       "\n",
       "            <div style='\n",
       "                padding: 2px 6px;\n",
       "                margin: 2px 0;\n",
       "                border-left: 3px solid #0d6efd;\n",
       "                background-color: #f8f9fa;\n",
       "                font-family: Monaco, monospace;\n",
       "                font-sise: 12px;\n",
       "            '>\n",
       "                <span style='color: #0d6efd; font-weight: bold;'>INFO</span>\n",
       "                <span style='color: #666; margin-right: 8px;'>17:38:48</span>\n",
       "                <span>Initializing BedrockHandler</span>\n",
       "            </div>\n",
       "            "
      ],
      "text/plain": [
       "<IPython.core.display.HTML object>"
      ]
     },
     "metadata": {},
     "output_type": "display_data"
    },
    {
     "name": "stderr",
     "output_type": "stream",
     "text": [
      "Initializing BedrockHandler\n"
     ]
    },
    {
     "data": {
      "text/html": [
       "\n",
       "            <div style='\n",
       "                padding: 2px 6px;\n",
       "                margin: 2px 0;\n",
       "                border-left: 3px solid #0d6efd;\n",
       "                background-color: #f8f9fa;\n",
       "                font-family: Monaco, monospace;\n",
       "                font-sise: 12px;\n",
       "            '>\n",
       "                <span style='color: #0d6efd; font-weight: bold;'>INFO</span>\n",
       "                <span style='color: #666; margin-right: 8px;'>17:38:48</span>\n",
       "                <span>Found credentials in shared credentials file: ~/.aws/credentials</span>\n",
       "            </div>\n",
       "            "
      ],
      "text/plain": [
       "<IPython.core.display.HTML object>"
      ]
     },
     "metadata": {},
     "output_type": "display_data"
    },
    {
     "name": "stderr",
     "output_type": "stream",
     "text": [
      "Found credentials in shared credentials file: ~/.aws/credentials\n"
     ]
    },
    {
     "data": {
      "text/html": [
       "\n",
       "            <div style='\n",
       "                padding: 2px 6px;\n",
       "                margin: 2px 0;\n",
       "                border-left: 3px solid #0d6efd;\n",
       "                background-color: #f8f9fa;\n",
       "                font-family: Monaco, monospace;\n",
       "                font-sise: 12px;\n",
       "            '>\n",
       "                <span style='color: #0d6efd; font-weight: bold;'>INFO</span>\n",
       "                <span style='color: #666; margin-right: 8px;'>17:38:48</span>\n",
       "                <span>Creating ChatBedrock LLM instance</span>\n",
       "            </div>\n",
       "            "
      ],
      "text/plain": [
       "<IPython.core.display.HTML object>"
      ]
     },
     "metadata": {},
     "output_type": "display_data"
    },
    {
     "name": "stderr",
     "output_type": "stream",
     "text": [
      "Creating ChatBedrock LLM instance\n"
     ]
    },
    {
     "data": {
      "text/html": [
       "\n",
       "            <div style='\n",
       "                padding: 2px 6px;\n",
       "                margin: 2px 0;\n",
       "                border-left: 3px solid #0d6efd;\n",
       "                background-color: #f8f9fa;\n",
       "                font-family: Monaco, monospace;\n",
       "                font-sise: 12px;\n",
       "            '>\n",
       "                <span style='color: #0d6efd; font-weight: bold;'>INFO</span>\n",
       "                <span style='color: #666; margin-right: 8px;'>17:38:48</span>\n",
       "                <span>Found credentials in shared credentials file: ~/.aws/credentials</span>\n",
       "            </div>\n",
       "            "
      ],
      "text/plain": [
       "<IPython.core.display.HTML object>"
      ]
     },
     "metadata": {},
     "output_type": "display_data"
    },
    {
     "name": "stderr",
     "output_type": "stream",
     "text": [
      "Found credentials in shared credentials file: ~/.aws/credentials\n"
     ]
    },
    {
     "data": {
      "text/html": [
       "\n",
       "            <div style='\n",
       "                padding: 2px 6px;\n",
       "                margin: 2px 0;\n",
       "                border-left: 3px solid #0d6efd;\n",
       "                background-color: #f8f9fa;\n",
       "                font-family: Monaco, monospace;\n",
       "                font-sise: 12px;\n",
       "            '>\n",
       "                <span style='color: #0d6efd; font-weight: bold;'>INFO</span>\n",
       "                <span style='color: #666; margin-right: 8px;'>17:38:48</span>\n",
       "                <span>Successfully created ChatBedrock LLM instance</span>\n",
       "            </div>\n",
       "            "
      ],
      "text/plain": [
       "<IPython.core.display.HTML object>"
      ]
     },
     "metadata": {},
     "output_type": "display_data"
    },
    {
     "name": "stderr",
     "output_type": "stream",
     "text": [
      "Successfully created ChatBedrock LLM instance\n",
      "/Users/jose.orjales/c-af-chartist/.venv/lib/python3.13/site-packages/langsmith/client.py:253: LangSmithMissingAPIKeyWarning: API key must be provided when using hosted LangSmith API\n",
      "  warnings.warn(\n"
     ]
    },
    {
     "data": {
      "text/html": [
       "\n",
       "            <div style='\n",
       "                padding: 2px 6px;\n",
       "                margin: 2px 0;\n",
       "                border-left: 3px solid #0d6efd;\n",
       "                background-color: #f8f9fa;\n",
       "                font-family: Monaco, monospace;\n",
       "                font-sise: 12px;\n",
       "            '>\n",
       "                <span style='color: #0d6efd; font-weight: bold;'>INFO</span>\n",
       "                <span style='color: #666; margin-right: 8px;'>17:38:50</span>\n",
       "                <span>Setting up chAI agent</span>\n",
       "            </div>\n",
       "            "
      ],
      "text/plain": [
       "<IPython.core.display.HTML object>"
      ]
     },
     "metadata": {},
     "output_type": "display_data"
    },
    {
     "name": "stderr",
     "output_type": "stream",
     "text": [
      "Setting up chAI agent\n"
     ]
    },
    {
     "data": {
      "text/html": [
       "\n",
       "            <div style='\n",
       "                padding: 2px 6px;\n",
       "                margin: 2px 0;\n",
       "                border-left: 3px solid #0d6efd;\n",
       "                background-color: #f8f9fa;\n",
       "                font-family: Monaco, monospace;\n",
       "                font-sise: 12px;\n",
       "            '>\n",
       "                <span style='color: #0d6efd; font-weight: bold;'>INFO</span>\n",
       "                <span style='color: #666; margin-right: 8px;'>17:38:50</span>\n",
       "                <span>chAI agent successfully set up</span>\n",
       "            </div>\n",
       "            "
      ],
      "text/plain": [
       "<IPython.core.display.HTML object>"
      ]
     },
     "metadata": {},
     "output_type": "display_data"
    },
    {
     "name": "stderr",
     "output_type": "stream",
     "text": [
      "chAI agent successfully set up\n"
     ]
    }
   ],
   "source": [
    "from chAI.chAI import chAI\n",
    "chai = chAI()"
   ]
  },
  {
   "cell_type": "markdown",
   "metadata": {},
   "source": [
    "## Visualisation Suggestions"
   ]
  },
  {
   "cell_type": "code",
   "execution_count": 8,
   "metadata": {},
   "outputs": [],
   "source": [
    "sample_df = create_sample_dataset()"
   ]
  },
  {
   "cell_type": "code",
   "execution_count": 9,
   "metadata": {},
   "outputs": [
    {
     "data": {
      "text/html": [
       "\n",
       "            <div style='\n",
       "                padding: 2px 6px;\n",
       "                margin: 2px 0;\n",
       "                border-left: 3px solid #0d6efd;\n",
       "                background-color: #f8f9fa;\n",
       "                font-family: Monaco, monospace;\n",
       "                font-sise: 12px;\n",
       "            '>\n",
       "                <span style='color: #0d6efd; font-weight: bold;'>INFO</span>\n",
       "                <span style='color: #666; margin-right: 8px;'>17:38:51</span>\n",
       "                <span>Detected DataFrame input. Preparing to analyse...</span>\n",
       "            </div>\n",
       "            "
      ],
      "text/plain": [
       "<IPython.core.display.HTML object>"
      ]
     },
     "metadata": {},
     "output_type": "display_data"
    },
    {
     "name": "stderr",
     "output_type": "stream",
     "text": [
      "Detected DataFrame input. Preparing to analyse...\n"
     ]
    },
    {
     "data": {
      "text/html": [
       "\n",
       "            <div style='\n",
       "                padding: 2px 6px;\n",
       "                margin: 2px 0;\n",
       "                border-left: 3px solid #0d6efd;\n",
       "                background-color: #f8f9fa;\n",
       "                font-family: Monaco, monospace;\n",
       "                font-sise: 12px;\n",
       "            '>\n",
       "                <span style='color: #0d6efd; font-weight: bold;'>INFO</span>\n",
       "                <span style='color: #666; margin-right: 8px;'>17:38:51</span>\n",
       "                <span>Sending prompt and data to agent executor...</span>\n",
       "            </div>\n",
       "            "
      ],
      "text/plain": [
       "<IPython.core.display.HTML object>"
      ]
     },
     "metadata": {},
     "output_type": "display_data"
    },
    {
     "name": "stderr",
     "output_type": "stream",
     "text": [
      "Sending prompt and data to agent executor...\n"
     ]
    },
    {
     "name": "stdout",
     "output_type": "stream",
     "text": [
      "{'input': '\\n            User Prompt:\\n            Analyse this dataset and suggest visualisations to explore trends and insights.\\n            \\n\\n\\n            DataFrame Information (Top 100 Rows):\\n            The following is a JSON representation of the DataFrame. Use this to suggest suitable visualisations:\\n            {\"columns\":[\"date\",\"sales\",\"customers\",\"satisfaction_score\",\"category\"],\"index\":[0,1,2,3,4,5,6,7,8,9,10,11,12,13,14,15,16,17,18,19,20,21,22,23,24,25,26,27,28,29,30,31,32,33,34,35,36,37,38,39,40,41,42,43,44,45,46,47,48,49,50,51,52,53,54,55,56,57,58,59,60,61,62,63,64,65,66,67,68,69,70,71,72,73,74,75,76,77,78,79,80,81,82,83,84,85,86,87,88,89,90,91,92,93,94,95,96,97,98,99],\"data\":[[1672531200000,1049.6714153011,186,4.352462905,\"A\"],[1672617600000,986.1735698829,111,3.6405121517,\"A\"],[1672704000000,1064.7688538101,100,4.0515737046,\"A\"],[1672790400000,1152.3029856408,108,3.8978035515,\"A\"],[1672876800000,976.5846625277,167,3.8659844651,\"A\"],[1672963200000,976.5863043051,145,4.9595158321,\"C\"],[1673049600000,1157.9212815507,162,4.089646587,\"C\"],[1673136000000,1076.7434729153,111,4.8380698328,\"A\"],[1673222400000,953.0525614065,101,4.446707939,\"B\"],[1673308800000,1054.2560043586,61,4.6922169553,\"A\"],[1673395200000,953.6582307188,88,4.2539556397,\"C\"],[1673481600000,953.427024643,179,4.3653558269,\"C\"],[1673568000000,1024.1962271566,180,4.2387765407,\"B\"],[1673654400000,808.6719755342,162,3.7928644817,\"C\"],[1673740800000,827.5082167487,150,4.5836781729,\"A\"],[1673827200000,943.7712470759,162,3.9211585437,\"B\"],[1673913600000,898.7168879666,130,3.5364739496,\"A\"],[1674000000000,1031.4247332595,162,4.4682084439,\"A\"],[1674086400000,909.1975924479,51,3.7656660191,\"B\"],[1674172800000,858.7696298665,179,4.9106878765,\"A\"],[1674259200000,1146.5648768922,103,4.9308928655,\"C\"],[1674345600000,977.4223699513,136,4.8722965853,\"A\"],[1674432000000,1006.7528204688,178,4.0552380504,\"B\"],[1674518400000,857.5251813787,196,3.5231849248,\"B\"],[1674604800000,945.5617275475,175,4.8924778439,\"B\"],[1674691200000,1011.092258971,179,4.1422762225,\"A\"],[1674777600000,884.9006422578,102,4.9499822286,\"B\"],[1674864000000,1037.5698018346,117,4.9454299656,\"B\"],[1674950400000,939.9361310081,172,4.7795141832,\"A\"],[1675036800000,970.8306250207,194,3.9416733381,\"C\"],[1675123200000,939.8293387771,87,4.0776465929,\"A\"],[1675209600000,1185.2278184509,73,4.7767050073,\"B\"],[1675296000000,998.6502775262,118,3.9753830077,\"B\"],[1675382400000,894.2289071044,165,3.75423912,\"A\"],[1675468800000,1082.2544912103,147,4.3352018937,\"C\"],[1675555200000,877.9156350029,188,4.9042321612,\"B\"],[1675641600000,1020.8863595005,193,4.544044695,\"B\"],[1675728000000,804.032987612,146,4.3550917551,\"B\"],[1675814400000,867.1813951102,173,3.6457647407,\"A\"],[1675900800000,1019.6861235869,119,4.42251084,\"B\"],[1675987200000,1073.8466579995,142,4.9850807752,\"C\"],[1676073600000,1017.136828119,52,3.7101260229,\"B\"],[1676160000000,988.4351717612,197,4.2774944785,\"B\"],[1676246400000,969.8896304411,196,4.8160596079,\"C\"],[1676332800000,852.1478009633,139,4.6111529266,\"B\"],[1676419200000,928.0155791605,196,4.5455236115,\"A\"],[1676505600000,953.936122904,197,4.553726126,\"A\"],[1676592000000,1105.7122226219,145,4.0392367268,\"A\"],[1676678400000,1034.3618289568,101,3.9403877664,\"C\"],[1676764800000,823.6959844637,177,4.7140417332,\"B\"],[1676851200000,1032.4083969395,88,4.715170092,\"A\"],[1676937600000,961.4917719584,131,4.8006084779,\"C\"],[1677024000000,932.3077999694,153,4.8698608288,\"B\"],[1677110400000,1061.1676288841,178,4.2670135983,\"C\"],[1677196800000,1103.0999522496,60,4.252274442,\"A\"],[1677283200000,1093.1280119116,91,4.6974427685,\"A\"],[1677369600000,916.0782476777,148,4.4749458962,\"A\"],[1677456000000,969.0787624149,56,4.5529503159,\"C\"],[1677542400000,1033.1263431404,193,4.6936890042,\"C\"],[1677628800000,1097.5545127122,139,4.8350080127,\"A\"],[1677715200000,952.0825762155,161,4.0069927353,\"C\"],[1677801600000,981.4341023336,109,4.063374429,\"A\"],[1677888000000,889.3665025994,162,3.6409729098,\"A\"],[1677974400000,880.3793375919,51,4.3674202115,\"B\"],[1678060800000,1081.2525822394,178,3.5539134107,\"C\"],[1678147200000,1135.6240028571,97,4.1983970272,\"A\"],[1678233600000,992.798987842,189,4.3139669521,\"A\"],[1678320000000,1100.3532897892,86,3.9298118782,\"C\"],[1678406400000,1036.1636025048,58,4.3862498909,\"B\"],[1678492800000,935.4880245395,148,3.5457503749,\"B\"],[1678579200000,1036.1395605508,196,3.5560222831,\"A\"],[1678665600000,1153.8036566466,97,4.733900841,\"C\"],[1678752000000,996.417396089,180,4.0402859621,\"B\"],[1678838400000,1156.4643655814,197,3.690590769,\"C\"],[1678924800000,738.025489591,103,4.2833648901,\"C\"],[1679011200000,1082.1902504375,169,4.6549903296,\"A\"],[1679097600000,1008.7047068238,165,3.8237315412,\"B\"],[1679184000000,970.0992649534,124,4.4343357137,\"A\"],[1679270400000,1009.1760776536,162,3.6280211975,\"B\"],[1679356800000,801.2431085399,153,3.5775225818,\"B\"],[1679443200000,978.0328112162,133,4.2970319474,\"B\"],[1679529600000,1035.7112571512,161,4.3109526824,\"B\"],[1679616000000,1147.7894044742,148,4.4561448522,\"B\"],[1679702400000,948.1729781726,142,4.5891370006,\"C\"],[1679788800000,919.1506397107,195,4.9637781192,\"A\"],[1679875200000,949.8242956415,177,4.2744505225,\"C\"],[1679961600000,1091.5402117702,159,3.9844347094,\"B\"],[1680048000000,1032.875110966,131,4.6927792922,\"A\"],[1680134400000,947.0239796233,103,3.9062483769,\"B\"],[1680220800000,1051.3267433113,117,4.1584571311,\"A\"],[1680307200000,1009.7077549348,82,3.617684572,\"C\"],[1680393600000,1096.8644990533,191,3.5380261151,\"A\"],[1680480000000,929.7946906123,70,4.943972622,\"A\"],[1680566400000,967.2337853402,97,4.7539701808,\"A\"],[1680652800000,960.7891846868,197,4.5439613091,\"A\"],[1680739200000,853.6485051868,177,4.1134294166,\"A\"],[1680825600000,1029.6120277065,185,3.7599414801,\"B\"],[1680912000000,1026.105527218,184,3.734655564,\"A\"],[1680998400000,1000.5113456642,194,3.8753643472,\"A\"],[1681084800000,976.5412866625,177,4.3238399971,\"C\"]]}\\n\\n            Instructions:\\n            1. Analyse the DataFrame to understand its structure and content\\n            2. Suggest meaningful visualisations based on the data and user\\'s instructions\\n            3. For each visualisation, include:\\n            - Clear purpose\\n            - Chart type\\n            - Variables used\\n            - Expected insights\\n            4. Use the format_visualisation_output tool to structure your response\\n            5. Make sure to provide concrete, specific suggestions based on the actual data\\n\\n            Remember to use the formatting tool for your final output.\\n            ', 'output': \"📊 VISUALISATION SUGGESTIONS:\\n\\n\\n📈 TIME SERIES ANALYSIS OF SALES\\nPurpose: To visualize sales trends over time\\nChart Type: Line Chart\\nVariables: date (x-axis), sales (y-axis)\\nExpected Insights: Identify sales patterns, seasonality, and overall trends\\n\\n--------------------------------------------------\\n\\n📈 CUSTOMER COUNT VS\\nPurpose: To examine the relationship between number of customers and sales\\nChart Type: Scatter Plot\\nVariables: customers (x-axis), sales (y-axis)\\nExpected Insights: Determine if there's a correlation between customer count and sales volume\\n\\n--------------------------------------------------\\n\\n📈 SATISFACTION SCORE DISTRIBUTION\\nPurpose: To analyze the distribution of customer satisfaction scores\\nChart Type: Histogram or Box Plot\\nVariables: satisfaction_score\\nExpected Insights: Understand the range and frequency of satisfaction scores\\n\\n--------------------------------------------------\\n\\n📈 SALES BY CATEGORY COMPARISON\\nPurpose: To compare sales performance across different categories\\nChart Type: Bar Chart or Box Plot\\nVariables: category (x-axis), sales (y-axis)\\nExpected Insights: Identify which categories have higher or lower sales\\n\\n--------------------------------------------------\\n\\n📈 SATISFACTION SCORE VS\\nPurpose: To visualize the relationship between satisfaction scores and sales\\nChart Type: Heatmap\\nVariables: satisfaction_score (x-axis), sales (y-axis), color intensity for frequency\\nExpected Insights: Detect any patterns or correlations between satisfaction and sales\\n\\n--------------------------------------------------\\n\\n📈 CUSTOMER COUNT BY CATEGORY\\nPurpose: To compare customer numbers across categories\\nChart Type: Stacked Bar Chart\\nVariables: category (x-axis), customers (y-axis, stacked by date)\\nExpected Insights: Understand which categories attract more customers and how it changes over time\\n\\n--------------------------------------------------\\n\\n📈 MONTHLY AVERAGE SALES AND SATISFACTION\\nPurpose: To track monthly performance in sales and satisfaction\\nChart Type: Dual-Axis Line Chart\\nVariables: date (x-axis), sales (left y-axis), satisfaction_score (right y-axis)\\nExpected Insights: Identify any correlation between monthly sales performance and customer satisfaction\"}\n",
      "📊 VISUALISATION SUGGESTIONS:\n",
      "\n",
      "\n",
      "📈 TIME SERIES ANALYSIS OF SALES\n",
      "Purpose: To visualize sales trends over time\n",
      "Chart Type: Line Chart\n",
      "Variables: date (x-axis), sales (y-axis)\n",
      "Expected Insights: Identify sales patterns, seasonality, and overall trends\n",
      "\n",
      "--------------------------------------------------\n",
      "\n",
      "📈 CUSTOMER COUNT VS\n",
      "Purpose: To examine the relationship between number of customers and sales\n",
      "Chart Type: Scatter Plot\n",
      "Variables: customers (x-axis), sales (y-axis)\n",
      "Expected Insights: Determine if there's a correlation between customer count and sales volume\n",
      "\n",
      "--------------------------------------------------\n",
      "\n",
      "📈 SATISFACTION SCORE DISTRIBUTION\n",
      "Purpose: To analyze the distribution of customer satisfaction scores\n",
      "Chart Type: Histogram or Box Plot\n",
      "Variables: satisfaction_score\n",
      "Expected Insights: Understand the range and frequency of satisfaction scores\n",
      "\n",
      "--------------------------------------------------\n",
      "\n",
      "📈 SALES BY CATEGORY COMPARISON\n",
      "Purpose: To compare sales performance across different categories\n",
      "Chart Type: Bar Chart or Box Plot\n",
      "Variables: category (x-axis), sales (y-axis)\n",
      "Expected Insights: Identify which categories have higher or lower sales\n",
      "\n",
      "--------------------------------------------------\n",
      "\n",
      "📈 SATISFACTION SCORE VS\n",
      "Purpose: To visualize the relationship between satisfaction scores and sales\n",
      "Chart Type: Heatmap\n",
      "Variables: satisfaction_score (x-axis), sales (y-axis), color intensity for frequency\n",
      "Expected Insights: Detect any patterns or correlations between satisfaction and sales\n",
      "\n",
      "--------------------------------------------------\n",
      "\n",
      "📈 CUSTOMER COUNT BY CATEGORY\n",
      "Purpose: To compare customer numbers across categories\n",
      "Chart Type: Stacked Bar Chart\n",
      "Variables: category (x-axis), customers (y-axis, stacked by date)\n",
      "Expected Insights: Understand which categories attract more customers and how it changes over time\n",
      "\n",
      "--------------------------------------------------\n",
      "\n",
      "📈 MONTHLY AVERAGE SALES AND SATISFACTION\n",
      "Purpose: To track monthly performance in sales and satisfaction\n",
      "Chart Type: Dual-Axis Line Chart\n",
      "Variables: date (x-axis), sales (left y-axis), satisfaction_score (right y-axis)\n",
      "Expected Insights: Identify any correlation between monthly sales performance and customer satisfaction\n"
     ]
    }
   ],
   "source": [
    "prompt = \"Analyse this dataset and suggest visualisations to explore trends and insights.\"\n",
    "response = chai.handle_request(data=sample_df, prompt=prompt)\n",
    "print(response['output'])"
   ]
  },
  {
   "cell_type": "markdown",
   "metadata": {},
   "source": [
    "## Copycat functionality\n",
    "\n",
    "Provide a chart image and ask LLM to provide the plotly code and output to an html file"
   ]
  },
  {
   "cell_type": "code",
   "execution_count": 10,
   "metadata": {},
   "outputs": [],
   "source": [
    "prompt = \"\"\"\n",
    "    Please analyse this chart and provide a comprehensive review with the following structure:\n",
    "\n",
    "    1. Key Findings:\n",
    "    - What are the most significant patterns or insights?\n",
    "    - What are the highest and lowest values?\n",
    "    - Are there any notable disparities or trends?\n",
    "\n",
    "    2. Comparative Analysis:\n",
    "    - Compare the different outcome groups\n",
    "    - Identify any significant gaps or differences\n",
    "    - Highlight any unexpected patterns\n",
    "\n",
    "    Please provide your analysis in clear, business-friendly language suitable for stakeholders.\n",
    "    \"\"\""
   ]
  },
  {
   "cell_type": "code",
   "execution_count": 11,
   "metadata": {},
   "outputs": [
    {
     "data": {
      "text/html": [
       "\n",
       "            <div style='\n",
       "                padding: 2px 6px;\n",
       "                margin: 2px 0;\n",
       "                border-left: 3px solid #0d6efd;\n",
       "                background-color: #f8f9fa;\n",
       "                font-family: Monaco, monospace;\n",
       "                font-sise: 12px;\n",
       "            '>\n",
       "                <span style='color: #0d6efd; font-weight: bold;'>INFO</span>\n",
       "                <span style='color: #666; margin-right: 8px;'>16:32:57</span>\n",
       "                <span>Detected image location input. Preparing to review...</span>\n",
       "            </div>\n",
       "            "
      ],
      "text/plain": [
       "<IPython.core.display.HTML object>"
      ]
     },
     "metadata": {},
     "output_type": "display_data"
    },
    {
     "name": "stderr",
     "output_type": "stream",
     "text": [
      "Detected image location input. Preparing to review...\n"
     ]
    },
    {
     "data": {
      "text/html": [
       "\n",
       "            <div style='\n",
       "                padding: 2px 6px;\n",
       "                margin: 2px 0;\n",
       "                border-left: 3px solid #0d6efd;\n",
       "                background-color: #f8f9fa;\n",
       "                font-family: Monaco, monospace;\n",
       "                font-sise: 12px;\n",
       "            '>\n",
       "                <span style='color: #0d6efd; font-weight: bold;'>INFO</span>\n",
       "                <span style='color: #666; margin-right: 8px;'>16:32:57</span>\n",
       "                <span>Encoding image to base64</span>\n",
       "            </div>\n",
       "            "
      ],
      "text/plain": [
       "<IPython.core.display.HTML object>"
      ]
     },
     "metadata": {},
     "output_type": "display_data"
    },
    {
     "name": "stderr",
     "output_type": "stream",
     "text": [
      "Encoding image to base64\n"
     ]
    },
    {
     "data": {
      "text/html": [
       "\n",
       "            <div style='\n",
       "                padding: 2px 6px;\n",
       "                margin: 2px 0;\n",
       "                border-left: 3px solid #0d6efd;\n",
       "                background-color: #f8f9fa;\n",
       "                font-family: Monaco, monospace;\n",
       "                font-sise: 12px;\n",
       "            '>\n",
       "                <span style='color: #0d6efd; font-weight: bold;'>INFO</span>\n",
       "                <span style='color: #666; margin-right: 8px;'>16:33:20</span>\n",
       "                <span>Claude markdown response: # Description\n",
       "The image shows a histogram representing the distribution of satisfaction scores. The chart displays the frequency or count of scores across different ranges from 3.4 to 5.0.\n",
       "\n",
       "# Chart Analysis\n",
       "## Type\n",
       "This is a histogram chart, which is used to display the distribution of a continuous variable by dividing it into discrete bins and showing the frequency of data points falling into each bin.\n",
       "\n",
       "## Axes\n",
       "- X-axis: Satisfaction Score, ranging from 3.4 to 5.0 in increments of 0.2\n",
       "- Y-axis: Count, representing the frequency of scores in each bin, ranging from 0 to approximately 18\n",
       "\n",
       "## Insights\n",
       "- The distribution appears to be somewhat bimodal, with peaks around 4.2-4.4 and 4.8-5.0.\n",
       "- The highest frequency is observed in the 4.2-4.4 range, with a count of about 18.\n",
       "- There's another notable peak in the highest range of 4.8-5.0, suggesting a significant number of very satisfied respondents.\n",
       "- The lowest frequencies are observed in the 3.4-3.6 range, indicating fewer low satisfaction scores.\n",
       "- The overall distribution is skewed towards higher satisfaction scores, with most counts falling above 4.0.\n",
       "- There's a slight dip in frequency for scores between 4.4 and 4.8, creating a small valley between the two peaks.\n",
       "\n",
       "# Plotly Recreation\n",
       "## Code\n",
       "```python\n",
       "import plotly.graph_objects as go\n",
       "\n",
       "satisfaction_scores = [3.4, 3.6, 3.8, 4.0, 4.2, 4.4, 4.6, 4.8, 5.0]\n",
       "counts = [7, 7, 12, 12, 18, 13, 12, 16, 16]\n",
       "\n",
       "fig = go.Figure(data=[go.Bar(\n",
       "    x=satisfaction_scores,\n",
       "    y=counts,\n",
       "    marker_color='orange',\n",
       "    width=0.2\n",
       ")])\n",
       "\n",
       "fig.update_layout(\n",
       "    title='Satisfaction Score Distribution',\n",
       "    xaxis_title='Satisfaction Score',\n",
       "    yaxis_title='Count',\n",
       "    plot_bgcolor='aliceblue',\n",
       "    bargap=0\n",
       ")\n",
       "\n",
       "fig.show()\n",
       "```\n",
       "\n",
       "## Data Structure\n",
       "The data structure needed for this Plotly code is two lists:\n",
       "1. `satisfaction_scores`: A list of float values representing the bin edges or midpoints for the satisfaction scores.\n",
       "2. `counts`: A list of integer values representing the frequency or count for each satisfaction score bin.\n",
       "\n",
       "These two lists should be of equal length, with each index in the `counts` list corresponding to the frequency of the satisfaction score at the same index in the `satisfaction_scores` list.</span>\n",
       "            </div>\n",
       "            "
      ],
      "text/plain": [
       "<IPython.core.display.HTML object>"
      ]
     },
     "metadata": {},
     "output_type": "display_data"
    },
    {
     "name": "stderr",
     "output_type": "stream",
     "text": [
      "Claude markdown response: # Description\n",
      "The image shows a histogram representing the distribution of satisfaction scores. The chart displays the frequency or count of scores across different ranges from 3.4 to 5.0.\n",
      "\n",
      "# Chart Analysis\n",
      "## Type\n",
      "This is a histogram chart, which is used to display the distribution of a continuous variable by dividing it into discrete bins and showing the frequency of data points falling into each bin.\n",
      "\n",
      "## Axes\n",
      "- X-axis: Satisfaction Score, ranging from 3.4 to 5.0 in increments of 0.2\n",
      "- Y-axis: Count, representing the frequency of scores in each bin, ranging from 0 to approximately 18\n",
      "\n",
      "## Insights\n",
      "- The distribution appears to be somewhat bimodal, with peaks around 4.2-4.4 and 4.8-5.0.\n",
      "- The highest frequency is observed in the 4.2-4.4 range, with a count of about 18.\n",
      "- There's another notable peak in the highest range of 4.8-5.0, suggesting a significant number of very satisfied respondents.\n",
      "- The lowest frequencies are observed in the 3.4-3.6 range, indicating fewer low satisfaction scores.\n",
      "- The overall distribution is skewed towards higher satisfaction scores, with most counts falling above 4.0.\n",
      "- There's a slight dip in frequency for scores between 4.4 and 4.8, creating a small valley between the two peaks.\n",
      "\n",
      "# Plotly Recreation\n",
      "## Code\n",
      "```python\n",
      "import plotly.graph_objects as go\n",
      "\n",
      "satisfaction_scores = [3.4, 3.6, 3.8, 4.0, 4.2, 4.4, 4.6, 4.8, 5.0]\n",
      "counts = [7, 7, 12, 12, 18, 13, 12, 16, 16]\n",
      "\n",
      "fig = go.Figure(data=[go.Bar(\n",
      "    x=satisfaction_scores,\n",
      "    y=counts,\n",
      "    marker_color='orange',\n",
      "    width=0.2\n",
      ")])\n",
      "\n",
      "fig.update_layout(\n",
      "    title='Satisfaction Score Distribution',\n",
      "    xaxis_title='Satisfaction Score',\n",
      "    yaxis_title='Count',\n",
      "    plot_bgcolor='aliceblue',\n",
      "    bargap=0\n",
      ")\n",
      "\n",
      "fig.show()\n",
      "```\n",
      "\n",
      "## Data Structure\n",
      "The data structure needed for this Plotly code is two lists:\n",
      "1. `satisfaction_scores`: A list of float values representing the bin edges or midpoints for the satisfaction scores.\n",
      "2. `counts`: A list of integer values representing the frequency or count for each satisfaction score bin.\n",
      "\n",
      "These two lists should be of equal length, with each index in the `counts` list corresponding to the frequency of the satisfaction score at the same index in the `satisfaction_scores` list.\n"
     ]
    },
    {
     "data": {
      "text/html": [
       "\n",
       "            <div style='\n",
       "                padding: 2px 6px;\n",
       "                margin: 2px 0;\n",
       "                border-left: 3px solid #0d6efd;\n",
       "                background-color: #f8f9fa;\n",
       "                font-family: Monaco, monospace;\n",
       "                font-sise: 12px;\n",
       "            '>\n",
       "                <span style='color: #0d6efd; font-weight: bold;'>INFO</span>\n",
       "                <span style='color: #666; margin-right: 8px;'>16:33:20</span>\n",
       "                <span>Sending prompt and data to agent executor...</span>\n",
       "            </div>\n",
       "            "
      ],
      "text/plain": [
       "<IPython.core.display.HTML object>"
      ]
     },
     "metadata": {},
     "output_type": "display_data"
    },
    {
     "name": "stderr",
     "output_type": "stream",
     "text": [
      "Sending prompt and data to agent executor...\n"
     ]
    },
    {
     "name": "stdout",
     "output_type": "stream",
     "text": [
      "{'input': \"\\n                    Use the image_analysis_formatter tool to standardise the output and create an interactive visualisation using appropriate default chart templates as reference.\\n                    \\n                    1. First, format the analysis using image_analysis_formatter with these parameters:\\n                    - image_information: # Description\\nThe image shows a histogram representing the distribution of satisfaction scores. The chart displays the frequency or count of scores across different ranges from 3.4 to 5.0.\\n\\n# Chart Analysis\\n## Type\\nThis is a histogram chart, which is used to display the distribution of a continuous variable by dividing it into discrete bins and showing the frequency of data points falling into each bin.\\n\\n## Axes\\n- X-axis: Satisfaction Score, ranging from 3.4 to 5.0 in increments of 0.2\\n- Y-axis: Count, representing the frequency of scores in each bin, ranging from 0 to approximately 18\\n\\n## Insights\\n- The distribution appears to be somewhat bimodal, with peaks around 4.2-4.4 and 4.8-5.0.\\n- The highest frequency is observed in the 4.2-4.4 range, with a count of about 18.\\n- There's another notable peak in the highest range of 4.8-5.0, suggesting a significant number of very satisfied respondents.\\n- The lowest frequencies are observed in the 3.4-3.6 range, indicating fewer low satisfaction scores.\\n- The overall distribution is skewed towards higher satisfaction scores, with most counts falling above 4.0.\\n- There's a slight dip in frequency for scores between 4.4 and 4.8, creating a small valley between the two peaks.\\n\\n# Plotly Recreation\\n## Code\\n```python\\nimport plotly.graph_objects as go\\n\\nsatisfaction_scores = [3.4, 3.6, 3.8, 4.0, 4.2, 4.4, 4.6, 4.8, 5.0]\\ncounts = [7, 7, 12, 12, 18, 13, 12, 16, 16]\\n\\nfig = go.Figure(data=[go.Bar(\\n    x=satisfaction_scores,\\n    y=counts,\\n    marker_color='orange',\\n    width=0.2\\n)])\\n\\nfig.update_layout(\\n    title='Satisfaction Score Distribution',\\n    xaxis_title='Satisfaction Score',\\n    yaxis_title='Count',\\n    plot_bgcolor='aliceblue',\\n    bargap=0\\n)\\n\\nfig.show()\\n```\\n\\n## Data Structure\\nThe data structure needed for this Plotly code is two lists:\\n1. `satisfaction_scores`: A list of float values representing the bin edges or midpoints for the satisfaction scores.\\n2. `counts`: A list of integer values representing the frequency or count for each satisfaction score bin.\\n\\nThese two lists should be of equal length, with each index in the `counts` list corresponding to the frequency of the satisfaction score at the same index in the `satisfaction_scores` list.\\n                    \\n                    2. Based on the chart type identified in the analysis, use the appropriate template from below:\\n                    \\n        Here are reference templates for creating professional Plotly visualisations:\\n\\n        # Bar Chart Template:\\n        \\n            import plotly.graph_objects as go\\n\\n            # Sample data\\n            categories = ['Category A', 'Category B', 'Category C', 'Category D']\\n            values = [4, 3, 2, 5]\\n            colors = ['#1f77b4', '#2d91c2', '#7eb0d5', '#bddbf5']  # Blue color palette\\n\\n            # Create figure\\n            fig = go.Figure(data=[\\n                go.Bar(\\n                    x=categories,\\n                    y=values,\\n                    text=values,\\n                    textposition='auto',\\n                    marker_color=colors,\\n                    hovertemplate='%{x}<br>Value: %{y}<extra></extra>'\\n                )\\n            ])\\n\\n            # Update layout with professional styling\\n            fig.update_layout(\\n                title={\\n                    'text': 'Default Bar Chart',\\n                    'font': {'sise': 24, 'color': '#1f77b4'},\\n                    'x': 0.5,\\n                    'xanchor': 'center'\\n                },\\n                xaxis_title={\\n                    'text': 'Categories',\\n                    'font': {'sise': 16, 'color': '#444444', 'weight': 'bold'}\\n                },\\n                yaxis_title={\\n                    'text': 'Values',\\n                    'font': {'sise': 16, 'color': '#444444', 'weight': 'bold'}\\n                },\\n                template='plotly_white',\\n                showlegend=True,\\n                legend={\\n                    'orientation': 'h',\\n                    'yanchor': 'bottom',\\n                    'y': -0.3,\\n                    'xanchor': 'center',\\n                    'x': 0.5\\n                },\\n                margin=dict(t=100, l=100, r=50, b=100)\\n            )\\n            \\n\\n        # Histogram Template:\\n        \\n            import plotly.graph_objects as go\\n            import numpy as np\\n\\n            # Generate sample data\\n            data = np.random.normal(0, 1, 1000)\\n\\n            # Create figure\\n            fig = go.Figure(data=[\\n                go.Histogram(\\n                    x=data,\\n                    nbinsx=30,\\n                    name='Distribution',\\n                    marker_color='#1f77b4',\\n                    opacity=0.75,\\n                    hovertemplate='Count: %{y}<br>Value: %{x}<extra></extra>'\\n                )\\n            ])\\n\\n            # Update layout with professional styling\\n            fig.update_layout(\\n                title={\\n                    'text': 'Default Histogram',\\n                    'font': {'sise': 24, 'color': '#1f77b4'},\\n                    'x': 0.5,\\n                    'xanchor': 'center'\\n                },\\n                xaxis_title={\\n                    'text': 'Values',\\n                    'font': {'sise': 16, 'color': '#444444', 'weight': 'bold'}\\n                },\\n                yaxis_title={\\n                    'text': 'Frequency',\\n                    'font': {'sise': 16, 'color': '#444444', 'weight': 'bold'}\\n                },\\n                template='plotly_white',\\n                showlegend=True,\\n                legend={\\n                    'orientation': 'h',\\n                    'yanchor': 'bottom',\\n                    'y': -0.3,\\n                    'xanchor': 'center',\\n                    'x': 0.5\\n                },\\n                margin=dict(t=100, l=100, r=50, b=100)\\n            )\\n            \\n\\n        # Scatter Plot Template:\\n        \\n            import plotly.graph_objects as go\\n            import numpy as np\\n\\n            # Generate sample data\\n            np.random.seed(42)\\n            x = np.random.uniform(0, 10, 50)\\n            y = 2 * x + np.random.normal(0, 2, 50)\\n\\n            # Create figure with multiple series\\n            fig = go.Figure()\\n\\n            # Add multiple scatter series with different colors\\n            series_data = [\\n                {'x': x, 'y': y, 'name': 'Series 1', 'color': '#1f77b4'},\\n                {'x': x, 'y': y + 2, 'name': 'Series 2', 'color': '#2d91c2'},\\n                {'x': x, 'y': y - 2, 'name': 'Series 3', 'color': '#7eb0d5'},\\n                {'x': x, 'y': y * 0.8, 'name': 'Series 4', 'color': '#bddbf5'}\\n            ]\\n\\n            for series in series_data:\\n                fig.add_trace(\\n                    go.Scatter(\\n                        x=series['x'],\\n                        y=series['y'],\\n                        mode='markers',\\n                        name=series['name'],\\n                        marker=dict(\\n                            sise=10,\\n                            color=series['color'],\\n                            opacity=0.7,\\n                            line=dict(width=1, color='#444444')\\n                        ),\\n                        hovertemplate='x: %{x:.2f}<br>y: %{y:.2f}<extra></extra>'\\n                    )\\n                )\\n\\n            # Update layout with professional styling\\n            fig.update_layout(\\n                title={\\n                    'text': 'Default Scatter Plot',\\n                    'font': {'sise': 24, 'color': '#1f77b4'},\\n                    'x': 0.5,\\n                    'xanchor': 'center'\\n                },\\n                xaxis_title={\\n                    'text': 'X Values',\\n                    'font': {'sise': 16, 'color': '#444444', 'weight': 'bold'}\\n                },\\n                yaxis_title={\\n                    'text': 'Y Values',\\n                    'font': {'sise': 16, 'color': '#444444', 'weight': 'bold'}\\n                },\\n                template='plotly_white',\\n                showlegend=True,\\n                legend={\\n                    'orientation': 'h',\\n                    'yanchor': 'bottom',\\n                    'y': -0.3,\\n                    'xanchor': 'center',\\n                    'x': 0.5\\n                },\\n                margin=dict(t=100, l=100, r=50, b=100)\\n            )\\n            \\n\\n        # Line Chart Template:\\n        \\n            import plotly.graph_objects as go\\n            import numpy as np\\n\\n            # Generate sample data\\n            x = np.linspace(0, 10, 100)\\n            y_series = [\\n                np.sin(x),\\n                np.cos(x),\\n                0.5 * np.sin(2 * x),\\n                0.3 * np.cos(3 * x)\\n            ]\\n            names = ['Series 1', 'Series 2', 'Series 3', 'Series 4']\\n            colors = ['#1f77b4', '#2d91c2', '#7eb0d5', '#bddbf5']\\n\\n            # Create figure\\n            fig = go.Figure()\\n\\n            # Add multiple line series\\n            for y, name, color in zip(y_series, names, colors):\\n                fig.add_trace(\\n                    go.Scatter(\\n                        x=x,\\n                        y=y,\\n                        mode='lines',\\n                        name=name,\\n                        line=dict(\\n                            color=color,\\n                            width=2\\n                        ),\\n                        hovertemplate='x: %{x:.2f}<br>y: %{y:.2f}<extra></extra>'\\n                    )\\n                )\\n\\n            # Update layout with professional styling\\n            fig.update_layout(\\n                title={\\n                    'text': 'Default Line Chart',\\n                    'font': {'sise': 24, 'color': '#1f77b4'},\\n                    'x': 0.5,\\n                    'xanchor': 'center'\\n                },\\n                xaxis_title={\\n                    'text': 'X Values',\\n                    'font': {'sise': 16, 'color': '#444444', 'weight': 'bold'}\\n                },\\n                yaxis_title={\\n                    'text': 'Y Values',\\n                    'font': {'sise': 16, 'color': '#444444', 'weight': 'bold'}\\n                },\\n                template='plotly_white',\\n                showlegend=True,\\n                legend={\\n                    'orientation': 'h',\\n                    'yanchor': 'bottom',\\n                    'y': -0.3,\\n                    'xanchor': 'center',\\n                    'x': 0.5\\n                },\\n                margin=dict(t=100, l=100, r=50, b=100),\\n                hovermode='x unified'\\n            )\\n\\n            # Add grid lines with custom styling\\n            fig.update_xaxes(\\n                showgrid=True,\\n                gridwidth=1,\\n                gridcolor='rgba(128, 128, 128, 0.2)',\\n                zeroline=True,\\n                zerolinewidth=1,\\n                zerolinecolor='rgba(128, 128, 128, 0.5)'\\n            )\\n            fig.update_yaxes(\\n                showgrid=True,\\n                gridwidth=1,\\n                gridcolor='rgba(128, 128, 128, 0.2)',\\n                zeroline=True,\\n                zerolinewidth=1,\\n                zerolinecolor='rgba(128, 128, 128, 0.5)'\\n            )\\n            \\n\\n        Use these templates as references for styling and structure when creating your visualisations.\\n        Adapt the code to match the specific data while maintaining the professional appearance.\\n        \\n                    \\n                    3. Use the matching template as a reference for structure and styling, particularly for:\\n                    - Layout organization\\n                    - Title and axis label formatting\\n                    - Template style ('plotly_white')\\n                    - Figure update_layout parameters\\n                    - Text positioning and formatting\\n                    \\n                    4. Modify the template code with:\\n                    - The actual data from the image\\n                    - Similar color schemes where appropriate\\n                    - Matching chart type specifications\\n                    - Equivalent text positioning\\n                    \\n                    5. Use save_plotly_visualisation to create an HTML file in the output_path folder. \\n                    The requested output_path folder is /Users/jose.orjales/c-af-chartist/tests/img. \\n                    If this is empty or None, then use the default path in plotly_visualisation.\\n                    \\n                    6. Return both:\\n                    - The formatted analysis from step 1\\n                    - The path to the saved visualisation\\n                    - The modified Plotly code used\\n                    \\n                    Remember to maintain the professional appearance of the default templates while incorporating the specific data and styling from the image.\\n                    Choose the most appropriate template based on the chart type identified in your analysis.\\n                \", 'output': \"Based on the analysis of the histogram chart showing the distribution of satisfaction scores, I have created an interactive visualization using Plotly. The visualization has been saved as an HTML file at the path: /Users/jose.orjales/plotly_visualisations/visualisation_1739378035.html. This visualization maintains the professional appearance of the default templates while incorporating the specific data from the original image. The key features of the visualization include:\\n\\n1. A histogram showing satisfaction scores from 3.4 to 5.0 on the x-axis and their corresponding counts on the y-axis.\\n2. Blue bars representing the frequency of each satisfaction score range.\\n3. A clear title 'Satisfaction Score Distribution' and properly labeled axes.\\n4. A white background with subtle grid lines for improved readability.\\n5. Hover functionality to display exact count and score values.\\n\\nThe Plotly code used to create this visualization has been adapted to match the data and styling of the original image while enhancing its interactivity and professional appearance. You can open the HTML file in a web browser to interact with the chart.\"}\n"
     ]
    }
   ],
   "source": [
    "json_images = chai.handle_request(prompt = prompt, image_path='/Users/jose.orjales/c-af-chartist/tests/img/satisfaction.png', output_path='/Users/jose.orjales/c-af-chartist/tests/img')"
   ]
  },
  {
   "cell_type": "code",
   "execution_count": 15,
   "metadata": {},
   "outputs": [
    {
     "data": {
      "application/vnd.plotly.v1+json": {
       "config": {
        "plotlyServerURL": "https://plot.ly"
       },
       "data": [
        {
         "marker": {
          "color": "orange"
         },
         "type": "bar",
         "width": 0.2,
         "x": [
          3.4,
          3.6,
          3.8,
          4,
          4.2,
          4.4,
          4.6,
          4.8,
          5
         ],
         "y": [
          7,
          7,
          12,
          12,
          18,
          13,
          12,
          16,
          16
         ]
        }
       ],
       "layout": {
        "bargap": 0,
        "plot_bgcolor": "aliceblue",
        "template": {
         "data": {
          "bar": [
           {
            "error_x": {
             "color": "#2a3f5f"
            },
            "error_y": {
             "color": "#2a3f5f"
            },
            "marker": {
             "line": {
              "color": "#E5ECF6",
              "width": 0.5
             },
             "pattern": {
              "fillmode": "overlay",
              "size": 10,
              "solidity": 0.2
             }
            },
            "type": "bar"
           }
          ],
          "barpolar": [
           {
            "marker": {
             "line": {
              "color": "#E5ECF6",
              "width": 0.5
             },
             "pattern": {
              "fillmode": "overlay",
              "size": 10,
              "solidity": 0.2
             }
            },
            "type": "barpolar"
           }
          ],
          "carpet": [
           {
            "aaxis": {
             "endlinecolor": "#2a3f5f",
             "gridcolor": "white",
             "linecolor": "white",
             "minorgridcolor": "white",
             "startlinecolor": "#2a3f5f"
            },
            "baxis": {
             "endlinecolor": "#2a3f5f",
             "gridcolor": "white",
             "linecolor": "white",
             "minorgridcolor": "white",
             "startlinecolor": "#2a3f5f"
            },
            "type": "carpet"
           }
          ],
          "choropleth": [
           {
            "colorbar": {
             "outlinewidth": 0,
             "ticks": ""
            },
            "type": "choropleth"
           }
          ],
          "contour": [
           {
            "colorbar": {
             "outlinewidth": 0,
             "ticks": ""
            },
            "colorscale": [
             [
              0,
              "#0d0887"
             ],
             [
              0.1111111111111111,
              "#46039f"
             ],
             [
              0.2222222222222222,
              "#7201a8"
             ],
             [
              0.3333333333333333,
              "#9c179e"
             ],
             [
              0.4444444444444444,
              "#bd3786"
             ],
             [
              0.5555555555555556,
              "#d8576b"
             ],
             [
              0.6666666666666666,
              "#ed7953"
             ],
             [
              0.7777777777777778,
              "#fb9f3a"
             ],
             [
              0.8888888888888888,
              "#fdca26"
             ],
             [
              1,
              "#f0f921"
             ]
            ],
            "type": "contour"
           }
          ],
          "contourcarpet": [
           {
            "colorbar": {
             "outlinewidth": 0,
             "ticks": ""
            },
            "type": "contourcarpet"
           }
          ],
          "heatmap": [
           {
            "colorbar": {
             "outlinewidth": 0,
             "ticks": ""
            },
            "colorscale": [
             [
              0,
              "#0d0887"
             ],
             [
              0.1111111111111111,
              "#46039f"
             ],
             [
              0.2222222222222222,
              "#7201a8"
             ],
             [
              0.3333333333333333,
              "#9c179e"
             ],
             [
              0.4444444444444444,
              "#bd3786"
             ],
             [
              0.5555555555555556,
              "#d8576b"
             ],
             [
              0.6666666666666666,
              "#ed7953"
             ],
             [
              0.7777777777777778,
              "#fb9f3a"
             ],
             [
              0.8888888888888888,
              "#fdca26"
             ],
             [
              1,
              "#f0f921"
             ]
            ],
            "type": "heatmap"
           }
          ],
          "heatmapgl": [
           {
            "colorbar": {
             "outlinewidth": 0,
             "ticks": ""
            },
            "colorscale": [
             [
              0,
              "#0d0887"
             ],
             [
              0.1111111111111111,
              "#46039f"
             ],
             [
              0.2222222222222222,
              "#7201a8"
             ],
             [
              0.3333333333333333,
              "#9c179e"
             ],
             [
              0.4444444444444444,
              "#bd3786"
             ],
             [
              0.5555555555555556,
              "#d8576b"
             ],
             [
              0.6666666666666666,
              "#ed7953"
             ],
             [
              0.7777777777777778,
              "#fb9f3a"
             ],
             [
              0.8888888888888888,
              "#fdca26"
             ],
             [
              1,
              "#f0f921"
             ]
            ],
            "type": "heatmapgl"
           }
          ],
          "histogram": [
           {
            "marker": {
             "pattern": {
              "fillmode": "overlay",
              "size": 10,
              "solidity": 0.2
             }
            },
            "type": "histogram"
           }
          ],
          "histogram2d": [
           {
            "colorbar": {
             "outlinewidth": 0,
             "ticks": ""
            },
            "colorscale": [
             [
              0,
              "#0d0887"
             ],
             [
              0.1111111111111111,
              "#46039f"
             ],
             [
              0.2222222222222222,
              "#7201a8"
             ],
             [
              0.3333333333333333,
              "#9c179e"
             ],
             [
              0.4444444444444444,
              "#bd3786"
             ],
             [
              0.5555555555555556,
              "#d8576b"
             ],
             [
              0.6666666666666666,
              "#ed7953"
             ],
             [
              0.7777777777777778,
              "#fb9f3a"
             ],
             [
              0.8888888888888888,
              "#fdca26"
             ],
             [
              1,
              "#f0f921"
             ]
            ],
            "type": "histogram2d"
           }
          ],
          "histogram2dcontour": [
           {
            "colorbar": {
             "outlinewidth": 0,
             "ticks": ""
            },
            "colorscale": [
             [
              0,
              "#0d0887"
             ],
             [
              0.1111111111111111,
              "#46039f"
             ],
             [
              0.2222222222222222,
              "#7201a8"
             ],
             [
              0.3333333333333333,
              "#9c179e"
             ],
             [
              0.4444444444444444,
              "#bd3786"
             ],
             [
              0.5555555555555556,
              "#d8576b"
             ],
             [
              0.6666666666666666,
              "#ed7953"
             ],
             [
              0.7777777777777778,
              "#fb9f3a"
             ],
             [
              0.8888888888888888,
              "#fdca26"
             ],
             [
              1,
              "#f0f921"
             ]
            ],
            "type": "histogram2dcontour"
           }
          ],
          "mesh3d": [
           {
            "colorbar": {
             "outlinewidth": 0,
             "ticks": ""
            },
            "type": "mesh3d"
           }
          ],
          "parcoords": [
           {
            "line": {
             "colorbar": {
              "outlinewidth": 0,
              "ticks": ""
             }
            },
            "type": "parcoords"
           }
          ],
          "pie": [
           {
            "automargin": true,
            "type": "pie"
           }
          ],
          "scatter": [
           {
            "fillpattern": {
             "fillmode": "overlay",
             "size": 10,
             "solidity": 0.2
            },
            "type": "scatter"
           }
          ],
          "scatter3d": [
           {
            "line": {
             "colorbar": {
              "outlinewidth": 0,
              "ticks": ""
             }
            },
            "marker": {
             "colorbar": {
              "outlinewidth": 0,
              "ticks": ""
             }
            },
            "type": "scatter3d"
           }
          ],
          "scattercarpet": [
           {
            "marker": {
             "colorbar": {
              "outlinewidth": 0,
              "ticks": ""
             }
            },
            "type": "scattercarpet"
           }
          ],
          "scattergeo": [
           {
            "marker": {
             "colorbar": {
              "outlinewidth": 0,
              "ticks": ""
             }
            },
            "type": "scattergeo"
           }
          ],
          "scattergl": [
           {
            "marker": {
             "colorbar": {
              "outlinewidth": 0,
              "ticks": ""
             }
            },
            "type": "scattergl"
           }
          ],
          "scattermapbox": [
           {
            "marker": {
             "colorbar": {
              "outlinewidth": 0,
              "ticks": ""
             }
            },
            "type": "scattermapbox"
           }
          ],
          "scatterpolar": [
           {
            "marker": {
             "colorbar": {
              "outlinewidth": 0,
              "ticks": ""
             }
            },
            "type": "scatterpolar"
           }
          ],
          "scatterpolargl": [
           {
            "marker": {
             "colorbar": {
              "outlinewidth": 0,
              "ticks": ""
             }
            },
            "type": "scatterpolargl"
           }
          ],
          "scatterternary": [
           {
            "marker": {
             "colorbar": {
              "outlinewidth": 0,
              "ticks": ""
             }
            },
            "type": "scatterternary"
           }
          ],
          "surface": [
           {
            "colorbar": {
             "outlinewidth": 0,
             "ticks": ""
            },
            "colorscale": [
             [
              0,
              "#0d0887"
             ],
             [
              0.1111111111111111,
              "#46039f"
             ],
             [
              0.2222222222222222,
              "#7201a8"
             ],
             [
              0.3333333333333333,
              "#9c179e"
             ],
             [
              0.4444444444444444,
              "#bd3786"
             ],
             [
              0.5555555555555556,
              "#d8576b"
             ],
             [
              0.6666666666666666,
              "#ed7953"
             ],
             [
              0.7777777777777778,
              "#fb9f3a"
             ],
             [
              0.8888888888888888,
              "#fdca26"
             ],
             [
              1,
              "#f0f921"
             ]
            ],
            "type": "surface"
           }
          ],
          "table": [
           {
            "cells": {
             "fill": {
              "color": "#EBF0F8"
             },
             "line": {
              "color": "white"
             }
            },
            "header": {
             "fill": {
              "color": "#C8D4E3"
             },
             "line": {
              "color": "white"
             }
            },
            "type": "table"
           }
          ]
         },
         "layout": {
          "annotationdefaults": {
           "arrowcolor": "#2a3f5f",
           "arrowhead": 0,
           "arrowwidth": 1
          },
          "autotypenumbers": "strict",
          "coloraxis": {
           "colorbar": {
            "outlinewidth": 0,
            "ticks": ""
           }
          },
          "colorscale": {
           "diverging": [
            [
             0,
             "#8e0152"
            ],
            [
             0.1,
             "#c51b7d"
            ],
            [
             0.2,
             "#de77ae"
            ],
            [
             0.3,
             "#f1b6da"
            ],
            [
             0.4,
             "#fde0ef"
            ],
            [
             0.5,
             "#f7f7f7"
            ],
            [
             0.6,
             "#e6f5d0"
            ],
            [
             0.7,
             "#b8e186"
            ],
            [
             0.8,
             "#7fbc41"
            ],
            [
             0.9,
             "#4d9221"
            ],
            [
             1,
             "#276419"
            ]
           ],
           "sequential": [
            [
             0,
             "#0d0887"
            ],
            [
             0.1111111111111111,
             "#46039f"
            ],
            [
             0.2222222222222222,
             "#7201a8"
            ],
            [
             0.3333333333333333,
             "#9c179e"
            ],
            [
             0.4444444444444444,
             "#bd3786"
            ],
            [
             0.5555555555555556,
             "#d8576b"
            ],
            [
             0.6666666666666666,
             "#ed7953"
            ],
            [
             0.7777777777777778,
             "#fb9f3a"
            ],
            [
             0.8888888888888888,
             "#fdca26"
            ],
            [
             1,
             "#f0f921"
            ]
           ],
           "sequentialminus": [
            [
             0,
             "#0d0887"
            ],
            [
             0.1111111111111111,
             "#46039f"
            ],
            [
             0.2222222222222222,
             "#7201a8"
            ],
            [
             0.3333333333333333,
             "#9c179e"
            ],
            [
             0.4444444444444444,
             "#bd3786"
            ],
            [
             0.5555555555555556,
             "#d8576b"
            ],
            [
             0.6666666666666666,
             "#ed7953"
            ],
            [
             0.7777777777777778,
             "#fb9f3a"
            ],
            [
             0.8888888888888888,
             "#fdca26"
            ],
            [
             1,
             "#f0f921"
            ]
           ]
          },
          "colorway": [
           "#636efa",
           "#EF553B",
           "#00cc96",
           "#ab63fa",
           "#FFA15A",
           "#19d3f3",
           "#FF6692",
           "#B6E880",
           "#FF97FF",
           "#FECB52"
          ],
          "font": {
           "color": "#2a3f5f"
          },
          "geo": {
           "bgcolor": "white",
           "lakecolor": "white",
           "landcolor": "#E5ECF6",
           "showlakes": true,
           "showland": true,
           "subunitcolor": "white"
          },
          "hoverlabel": {
           "align": "left"
          },
          "hovermode": "closest",
          "mapbox": {
           "style": "light"
          },
          "paper_bgcolor": "white",
          "plot_bgcolor": "#E5ECF6",
          "polar": {
           "angularaxis": {
            "gridcolor": "white",
            "linecolor": "white",
            "ticks": ""
           },
           "bgcolor": "#E5ECF6",
           "radialaxis": {
            "gridcolor": "white",
            "linecolor": "white",
            "ticks": ""
           }
          },
          "scene": {
           "xaxis": {
            "backgroundcolor": "#E5ECF6",
            "gridcolor": "white",
            "gridwidth": 2,
            "linecolor": "white",
            "showbackground": true,
            "ticks": "",
            "zerolinecolor": "white"
           },
           "yaxis": {
            "backgroundcolor": "#E5ECF6",
            "gridcolor": "white",
            "gridwidth": 2,
            "linecolor": "white",
            "showbackground": true,
            "ticks": "",
            "zerolinecolor": "white"
           },
           "zaxis": {
            "backgroundcolor": "#E5ECF6",
            "gridcolor": "white",
            "gridwidth": 2,
            "linecolor": "white",
            "showbackground": true,
            "ticks": "",
            "zerolinecolor": "white"
           }
          },
          "shapedefaults": {
           "line": {
            "color": "#2a3f5f"
           }
          },
          "ternary": {
           "aaxis": {
            "gridcolor": "white",
            "linecolor": "white",
            "ticks": ""
           },
           "baxis": {
            "gridcolor": "white",
            "linecolor": "white",
            "ticks": ""
           },
           "bgcolor": "#E5ECF6",
           "caxis": {
            "gridcolor": "white",
            "linecolor": "white",
            "ticks": ""
           }
          },
          "title": {
           "x": 0.05
          },
          "xaxis": {
           "automargin": true,
           "gridcolor": "white",
           "linecolor": "white",
           "ticks": "",
           "title": {
            "standoff": 15
           },
           "zerolinecolor": "white",
           "zerolinewidth": 2
          },
          "yaxis": {
           "automargin": true,
           "gridcolor": "white",
           "linecolor": "white",
           "ticks": "",
           "title": {
            "standoff": 15
           },
           "zerolinecolor": "white",
           "zerolinewidth": 2
          }
         }
        },
        "title": {
         "text": "Satisfaction Score Distribution"
        },
        "xaxis": {
         "title": {
          "text": "Satisfaction Score"
         }
        },
        "yaxis": {
         "title": {
          "text": "Count"
         }
        }
       }
      }
     },
     "metadata": {},
     "output_type": "display_data"
    }
   ],
   "source": [
    "import plotly.graph_objects as go\n",
    "\n",
    "satisfaction_scores = [3.4, 3.6, 3.8, 4.0, 4.2, 4.4, 4.6, 4.8, 5.0]\n",
    "counts = [7, 7, 12, 12, 18, 13, 12, 16, 16]\n",
    "\n",
    "fig = go.Figure(data=[go.Bar(\n",
    "    x=satisfaction_scores,\n",
    "    y=counts,\n",
    "    marker_color='orange',\n",
    "    width=0.2\n",
    ")])\n",
    "\n",
    "fig.update_layout(\n",
    "    title='Satisfaction Score Distribution',\n",
    "    xaxis_title='Satisfaction Score',\n",
    "    yaxis_title='Count',\n",
    "    plot_bgcolor='aliceblue',\n",
    "    bargap=0\n",
    ")\n",
    "\n",
    "fig.show()"
   ]
  },
  {
   "cell_type": "markdown",
   "metadata": {},
   "source": [
    "## Asking for some template code"
   ]
  },
  {
   "cell_type": "code",
   "execution_count": 13,
   "metadata": {},
   "outputs": [],
   "source": [
    "chart_prompt = \"I want a red chart with bold axis titles and labels on the bars. There should also be a legend showing each distinct category\""
   ]
  },
  {
   "cell_type": "code",
   "execution_count": 14,
   "metadata": {},
   "outputs": [
    {
     "data": {
      "text/html": [
       "\n",
       "            <div style='\n",
       "                padding: 2px 6px;\n",
       "                margin: 2px 0;\n",
       "                border-left: 3px solid #0d6efd;\n",
       "                background-color: #f8f9fa;\n",
       "                font-family: Monaco, monospace;\n",
       "                font-sise: 12px;\n",
       "            '>\n",
       "                <span style='color: #0d6efd; font-weight: bold;'>INFO</span>\n",
       "                <span style='color: #666; margin-right: 8px;'>16:34:04</span>\n",
       "                <span>Sending prompt and data to agent executor...</span>\n",
       "            </div>\n",
       "            "
      ],
      "text/plain": [
       "<IPython.core.display.HTML object>"
      ]
     },
     "metadata": {},
     "output_type": "display_data"
    },
    {
     "name": "stderr",
     "output_type": "stream",
     "text": [
      "Sending prompt and data to agent executor...\n"
     ]
    },
    {
     "name": "stdout",
     "output_type": "stream",
     "text": [
      "Plot saved to: /Users/jose.orjales/c-af-chartist/tests/img/red_scatter_plot.html\n",
      "{'input': \"\\n            Create a default scatter chart visualisation using this template as reference:\\n\\n            # Template Code:\\n            \\n            import plotly.graph_objects as go\\n            import numpy as np\\n\\n            # Generate sample data\\n            np.random.seed(42)\\n            x = np.random.uniform(0, 10, 50)\\n            y = 2 * x + np.random.normal(0, 2, 50)\\n\\n            # Create figure with multiple series\\n            fig = go.Figure()\\n\\n            # Add multiple scatter series with different colors\\n            series_data = [\\n                {'x': x, 'y': y, 'name': 'Series 1', 'color': '#1f77b4'},\\n                {'x': x, 'y': y + 2, 'name': 'Series 2', 'color': '#2d91c2'},\\n                {'x': x, 'y': y - 2, 'name': 'Series 3', 'color': '#7eb0d5'},\\n                {'x': x, 'y': y * 0.8, 'name': 'Series 4', 'color': '#bddbf5'}\\n            ]\\n\\n            for series in series_data:\\n                fig.add_trace(\\n                    go.Scatter(\\n                        x=series['x'],\\n                        y=series['y'],\\n                        mode='markers',\\n                        name=series['name'],\\n                        marker=dict(\\n                            sise=10,\\n                            color=series['color'],\\n                            opacity=0.7,\\n                            line=dict(width=1, color='#444444')\\n                        ),\\n                        hovertemplate='x: %{x:.2f}<br>y: %{y:.2f}<extra></extra>'\\n                    )\\n                )\\n\\n            # Update layout with professional styling\\n            fig.update_layout(\\n                title={\\n                    'text': 'Default Scatter Plot',\\n                    'font': {'sise': 24, 'color': '#1f77b4'},\\n                    'x': 0.5,\\n                    'xanchor': 'center'\\n                },\\n                xaxis_title={\\n                    'text': 'X Values',\\n                    'font': {'sise': 16, 'color': '#444444', 'weight': 'bold'}\\n                },\\n                yaxis_title={\\n                    'text': 'Y Values',\\n                    'font': {'sise': 16, 'color': '#444444', 'weight': 'bold'}\\n                },\\n                template='plotly_white',\\n                showlegend=True,\\n                legend={\\n                    'orientation': 'h',\\n                    'yanchor': 'bottom',\\n                    'y': -0.3,\\n                    'xanchor': 'center',\\n                    'x': 0.5\\n                },\\n                margin=dict(t=100, l=100, r=50, b=100)\\n            )\\n            \\n            \\n            1. Use this template code as a starting point\\n            2. Consider the following specific requirements in adapting the code to the user's needs:\\n            I want a red chart with bold axis titles and labels on the bars. There should also be a legend showing each distinct category\\n            3. Maintain the professional styling while adjusting for your specific needs and those of the user.\\n            4. Use save_plotly_visualisation to save the chart as an HTML file in the output_path folder.\\n            The requested output_path folder is /Users/jose.orjales/c-af-chartist/tests/img. \\n            If this is empty or None, then use the default path in plotly_visualisation.\\n            \\n            4. Return:\\n            - The modified Plotly code used\\n            - The path to the saved visualisation\\n            \", 'output': 'I have created a red scatter chart visualization based on your requirements and saved it as an HTML file. The chart features:\\n\\n1. Multiple scatter series in different shades of red\\n2. Bold axis titles and labels\\n3. A legend showing each distinct category\\n4. Professional styling with a light red background\\n\\nThe visualization has been successfully saved and is now available for viewing. You can find the HTML file in the specified output directory. The file contains an interactive Plotly chart that you can open in a web browser to explore the data in detail.'}\n"
     ]
    }
   ],
   "source": [
    "json_images = chai.handle_request(prompt = chart_prompt, output_path='/Users/jose.orjales/c-af-chartist/tests/img', chart_type='scatter')"
   ]
  }
 ],
 "metadata": {
  "kernelspec": {
   "display_name": ".venv",
   "language": "python",
   "name": "python3"
  },
  "language_info": {
   "codemirror_mode": {
    "name": "ipython",
    "version": 3
   },
   "file_extension": ".py",
   "mimetype": "text/x-python",
   "name": "python",
   "nbconvert_exporter": "python",
   "pygments_lexer": "ipython3",
   "version": "3.13.1"
  }
 },
 "nbformat": 4,
 "nbformat_minor": 2
}
