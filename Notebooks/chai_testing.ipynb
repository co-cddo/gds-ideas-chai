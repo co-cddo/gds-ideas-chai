{
 "cells": [
  {
   "cell_type": "code",
   "execution_count": 1,
   "metadata": {},
   "outputs": [],
   "source": [
    "# RUN THIS BEFORE ATTEMPTING, OTHERWISE MAY GET CLIENT ERRORS ON SOME AWS CALLS\n",
    "import boto3\n",
    "boto3.setup_default_session()"
   ]
  },
  {
   "cell_type": "code",
   "execution_count": 2,
   "metadata": {},
   "outputs": [],
   "source": [
    "import sys\n",
    "import os\n",
    "from pathlib import Path\n",
    "notebook_dir = Path(os.getcwd()) \n",
    "project_root = notebook_dir.parent\n",
    "sys.path.append(str(project_root))"
   ]
  },
  {
   "cell_type": "code",
   "execution_count": 3,
   "metadata": {},
   "outputs": [
    {
     "name": "stdout",
     "output_type": "stream",
     "text": [
      "Using AWS Profile: aws-prototype\n",
      "Using AWS Region: us-east-1\n",
      "Using LLM model: anthropic.claude-3-5-sonnet-20240620-v1:0\n",
      "\n",
      "Available models in LLMModel enum:\n",
      "- CLAUDE_V2_1: anthropic.claude-v2:1\n",
      "- CLAUDE_SONNET_3_5: anthropic.claude-3-5-sonnet-20240620-v1:0\n",
      "- CLAUDE_HAIKU_3_5: anthropic.claude-3-5-haiku-20241022-v1:0\n"
     ]
    }
   ],
   "source": [
    "from dotenv import load_dotenv\n",
    "import os\n",
    "from chAI.constants import LLMModel\n",
    "\n",
    "# Load .env file\n",
    "load_dotenv()\n",
    "aws_profile = os.getenv('AWS_PROFILE')\n",
    "llm_region = os.getenv('LLM_REGION')\n",
    "llm_model = os.getenv('LLM_MODEL')\n",
    "print(f\"Using AWS Profile: {aws_profile}\")\n",
    "print(f\"Using AWS Region: {llm_region}\")\n",
    "print(f\"Using LLM model: {llm_model}\")\n",
    "\n",
    "print(\"\\nAvailable models in LLMModel enum:\")\n",
    "for model in LLMModel:\n",
    "    print(f\"- {model.name}: {model.value}\")"
   ]
  },
  {
   "cell_type": "code",
   "execution_count": 4,
   "metadata": {},
   "outputs": [],
   "source": [
    "# Setup notebook to show logger messages\n",
    "import logging\n",
    "import sys\n",
    "from datetime import datetime\n",
    "from IPython.display import display, HTML\n",
    "\n",
    "class VSCodeNotebookHandler(logging.Handler):\n",
    "    def __init__(self):\n",
    "        super().__init__()\n",
    "        self.log_buffer = []\n",
    "\n",
    "    def emit(self, record):\n",
    "        try:\n",
    "            # Format the message\n",
    "            msg = self.format(record)\n",
    "            \n",
    "            # Define colors for different log levels\n",
    "            colors = {\n",
    "                logging.DEBUG: '#6c757d',    # gray\n",
    "                logging.INFO: '#0d6efd',     # blue\n",
    "                logging.WARNING: '#ffc107',   # yellow\n",
    "                logging.ERROR: '#dc3545',     # red\n",
    "                logging.CRITICAL: '#721c24'   # dark red\n",
    "            }\n",
    "            \n",
    "            # Get color for current log level\n",
    "            color = colors.get(record.levelno, '#000000')\n",
    "            \n",
    "            # Create HTML formatted log entry\n",
    "            log_entry = f\"\"\"\n",
    "            <div style='\n",
    "                padding: 2px 6px;\n",
    "                margin: 2px 0;\n",
    "                border-left: 3px solid {color};\n",
    "                background-color: #f8f9fa;\n",
    "                font-family: Monaco, monospace;\n",
    "                font-sise: 12px;\n",
    "            '>\n",
    "                <span style='color: {color}; font-weight: bold;'>{record.levelname}</span>\n",
    "                <span style='color: #666; margin-right: 8px;'>{datetime.now().strftime('%H:%M:%S')}</span>\n",
    "                <span>{msg}</span>\n",
    "            </div>\n",
    "            \"\"\"\n",
    "            \n",
    "            # Display the formatted log entry\n",
    "            display(HTML(log_entry))\n",
    "            \n",
    "            # Also print to stderr for VSCode's native console\n",
    "            print(msg, file=sys.stderr)\n",
    "            \n",
    "        except Exception as e:\n",
    "            print(f\"Error in log handler: {str(e)}\", file=sys.stderr)\n",
    "\n",
    "def setup_notebook_logging(level=logging.INFO):\n",
    "    \"\"\"\n",
    "    Configure logging for VSCode Jupyter notebooks\n",
    "    \n",
    "    Args:\n",
    "        level: The logging level to use (default: INFO)\n",
    "    Returns:\n",
    "        logger: Configured logger instance\n",
    "    \"\"\"\n",
    "    # Create or get the root logger\n",
    "    logger = logging.getLogger()\n",
    "    \n",
    "    # Remove any existing handlers\n",
    "    for handler in logger.handlers[:]:\n",
    "        logger.removeHandler(handler)\n",
    "    \n",
    "    # Set the logging level\n",
    "    logger.setLevel(level)\n",
    "    \n",
    "    # Create and configure the VSCode notebook handler\n",
    "    handler = VSCodeNotebookHandler()\n",
    "    formatter = logging.Formatter('%(message)s')\n",
    "    handler.setFormatter(formatter)\n",
    "    logger.addHandler(handler)\n",
    "    \n",
    "    return logger\n",
    "\n",
    "# Usage example:\n",
    "logger = setup_notebook_logging(logging.INFO)\n",
    "\n",
    "# Test the logger\n",
    "def test_logging():\n",
    "    logger.debug(\"This is a debug message\")\n",
    "    logger.info(\"This is an info message\")\n",
    "    logger.warning(\"This is a warning message\")\n",
    "    logger.error(\"This is an error message\")\n",
    "    logger.critical(\"This is a critical message\")"
   ]
  },
  {
   "cell_type": "code",
   "execution_count": 5,
   "metadata": {},
   "outputs": [],
   "source": [
    "logger = setup_notebook_logging()"
   ]
  },
  {
   "cell_type": "markdown",
   "metadata": {},
   "source": [
    "# chAI testing and examples"
   ]
  },
  {
   "cell_type": "code",
   "execution_count": 6,
   "metadata": {},
   "outputs": [],
   "source": [
    "import numpy as np\n",
    "import pandas as pd\n",
    "def create_sample_dataset():\n",
    "    \"\"\"Create a sample dataset for testing\"\"\"\n",
    "    np.random.seed(42)\n",
    "    dates = pd.date_range(start=\"2023-01-01\", periods=100, freq=\"D\")\n",
    "\n",
    "    sample_df = pd.DataFrame(\n",
    "        {\n",
    "            \"date\": dates,\n",
    "            \"sales\": np.random.normal(1000, 100, 100),\n",
    "            \"customers\": np.random.randint(50, 200, 100),\n",
    "            \"satisfaction_score\": np.random.uniform(3.5, 5.0, 100),\n",
    "            \"category\": np.random.choice([\"A\", \"B\", \"C\"], 100),\n",
    "        }\n",
    "    )\n",
    "\n",
    "    return sample_df"
   ]
  },
  {
   "cell_type": "code",
   "execution_count": 7,
   "metadata": {},
   "outputs": [
    {
     "data": {
      "text/html": [
       "\n",
       "            <div style='\n",
       "                padding: 2px 6px;\n",
       "                margin: 2px 0;\n",
       "                border-left: 3px solid #0d6efd;\n",
       "                background-color: #f8f9fa;\n",
       "                font-family: Monaco, monospace;\n",
       "                font-sise: 12px;\n",
       "            '>\n",
       "                <span style='color: #0d6efd; font-weight: bold;'>INFO</span>\n",
       "                <span style='color: #666; margin-right: 8px;'>15:04:28</span>\n",
       "                <span>chAI Start</span>\n",
       "            </div>\n",
       "            "
      ],
      "text/plain": [
       "<IPython.core.display.HTML object>"
      ]
     },
     "metadata": {},
     "output_type": "display_data"
    },
    {
     "name": "stderr",
     "output_type": "stream",
     "text": [
      "chAI Start\n"
     ]
    },
    {
     "data": {
      "text/html": [
       "\n",
       "            <div style='\n",
       "                padding: 2px 6px;\n",
       "                margin: 2px 0;\n",
       "                border-left: 3px solid #0d6efd;\n",
       "                background-color: #f8f9fa;\n",
       "                font-family: Monaco, monospace;\n",
       "                font-sise: 12px;\n",
       "            '>\n",
       "                <span style='color: #0d6efd; font-weight: bold;'>INFO</span>\n",
       "                <span style='color: #666; margin-right: 8px;'>15:04:28</span>\n",
       "                <span>Loaded config for agent successfully.</span>\n",
       "            </div>\n",
       "            "
      ],
      "text/plain": [
       "<IPython.core.display.HTML object>"
      ]
     },
     "metadata": {},
     "output_type": "display_data"
    },
    {
     "name": "stderr",
     "output_type": "stream",
     "text": [
      "Loaded config for agent successfully.\n"
     ]
    },
    {
     "data": {
      "text/html": [
       "\n",
       "            <div style='\n",
       "                padding: 2px 6px;\n",
       "                margin: 2px 0;\n",
       "                border-left: 3px solid #0d6efd;\n",
       "                background-color: #f8f9fa;\n",
       "                font-family: Monaco, monospace;\n",
       "                font-sise: 12px;\n",
       "            '>\n",
       "                <span style='color: #0d6efd; font-weight: bold;'>INFO</span>\n",
       "                <span style='color: #666; margin-right: 8px;'>15:04:28</span>\n",
       "                <span>Loaded config for agent successfully.</span>\n",
       "            </div>\n",
       "            "
      ],
      "text/plain": [
       "<IPython.core.display.HTML object>"
      ]
     },
     "metadata": {},
     "output_type": "display_data"
    },
    {
     "name": "stderr",
     "output_type": "stream",
     "text": [
      "Loaded config for agent successfully.\n"
     ]
    },
    {
     "data": {
      "text/html": [
       "\n",
       "            <div style='\n",
       "                padding: 2px 6px;\n",
       "                margin: 2px 0;\n",
       "                border-left: 3px solid #0d6efd;\n",
       "                background-color: #f8f9fa;\n",
       "                font-family: Monaco, monospace;\n",
       "                font-sise: 12px;\n",
       "            '>\n",
       "                <span style='color: #0d6efd; font-weight: bold;'>INFO</span>\n",
       "                <span style='color: #666; margin-right: 8px;'>15:04:28</span>\n",
       "                <span>Initializing BedrockHandler</span>\n",
       "            </div>\n",
       "            "
      ],
      "text/plain": [
       "<IPython.core.display.HTML object>"
      ]
     },
     "metadata": {},
     "output_type": "display_data"
    },
    {
     "name": "stderr",
     "output_type": "stream",
     "text": [
      "Initializing BedrockHandler\n"
     ]
    },
    {
     "data": {
      "text/html": [
       "\n",
       "            <div style='\n",
       "                padding: 2px 6px;\n",
       "                margin: 2px 0;\n",
       "                border-left: 3px solid #0d6efd;\n",
       "                background-color: #f8f9fa;\n",
       "                font-family: Monaco, monospace;\n",
       "                font-sise: 12px;\n",
       "            '>\n",
       "                <span style='color: #0d6efd; font-weight: bold;'>INFO</span>\n",
       "                <span style='color: #666; margin-right: 8px;'>15:04:28</span>\n",
       "                <span>Found credentials in shared credentials file: ~/.aws/credentials</span>\n",
       "            </div>\n",
       "            "
      ],
      "text/plain": [
       "<IPython.core.display.HTML object>"
      ]
     },
     "metadata": {},
     "output_type": "display_data"
    },
    {
     "name": "stderr",
     "output_type": "stream",
     "text": [
      "Found credentials in shared credentials file: ~/.aws/credentials\n"
     ]
    },
    {
     "data": {
      "text/html": [
       "\n",
       "            <div style='\n",
       "                padding: 2px 6px;\n",
       "                margin: 2px 0;\n",
       "                border-left: 3px solid #0d6efd;\n",
       "                background-color: #f8f9fa;\n",
       "                font-family: Monaco, monospace;\n",
       "                font-sise: 12px;\n",
       "            '>\n",
       "                <span style='color: #0d6efd; font-weight: bold;'>INFO</span>\n",
       "                <span style='color: #666; margin-right: 8px;'>15:04:28</span>\n",
       "                <span>Creating ChatBedrock LLM instance</span>\n",
       "            </div>\n",
       "            "
      ],
      "text/plain": [
       "<IPython.core.display.HTML object>"
      ]
     },
     "metadata": {},
     "output_type": "display_data"
    },
    {
     "name": "stderr",
     "output_type": "stream",
     "text": [
      "Creating ChatBedrock LLM instance\n"
     ]
    },
    {
     "data": {
      "text/html": [
       "\n",
       "            <div style='\n",
       "                padding: 2px 6px;\n",
       "                margin: 2px 0;\n",
       "                border-left: 3px solid #0d6efd;\n",
       "                background-color: #f8f9fa;\n",
       "                font-family: Monaco, monospace;\n",
       "                font-sise: 12px;\n",
       "            '>\n",
       "                <span style='color: #0d6efd; font-weight: bold;'>INFO</span>\n",
       "                <span style='color: #666; margin-right: 8px;'>15:04:28</span>\n",
       "                <span>Found credentials in shared credentials file: ~/.aws/credentials</span>\n",
       "            </div>\n",
       "            "
      ],
      "text/plain": [
       "<IPython.core.display.HTML object>"
      ]
     },
     "metadata": {},
     "output_type": "display_data"
    },
    {
     "name": "stderr",
     "output_type": "stream",
     "text": [
      "Found credentials in shared credentials file: ~/.aws/credentials\n"
     ]
    },
    {
     "data": {
      "text/html": [
       "\n",
       "            <div style='\n",
       "                padding: 2px 6px;\n",
       "                margin: 2px 0;\n",
       "                border-left: 3px solid #0d6efd;\n",
       "                background-color: #f8f9fa;\n",
       "                font-family: Monaco, monospace;\n",
       "                font-sise: 12px;\n",
       "            '>\n",
       "                <span style='color: #0d6efd; font-weight: bold;'>INFO</span>\n",
       "                <span style='color: #666; margin-right: 8px;'>15:04:28</span>\n",
       "                <span>Successfully created ChatBedrock LLM instance</span>\n",
       "            </div>\n",
       "            "
      ],
      "text/plain": [
       "<IPython.core.display.HTML object>"
      ]
     },
     "metadata": {},
     "output_type": "display_data"
    },
    {
     "name": "stderr",
     "output_type": "stream",
     "text": [
      "Successfully created ChatBedrock LLM instance\n",
      "/Users/jose.orjales/c-af-chartist/.venv/lib/python3.13/site-packages/langsmith/client.py:253: LangSmithMissingAPIKeyWarning: API key must be provided when using hosted LangSmith API\n",
      "  warnings.warn(\n"
     ]
    },
    {
     "data": {
      "text/html": [
       "\n",
       "            <div style='\n",
       "                padding: 2px 6px;\n",
       "                margin: 2px 0;\n",
       "                border-left: 3px solid #0d6efd;\n",
       "                background-color: #f8f9fa;\n",
       "                font-family: Monaco, monospace;\n",
       "                font-sise: 12px;\n",
       "            '>\n",
       "                <span style='color: #0d6efd; font-weight: bold;'>INFO</span>\n",
       "                <span style='color: #666; margin-right: 8px;'>15:04:28</span>\n",
       "                <span>Setting up chAI agent</span>\n",
       "            </div>\n",
       "            "
      ],
      "text/plain": [
       "<IPython.core.display.HTML object>"
      ]
     },
     "metadata": {},
     "output_type": "display_data"
    },
    {
     "name": "stderr",
     "output_type": "stream",
     "text": [
      "Setting up chAI agent\n"
     ]
    },
    {
     "data": {
      "text/html": [
       "\n",
       "            <div style='\n",
       "                padding: 2px 6px;\n",
       "                margin: 2px 0;\n",
       "                border-left: 3px solid #0d6efd;\n",
       "                background-color: #f8f9fa;\n",
       "                font-family: Monaco, monospace;\n",
       "                font-sise: 12px;\n",
       "            '>\n",
       "                <span style='color: #0d6efd; font-weight: bold;'>INFO</span>\n",
       "                <span style='color: #666; margin-right: 8px;'>15:04:28</span>\n",
       "                <span>chAI agent successfully set up</span>\n",
       "            </div>\n",
       "            "
      ],
      "text/plain": [
       "<IPython.core.display.HTML object>"
      ]
     },
     "metadata": {},
     "output_type": "display_data"
    },
    {
     "name": "stderr",
     "output_type": "stream",
     "text": [
      "chAI agent successfully set up\n"
     ]
    }
   ],
   "source": [
    "from chAI.chAI import chAI\n",
    "chai = chAI()"
   ]
  },
  {
   "cell_type": "markdown",
   "metadata": {},
   "source": [
    "## Visualisation Suggestions"
   ]
  },
  {
   "cell_type": "code",
   "execution_count": 8,
   "metadata": {},
   "outputs": [],
   "source": [
    "sample_df = create_sample_dataset()"
   ]
  },
  {
   "cell_type": "code",
   "execution_count": null,
   "metadata": {},
   "outputs": [],
   "source": [
    "prompt = \"Analyse this dataset and suggest visualisations to explore trends and insights.\"\n",
    "response = chai.handle_request(data=sample_df, prompt=prompt)"
   ]
  },
  {
   "cell_type": "markdown",
   "metadata": {},
   "source": [
    "## Copycat functionality\n",
    "\n",
    "Provide a chart image and ask LLM to provide the plotly code and output to an html file"
   ]
  },
  {
   "cell_type": "code",
   "execution_count": 15,
   "metadata": {},
   "outputs": [],
   "source": [
    "prompt = \"\"\"\n",
    "    Please analyse this chart and provide a comprehensive review with the following structure:\n",
    "\n",
    "    1. Key Findings:\n",
    "    - What are the most significant patterns or insights?\n",
    "    - What are the highest and lowest values?\n",
    "    - Are there any notable disparities or trends?\n",
    "\n",
    "    2. Comparative Analysis:\n",
    "    - Compare the different outcome groups\n",
    "    - Identify any significant gaps or differences\n",
    "    - Highlight any unexpected patterns\n",
    "\n",
    "    Please provide your analysis in clear, business-friendly language suitable for stakeholders.\n",
    "    \"\"\""
   ]
  },
  {
   "cell_type": "code",
   "execution_count": 16,
   "metadata": {},
   "outputs": [
    {
     "data": {
      "text/html": [
       "\n",
       "            <div style='\n",
       "                padding: 2px 6px;\n",
       "                margin: 2px 0;\n",
       "                border-left: 3px solid #0d6efd;\n",
       "                background-color: #f8f9fa;\n",
       "                font-family: Monaco, monospace;\n",
       "                font-sise: 12px;\n",
       "            '>\n",
       "                <span style='color: #0d6efd; font-weight: bold;'>INFO</span>\n",
       "                <span style='color: #666; margin-right: 8px;'>15:09:27</span>\n",
       "                <span>Detected image location input. Preparing to review...</span>\n",
       "            </div>\n",
       "            "
      ],
      "text/plain": [
       "<IPython.core.display.HTML object>"
      ]
     },
     "metadata": {},
     "output_type": "display_data"
    },
    {
     "name": "stderr",
     "output_type": "stream",
     "text": [
      "Detected image location input. Preparing to review...\n"
     ]
    },
    {
     "data": {
      "text/html": [
       "\n",
       "            <div style='\n",
       "                padding: 2px 6px;\n",
       "                margin: 2px 0;\n",
       "                border-left: 3px solid #0d6efd;\n",
       "                background-color: #f8f9fa;\n",
       "                font-family: Monaco, monospace;\n",
       "                font-sise: 12px;\n",
       "            '>\n",
       "                <span style='color: #0d6efd; font-weight: bold;'>INFO</span>\n",
       "                <span style='color: #666; margin-right: 8px;'>15:09:27</span>\n",
       "                <span>Encoding image to base64</span>\n",
       "            </div>\n",
       "            "
      ],
      "text/plain": [
       "<IPython.core.display.HTML object>"
      ]
     },
     "metadata": {},
     "output_type": "display_data"
    },
    {
     "name": "stderr",
     "output_type": "stream",
     "text": [
      "Encoding image to base64\n"
     ]
    },
    {
     "name": "stdout",
     "output_type": "stream",
     "text": [
      "\n",
      "            Review the supplied image information and create an interactive visualisation that matches it as closely as possible.\n",
      "            \n",
      "            IMPORTANT: You MUST use the format_image_analysis_output tool first to structure the image analysis.\n",
      "            \n",
      "            1. Format the analysis:\n",
      "            - Use the format_image_analysis_output tool with this exact input: # Description\n",
      "This image shows a histogram or bar chart depicting the distribution of satisfaction scores. The chart displays the frequency or count of each satisfaction score range from 3.4 to 5.0 in increments of 0.2.\n",
      "\n",
      "# Chart Analysis\n",
      "## Type\n",
      "This is a histogram or bar chart visualization.\n",
      "\n",
      "## Axes\n",
      "- X-axis: Satisfaction Score, ranging from 3.4 to 5.0\n",
      "- Y-axis: Count, representing the frequency of each satisfaction score range\n",
      "\n",
      "## Insights\n",
      "- The distribution appears to be somewhat bimodal, with peaks around 4.2-4.4 and 4.8-5.0.\n",
      "- The highest frequency is observed in the 4.2-4.4 range.\n",
      "- There's a noticeable dip in frequency for scores between 3.6-3.8.\n",
      "- The lowest frequencies are observed at the lower end of the satisfaction scale (3.4-3.6).\n",
      "- Overall, the satisfaction scores are skewed towards the higher end, with most scores falling above 4.0.\n",
      "- There's a slight increase in frequency for the highest satisfaction scores (4.8-5.0), suggesting a number of very satisfied respondents.\n",
      "\n",
      "# Plotly Recreation\n",
      "## Code\n",
      "```python\n",
      "import plotly.graph_objects as go\n",
      "\n",
      "satisfaction_scores = [3.4, 3.6, 3.8, 4.0, 4.2, 4.4, 4.6, 4.8, 5.0]\n",
      "counts = [7, 7, 12, 12, 13, 18, 13, 13, 16]\n",
      "\n",
      "fig = go.Figure(data=[go.Bar(\n",
      "    x=satisfaction_scores,\n",
      "    y=counts,\n",
      "    marker_color='orange'\n",
      ")])\n",
      "\n",
      "fig.update_layout(\n",
      "    title='Satisfaction Score Distribution',\n",
      "    xaxis_title='Satisfaction Score',\n",
      "    yaxis_title='Count',\n",
      "    xaxis=dict(tickmode='linear', tick0=3.4, dtick=0.2),\n",
      "    yaxis=dict(range=[0, 20]),\n",
      "    plot_bgcolor='rgba(240, 245, 255, 1)',\n",
      "    width=800,\n",
      "    height=500\n",
      ")\n",
      "\n",
      "fig.show()\n",
      "```\n",
      "\n",
      "## Data Structure\n",
      "The data structure needed for this Plotly code is two lists:\n",
      "1. `satisfaction_scores`: A list of float values representing the satisfaction score ranges (x-axis values).\n",
      "2. `counts`: A list of integer values representing the frequency or count for each satisfaction score range (y-axis values).\n",
      "\n",
      "These two lists should be of equal length and correspond to each other, where each index represents a specific satisfaction score range and its count.\n",
      "            - Store the formatted JSON output for use in subsequent steps\n",
      "            - This step is mandatory and must be completed first\n",
      "            \n",
      "            2. Using the formatted analysis from step 1:\n",
      "            - Reference the chart_analysis.type to identify the visualisation type\n",
      "            - Use chart_analysis.axes to understand data relationships\n",
      "            - Review insights from chart_analysis.insights\n",
      "            - Check plotly_recreation for specific implementation details\n",
      "            \n",
      "            3. Create a professional visualisation that:\n",
      "            - Matches the identified chart type from the formatted analysis\n",
      "            - Replicates the color scheme and styling\n",
      "            - Maintains proper layout and formatting\n",
      "            - Includes appropriate labels and legends\n",
      "            - Uses 'plotly_white' as the base template\n",
      "            \n",
      "            4. Ensure the visualisation includes:\n",
      "            - Proper title and axis formatting\n",
      "            - Consistent text positioning and styling\n",
      "            - Appropriate data representation\n",
      "            - Professional appearance and readability\n",
      "            \n",
      "            5. Use save_plotly_visualisation to create an HTML file in the output_path folder.\n",
      "            Use this exact output path: /Users/jose.orjales/c-af-chartist/tests/img\n",
      "            \n",
      "            6. Return a JSON dictionary with exactly this structure:\n",
      "            {\n",
      "                \"analysis\": \"## Insights\\n1. <insight1>\\n2. <insight2>\\n...\",\n",
      "                \"path\": The exact path returned by save_plotly_visualisation,\n",
      "                \"code\": The complete plotly code used to create the visualisation\n",
      "            }\n",
      "            \n",
      "            IMPORTANT: The analysis section in the JSON response should maintain the exact markdown formatting with the \"## Insights\" header and numbered list format.\n",
      "            IMPORTANT: Use the exact path and code returned by the save_plotly_visualisation tool in your response.\n",
      "            \n",
      "            You MUST use the format_image_analysis_output tool for step 1 before proceeding with the visualisation creation.\n",
      "            Focus on creating a visualisation that accurately represents the original image while maintaining professional standards and interactive functionality.\n",
      "        \n"
     ]
    },
    {
     "data": {
      "text/html": [
       "\n",
       "            <div style='\n",
       "                padding: 2px 6px;\n",
       "                margin: 2px 0;\n",
       "                border-left: 3px solid #0d6efd;\n",
       "                background-color: #f8f9fa;\n",
       "                font-family: Monaco, monospace;\n",
       "                font-sise: 12px;\n",
       "            '>\n",
       "                <span style='color: #0d6efd; font-weight: bold;'>INFO</span>\n",
       "                <span style='color: #666; margin-right: 8px;'>15:09:48</span>\n",
       "                <span>Sending prompt and data to agent executor...</span>\n",
       "            </div>\n",
       "            "
      ],
      "text/plain": [
       "<IPython.core.display.HTML object>"
      ]
     },
     "metadata": {},
     "output_type": "display_data"
    },
    {
     "name": "stderr",
     "output_type": "stream",
     "text": [
      "Sending prompt and data to agent executor...\n"
     ]
    },
    {
     "data": {
      "application/vnd.plotly.v1+json": {
       "config": {
        "plotlyServerURL": "https://plot.ly"
       },
       "data": [
        {
         "marker": {
          "color": "orange"
         },
         "type": "bar",
         "x": [
          3.4,
          3.6,
          3.8,
          4,
          4.2,
          4.4,
          4.6,
          4.8,
          5
         ],
         "y": [
          7,
          7,
          12,
          12,
          13,
          18,
          13,
          13,
          16
         ]
        }
       ],
       "layout": {
        "height": 500,
        "plot_bgcolor": "rgba(240, 245, 255, 1)",
        "template": {
         "data": {
          "bar": [
           {
            "error_x": {
             "color": "#2a3f5f"
            },
            "error_y": {
             "color": "#2a3f5f"
            },
            "marker": {
             "line": {
              "color": "white",
              "width": 0.5
             },
             "pattern": {
              "fillmode": "overlay",
              "size": 10,
              "solidity": 0.2
             }
            },
            "type": "bar"
           }
          ],
          "barpolar": [
           {
            "marker": {
             "line": {
              "color": "white",
              "width": 0.5
             },
             "pattern": {
              "fillmode": "overlay",
              "size": 10,
              "solidity": 0.2
             }
            },
            "type": "barpolar"
           }
          ],
          "carpet": [
           {
            "aaxis": {
             "endlinecolor": "#2a3f5f",
             "gridcolor": "#C8D4E3",
             "linecolor": "#C8D4E3",
             "minorgridcolor": "#C8D4E3",
             "startlinecolor": "#2a3f5f"
            },
            "baxis": {
             "endlinecolor": "#2a3f5f",
             "gridcolor": "#C8D4E3",
             "linecolor": "#C8D4E3",
             "minorgridcolor": "#C8D4E3",
             "startlinecolor": "#2a3f5f"
            },
            "type": "carpet"
           }
          ],
          "choropleth": [
           {
            "colorbar": {
             "outlinewidth": 0,
             "ticks": ""
            },
            "type": "choropleth"
           }
          ],
          "contour": [
           {
            "colorbar": {
             "outlinewidth": 0,
             "ticks": ""
            },
            "colorscale": [
             [
              0,
              "#0d0887"
             ],
             [
              0.1111111111111111,
              "#46039f"
             ],
             [
              0.2222222222222222,
              "#7201a8"
             ],
             [
              0.3333333333333333,
              "#9c179e"
             ],
             [
              0.4444444444444444,
              "#bd3786"
             ],
             [
              0.5555555555555556,
              "#d8576b"
             ],
             [
              0.6666666666666666,
              "#ed7953"
             ],
             [
              0.7777777777777778,
              "#fb9f3a"
             ],
             [
              0.8888888888888888,
              "#fdca26"
             ],
             [
              1,
              "#f0f921"
             ]
            ],
            "type": "contour"
           }
          ],
          "contourcarpet": [
           {
            "colorbar": {
             "outlinewidth": 0,
             "ticks": ""
            },
            "type": "contourcarpet"
           }
          ],
          "heatmap": [
           {
            "colorbar": {
             "outlinewidth": 0,
             "ticks": ""
            },
            "colorscale": [
             [
              0,
              "#0d0887"
             ],
             [
              0.1111111111111111,
              "#46039f"
             ],
             [
              0.2222222222222222,
              "#7201a8"
             ],
             [
              0.3333333333333333,
              "#9c179e"
             ],
             [
              0.4444444444444444,
              "#bd3786"
             ],
             [
              0.5555555555555556,
              "#d8576b"
             ],
             [
              0.6666666666666666,
              "#ed7953"
             ],
             [
              0.7777777777777778,
              "#fb9f3a"
             ],
             [
              0.8888888888888888,
              "#fdca26"
             ],
             [
              1,
              "#f0f921"
             ]
            ],
            "type": "heatmap"
           }
          ],
          "heatmapgl": [
           {
            "colorbar": {
             "outlinewidth": 0,
             "ticks": ""
            },
            "colorscale": [
             [
              0,
              "#0d0887"
             ],
             [
              0.1111111111111111,
              "#46039f"
             ],
             [
              0.2222222222222222,
              "#7201a8"
             ],
             [
              0.3333333333333333,
              "#9c179e"
             ],
             [
              0.4444444444444444,
              "#bd3786"
             ],
             [
              0.5555555555555556,
              "#d8576b"
             ],
             [
              0.6666666666666666,
              "#ed7953"
             ],
             [
              0.7777777777777778,
              "#fb9f3a"
             ],
             [
              0.8888888888888888,
              "#fdca26"
             ],
             [
              1,
              "#f0f921"
             ]
            ],
            "type": "heatmapgl"
           }
          ],
          "histogram": [
           {
            "marker": {
             "pattern": {
              "fillmode": "overlay",
              "size": 10,
              "solidity": 0.2
             }
            },
            "type": "histogram"
           }
          ],
          "histogram2d": [
           {
            "colorbar": {
             "outlinewidth": 0,
             "ticks": ""
            },
            "colorscale": [
             [
              0,
              "#0d0887"
             ],
             [
              0.1111111111111111,
              "#46039f"
             ],
             [
              0.2222222222222222,
              "#7201a8"
             ],
             [
              0.3333333333333333,
              "#9c179e"
             ],
             [
              0.4444444444444444,
              "#bd3786"
             ],
             [
              0.5555555555555556,
              "#d8576b"
             ],
             [
              0.6666666666666666,
              "#ed7953"
             ],
             [
              0.7777777777777778,
              "#fb9f3a"
             ],
             [
              0.8888888888888888,
              "#fdca26"
             ],
             [
              1,
              "#f0f921"
             ]
            ],
            "type": "histogram2d"
           }
          ],
          "histogram2dcontour": [
           {
            "colorbar": {
             "outlinewidth": 0,
             "ticks": ""
            },
            "colorscale": [
             [
              0,
              "#0d0887"
             ],
             [
              0.1111111111111111,
              "#46039f"
             ],
             [
              0.2222222222222222,
              "#7201a8"
             ],
             [
              0.3333333333333333,
              "#9c179e"
             ],
             [
              0.4444444444444444,
              "#bd3786"
             ],
             [
              0.5555555555555556,
              "#d8576b"
             ],
             [
              0.6666666666666666,
              "#ed7953"
             ],
             [
              0.7777777777777778,
              "#fb9f3a"
             ],
             [
              0.8888888888888888,
              "#fdca26"
             ],
             [
              1,
              "#f0f921"
             ]
            ],
            "type": "histogram2dcontour"
           }
          ],
          "mesh3d": [
           {
            "colorbar": {
             "outlinewidth": 0,
             "ticks": ""
            },
            "type": "mesh3d"
           }
          ],
          "parcoords": [
           {
            "line": {
             "colorbar": {
              "outlinewidth": 0,
              "ticks": ""
             }
            },
            "type": "parcoords"
           }
          ],
          "pie": [
           {
            "automargin": true,
            "type": "pie"
           }
          ],
          "scatter": [
           {
            "fillpattern": {
             "fillmode": "overlay",
             "size": 10,
             "solidity": 0.2
            },
            "type": "scatter"
           }
          ],
          "scatter3d": [
           {
            "line": {
             "colorbar": {
              "outlinewidth": 0,
              "ticks": ""
             }
            },
            "marker": {
             "colorbar": {
              "outlinewidth": 0,
              "ticks": ""
             }
            },
            "type": "scatter3d"
           }
          ],
          "scattercarpet": [
           {
            "marker": {
             "colorbar": {
              "outlinewidth": 0,
              "ticks": ""
             }
            },
            "type": "scattercarpet"
           }
          ],
          "scattergeo": [
           {
            "marker": {
             "colorbar": {
              "outlinewidth": 0,
              "ticks": ""
             }
            },
            "type": "scattergeo"
           }
          ],
          "scattergl": [
           {
            "marker": {
             "colorbar": {
              "outlinewidth": 0,
              "ticks": ""
             }
            },
            "type": "scattergl"
           }
          ],
          "scattermapbox": [
           {
            "marker": {
             "colorbar": {
              "outlinewidth": 0,
              "ticks": ""
             }
            },
            "type": "scattermapbox"
           }
          ],
          "scatterpolar": [
           {
            "marker": {
             "colorbar": {
              "outlinewidth": 0,
              "ticks": ""
             }
            },
            "type": "scatterpolar"
           }
          ],
          "scatterpolargl": [
           {
            "marker": {
             "colorbar": {
              "outlinewidth": 0,
              "ticks": ""
             }
            },
            "type": "scatterpolargl"
           }
          ],
          "scatterternary": [
           {
            "marker": {
             "colorbar": {
              "outlinewidth": 0,
              "ticks": ""
             }
            },
            "type": "scatterternary"
           }
          ],
          "surface": [
           {
            "colorbar": {
             "outlinewidth": 0,
             "ticks": ""
            },
            "colorscale": [
             [
              0,
              "#0d0887"
             ],
             [
              0.1111111111111111,
              "#46039f"
             ],
             [
              0.2222222222222222,
              "#7201a8"
             ],
             [
              0.3333333333333333,
              "#9c179e"
             ],
             [
              0.4444444444444444,
              "#bd3786"
             ],
             [
              0.5555555555555556,
              "#d8576b"
             ],
             [
              0.6666666666666666,
              "#ed7953"
             ],
             [
              0.7777777777777778,
              "#fb9f3a"
             ],
             [
              0.8888888888888888,
              "#fdca26"
             ],
             [
              1,
              "#f0f921"
             ]
            ],
            "type": "surface"
           }
          ],
          "table": [
           {
            "cells": {
             "fill": {
              "color": "#EBF0F8"
             },
             "line": {
              "color": "white"
             }
            },
            "header": {
             "fill": {
              "color": "#C8D4E3"
             },
             "line": {
              "color": "white"
             }
            },
            "type": "table"
           }
          ]
         },
         "layout": {
          "annotationdefaults": {
           "arrowcolor": "#2a3f5f",
           "arrowhead": 0,
           "arrowwidth": 1
          },
          "autotypenumbers": "strict",
          "coloraxis": {
           "colorbar": {
            "outlinewidth": 0,
            "ticks": ""
           }
          },
          "colorscale": {
           "diverging": [
            [
             0,
             "#8e0152"
            ],
            [
             0.1,
             "#c51b7d"
            ],
            [
             0.2,
             "#de77ae"
            ],
            [
             0.3,
             "#f1b6da"
            ],
            [
             0.4,
             "#fde0ef"
            ],
            [
             0.5,
             "#f7f7f7"
            ],
            [
             0.6,
             "#e6f5d0"
            ],
            [
             0.7,
             "#b8e186"
            ],
            [
             0.8,
             "#7fbc41"
            ],
            [
             0.9,
             "#4d9221"
            ],
            [
             1,
             "#276419"
            ]
           ],
           "sequential": [
            [
             0,
             "#0d0887"
            ],
            [
             0.1111111111111111,
             "#46039f"
            ],
            [
             0.2222222222222222,
             "#7201a8"
            ],
            [
             0.3333333333333333,
             "#9c179e"
            ],
            [
             0.4444444444444444,
             "#bd3786"
            ],
            [
             0.5555555555555556,
             "#d8576b"
            ],
            [
             0.6666666666666666,
             "#ed7953"
            ],
            [
             0.7777777777777778,
             "#fb9f3a"
            ],
            [
             0.8888888888888888,
             "#fdca26"
            ],
            [
             1,
             "#f0f921"
            ]
           ],
           "sequentialminus": [
            [
             0,
             "#0d0887"
            ],
            [
             0.1111111111111111,
             "#46039f"
            ],
            [
             0.2222222222222222,
             "#7201a8"
            ],
            [
             0.3333333333333333,
             "#9c179e"
            ],
            [
             0.4444444444444444,
             "#bd3786"
            ],
            [
             0.5555555555555556,
             "#d8576b"
            ],
            [
             0.6666666666666666,
             "#ed7953"
            ],
            [
             0.7777777777777778,
             "#fb9f3a"
            ],
            [
             0.8888888888888888,
             "#fdca26"
            ],
            [
             1,
             "#f0f921"
            ]
           ]
          },
          "colorway": [
           "#636efa",
           "#EF553B",
           "#00cc96",
           "#ab63fa",
           "#FFA15A",
           "#19d3f3",
           "#FF6692",
           "#B6E880",
           "#FF97FF",
           "#FECB52"
          ],
          "font": {
           "color": "#2a3f5f"
          },
          "geo": {
           "bgcolor": "white",
           "lakecolor": "white",
           "landcolor": "white",
           "showlakes": true,
           "showland": true,
           "subunitcolor": "#C8D4E3"
          },
          "hoverlabel": {
           "align": "left"
          },
          "hovermode": "closest",
          "mapbox": {
           "style": "light"
          },
          "paper_bgcolor": "white",
          "plot_bgcolor": "white",
          "polar": {
           "angularaxis": {
            "gridcolor": "#EBF0F8",
            "linecolor": "#EBF0F8",
            "ticks": ""
           },
           "bgcolor": "white",
           "radialaxis": {
            "gridcolor": "#EBF0F8",
            "linecolor": "#EBF0F8",
            "ticks": ""
           }
          },
          "scene": {
           "xaxis": {
            "backgroundcolor": "white",
            "gridcolor": "#DFE8F3",
            "gridwidth": 2,
            "linecolor": "#EBF0F8",
            "showbackground": true,
            "ticks": "",
            "zerolinecolor": "#EBF0F8"
           },
           "yaxis": {
            "backgroundcolor": "white",
            "gridcolor": "#DFE8F3",
            "gridwidth": 2,
            "linecolor": "#EBF0F8",
            "showbackground": true,
            "ticks": "",
            "zerolinecolor": "#EBF0F8"
           },
           "zaxis": {
            "backgroundcolor": "white",
            "gridcolor": "#DFE8F3",
            "gridwidth": 2,
            "linecolor": "#EBF0F8",
            "showbackground": true,
            "ticks": "",
            "zerolinecolor": "#EBF0F8"
           }
          },
          "shapedefaults": {
           "line": {
            "color": "#2a3f5f"
           }
          },
          "ternary": {
           "aaxis": {
            "gridcolor": "#DFE8F3",
            "linecolor": "#A2B1C6",
            "ticks": ""
           },
           "baxis": {
            "gridcolor": "#DFE8F3",
            "linecolor": "#A2B1C6",
            "ticks": ""
           },
           "bgcolor": "white",
           "caxis": {
            "gridcolor": "#DFE8F3",
            "linecolor": "#A2B1C6",
            "ticks": ""
           }
          },
          "title": {
           "x": 0.05
          },
          "xaxis": {
           "automargin": true,
           "gridcolor": "#EBF0F8",
           "linecolor": "#EBF0F8",
           "ticks": "",
           "title": {
            "standoff": 15
           },
           "zerolinecolor": "#EBF0F8",
           "zerolinewidth": 2
          },
          "yaxis": {
           "automargin": true,
           "gridcolor": "#EBF0F8",
           "linecolor": "#EBF0F8",
           "ticks": "",
           "title": {
            "standoff": 15
           },
           "zerolinecolor": "#EBF0F8",
           "zerolinewidth": 2
          }
         }
        },
        "title": {
         "text": "Satisfaction Score Distribution"
        },
        "width": 800,
        "xaxis": {
         "dtick": 0.2,
         "tick0": 3.4,
         "tickmode": "linear",
         "title": {
          "text": "Satisfaction Score"
         }
        },
        "yaxis": {
         "range": [
          0,
          20
         ],
         "title": {
          "text": "Count"
         }
        }
       }
      }
     },
     "metadata": {},
     "output_type": "display_data"
    },
    {
     "name": "stdout",
     "output_type": "stream",
     "text": [
      "{'input': '\\n            Review the supplied image information and create an interactive visualisation that matches it as closely as possible.\\n            \\n            IMPORTANT: You MUST use the format_image_analysis_output tool first to structure the image analysis.\\n            \\n            1. Format the analysis:\\n            - Use the format_image_analysis_output tool with this exact input: # Description\\nThis image shows a histogram or bar chart depicting the distribution of satisfaction scores. The chart displays the frequency or count of each satisfaction score range from 3.4 to 5.0 in increments of 0.2.\\n\\n# Chart Analysis\\n## Type\\nThis is a histogram or bar chart visualization.\\n\\n## Axes\\n- X-axis: Satisfaction Score, ranging from 3.4 to 5.0\\n- Y-axis: Count, representing the frequency of each satisfaction score range\\n\\n## Insights\\n- The distribution appears to be somewhat bimodal, with peaks around 4.2-4.4 and 4.8-5.0.\\n- The highest frequency is observed in the 4.2-4.4 range.\\n- There\\'s a noticeable dip in frequency for scores between 3.6-3.8.\\n- The lowest frequencies are observed at the lower end of the satisfaction scale (3.4-3.6).\\n- Overall, the satisfaction scores are skewed towards the higher end, with most scores falling above 4.0.\\n- There\\'s a slight increase in frequency for the highest satisfaction scores (4.8-5.0), suggesting a number of very satisfied respondents.\\n\\n# Plotly Recreation\\n## Code\\n```python\\nimport plotly.graph_objects as go\\n\\nsatisfaction_scores = [3.4, 3.6, 3.8, 4.0, 4.2, 4.4, 4.6, 4.8, 5.0]\\ncounts = [7, 7, 12, 12, 13, 18, 13, 13, 16]\\n\\nfig = go.Figure(data=[go.Bar(\\n    x=satisfaction_scores,\\n    y=counts,\\n    marker_color=\\'orange\\'\\n)])\\n\\nfig.update_layout(\\n    title=\\'Satisfaction Score Distribution\\',\\n    xaxis_title=\\'Satisfaction Score\\',\\n    yaxis_title=\\'Count\\',\\n    xaxis=dict(tickmode=\\'linear\\', tick0=3.4, dtick=0.2),\\n    yaxis=dict(range=[0, 20]),\\n    plot_bgcolor=\\'rgba(240, 245, 255, 1)\\',\\n    width=800,\\n    height=500\\n)\\n\\nfig.show()\\n```\\n\\n## Data Structure\\nThe data structure needed for this Plotly code is two lists:\\n1. `satisfaction_scores`: A list of float values representing the satisfaction score ranges (x-axis values).\\n2. `counts`: A list of integer values representing the frequency or count for each satisfaction score range (y-axis values).\\n\\nThese two lists should be of equal length and correspond to each other, where each index represents a specific satisfaction score range and its count.\\n            - Store the formatted JSON output for use in subsequent steps\\n            - This step is mandatory and must be completed first\\n            \\n            2. Using the formatted analysis from step 1:\\n            - Reference the chart_analysis.type to identify the visualisation type\\n            - Use chart_analysis.axes to understand data relationships\\n            - Review insights from chart_analysis.insights\\n            - Check plotly_recreation for specific implementation details\\n            \\n            3. Create a professional visualisation that:\\n            - Matches the identified chart type from the formatted analysis\\n            - Replicates the color scheme and styling\\n            - Maintains proper layout and formatting\\n            - Includes appropriate labels and legends\\n            - Uses \\'plotly_white\\' as the base template\\n            \\n            4. Ensure the visualisation includes:\\n            - Proper title and axis formatting\\n            - Consistent text positioning and styling\\n            - Appropriate data representation\\n            - Professional appearance and readability\\n            \\n            5. Use save_plotly_visualisation to create an HTML file in the output_path folder.\\n            Use this exact output path: /Users/jose.orjales/c-af-chartist/tests/img\\n            \\n            6. Return a JSON dictionary with exactly this structure:\\n            {\\n                \"analysis\": \"## Insights\\\\n1. <insight1>\\\\n2. <insight2>\\\\n...\",\\n                \"path\": The exact path returned by save_plotly_visualisation,\\n                \"code\": The complete plotly code used to create the visualisation\\n            }\\n            \\n            IMPORTANT: The analysis section in the JSON response should maintain the exact markdown formatting with the \"## Insights\" header and numbered list format.\\n            IMPORTANT: Use the exact path and code returned by the save_plotly_visualisation tool in your response.\\n            \\n            You MUST use the format_image_analysis_output tool for step 1 before proceeding with the visualisation creation.\\n            Focus on creating a visualisation that accurately represents the original image while maintaining professional standards and interactive functionality.\\n        ', 'output': {'analysis': \"## Insights\\n1. The distribution appears to be somewhat bimodal, with peaks around 4.2-4.4 and 4.8-5.0.\\n2. The highest frequency is observed in the 4.2-4.4 range.\\n3. There's a noticeable dip in frequency for scores between 3.6-3.8.\\n4. The lowest frequencies are observed at the lower end of the satisfaction scale (3.4-3.6).\\n5. Overall, the satisfaction scores are skewed towards the higher end, with most scores falling above 4.0.\\n6. There's a slight increase in frequency for the highest satisfaction scores (4.8-5.0), suggesting a number of very satisfied respondents.\", 'path': '/Users/jose.orjales/plotly_visualisations/visualisation_1739459408.html', 'code': \"import plotly.graph_objects as go\\n\\nsatisfaction_scores = [3.4, 3.6, 3.8, 4.0, 4.2, 4.4, 4.6, 4.8, 5.0]\\ncounts = [7, 7, 12, 12, 13, 18, 13, 13, 16]\\n\\nfig = go.Figure(data=[go.Bar(\\n    x=satisfaction_scores,\\n    y=counts,\\n    marker_color='orange'\\n)])\\n\\nfig.update_layout(\\n    title='Satisfaction Score Distribution',\\n    xaxis_title='Satisfaction Score',\\n    yaxis_title='Count',\\n    xaxis=dict(tickmode='linear', tick0=3.4, dtick=0.2),\\n    yaxis=dict(range=[0, 20]),\\n    plot_bgcolor='rgba(240, 245, 255, 1)',\\n    width=800,\\n    height=500,\\n    template='plotly_white'\\n)\\n\\nfig.show()\"}}\n"
     ]
    }
   ],
   "source": [
    "json_images = chai.handle_request(prompt = prompt, image_path='/Users/jose.orjales/c-af-chartist/tests/img/satisfaction.png', output_path='/Users/jose.orjales/c-af-chartist/tests/img')"
   ]
  },
  {
   "cell_type": "code",
   "execution_count": 17,
   "metadata": {},
   "outputs": [
    {
     "name": "stdout",
     "output_type": "stream",
     "text": [
      "## Insights\n",
      "1. The distribution appears to be somewhat bimodal, with peaks around 4.2-4.4 and 4.8-5.0.\n",
      "2. The highest frequency is observed in the 4.2-4.4 range.\n",
      "3. There's a noticeable dip in frequency for scores between 3.6-3.8.\n",
      "4. The lowest frequencies are observed at the lower end of the satisfaction scale (3.4-3.6).\n",
      "5. Overall, the satisfaction scores are skewed towards the higher end, with most scores falling above 4.0.\n",
      "6. There's a slight increase in frequency for the highest satisfaction scores (4.8-5.0), suggesting a number of very satisfied respondents.\n"
     ]
    }
   ],
   "source": [
    "print(json_images['analysis'])"
   ]
  },
  {
   "cell_type": "code",
   "execution_count": 18,
   "metadata": {},
   "outputs": [
    {
     "name": "stdout",
     "output_type": "stream",
     "text": [
      "import plotly.graph_objects as go\n",
      "\n",
      "satisfaction_scores = [3.4, 3.6, 3.8, 4.0, 4.2, 4.4, 4.6, 4.8, 5.0]\n",
      "counts = [7, 7, 12, 12, 13, 18, 13, 13, 16]\n",
      "\n",
      "fig = go.Figure(data=[go.Bar(\n",
      "    x=satisfaction_scores,\n",
      "    y=counts,\n",
      "    marker_color='orange'\n",
      ")])\n",
      "\n",
      "fig.update_layout(\n",
      "    title='Satisfaction Score Distribution',\n",
      "    xaxis_title='Satisfaction Score',\n",
      "    yaxis_title='Count',\n",
      "    xaxis=dict(tickmode='linear', tick0=3.4, dtick=0.2),\n",
      "    yaxis=dict(range=[0, 20]),\n",
      "    plot_bgcolor='rgba(240, 245, 255, 1)',\n",
      "    width=800,\n",
      "    height=500,\n",
      "    template='plotly_white'\n",
      ")\n",
      "\n",
      "fig.show()\n"
     ]
    }
   ],
   "source": [
    "print(json_images['code'])"
   ]
  },
  {
   "cell_type": "code",
   "execution_count": 20,
   "metadata": {},
   "outputs": [
    {
     "name": "stdout",
     "output_type": "stream",
     "text": [
      "/Users/jose.orjales/plotly_visualisations/visualisation_1739459408.html\n"
     ]
    }
   ],
   "source": [
    "print(json_images['path'])"
   ]
  },
  {
   "cell_type": "code",
   "execution_count": 19,
   "metadata": {},
   "outputs": [
    {
     "data": {
      "application/vnd.plotly.v1+json": {
       "config": {
        "plotlyServerURL": "https://plot.ly"
       },
       "data": [
        {
         "marker": {
          "color": "orange"
         },
         "type": "bar",
         "x": [
          3.4,
          3.6,
          3.8,
          4,
          4.2,
          4.4,
          4.6,
          4.8,
          5
         ],
         "y": [
          7,
          7,
          12,
          12,
          13,
          18,
          13,
          13,
          16
         ]
        }
       ],
       "layout": {
        "height": 500,
        "plot_bgcolor": "rgba(240, 245, 255, 1)",
        "template": {
         "data": {
          "bar": [
           {
            "error_x": {
             "color": "#2a3f5f"
            },
            "error_y": {
             "color": "#2a3f5f"
            },
            "marker": {
             "line": {
              "color": "white",
              "width": 0.5
             },
             "pattern": {
              "fillmode": "overlay",
              "size": 10,
              "solidity": 0.2
             }
            },
            "type": "bar"
           }
          ],
          "barpolar": [
           {
            "marker": {
             "line": {
              "color": "white",
              "width": 0.5
             },
             "pattern": {
              "fillmode": "overlay",
              "size": 10,
              "solidity": 0.2
             }
            },
            "type": "barpolar"
           }
          ],
          "carpet": [
           {
            "aaxis": {
             "endlinecolor": "#2a3f5f",
             "gridcolor": "#C8D4E3",
             "linecolor": "#C8D4E3",
             "minorgridcolor": "#C8D4E3",
             "startlinecolor": "#2a3f5f"
            },
            "baxis": {
             "endlinecolor": "#2a3f5f",
             "gridcolor": "#C8D4E3",
             "linecolor": "#C8D4E3",
             "minorgridcolor": "#C8D4E3",
             "startlinecolor": "#2a3f5f"
            },
            "type": "carpet"
           }
          ],
          "choropleth": [
           {
            "colorbar": {
             "outlinewidth": 0,
             "ticks": ""
            },
            "type": "choropleth"
           }
          ],
          "contour": [
           {
            "colorbar": {
             "outlinewidth": 0,
             "ticks": ""
            },
            "colorscale": [
             [
              0,
              "#0d0887"
             ],
             [
              0.1111111111111111,
              "#46039f"
             ],
             [
              0.2222222222222222,
              "#7201a8"
             ],
             [
              0.3333333333333333,
              "#9c179e"
             ],
             [
              0.4444444444444444,
              "#bd3786"
             ],
             [
              0.5555555555555556,
              "#d8576b"
             ],
             [
              0.6666666666666666,
              "#ed7953"
             ],
             [
              0.7777777777777778,
              "#fb9f3a"
             ],
             [
              0.8888888888888888,
              "#fdca26"
             ],
             [
              1,
              "#f0f921"
             ]
            ],
            "type": "contour"
           }
          ],
          "contourcarpet": [
           {
            "colorbar": {
             "outlinewidth": 0,
             "ticks": ""
            },
            "type": "contourcarpet"
           }
          ],
          "heatmap": [
           {
            "colorbar": {
             "outlinewidth": 0,
             "ticks": ""
            },
            "colorscale": [
             [
              0,
              "#0d0887"
             ],
             [
              0.1111111111111111,
              "#46039f"
             ],
             [
              0.2222222222222222,
              "#7201a8"
             ],
             [
              0.3333333333333333,
              "#9c179e"
             ],
             [
              0.4444444444444444,
              "#bd3786"
             ],
             [
              0.5555555555555556,
              "#d8576b"
             ],
             [
              0.6666666666666666,
              "#ed7953"
             ],
             [
              0.7777777777777778,
              "#fb9f3a"
             ],
             [
              0.8888888888888888,
              "#fdca26"
             ],
             [
              1,
              "#f0f921"
             ]
            ],
            "type": "heatmap"
           }
          ],
          "heatmapgl": [
           {
            "colorbar": {
             "outlinewidth": 0,
             "ticks": ""
            },
            "colorscale": [
             [
              0,
              "#0d0887"
             ],
             [
              0.1111111111111111,
              "#46039f"
             ],
             [
              0.2222222222222222,
              "#7201a8"
             ],
             [
              0.3333333333333333,
              "#9c179e"
             ],
             [
              0.4444444444444444,
              "#bd3786"
             ],
             [
              0.5555555555555556,
              "#d8576b"
             ],
             [
              0.6666666666666666,
              "#ed7953"
             ],
             [
              0.7777777777777778,
              "#fb9f3a"
             ],
             [
              0.8888888888888888,
              "#fdca26"
             ],
             [
              1,
              "#f0f921"
             ]
            ],
            "type": "heatmapgl"
           }
          ],
          "histogram": [
           {
            "marker": {
             "pattern": {
              "fillmode": "overlay",
              "size": 10,
              "solidity": 0.2
             }
            },
            "type": "histogram"
           }
          ],
          "histogram2d": [
           {
            "colorbar": {
             "outlinewidth": 0,
             "ticks": ""
            },
            "colorscale": [
             [
              0,
              "#0d0887"
             ],
             [
              0.1111111111111111,
              "#46039f"
             ],
             [
              0.2222222222222222,
              "#7201a8"
             ],
             [
              0.3333333333333333,
              "#9c179e"
             ],
             [
              0.4444444444444444,
              "#bd3786"
             ],
             [
              0.5555555555555556,
              "#d8576b"
             ],
             [
              0.6666666666666666,
              "#ed7953"
             ],
             [
              0.7777777777777778,
              "#fb9f3a"
             ],
             [
              0.8888888888888888,
              "#fdca26"
             ],
             [
              1,
              "#f0f921"
             ]
            ],
            "type": "histogram2d"
           }
          ],
          "histogram2dcontour": [
           {
            "colorbar": {
             "outlinewidth": 0,
             "ticks": ""
            },
            "colorscale": [
             [
              0,
              "#0d0887"
             ],
             [
              0.1111111111111111,
              "#46039f"
             ],
             [
              0.2222222222222222,
              "#7201a8"
             ],
             [
              0.3333333333333333,
              "#9c179e"
             ],
             [
              0.4444444444444444,
              "#bd3786"
             ],
             [
              0.5555555555555556,
              "#d8576b"
             ],
             [
              0.6666666666666666,
              "#ed7953"
             ],
             [
              0.7777777777777778,
              "#fb9f3a"
             ],
             [
              0.8888888888888888,
              "#fdca26"
             ],
             [
              1,
              "#f0f921"
             ]
            ],
            "type": "histogram2dcontour"
           }
          ],
          "mesh3d": [
           {
            "colorbar": {
             "outlinewidth": 0,
             "ticks": ""
            },
            "type": "mesh3d"
           }
          ],
          "parcoords": [
           {
            "line": {
             "colorbar": {
              "outlinewidth": 0,
              "ticks": ""
             }
            },
            "type": "parcoords"
           }
          ],
          "pie": [
           {
            "automargin": true,
            "type": "pie"
           }
          ],
          "scatter": [
           {
            "fillpattern": {
             "fillmode": "overlay",
             "size": 10,
             "solidity": 0.2
            },
            "type": "scatter"
           }
          ],
          "scatter3d": [
           {
            "line": {
             "colorbar": {
              "outlinewidth": 0,
              "ticks": ""
             }
            },
            "marker": {
             "colorbar": {
              "outlinewidth": 0,
              "ticks": ""
             }
            },
            "type": "scatter3d"
           }
          ],
          "scattercarpet": [
           {
            "marker": {
             "colorbar": {
              "outlinewidth": 0,
              "ticks": ""
             }
            },
            "type": "scattercarpet"
           }
          ],
          "scattergeo": [
           {
            "marker": {
             "colorbar": {
              "outlinewidth": 0,
              "ticks": ""
             }
            },
            "type": "scattergeo"
           }
          ],
          "scattergl": [
           {
            "marker": {
             "colorbar": {
              "outlinewidth": 0,
              "ticks": ""
             }
            },
            "type": "scattergl"
           }
          ],
          "scattermapbox": [
           {
            "marker": {
             "colorbar": {
              "outlinewidth": 0,
              "ticks": ""
             }
            },
            "type": "scattermapbox"
           }
          ],
          "scatterpolar": [
           {
            "marker": {
             "colorbar": {
              "outlinewidth": 0,
              "ticks": ""
             }
            },
            "type": "scatterpolar"
           }
          ],
          "scatterpolargl": [
           {
            "marker": {
             "colorbar": {
              "outlinewidth": 0,
              "ticks": ""
             }
            },
            "type": "scatterpolargl"
           }
          ],
          "scatterternary": [
           {
            "marker": {
             "colorbar": {
              "outlinewidth": 0,
              "ticks": ""
             }
            },
            "type": "scatterternary"
           }
          ],
          "surface": [
           {
            "colorbar": {
             "outlinewidth": 0,
             "ticks": ""
            },
            "colorscale": [
             [
              0,
              "#0d0887"
             ],
             [
              0.1111111111111111,
              "#46039f"
             ],
             [
              0.2222222222222222,
              "#7201a8"
             ],
             [
              0.3333333333333333,
              "#9c179e"
             ],
             [
              0.4444444444444444,
              "#bd3786"
             ],
             [
              0.5555555555555556,
              "#d8576b"
             ],
             [
              0.6666666666666666,
              "#ed7953"
             ],
             [
              0.7777777777777778,
              "#fb9f3a"
             ],
             [
              0.8888888888888888,
              "#fdca26"
             ],
             [
              1,
              "#f0f921"
             ]
            ],
            "type": "surface"
           }
          ],
          "table": [
           {
            "cells": {
             "fill": {
              "color": "#EBF0F8"
             },
             "line": {
              "color": "white"
             }
            },
            "header": {
             "fill": {
              "color": "#C8D4E3"
             },
             "line": {
              "color": "white"
             }
            },
            "type": "table"
           }
          ]
         },
         "layout": {
          "annotationdefaults": {
           "arrowcolor": "#2a3f5f",
           "arrowhead": 0,
           "arrowwidth": 1
          },
          "autotypenumbers": "strict",
          "coloraxis": {
           "colorbar": {
            "outlinewidth": 0,
            "ticks": ""
           }
          },
          "colorscale": {
           "diverging": [
            [
             0,
             "#8e0152"
            ],
            [
             0.1,
             "#c51b7d"
            ],
            [
             0.2,
             "#de77ae"
            ],
            [
             0.3,
             "#f1b6da"
            ],
            [
             0.4,
             "#fde0ef"
            ],
            [
             0.5,
             "#f7f7f7"
            ],
            [
             0.6,
             "#e6f5d0"
            ],
            [
             0.7,
             "#b8e186"
            ],
            [
             0.8,
             "#7fbc41"
            ],
            [
             0.9,
             "#4d9221"
            ],
            [
             1,
             "#276419"
            ]
           ],
           "sequential": [
            [
             0,
             "#0d0887"
            ],
            [
             0.1111111111111111,
             "#46039f"
            ],
            [
             0.2222222222222222,
             "#7201a8"
            ],
            [
             0.3333333333333333,
             "#9c179e"
            ],
            [
             0.4444444444444444,
             "#bd3786"
            ],
            [
             0.5555555555555556,
             "#d8576b"
            ],
            [
             0.6666666666666666,
             "#ed7953"
            ],
            [
             0.7777777777777778,
             "#fb9f3a"
            ],
            [
             0.8888888888888888,
             "#fdca26"
            ],
            [
             1,
             "#f0f921"
            ]
           ],
           "sequentialminus": [
            [
             0,
             "#0d0887"
            ],
            [
             0.1111111111111111,
             "#46039f"
            ],
            [
             0.2222222222222222,
             "#7201a8"
            ],
            [
             0.3333333333333333,
             "#9c179e"
            ],
            [
             0.4444444444444444,
             "#bd3786"
            ],
            [
             0.5555555555555556,
             "#d8576b"
            ],
            [
             0.6666666666666666,
             "#ed7953"
            ],
            [
             0.7777777777777778,
             "#fb9f3a"
            ],
            [
             0.8888888888888888,
             "#fdca26"
            ],
            [
             1,
             "#f0f921"
            ]
           ]
          },
          "colorway": [
           "#636efa",
           "#EF553B",
           "#00cc96",
           "#ab63fa",
           "#FFA15A",
           "#19d3f3",
           "#FF6692",
           "#B6E880",
           "#FF97FF",
           "#FECB52"
          ],
          "font": {
           "color": "#2a3f5f"
          },
          "geo": {
           "bgcolor": "white",
           "lakecolor": "white",
           "landcolor": "white",
           "showlakes": true,
           "showland": true,
           "subunitcolor": "#C8D4E3"
          },
          "hoverlabel": {
           "align": "left"
          },
          "hovermode": "closest",
          "mapbox": {
           "style": "light"
          },
          "paper_bgcolor": "white",
          "plot_bgcolor": "white",
          "polar": {
           "angularaxis": {
            "gridcolor": "#EBF0F8",
            "linecolor": "#EBF0F8",
            "ticks": ""
           },
           "bgcolor": "white",
           "radialaxis": {
            "gridcolor": "#EBF0F8",
            "linecolor": "#EBF0F8",
            "ticks": ""
           }
          },
          "scene": {
           "xaxis": {
            "backgroundcolor": "white",
            "gridcolor": "#DFE8F3",
            "gridwidth": 2,
            "linecolor": "#EBF0F8",
            "showbackground": true,
            "ticks": "",
            "zerolinecolor": "#EBF0F8"
           },
           "yaxis": {
            "backgroundcolor": "white",
            "gridcolor": "#DFE8F3",
            "gridwidth": 2,
            "linecolor": "#EBF0F8",
            "showbackground": true,
            "ticks": "",
            "zerolinecolor": "#EBF0F8"
           },
           "zaxis": {
            "backgroundcolor": "white",
            "gridcolor": "#DFE8F3",
            "gridwidth": 2,
            "linecolor": "#EBF0F8",
            "showbackground": true,
            "ticks": "",
            "zerolinecolor": "#EBF0F8"
           }
          },
          "shapedefaults": {
           "line": {
            "color": "#2a3f5f"
           }
          },
          "ternary": {
           "aaxis": {
            "gridcolor": "#DFE8F3",
            "linecolor": "#A2B1C6",
            "ticks": ""
           },
           "baxis": {
            "gridcolor": "#DFE8F3",
            "linecolor": "#A2B1C6",
            "ticks": ""
           },
           "bgcolor": "white",
           "caxis": {
            "gridcolor": "#DFE8F3",
            "linecolor": "#A2B1C6",
            "ticks": ""
           }
          },
          "title": {
           "x": 0.05
          },
          "xaxis": {
           "automargin": true,
           "gridcolor": "#EBF0F8",
           "linecolor": "#EBF0F8",
           "ticks": "",
           "title": {
            "standoff": 15
           },
           "zerolinecolor": "#EBF0F8",
           "zerolinewidth": 2
          },
          "yaxis": {
           "automargin": true,
           "gridcolor": "#EBF0F8",
           "linecolor": "#EBF0F8",
           "ticks": "",
           "title": {
            "standoff": 15
           },
           "zerolinecolor": "#EBF0F8",
           "zerolinewidth": 2
          }
         }
        },
        "title": {
         "text": "Satisfaction Score Distribution"
        },
        "width": 800,
        "xaxis": {
         "dtick": 0.2,
         "tick0": 3.4,
         "tickmode": "linear",
         "title": {
          "text": "Satisfaction Score"
         }
        },
        "yaxis": {
         "range": [
          0,
          20
         ],
         "title": {
          "text": "Count"
         }
        }
       }
      }
     },
     "metadata": {},
     "output_type": "display_data"
    }
   ],
   "source": [
    "import plotly.graph_objects as go\n",
    "\n",
    "satisfaction_scores = [3.4, 3.6, 3.8, 4.0, 4.2, 4.4, 4.6, 4.8, 5.0]\n",
    "counts = [7, 7, 12, 12, 13, 18, 13, 13, 16]\n",
    "\n",
    "fig = go.Figure(data=[go.Bar(\n",
    "    x=satisfaction_scores,\n",
    "    y=counts,\n",
    "    marker_color='orange'\n",
    ")])\n",
    "\n",
    "fig.update_layout(\n",
    "    title='Satisfaction Score Distribution',\n",
    "    xaxis_title='Satisfaction Score',\n",
    "    yaxis_title='Count',\n",
    "    xaxis=dict(tickmode='linear', tick0=3.4, dtick=0.2),\n",
    "    yaxis=dict(range=[0, 20]),\n",
    "    plot_bgcolor='rgba(240, 245, 255, 1)',\n",
    "    width=800,\n",
    "    height=500,\n",
    "    template='plotly_white'\n",
    ")\n",
    "\n",
    "fig.show()"
   ]
  },
  {
   "cell_type": "markdown",
   "metadata": {},
   "source": [
    "## Asking for some template code"
   ]
  },
  {
   "cell_type": "code",
   "execution_count": 9,
   "metadata": {},
   "outputs": [],
   "source": [
    "chart_prompt = \"I want a red chart with bold axis titles and labels on the bars. There should also be a legend showing each distinct category\""
   ]
  },
  {
   "cell_type": "code",
   "execution_count": 10,
   "metadata": {},
   "outputs": [
    {
     "data": {
      "text/html": [
       "\n",
       "            <div style='\n",
       "                padding: 2px 6px;\n",
       "                margin: 2px 0;\n",
       "                border-left: 3px solid #0d6efd;\n",
       "                background-color: #f8f9fa;\n",
       "                font-family: Monaco, monospace;\n",
       "                font-sise: 12px;\n",
       "            '>\n",
       "                <span style='color: #0d6efd; font-weight: bold;'>INFO</span>\n",
       "                <span style='color: #666; margin-right: 8px;'>15:04:33</span>\n",
       "                <span>Processing chart type request: scatter</span>\n",
       "            </div>\n",
       "            "
      ],
      "text/plain": [
       "<IPython.core.display.HTML object>"
      ]
     },
     "metadata": {},
     "output_type": "display_data"
    },
    {
     "name": "stderr",
     "output_type": "stream",
     "text": [
      "Processing chart type request: scatter\n"
     ]
    },
    {
     "data": {
      "text/html": [
       "\n",
       "            <div style='\n",
       "                padding: 2px 6px;\n",
       "                margin: 2px 0;\n",
       "                border-left: 3px solid #0d6efd;\n",
       "                background-color: #f8f9fa;\n",
       "                font-family: Monaco, monospace;\n",
       "                font-sise: 12px;\n",
       "            '>\n",
       "                <span style='color: #0d6efd; font-weight: bold;'>INFO</span>\n",
       "                <span style='color: #666; margin-right: 8px;'>15:04:33</span>\n",
       "                <span>Sending prompt and data to agent executor...</span>\n",
       "            </div>\n",
       "            "
      ],
      "text/plain": [
       "<IPython.core.display.HTML object>"
      ]
     },
     "metadata": {},
     "output_type": "display_data"
    },
    {
     "name": "stderr",
     "output_type": "stream",
     "text": [
      "Sending prompt and data to agent executor...\n"
     ]
    },
    {
     "name": "stdout",
     "output_type": "stream",
     "text": [
      "{'input': '\\n            Create a default scatter chart visualisation using this template as reference:\\n\\n            # Template Code:\\n            \\n            import plotly.graph_objects as go\\n            import numpy as np\\n\\n            # Generate sample data\\n            np.random.seed(42)\\n            x = np.random.uniform(0, 10, 50)\\n            y = 2 * x + np.random.normal(0, 2, 50)\\n\\n            # Create figure with multiple series\\n            fig = go.Figure()\\n\\n            # Add multiple scatter series with different colors\\n            series_data = [\\n                {\\'x\\': x, \\'y\\': y, \\'name\\': \\'Series 1\\', \\'color\\': \\'#1f77b4\\'},\\n                {\\'x\\': x, \\'y\\': y + 2, \\'name\\': \\'Series 2\\', \\'color\\': \\'#2d91c2\\'},\\n                {\\'x\\': x, \\'y\\': y - 2, \\'name\\': \\'Series 3\\', \\'color\\': \\'#7eb0d5\\'},\\n                {\\'x\\': x, \\'y\\': y * 0.8, \\'name\\': \\'Series 4\\', \\'color\\': \\'#bddbf5\\'}\\n            ]\\n\\n            for series in series_data:\\n                fig.add_trace(\\n                    go.Scatter(\\n                        x=series[\\'x\\'],\\n                        y=series[\\'y\\'],\\n                        mode=\\'markers\\',\\n                        name=series[\\'name\\'],\\n                        marker=dict(\\n                            sise=10,\\n                            color=series[\\'color\\'],\\n                            opacity=0.7,\\n                            line=dict(width=1, color=\\'#444444\\')\\n                        ),\\n                        hovertemplate=\\'x: %{x:.2f}<br>y: %{y:.2f}<extra></extra>\\'\\n                    )\\n                )\\n\\n            # Update layout with professional styling\\n            fig.update_layout(\\n                title={\\n                    \\'text\\': \\'Default Scatter Plot\\',\\n                    \\'font\\': {\\'sise\\': 24, \\'color\\': \\'#1f77b4\\'},\\n                    \\'x\\': 0.5,\\n                    \\'xanchor\\': \\'center\\'\\n                },\\n                xaxis_title={\\n                    \\'text\\': \\'X Values\\',\\n                    \\'font\\': {\\'sise\\': 16, \\'color\\': \\'#444444\\', \\'weight\\': \\'bold\\'}\\n                },\\n                yaxis_title={\\n                    \\'text\\': \\'Y Values\\',\\n                    \\'font\\': {\\'sise\\': 16, \\'color\\': \\'#444444\\', \\'weight\\': \\'bold\\'}\\n                },\\n                template=\\'plotly_white\\',\\n                showlegend=True,\\n                legend={\\n                    \\'orientation\\': \\'h\\',\\n                    \\'yanchor\\': \\'bottom\\',\\n                    \\'y\\': -0.3,\\n                    \\'xanchor\\': \\'center\\',\\n                    \\'x\\': 0.5\\n                },\\n                margin=dict(t=100, l=100, r=50, b=100)\\n            )\\n            \\n            \\n            1. Use this template code as a starting point\\n            2. Consider the following specific requirements in adapting the code to the user\\'s needs:\\n            I want a red chart with bold axis titles and labels on the bars. There should also be a legend showing each distinct category\\n            3. Maintain the professional styling while adjusting for your specific needs and those of the user.\\n            4. Use save_plotly_visualisation to create an HTML file in the output_path folder.\\n            Use this exact output path: /Users/jose.orjales/c-af-chartist/tests/img\\n            \\n            CRITICAL INSTRUCTION:\\n            The save_plotly_visualisation tool will return a dictionary containing the path and code.\\n            You must return ONLY a valid JSON dictionary with no additional text or explanations.\\n            Your response must be exactly in this format:\\n            {\\n                \"path\": \"The exact path returned by save_plotly_visualisation\",\\n                \"code\": \"The complete plotly code used to create the visualisation\"\\n            }\\n            \\n            DO NOT include any text before or after the JSON.\\n            DO NOT add any explanations or descriptions.\\n            ONLY return the JSON dictionary.\\n        ', 'output': {'path': '/Users/jose.orjales/plotly_visualisations/visualisation_1739459096.html', 'code': \"import plotly.graph_objects as go\\nimport numpy as np\\n\\n# Generate sample data\\nnp.random.seed(42)\\nx = np.random.uniform(0, 10, 50)\\ny = 2 * x + np.random.normal(0, 2, 50)\\n\\n# Create figure with multiple series\\nfig = go.Figure()\\n\\n# Add multiple scatter series with different shades of red\\nseries_data = [\\n    {'x': x, 'y': y, 'name': 'Category 1', 'color': '#FF0000'},\\n    {'x': x, 'y': y + 2, 'name': 'Category 2', 'color': '#FF3333'},\\n    {'x': x, 'y': y - 2, 'name': 'Category 3', 'color': '#FF6666'},\\n    {'x': x, 'y': y * 0.8, 'name': 'Category 4', 'color': '#FF9999'}\\n]\\n\\nfor series in series_data:\\n    fig.add_trace(\\n        go.Bar(\\n            x=series['x'],\\n            y=series['y'],\\n            name=series['name'],\\n            marker_color=series['color'],\\n            opacity=0.7,\\n            text=series['y'],\\n            textposition='auto',\\n            hovertemplate='x: %{x:.2f}<br>y: %{y:.2f}<extra></extra>'\\n        )\\n    )\\n\\n# Update layout with professional styling\\nfig.update_layout(\\n    title={\\n        'text': 'Red Bar Chart',\\n        'font': {'size': 24, 'color': '#FF0000'},\\n        'x': 0.5,\\n        'xanchor': 'center'\\n    },\\n    xaxis_title={\\n        'text': 'X Values',\\n        'font': {'size': 16, 'color': '#444444', 'weight': 'bold'}\\n    },\\n    yaxis_title={\\n        'text': 'Y Values',\\n        'font': {'size': 16, 'color': '#444444', 'weight': 'bold'}\\n    },\\n    template='plotly_white',\\n    showlegend=True,\\n    legend={\\n        'orientation': 'h',\\n        'yanchor': 'bottom',\\n        'y': -0.3,\\n        'xanchor': 'center',\\n        'x': 0.5\\n    },\\n    margin=dict(t=100, l=100, r=50, b=100)\\n)\\n\\n# Update axis labels to be bold\\nfig.update_xaxes(tickfont=dict(size=12, color='#444444', weight='bold'))\\nfig.update_yaxes(tickfont=dict(size=12, color='#444444', weight='bold'))\\n\\n# Save the figure\\nfig.write_html('/Users/jose.orjales/c-af-chartist/tests/img/red_bar_chart.html')\"}}\n"
     ]
    }
   ],
   "source": [
    "chart_request = chai.handle_request(prompt = chart_prompt, output_path='/Users/jose.orjales/c-af-chartist/tests/img', chart_type='scatter')"
   ]
  },
  {
   "cell_type": "code",
   "execution_count": 11,
   "metadata": {},
   "outputs": [
    {
     "name": "stdout",
     "output_type": "stream",
     "text": [
      "{'path': '/Users/jose.orjales/plotly_visualisations/visualisation_1739459096.html', 'code': \"import plotly.graph_objects as go\\nimport numpy as np\\n\\n# Generate sample data\\nnp.random.seed(42)\\nx = np.random.uniform(0, 10, 50)\\ny = 2 * x + np.random.normal(0, 2, 50)\\n\\n# Create figure with multiple series\\nfig = go.Figure()\\n\\n# Add multiple scatter series with different shades of red\\nseries_data = [\\n    {'x': x, 'y': y, 'name': 'Category 1', 'color': '#FF0000'},\\n    {'x': x, 'y': y + 2, 'name': 'Category 2', 'color': '#FF3333'},\\n    {'x': x, 'y': y - 2, 'name': 'Category 3', 'color': '#FF6666'},\\n    {'x': x, 'y': y * 0.8, 'name': 'Category 4', 'color': '#FF9999'}\\n]\\n\\nfor series in series_data:\\n    fig.add_trace(\\n        go.Bar(\\n            x=series['x'],\\n            y=series['y'],\\n            name=series['name'],\\n            marker_color=series['color'],\\n            opacity=0.7,\\n            text=series['y'],\\n            textposition='auto',\\n            hovertemplate='x: %{x:.2f}<br>y: %{y:.2f}<extra></extra>'\\n        )\\n    )\\n\\n# Update layout with professional styling\\nfig.update_layout(\\n    title={\\n        'text': 'Red Bar Chart',\\n        'font': {'size': 24, 'color': '#FF0000'},\\n        'x': 0.5,\\n        'xanchor': 'center'\\n    },\\n    xaxis_title={\\n        'text': 'X Values',\\n        'font': {'size': 16, 'color': '#444444', 'weight': 'bold'}\\n    },\\n    yaxis_title={\\n        'text': 'Y Values',\\n        'font': {'size': 16, 'color': '#444444', 'weight': 'bold'}\\n    },\\n    template='plotly_white',\\n    showlegend=True,\\n    legend={\\n        'orientation': 'h',\\n        'yanchor': 'bottom',\\n        'y': -0.3,\\n        'xanchor': 'center',\\n        'x': 0.5\\n    },\\n    margin=dict(t=100, l=100, r=50, b=100)\\n)\\n\\n# Update axis labels to be bold\\nfig.update_xaxes(tickfont=dict(size=12, color='#444444', weight='bold'))\\nfig.update_yaxes(tickfont=dict(size=12, color='#444444', weight='bold'))\\n\\n# Save the figure\\nfig.write_html('/Users/jose.orjales/c-af-chartist/tests/img/red_bar_chart.html')\"}\n"
     ]
    }
   ],
   "source": [
    "print(chart_request)"
   ]
  },
  {
   "cell_type": "code",
   "execution_count": 12,
   "metadata": {},
   "outputs": [
    {
     "name": "stdout",
     "output_type": "stream",
     "text": [
      "import plotly.graph_objects as go\n",
      "import numpy as np\n",
      "\n",
      "# Generate sample data\n",
      "np.random.seed(42)\n",
      "x = np.random.uniform(0, 10, 50)\n",
      "y = 2 * x + np.random.normal(0, 2, 50)\n",
      "\n",
      "# Create figure with multiple series\n",
      "fig = go.Figure()\n",
      "\n",
      "# Add multiple scatter series with different shades of red\n",
      "series_data = [\n",
      "    {'x': x, 'y': y, 'name': 'Category 1', 'color': '#FF0000'},\n",
      "    {'x': x, 'y': y + 2, 'name': 'Category 2', 'color': '#FF3333'},\n",
      "    {'x': x, 'y': y - 2, 'name': 'Category 3', 'color': '#FF6666'},\n",
      "    {'x': x, 'y': y * 0.8, 'name': 'Category 4', 'color': '#FF9999'}\n",
      "]\n",
      "\n",
      "for series in series_data:\n",
      "    fig.add_trace(\n",
      "        go.Bar(\n",
      "            x=series['x'],\n",
      "            y=series['y'],\n",
      "            name=series['name'],\n",
      "            marker_color=series['color'],\n",
      "            opacity=0.7,\n",
      "            text=series['y'],\n",
      "            textposition='auto',\n",
      "            hovertemplate='x: %{x:.2f}<br>y: %{y:.2f}<extra></extra>'\n",
      "        )\n",
      "    )\n",
      "\n",
      "# Update layout with professional styling\n",
      "fig.update_layout(\n",
      "    title={\n",
      "        'text': 'Red Bar Chart',\n",
      "        'font': {'size': 24, 'color': '#FF0000'},\n",
      "        'x': 0.5,\n",
      "        'xanchor': 'center'\n",
      "    },\n",
      "    xaxis_title={\n",
      "        'text': 'X Values',\n",
      "        'font': {'size': 16, 'color': '#444444', 'weight': 'bold'}\n",
      "    },\n",
      "    yaxis_title={\n",
      "        'text': 'Y Values',\n",
      "        'font': {'size': 16, 'color': '#444444', 'weight': 'bold'}\n",
      "    },\n",
      "    template='plotly_white',\n",
      "    showlegend=True,\n",
      "    legend={\n",
      "        'orientation': 'h',\n",
      "        'yanchor': 'bottom',\n",
      "        'y': -0.3,\n",
      "        'xanchor': 'center',\n",
      "        'x': 0.5\n",
      "    },\n",
      "    margin=dict(t=100, l=100, r=50, b=100)\n",
      ")\n",
      "\n",
      "# Update axis labels to be bold\n",
      "fig.update_xaxes(tickfont=dict(size=12, color='#444444', weight='bold'))\n",
      "fig.update_yaxes(tickfont=dict(size=12, color='#444444', weight='bold'))\n",
      "\n",
      "# Save the figure\n",
      "fig.write_html('/Users/jose.orjales/c-af-chartist/tests/img/red_bar_chart.html')\n"
     ]
    }
   ],
   "source": [
    "print(chart_request['code'])"
   ]
  },
  {
   "cell_type": "code",
   "execution_count": 13,
   "metadata": {},
   "outputs": [
    {
     "name": "stdout",
     "output_type": "stream",
     "text": [
      "/Users/jose.orjales/plotly_visualisations/visualisation_1739459096.html\n"
     ]
    }
   ],
   "source": [
    "print(chart_request['path'])"
   ]
  },
  {
   "cell_type": "code",
   "execution_count": 14,
   "metadata": {},
   "outputs": [
    {
     "data": {
      "application/vnd.plotly.v1+json": {
       "config": {
        "plotlyServerURL": "https://plot.ly"
       },
       "data": [
        {
         "hovertemplate": "x: %{x:.2f}<br>y: %{y:.2f}<extra></extra>",
         "marker": {
          "color": "#FF0000"
         },
         "name": "Category 1",
         "opacity": 0.7,
         "text": [
          8.96773553693807,
          19.357022690578262,
          14.408582271451621,
          11.370962292762155,
          0.1633288281138756,
          1.6802019899346357,
          0.24039470144441422,
          19.437767367936534,
          12.709536814001098,
          10.63537124519544,
          1.059857824705639,
          18.628032482407253,
          15.295008815396518,
          5.470134791247259,
          5.698498389133914,
          5.530650435301073,
          4.406409812745477,
          9.876703880942328,
          9.301427235649443,
          7.775673058205557,
          11.27870941875701,
          2.4185592597132026,
          3.6302230226923067,
          4.9348236177124924,
          10.746451329129115,
          18.41599928500192,
          3.849455400006527,
          12.29175456405628,
          12.571563427336118,
          -0.36123125481029406,
          12.873688249045594,
          6.4865556066777685,
          1.2293797814856873,
          22.106998056694678,
          14.073150453311698,
          17.81175197107967,
          6.266369519943756,
          1.3554275791959416,
          13.868182083314142,
          4.827912045590241,
          2.0014209212205527,
          10.617763345248896,
          3.6435585117874,
          17.149867605028348,
          3.558612426213963,
          12.246931599910567,
          8.065025757192368,
          11.058862642875585,
          9.874685179331514,
          4.723623976737253
         ],
         "textposition": "auto",
         "type": "bar",
         "x": [
          3.745401188473625,
          9.50714306409916,
          7.319939418114051,
          5.986584841970366,
          1.5601864044243652,
          1.5599452033620265,
          0.5808361216819946,
          8.661761457749352,
          6.011150117432088,
          7.080725777960454,
          0.20584494295802447,
          9.699098521619943,
          8.324426408004218,
          2.1233911067827616,
          1.8182496720710062,
          1.8340450985343382,
          3.0424224295953772,
          5.247564316322379,
          4.319450186421157,
          2.9122914019804194,
          6.118528947223795,
          1.3949386065204183,
          2.9214464853521815,
          3.663618432936917,
          4.56069984217036,
          7.851759613930136,
          1.9967378215835974,
          5.142344384136116,
          5.924145688620425,
          0.46450412719997725,
          6.075448519014383,
          1.7052412368729153,
          0.6505159298527952,
          9.488855372533333,
          9.656320330745594,
          8.08397348116461,
          3.0461376917337066,
          0.9767211400638387,
          6.842330265121569,
          4.4015249373960135,
          1.2203823484477883,
          4.951769101112702,
          0.34388521115218396,
          9.093204020787821,
          2.587799816000169,
          6.62522284353982,
          3.1171107608941098,
          5.200680211778108,
          5.4671027934327965,
          1.8485445552552704
         ],
         "y": [
          8.96773553693807,
          19.357022690578262,
          14.408582271451621,
          11.370962292762155,
          0.1633288281138756,
          1.6802019899346357,
          0.24039470144441422,
          19.437767367936534,
          12.709536814001098,
          10.63537124519544,
          1.059857824705639,
          18.628032482407253,
          15.295008815396518,
          5.470134791247259,
          5.698498389133914,
          5.530650435301073,
          4.406409812745477,
          9.876703880942328,
          9.301427235649443,
          7.775673058205557,
          11.27870941875701,
          2.4185592597132026,
          3.6302230226923067,
          4.9348236177124924,
          10.746451329129115,
          18.41599928500192,
          3.849455400006527,
          12.29175456405628,
          12.571563427336118,
          -0.36123125481029406,
          12.873688249045594,
          6.4865556066777685,
          1.2293797814856873,
          22.106998056694678,
          14.073150453311698,
          17.81175197107967,
          6.266369519943756,
          1.3554275791959416,
          13.868182083314142,
          4.827912045590241,
          2.0014209212205527,
          10.617763345248896,
          3.6435585117874,
          17.149867605028348,
          3.558612426213963,
          12.246931599910567,
          8.065025757192368,
          11.058862642875585,
          9.874685179331514,
          4.723623976737253
         ]
        },
        {
         "hovertemplate": "x: %{x:.2f}<br>y: %{y:.2f}<extra></extra>",
         "marker": {
          "color": "#FF3333"
         },
         "name": "Category 2",
         "opacity": 0.7,
         "text": [
          10.96773553693807,
          21.357022690578262,
          16.40858227145162,
          13.370962292762155,
          2.1633288281138756,
          3.680201989934636,
          2.2403947014444143,
          21.437767367936534,
          14.709536814001098,
          12.63537124519544,
          3.059857824705639,
          20.628032482407253,
          17.295008815396518,
          7.470134791247259,
          7.698498389133914,
          7.530650435301073,
          6.406409812745477,
          11.876703880942328,
          11.301427235649443,
          9.775673058205557,
          13.27870941875701,
          4.418559259713202,
          5.630223022692307,
          6.9348236177124924,
          12.746451329129115,
          20.41599928500192,
          5.849455400006526,
          14.29175456405628,
          14.571563427336118,
          1.638768745189706,
          14.873688249045594,
          8.486555606677769,
          3.2293797814856875,
          24.106998056694678,
          16.073150453311698,
          19.81175197107967,
          8.266369519943755,
          3.3554275791959416,
          15.868182083314142,
          6.827912045590241,
          4.001420921220553,
          12.617763345248896,
          5.6435585117874005,
          19.149867605028348,
          5.558612426213963,
          14.246931599910567,
          10.065025757192368,
          13.058862642875585,
          11.874685179331514,
          6.723623976737253
         ],
         "textposition": "auto",
         "type": "bar",
         "x": [
          3.745401188473625,
          9.50714306409916,
          7.319939418114051,
          5.986584841970366,
          1.5601864044243652,
          1.5599452033620265,
          0.5808361216819946,
          8.661761457749352,
          6.011150117432088,
          7.080725777960454,
          0.20584494295802447,
          9.699098521619943,
          8.324426408004218,
          2.1233911067827616,
          1.8182496720710062,
          1.8340450985343382,
          3.0424224295953772,
          5.247564316322379,
          4.319450186421157,
          2.9122914019804194,
          6.118528947223795,
          1.3949386065204183,
          2.9214464853521815,
          3.663618432936917,
          4.56069984217036,
          7.851759613930136,
          1.9967378215835974,
          5.142344384136116,
          5.924145688620425,
          0.46450412719997725,
          6.075448519014383,
          1.7052412368729153,
          0.6505159298527952,
          9.488855372533333,
          9.656320330745594,
          8.08397348116461,
          3.0461376917337066,
          0.9767211400638387,
          6.842330265121569,
          4.4015249373960135,
          1.2203823484477883,
          4.951769101112702,
          0.34388521115218396,
          9.093204020787821,
          2.587799816000169,
          6.62522284353982,
          3.1171107608941098,
          5.200680211778108,
          5.4671027934327965,
          1.8485445552552704
         ],
         "y": [
          10.96773553693807,
          21.357022690578262,
          16.40858227145162,
          13.370962292762155,
          2.1633288281138756,
          3.680201989934636,
          2.2403947014444143,
          21.437767367936534,
          14.709536814001098,
          12.63537124519544,
          3.059857824705639,
          20.628032482407253,
          17.295008815396518,
          7.470134791247259,
          7.698498389133914,
          7.530650435301073,
          6.406409812745477,
          11.876703880942328,
          11.301427235649443,
          9.775673058205557,
          13.27870941875701,
          4.418559259713202,
          5.630223022692307,
          6.9348236177124924,
          12.746451329129115,
          20.41599928500192,
          5.849455400006526,
          14.29175456405628,
          14.571563427336118,
          1.638768745189706,
          14.873688249045594,
          8.486555606677769,
          3.2293797814856875,
          24.106998056694678,
          16.073150453311698,
          19.81175197107967,
          8.266369519943755,
          3.3554275791959416,
          15.868182083314142,
          6.827912045590241,
          4.001420921220553,
          12.617763345248896,
          5.6435585117874005,
          19.149867605028348,
          5.558612426213963,
          14.246931599910567,
          10.065025757192368,
          13.058862642875585,
          11.874685179331514,
          6.723623976737253
         ]
        },
        {
         "hovertemplate": "x: %{x:.2f}<br>y: %{y:.2f}<extra></extra>",
         "marker": {
          "color": "#FF6666"
         },
         "name": "Category 3",
         "opacity": 0.7,
         "text": [
          6.96773553693807,
          17.357022690578262,
          12.408582271451621,
          9.370962292762155,
          -1.8366711718861244,
          -0.31979801006536435,
          -1.7596052985555857,
          17.437767367936534,
          10.709536814001098,
          8.63537124519544,
          -0.9401421752943611,
          16.628032482407253,
          13.295008815396518,
          3.4701347912472587,
          3.6984983891339143,
          3.530650435301073,
          2.406409812745477,
          7.876703880942328,
          7.301427235649443,
          5.775673058205557,
          9.27870941875701,
          0.4185592597132026,
          1.6302230226923067,
          2.9348236177124924,
          8.746451329129115,
          16.41599928500192,
          1.8494554000065269,
          10.29175456405628,
          10.571563427336118,
          -2.361231254810294,
          10.873688249045594,
          4.4865556066777685,
          -0.7706202185143127,
          20.106998056694678,
          12.073150453311698,
          15.81175197107967,
          4.266369519943756,
          -0.6445724208040584,
          11.868182083314142,
          2.8279120455902413,
          0.0014209212205527066,
          8.617763345248896,
          1.6435585117874,
          15.149867605028348,
          1.558612426213963,
          10.246931599910567,
          6.065025757192368,
          9.058862642875585,
          7.8746851793315145,
          2.7236239767372528
         ],
         "textposition": "auto",
         "type": "bar",
         "x": [
          3.745401188473625,
          9.50714306409916,
          7.319939418114051,
          5.986584841970366,
          1.5601864044243652,
          1.5599452033620265,
          0.5808361216819946,
          8.661761457749352,
          6.011150117432088,
          7.080725777960454,
          0.20584494295802447,
          9.699098521619943,
          8.324426408004218,
          2.1233911067827616,
          1.8182496720710062,
          1.8340450985343382,
          3.0424224295953772,
          5.247564316322379,
          4.319450186421157,
          2.9122914019804194,
          6.118528947223795,
          1.3949386065204183,
          2.9214464853521815,
          3.663618432936917,
          4.56069984217036,
          7.851759613930136,
          1.9967378215835974,
          5.142344384136116,
          5.924145688620425,
          0.46450412719997725,
          6.075448519014383,
          1.7052412368729153,
          0.6505159298527952,
          9.488855372533333,
          9.656320330745594,
          8.08397348116461,
          3.0461376917337066,
          0.9767211400638387,
          6.842330265121569,
          4.4015249373960135,
          1.2203823484477883,
          4.951769101112702,
          0.34388521115218396,
          9.093204020787821,
          2.587799816000169,
          6.62522284353982,
          3.1171107608941098,
          5.200680211778108,
          5.4671027934327965,
          1.8485445552552704
         ],
         "y": [
          6.96773553693807,
          17.357022690578262,
          12.408582271451621,
          9.370962292762155,
          -1.8366711718861244,
          -0.31979801006536435,
          -1.7596052985555857,
          17.437767367936534,
          10.709536814001098,
          8.63537124519544,
          -0.9401421752943611,
          16.628032482407253,
          13.295008815396518,
          3.4701347912472587,
          3.6984983891339143,
          3.530650435301073,
          2.406409812745477,
          7.876703880942328,
          7.301427235649443,
          5.775673058205557,
          9.27870941875701,
          0.4185592597132026,
          1.6302230226923067,
          2.9348236177124924,
          8.746451329129115,
          16.41599928500192,
          1.8494554000065269,
          10.29175456405628,
          10.571563427336118,
          -2.361231254810294,
          10.873688249045594,
          4.4865556066777685,
          -0.7706202185143127,
          20.106998056694678,
          12.073150453311698,
          15.81175197107967,
          4.266369519943756,
          -0.6445724208040584,
          11.868182083314142,
          2.8279120455902413,
          0.0014209212205527066,
          8.617763345248896,
          1.6435585117874,
          15.149867605028348,
          1.558612426213963,
          10.246931599910567,
          6.065025757192368,
          9.058862642875585,
          7.8746851793315145,
          2.7236239767372528
         ]
        },
        {
         "hovertemplate": "x: %{x:.2f}<br>y: %{y:.2f}<extra></extra>",
         "marker": {
          "color": "#FF9999"
         },
         "name": "Category 4",
         "opacity": 0.7,
         "text": [
          7.1741884295504565,
          15.48561815246261,
          11.526865817161298,
          9.096769834209724,
          0.1306630624911005,
          1.3441615919477086,
          0.1923157611555314,
          15.550213894349227,
          10.16762945120088,
          8.508296996156352,
          0.8478862597645112,
          14.902425985925802,
          12.236007052317214,
          4.376107832997807,
          4.558798711307132,
          4.424520348240859,
          3.525127850196382,
          7.901363104753862,
          7.441141788519555,
          6.220538446564446,
          9.022967535005609,
          1.9348474077705622,
          2.9041784181538457,
          3.947858894169994,
          8.597161063303293,
          14.732799428001536,
          3.079564320005222,
          9.833403651245025,
          10.057250741868895,
          -0.2889850038482353,
          10.298950599236477,
          5.189244485342215,
          0.9835038251885498,
          17.685598445355744,
          11.258520362649358,
          14.249401576863736,
          5.013095615955005,
          1.0843420633567533,
          11.094545666651314,
          3.862329636472193,
          1.6011367369764422,
          8.494210676199117,
          2.9148468094299202,
          13.719894084022679,
          2.8468899409711703,
          9.797545279928455,
          6.452020605753894,
          8.84709011430047,
          7.899748143465212,
          3.7788991813898023
         ],
         "textposition": "auto",
         "type": "bar",
         "x": [
          3.745401188473625,
          9.50714306409916,
          7.319939418114051,
          5.986584841970366,
          1.5601864044243652,
          1.5599452033620265,
          0.5808361216819946,
          8.661761457749352,
          6.011150117432088,
          7.080725777960454,
          0.20584494295802447,
          9.699098521619943,
          8.324426408004218,
          2.1233911067827616,
          1.8182496720710062,
          1.8340450985343382,
          3.0424224295953772,
          5.247564316322379,
          4.319450186421157,
          2.9122914019804194,
          6.118528947223795,
          1.3949386065204183,
          2.9214464853521815,
          3.663618432936917,
          4.56069984217036,
          7.851759613930136,
          1.9967378215835974,
          5.142344384136116,
          5.924145688620425,
          0.46450412719997725,
          6.075448519014383,
          1.7052412368729153,
          0.6505159298527952,
          9.488855372533333,
          9.656320330745594,
          8.08397348116461,
          3.0461376917337066,
          0.9767211400638387,
          6.842330265121569,
          4.4015249373960135,
          1.2203823484477883,
          4.951769101112702,
          0.34388521115218396,
          9.093204020787821,
          2.587799816000169,
          6.62522284353982,
          3.1171107608941098,
          5.200680211778108,
          5.4671027934327965,
          1.8485445552552704
         ],
         "y": [
          7.1741884295504565,
          15.48561815246261,
          11.526865817161298,
          9.096769834209724,
          0.1306630624911005,
          1.3441615919477086,
          0.1923157611555314,
          15.550213894349227,
          10.16762945120088,
          8.508296996156352,
          0.8478862597645112,
          14.902425985925802,
          12.236007052317214,
          4.376107832997807,
          4.558798711307132,
          4.424520348240859,
          3.525127850196382,
          7.901363104753862,
          7.441141788519555,
          6.220538446564446,
          9.022967535005609,
          1.9348474077705622,
          2.9041784181538457,
          3.947858894169994,
          8.597161063303293,
          14.732799428001536,
          3.079564320005222,
          9.833403651245025,
          10.057250741868895,
          -0.2889850038482353,
          10.298950599236477,
          5.189244485342215,
          0.9835038251885498,
          17.685598445355744,
          11.258520362649358,
          14.249401576863736,
          5.013095615955005,
          1.0843420633567533,
          11.094545666651314,
          3.862329636472193,
          1.6011367369764422,
          8.494210676199117,
          2.9148468094299202,
          13.719894084022679,
          2.8468899409711703,
          9.797545279928455,
          6.452020605753894,
          8.84709011430047,
          7.899748143465212,
          3.7788991813898023
         ]
        }
       ],
       "layout": {
        "legend": {
         "orientation": "h",
         "x": 0.5,
         "xanchor": "center",
         "y": -0.3,
         "yanchor": "bottom"
        },
        "margin": {
         "b": 100,
         "l": 100,
         "r": 50,
         "t": 100
        },
        "showlegend": true,
        "template": {
         "data": {
          "bar": [
           {
            "error_x": {
             "color": "#2a3f5f"
            },
            "error_y": {
             "color": "#2a3f5f"
            },
            "marker": {
             "line": {
              "color": "white",
              "width": 0.5
             },
             "pattern": {
              "fillmode": "overlay",
              "size": 10,
              "solidity": 0.2
             }
            },
            "type": "bar"
           }
          ],
          "barpolar": [
           {
            "marker": {
             "line": {
              "color": "white",
              "width": 0.5
             },
             "pattern": {
              "fillmode": "overlay",
              "size": 10,
              "solidity": 0.2
             }
            },
            "type": "barpolar"
           }
          ],
          "carpet": [
           {
            "aaxis": {
             "endlinecolor": "#2a3f5f",
             "gridcolor": "#C8D4E3",
             "linecolor": "#C8D4E3",
             "minorgridcolor": "#C8D4E3",
             "startlinecolor": "#2a3f5f"
            },
            "baxis": {
             "endlinecolor": "#2a3f5f",
             "gridcolor": "#C8D4E3",
             "linecolor": "#C8D4E3",
             "minorgridcolor": "#C8D4E3",
             "startlinecolor": "#2a3f5f"
            },
            "type": "carpet"
           }
          ],
          "choropleth": [
           {
            "colorbar": {
             "outlinewidth": 0,
             "ticks": ""
            },
            "type": "choropleth"
           }
          ],
          "contour": [
           {
            "colorbar": {
             "outlinewidth": 0,
             "ticks": ""
            },
            "colorscale": [
             [
              0,
              "#0d0887"
             ],
             [
              0.1111111111111111,
              "#46039f"
             ],
             [
              0.2222222222222222,
              "#7201a8"
             ],
             [
              0.3333333333333333,
              "#9c179e"
             ],
             [
              0.4444444444444444,
              "#bd3786"
             ],
             [
              0.5555555555555556,
              "#d8576b"
             ],
             [
              0.6666666666666666,
              "#ed7953"
             ],
             [
              0.7777777777777778,
              "#fb9f3a"
             ],
             [
              0.8888888888888888,
              "#fdca26"
             ],
             [
              1,
              "#f0f921"
             ]
            ],
            "type": "contour"
           }
          ],
          "contourcarpet": [
           {
            "colorbar": {
             "outlinewidth": 0,
             "ticks": ""
            },
            "type": "contourcarpet"
           }
          ],
          "heatmap": [
           {
            "colorbar": {
             "outlinewidth": 0,
             "ticks": ""
            },
            "colorscale": [
             [
              0,
              "#0d0887"
             ],
             [
              0.1111111111111111,
              "#46039f"
             ],
             [
              0.2222222222222222,
              "#7201a8"
             ],
             [
              0.3333333333333333,
              "#9c179e"
             ],
             [
              0.4444444444444444,
              "#bd3786"
             ],
             [
              0.5555555555555556,
              "#d8576b"
             ],
             [
              0.6666666666666666,
              "#ed7953"
             ],
             [
              0.7777777777777778,
              "#fb9f3a"
             ],
             [
              0.8888888888888888,
              "#fdca26"
             ],
             [
              1,
              "#f0f921"
             ]
            ],
            "type": "heatmap"
           }
          ],
          "heatmapgl": [
           {
            "colorbar": {
             "outlinewidth": 0,
             "ticks": ""
            },
            "colorscale": [
             [
              0,
              "#0d0887"
             ],
             [
              0.1111111111111111,
              "#46039f"
             ],
             [
              0.2222222222222222,
              "#7201a8"
             ],
             [
              0.3333333333333333,
              "#9c179e"
             ],
             [
              0.4444444444444444,
              "#bd3786"
             ],
             [
              0.5555555555555556,
              "#d8576b"
             ],
             [
              0.6666666666666666,
              "#ed7953"
             ],
             [
              0.7777777777777778,
              "#fb9f3a"
             ],
             [
              0.8888888888888888,
              "#fdca26"
             ],
             [
              1,
              "#f0f921"
             ]
            ],
            "type": "heatmapgl"
           }
          ],
          "histogram": [
           {
            "marker": {
             "pattern": {
              "fillmode": "overlay",
              "size": 10,
              "solidity": 0.2
             }
            },
            "type": "histogram"
           }
          ],
          "histogram2d": [
           {
            "colorbar": {
             "outlinewidth": 0,
             "ticks": ""
            },
            "colorscale": [
             [
              0,
              "#0d0887"
             ],
             [
              0.1111111111111111,
              "#46039f"
             ],
             [
              0.2222222222222222,
              "#7201a8"
             ],
             [
              0.3333333333333333,
              "#9c179e"
             ],
             [
              0.4444444444444444,
              "#bd3786"
             ],
             [
              0.5555555555555556,
              "#d8576b"
             ],
             [
              0.6666666666666666,
              "#ed7953"
             ],
             [
              0.7777777777777778,
              "#fb9f3a"
             ],
             [
              0.8888888888888888,
              "#fdca26"
             ],
             [
              1,
              "#f0f921"
             ]
            ],
            "type": "histogram2d"
           }
          ],
          "histogram2dcontour": [
           {
            "colorbar": {
             "outlinewidth": 0,
             "ticks": ""
            },
            "colorscale": [
             [
              0,
              "#0d0887"
             ],
             [
              0.1111111111111111,
              "#46039f"
             ],
             [
              0.2222222222222222,
              "#7201a8"
             ],
             [
              0.3333333333333333,
              "#9c179e"
             ],
             [
              0.4444444444444444,
              "#bd3786"
             ],
             [
              0.5555555555555556,
              "#d8576b"
             ],
             [
              0.6666666666666666,
              "#ed7953"
             ],
             [
              0.7777777777777778,
              "#fb9f3a"
             ],
             [
              0.8888888888888888,
              "#fdca26"
             ],
             [
              1,
              "#f0f921"
             ]
            ],
            "type": "histogram2dcontour"
           }
          ],
          "mesh3d": [
           {
            "colorbar": {
             "outlinewidth": 0,
             "ticks": ""
            },
            "type": "mesh3d"
           }
          ],
          "parcoords": [
           {
            "line": {
             "colorbar": {
              "outlinewidth": 0,
              "ticks": ""
             }
            },
            "type": "parcoords"
           }
          ],
          "pie": [
           {
            "automargin": true,
            "type": "pie"
           }
          ],
          "scatter": [
           {
            "fillpattern": {
             "fillmode": "overlay",
             "size": 10,
             "solidity": 0.2
            },
            "type": "scatter"
           }
          ],
          "scatter3d": [
           {
            "line": {
             "colorbar": {
              "outlinewidth": 0,
              "ticks": ""
             }
            },
            "marker": {
             "colorbar": {
              "outlinewidth": 0,
              "ticks": ""
             }
            },
            "type": "scatter3d"
           }
          ],
          "scattercarpet": [
           {
            "marker": {
             "colorbar": {
              "outlinewidth": 0,
              "ticks": ""
             }
            },
            "type": "scattercarpet"
           }
          ],
          "scattergeo": [
           {
            "marker": {
             "colorbar": {
              "outlinewidth": 0,
              "ticks": ""
             }
            },
            "type": "scattergeo"
           }
          ],
          "scattergl": [
           {
            "marker": {
             "colorbar": {
              "outlinewidth": 0,
              "ticks": ""
             }
            },
            "type": "scattergl"
           }
          ],
          "scattermapbox": [
           {
            "marker": {
             "colorbar": {
              "outlinewidth": 0,
              "ticks": ""
             }
            },
            "type": "scattermapbox"
           }
          ],
          "scatterpolar": [
           {
            "marker": {
             "colorbar": {
              "outlinewidth": 0,
              "ticks": ""
             }
            },
            "type": "scatterpolar"
           }
          ],
          "scatterpolargl": [
           {
            "marker": {
             "colorbar": {
              "outlinewidth": 0,
              "ticks": ""
             }
            },
            "type": "scatterpolargl"
           }
          ],
          "scatterternary": [
           {
            "marker": {
             "colorbar": {
              "outlinewidth": 0,
              "ticks": ""
             }
            },
            "type": "scatterternary"
           }
          ],
          "surface": [
           {
            "colorbar": {
             "outlinewidth": 0,
             "ticks": ""
            },
            "colorscale": [
             [
              0,
              "#0d0887"
             ],
             [
              0.1111111111111111,
              "#46039f"
             ],
             [
              0.2222222222222222,
              "#7201a8"
             ],
             [
              0.3333333333333333,
              "#9c179e"
             ],
             [
              0.4444444444444444,
              "#bd3786"
             ],
             [
              0.5555555555555556,
              "#d8576b"
             ],
             [
              0.6666666666666666,
              "#ed7953"
             ],
             [
              0.7777777777777778,
              "#fb9f3a"
             ],
             [
              0.8888888888888888,
              "#fdca26"
             ],
             [
              1,
              "#f0f921"
             ]
            ],
            "type": "surface"
           }
          ],
          "table": [
           {
            "cells": {
             "fill": {
              "color": "#EBF0F8"
             },
             "line": {
              "color": "white"
             }
            },
            "header": {
             "fill": {
              "color": "#C8D4E3"
             },
             "line": {
              "color": "white"
             }
            },
            "type": "table"
           }
          ]
         },
         "layout": {
          "annotationdefaults": {
           "arrowcolor": "#2a3f5f",
           "arrowhead": 0,
           "arrowwidth": 1
          },
          "autotypenumbers": "strict",
          "coloraxis": {
           "colorbar": {
            "outlinewidth": 0,
            "ticks": ""
           }
          },
          "colorscale": {
           "diverging": [
            [
             0,
             "#8e0152"
            ],
            [
             0.1,
             "#c51b7d"
            ],
            [
             0.2,
             "#de77ae"
            ],
            [
             0.3,
             "#f1b6da"
            ],
            [
             0.4,
             "#fde0ef"
            ],
            [
             0.5,
             "#f7f7f7"
            ],
            [
             0.6,
             "#e6f5d0"
            ],
            [
             0.7,
             "#b8e186"
            ],
            [
             0.8,
             "#7fbc41"
            ],
            [
             0.9,
             "#4d9221"
            ],
            [
             1,
             "#276419"
            ]
           ],
           "sequential": [
            [
             0,
             "#0d0887"
            ],
            [
             0.1111111111111111,
             "#46039f"
            ],
            [
             0.2222222222222222,
             "#7201a8"
            ],
            [
             0.3333333333333333,
             "#9c179e"
            ],
            [
             0.4444444444444444,
             "#bd3786"
            ],
            [
             0.5555555555555556,
             "#d8576b"
            ],
            [
             0.6666666666666666,
             "#ed7953"
            ],
            [
             0.7777777777777778,
             "#fb9f3a"
            ],
            [
             0.8888888888888888,
             "#fdca26"
            ],
            [
             1,
             "#f0f921"
            ]
           ],
           "sequentialminus": [
            [
             0,
             "#0d0887"
            ],
            [
             0.1111111111111111,
             "#46039f"
            ],
            [
             0.2222222222222222,
             "#7201a8"
            ],
            [
             0.3333333333333333,
             "#9c179e"
            ],
            [
             0.4444444444444444,
             "#bd3786"
            ],
            [
             0.5555555555555556,
             "#d8576b"
            ],
            [
             0.6666666666666666,
             "#ed7953"
            ],
            [
             0.7777777777777778,
             "#fb9f3a"
            ],
            [
             0.8888888888888888,
             "#fdca26"
            ],
            [
             1,
             "#f0f921"
            ]
           ]
          },
          "colorway": [
           "#636efa",
           "#EF553B",
           "#00cc96",
           "#ab63fa",
           "#FFA15A",
           "#19d3f3",
           "#FF6692",
           "#B6E880",
           "#FF97FF",
           "#FECB52"
          ],
          "font": {
           "color": "#2a3f5f"
          },
          "geo": {
           "bgcolor": "white",
           "lakecolor": "white",
           "landcolor": "white",
           "showlakes": true,
           "showland": true,
           "subunitcolor": "#C8D4E3"
          },
          "hoverlabel": {
           "align": "left"
          },
          "hovermode": "closest",
          "mapbox": {
           "style": "light"
          },
          "paper_bgcolor": "white",
          "plot_bgcolor": "white",
          "polar": {
           "angularaxis": {
            "gridcolor": "#EBF0F8",
            "linecolor": "#EBF0F8",
            "ticks": ""
           },
           "bgcolor": "white",
           "radialaxis": {
            "gridcolor": "#EBF0F8",
            "linecolor": "#EBF0F8",
            "ticks": ""
           }
          },
          "scene": {
           "xaxis": {
            "backgroundcolor": "white",
            "gridcolor": "#DFE8F3",
            "gridwidth": 2,
            "linecolor": "#EBF0F8",
            "showbackground": true,
            "ticks": "",
            "zerolinecolor": "#EBF0F8"
           },
           "yaxis": {
            "backgroundcolor": "white",
            "gridcolor": "#DFE8F3",
            "gridwidth": 2,
            "linecolor": "#EBF0F8",
            "showbackground": true,
            "ticks": "",
            "zerolinecolor": "#EBF0F8"
           },
           "zaxis": {
            "backgroundcolor": "white",
            "gridcolor": "#DFE8F3",
            "gridwidth": 2,
            "linecolor": "#EBF0F8",
            "showbackground": true,
            "ticks": "",
            "zerolinecolor": "#EBF0F8"
           }
          },
          "shapedefaults": {
           "line": {
            "color": "#2a3f5f"
           }
          },
          "ternary": {
           "aaxis": {
            "gridcolor": "#DFE8F3",
            "linecolor": "#A2B1C6",
            "ticks": ""
           },
           "baxis": {
            "gridcolor": "#DFE8F3",
            "linecolor": "#A2B1C6",
            "ticks": ""
           },
           "bgcolor": "white",
           "caxis": {
            "gridcolor": "#DFE8F3",
            "linecolor": "#A2B1C6",
            "ticks": ""
           }
          },
          "title": {
           "x": 0.05
          },
          "xaxis": {
           "automargin": true,
           "gridcolor": "#EBF0F8",
           "linecolor": "#EBF0F8",
           "ticks": "",
           "title": {
            "standoff": 15
           },
           "zerolinecolor": "#EBF0F8",
           "zerolinewidth": 2
          },
          "yaxis": {
           "automargin": true,
           "gridcolor": "#EBF0F8",
           "linecolor": "#EBF0F8",
           "ticks": "",
           "title": {
            "standoff": 15
           },
           "zerolinecolor": "#EBF0F8",
           "zerolinewidth": 2
          }
         }
        },
        "title": {
         "font": {
          "color": "#FF0000",
          "size": 24
         },
         "text": "Red Bar Chart",
         "x": 0.5,
         "xanchor": "center"
        },
        "xaxis": {
         "tickfont": {
          "color": "#444444",
          "size": 12,
          "weight": "bold"
         },
         "title": {
          "font": {
           "color": "#444444",
           "size": 16,
           "weight": "bold"
          },
          "text": "X Values"
         }
        },
        "yaxis": {
         "tickfont": {
          "color": "#444444",
          "size": 12,
          "weight": "bold"
         },
         "title": {
          "font": {
           "color": "#444444",
           "size": 16,
           "weight": "bold"
          },
          "text": "Y Values"
         }
        }
       }
      }
     },
     "metadata": {},
     "output_type": "display_data"
    }
   ],
   "source": [
    "import plotly.graph_objects as go\n",
    "import numpy as np\n",
    "\n",
    "# Generate sample data\n",
    "np.random.seed(42)\n",
    "x = np.random.uniform(0, 10, 50)\n",
    "y = 2 * x + np.random.normal(0, 2, 50)\n",
    "\n",
    "# Create figure with multiple series\n",
    "fig = go.Figure()\n",
    "\n",
    "# Add multiple scatter series with different shades of red\n",
    "series_data = [\n",
    "    {'x': x, 'y': y, 'name': 'Category 1', 'color': '#FF0000'},\n",
    "    {'x': x, 'y': y + 2, 'name': 'Category 2', 'color': '#FF3333'},\n",
    "    {'x': x, 'y': y - 2, 'name': 'Category 3', 'color': '#FF6666'},\n",
    "    {'x': x, 'y': y * 0.8, 'name': 'Category 4', 'color': '#FF9999'}\n",
    "]\n",
    "\n",
    "for series in series_data:\n",
    "    fig.add_trace(\n",
    "        go.Bar(\n",
    "            x=series['x'],\n",
    "            y=series['y'],\n",
    "            name=series['name'],\n",
    "            marker_color=series['color'],\n",
    "            opacity=0.7,\n",
    "            text=series['y'],\n",
    "            textposition='auto',\n",
    "            hovertemplate='x: %{x:.2f}<br>y: %{y:.2f}<extra></extra>'\n",
    "        )\n",
    "    )\n",
    "\n",
    "# Update layout with professional styling\n",
    "fig.update_layout(\n",
    "    title={\n",
    "        'text': 'Red Bar Chart',\n",
    "        'font': {'size': 24, 'color': '#FF0000'},\n",
    "        'x': 0.5,\n",
    "        'xanchor': 'center'\n",
    "    },\n",
    "    xaxis_title={\n",
    "        'text': 'X Values',\n",
    "        'font': {'size': 16, 'color': '#444444', 'weight': 'bold'}\n",
    "    },\n",
    "    yaxis_title={\n",
    "        'text': 'Y Values',\n",
    "        'font': {'size': 16, 'color': '#444444', 'weight': 'bold'}\n",
    "    },\n",
    "    template='plotly_white',\n",
    "    showlegend=True,\n",
    "    legend={\n",
    "        'orientation': 'h',\n",
    "        'yanchor': 'bottom',\n",
    "        'y': -0.3,\n",
    "        'xanchor': 'center',\n",
    "        'x': 0.5\n",
    "    },\n",
    "    margin=dict(t=100, l=100, r=50, b=100)\n",
    ")\n",
    "\n",
    "# Update axis labels to be bold\n",
    "fig.update_xaxes(tickfont=dict(size=12, color='#444444', weight='bold'))\n",
    "fig.update_yaxes(tickfont=dict(size=12, color='#444444', weight='bold'))"
   ]
  }
 ],
 "metadata": {
  "kernelspec": {
   "display_name": ".venv",
   "language": "python",
   "name": "python3"
  },
  "language_info": {
   "codemirror_mode": {
    "name": "ipython",
    "version": 3
   },
   "file_extension": ".py",
   "mimetype": "text/x-python",
   "name": "python",
   "nbconvert_exporter": "python",
   "pygments_lexer": "ipython3",
   "version": "3.13.1"
  }
 },
 "nbformat": 4,
 "nbformat_minor": 2
}
