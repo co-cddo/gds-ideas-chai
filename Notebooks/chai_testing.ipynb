{
 "cells": [
  {
   "cell_type": "code",
   "execution_count": 1,
   "metadata": {},
   "outputs": [],
   "source": [
    "# RUN THIS BEFORE ATTEMPTING, OTHERWISE MAY GET CLIENT ERRORS ON SOME AWS CALLS\n",
    "import boto3\n",
    "boto3.setup_default_session()"
   ]
  },
  {
   "cell_type": "code",
   "execution_count": 2,
   "metadata": {},
   "outputs": [],
   "source": [
    "import sys\n",
    "import os\n",
    "from pathlib import Path\n",
    "notebook_dir = Path(os.getcwd()) \n",
    "project_root = notebook_dir.parent\n",
    "sys.path.append(str(project_root))"
   ]
  },
  {
   "cell_type": "code",
   "execution_count": 3,
   "metadata": {},
   "outputs": [
    {
     "name": "stdout",
     "output_type": "stream",
     "text": [
      "Using AWS Profile: aws-prototype\n",
      "Using AWS Region: us-east-1\n",
      "Using LLM model: anthropic.claude-3-5-sonnet-20240620-v1:0\n",
      "\n",
      "Available models in LLMModel enum:\n",
      "- CLAUDE_V2_1: anthropic.claude-v2:1\n",
      "- CLAUDE_SONNET_3_5: anthropic.claude-3-5-sonnet-20240620-v1:0\n",
      "- CLAUDE_HAIKU_3_5: anthropic.claude-3-5-haiku-20241022-v1:0\n"
     ]
    }
   ],
   "source": [
    "from dotenv import load_dotenv\n",
    "import os\n",
    "from chAI.constants import LLMModel\n",
    "\n",
    "# Load .env file\n",
    "load_dotenv()\n",
    "aws_profile = os.getenv('AWS_PROFILE')\n",
    "llm_region = os.getenv('LLM_REGION')\n",
    "llm_model = os.getenv('LLM_MODEL')\n",
    "print(f\"Using AWS Profile: {aws_profile}\")\n",
    "print(f\"Using AWS Region: {llm_region}\")\n",
    "print(f\"Using LLM model: {llm_model}\")\n",
    "\n",
    "print(\"\\nAvailable models in LLMModel enum:\")\n",
    "for model in LLMModel:\n",
    "    print(f\"- {model.name}: {model.value}\")"
   ]
  },
  {
   "cell_type": "code",
   "execution_count": 4,
   "metadata": {},
   "outputs": [],
   "source": [
    "# Setup notebook to show logger messages\n",
    "import logging\n",
    "import sys\n",
    "from datetime import datetime\n",
    "from IPython.display import display, HTML\n",
    "\n",
    "class VSCodeNotebookHandler(logging.Handler):\n",
    "    def __init__(self):\n",
    "        super().__init__()\n",
    "        self.log_buffer = []\n",
    "\n",
    "    def emit(self, record):\n",
    "        try:\n",
    "            # Format the message\n",
    "            msg = self.format(record)\n",
    "            \n",
    "            # Define colors for different log levels\n",
    "            colors = {\n",
    "                logging.DEBUG: '#6c757d',    # gray\n",
    "                logging.INFO: '#0d6efd',     # blue\n",
    "                logging.WARNING: '#ffc107',   # yellow\n",
    "                logging.ERROR: '#dc3545',     # red\n",
    "                logging.CRITICAL: '#721c24'   # dark red\n",
    "            }\n",
    "            \n",
    "            # Get color for current log level\n",
    "            color = colors.get(record.levelno, '#000000')\n",
    "            \n",
    "            # Create HTML formatted log entry\n",
    "            log_entry = f\"\"\"\n",
    "            <div style='\n",
    "                padding: 2px 6px;\n",
    "                margin: 2px 0;\n",
    "                border-left: 3px solid {color};\n",
    "                background-color: #f8f9fa;\n",
    "                font-family: Monaco, monospace;\n",
    "                font-sise: 12px;\n",
    "            '>\n",
    "                <span style='color: {color}; font-weight: bold;'>{record.levelname}</span>\n",
    "                <span style='color: #666; margin-right: 8px;'>{datetime.now().strftime('%H:%M:%S')}</span>\n",
    "                <span>{msg}</span>\n",
    "            </div>\n",
    "            \"\"\"\n",
    "            \n",
    "            # Display the formatted log entry\n",
    "            display(HTML(log_entry))\n",
    "            \n",
    "            # Also print to stderr for VSCode's native console\n",
    "            print(msg, file=sys.stderr)\n",
    "            \n",
    "        except Exception as e:\n",
    "            print(f\"Error in log handler: {str(e)}\", file=sys.stderr)\n",
    "\n",
    "def setup_notebook_logging(level=logging.INFO):\n",
    "    \"\"\"\n",
    "    Configure logging for VSCode Jupyter notebooks\n",
    "    \n",
    "    Args:\n",
    "        level: The logging level to use (default: INFO)\n",
    "    Returns:\n",
    "        logger: Configured logger instance\n",
    "    \"\"\"\n",
    "    # Create or get the root logger\n",
    "    logger = logging.getLogger()\n",
    "    \n",
    "    # Remove any existing handlers\n",
    "    for handler in logger.handlers[:]:\n",
    "        logger.removeHandler(handler)\n",
    "    \n",
    "    # Set the logging level\n",
    "    logger.setLevel(level)\n",
    "    \n",
    "    # Create and configure the VSCode notebook handler\n",
    "    handler = VSCodeNotebookHandler()\n",
    "    formatter = logging.Formatter('%(message)s')\n",
    "    handler.setFormatter(formatter)\n",
    "    logger.addHandler(handler)\n",
    "    \n",
    "    return logger\n",
    "\n",
    "# Usage example:\n",
    "logger = setup_notebook_logging(logging.INFO)\n",
    "\n",
    "# Test the logger\n",
    "def test_logging():\n",
    "    logger.debug(\"This is a debug message\")\n",
    "    logger.info(\"This is an info message\")\n",
    "    logger.warning(\"This is a warning message\")\n",
    "    logger.error(\"This is an error message\")\n",
    "    logger.critical(\"This is a critical message\")"
   ]
  },
  {
   "cell_type": "code",
   "execution_count": 5,
   "metadata": {},
   "outputs": [],
   "source": [
    "logger = setup_notebook_logging()"
   ]
  },
  {
   "cell_type": "markdown",
   "metadata": {},
   "source": [
    "# chAI testing and examples"
   ]
  },
  {
   "cell_type": "code",
   "execution_count": 6,
   "metadata": {},
   "outputs": [],
   "source": [
    "import numpy as np\n",
    "import pandas as pd\n",
    "def create_sample_dataset():\n",
    "    \"\"\"Create a sample dataset for testing\"\"\"\n",
    "    np.random.seed(42)\n",
    "    dates = pd.date_range(start=\"2023-01-01\", periods=100, freq=\"D\")\n",
    "\n",
    "    sample_df = pd.DataFrame(\n",
    "        {\n",
    "            \"date\": dates,\n",
    "            \"sales\": np.random.normal(1000, 100, 100),\n",
    "            \"customers\": np.random.randint(50, 200, 100),\n",
    "            \"satisfaction_score\": np.random.uniform(3.5, 5.0, 100),\n",
    "            \"category\": np.random.choice([\"A\", \"B\", \"C\"], 100),\n",
    "        }\n",
    "    )\n",
    "\n",
    "    return sample_df"
   ]
  },
  {
   "cell_type": "code",
   "execution_count": 7,
   "metadata": {},
   "outputs": [
    {
     "data": {
      "text/html": [
       "\n",
       "            <div style='\n",
       "                padding: 2px 6px;\n",
       "                margin: 2px 0;\n",
       "                border-left: 3px solid #0d6efd;\n",
       "                background-color: #f8f9fa;\n",
       "                font-family: Monaco, monospace;\n",
       "                font-sise: 12px;\n",
       "            '>\n",
       "                <span style='color: #0d6efd; font-weight: bold;'>INFO</span>\n",
       "                <span style='color: #666; margin-right: 8px;'>14:16:33</span>\n",
       "                <span>chAI Start</span>\n",
       "            </div>\n",
       "            "
      ],
      "text/plain": [
       "<IPython.core.display.HTML object>"
      ]
     },
     "metadata": {},
     "output_type": "display_data"
    },
    {
     "name": "stderr",
     "output_type": "stream",
     "text": [
      "chAI Start\n"
     ]
    },
    {
     "data": {
      "text/html": [
       "\n",
       "            <div style='\n",
       "                padding: 2px 6px;\n",
       "                margin: 2px 0;\n",
       "                border-left: 3px solid #0d6efd;\n",
       "                background-color: #f8f9fa;\n",
       "                font-family: Monaco, monospace;\n",
       "                font-sise: 12px;\n",
       "            '>\n",
       "                <span style='color: #0d6efd; font-weight: bold;'>INFO</span>\n",
       "                <span style='color: #666; margin-right: 8px;'>14:16:33</span>\n",
       "                <span>Loaded config for agent successfully.</span>\n",
       "            </div>\n",
       "            "
      ],
      "text/plain": [
       "<IPython.core.display.HTML object>"
      ]
     },
     "metadata": {},
     "output_type": "display_data"
    },
    {
     "name": "stderr",
     "output_type": "stream",
     "text": [
      "Loaded config for agent successfully.\n"
     ]
    },
    {
     "data": {
      "text/html": [
       "\n",
       "            <div style='\n",
       "                padding: 2px 6px;\n",
       "                margin: 2px 0;\n",
       "                border-left: 3px solid #0d6efd;\n",
       "                background-color: #f8f9fa;\n",
       "                font-family: Monaco, monospace;\n",
       "                font-sise: 12px;\n",
       "            '>\n",
       "                <span style='color: #0d6efd; font-weight: bold;'>INFO</span>\n",
       "                <span style='color: #666; margin-right: 8px;'>14:16:33</span>\n",
       "                <span>Loaded config for agent successfully.</span>\n",
       "            </div>\n",
       "            "
      ],
      "text/plain": [
       "<IPython.core.display.HTML object>"
      ]
     },
     "metadata": {},
     "output_type": "display_data"
    },
    {
     "name": "stderr",
     "output_type": "stream",
     "text": [
      "Loaded config for agent successfully.\n"
     ]
    },
    {
     "data": {
      "text/html": [
       "\n",
       "            <div style='\n",
       "                padding: 2px 6px;\n",
       "                margin: 2px 0;\n",
       "                border-left: 3px solid #0d6efd;\n",
       "                background-color: #f8f9fa;\n",
       "                font-family: Monaco, monospace;\n",
       "                font-sise: 12px;\n",
       "            '>\n",
       "                <span style='color: #0d6efd; font-weight: bold;'>INFO</span>\n",
       "                <span style='color: #666; margin-right: 8px;'>14:16:33</span>\n",
       "                <span>Initializing BedrockHandler</span>\n",
       "            </div>\n",
       "            "
      ],
      "text/plain": [
       "<IPython.core.display.HTML object>"
      ]
     },
     "metadata": {},
     "output_type": "display_data"
    },
    {
     "name": "stderr",
     "output_type": "stream",
     "text": [
      "Initializing BedrockHandler\n"
     ]
    },
    {
     "data": {
      "text/html": [
       "\n",
       "            <div style='\n",
       "                padding: 2px 6px;\n",
       "                margin: 2px 0;\n",
       "                border-left: 3px solid #0d6efd;\n",
       "                background-color: #f8f9fa;\n",
       "                font-family: Monaco, monospace;\n",
       "                font-sise: 12px;\n",
       "            '>\n",
       "                <span style='color: #0d6efd; font-weight: bold;'>INFO</span>\n",
       "                <span style='color: #666; margin-right: 8px;'>14:16:33</span>\n",
       "                <span>Found credentials in shared credentials file: ~/.aws/credentials</span>\n",
       "            </div>\n",
       "            "
      ],
      "text/plain": [
       "<IPython.core.display.HTML object>"
      ]
     },
     "metadata": {},
     "output_type": "display_data"
    },
    {
     "name": "stderr",
     "output_type": "stream",
     "text": [
      "Found credentials in shared credentials file: ~/.aws/credentials\n"
     ]
    },
    {
     "data": {
      "text/html": [
       "\n",
       "            <div style='\n",
       "                padding: 2px 6px;\n",
       "                margin: 2px 0;\n",
       "                border-left: 3px solid #0d6efd;\n",
       "                background-color: #f8f9fa;\n",
       "                font-family: Monaco, monospace;\n",
       "                font-sise: 12px;\n",
       "            '>\n",
       "                <span style='color: #0d6efd; font-weight: bold;'>INFO</span>\n",
       "                <span style='color: #666; margin-right: 8px;'>14:16:33</span>\n",
       "                <span>Creating ChatBedrock LLM instance</span>\n",
       "            </div>\n",
       "            "
      ],
      "text/plain": [
       "<IPython.core.display.HTML object>"
      ]
     },
     "metadata": {},
     "output_type": "display_data"
    },
    {
     "name": "stderr",
     "output_type": "stream",
     "text": [
      "Creating ChatBedrock LLM instance\n"
     ]
    },
    {
     "data": {
      "text/html": [
       "\n",
       "            <div style='\n",
       "                padding: 2px 6px;\n",
       "                margin: 2px 0;\n",
       "                border-left: 3px solid #0d6efd;\n",
       "                background-color: #f8f9fa;\n",
       "                font-family: Monaco, monospace;\n",
       "                font-sise: 12px;\n",
       "            '>\n",
       "                <span style='color: #0d6efd; font-weight: bold;'>INFO</span>\n",
       "                <span style='color: #666; margin-right: 8px;'>14:16:33</span>\n",
       "                <span>Found credentials in shared credentials file: ~/.aws/credentials</span>\n",
       "            </div>\n",
       "            "
      ],
      "text/plain": [
       "<IPython.core.display.HTML object>"
      ]
     },
     "metadata": {},
     "output_type": "display_data"
    },
    {
     "name": "stderr",
     "output_type": "stream",
     "text": [
      "Found credentials in shared credentials file: ~/.aws/credentials\n"
     ]
    },
    {
     "data": {
      "text/html": [
       "\n",
       "            <div style='\n",
       "                padding: 2px 6px;\n",
       "                margin: 2px 0;\n",
       "                border-left: 3px solid #0d6efd;\n",
       "                background-color: #f8f9fa;\n",
       "                font-family: Monaco, monospace;\n",
       "                font-sise: 12px;\n",
       "            '>\n",
       "                <span style='color: #0d6efd; font-weight: bold;'>INFO</span>\n",
       "                <span style='color: #666; margin-right: 8px;'>14:16:33</span>\n",
       "                <span>Successfully created ChatBedrock LLM instance</span>\n",
       "            </div>\n",
       "            "
      ],
      "text/plain": [
       "<IPython.core.display.HTML object>"
      ]
     },
     "metadata": {},
     "output_type": "display_data"
    },
    {
     "name": "stderr",
     "output_type": "stream",
     "text": [
      "Successfully created ChatBedrock LLM instance\n",
      "/Users/jose.orjales/c-af-chartist/.venv/lib/python3.13/site-packages/langsmith/client.py:253: LangSmithMissingAPIKeyWarning: API key must be provided when using hosted LangSmith API\n",
      "  warnings.warn(\n"
     ]
    },
    {
     "data": {
      "text/html": [
       "\n",
       "            <div style='\n",
       "                padding: 2px 6px;\n",
       "                margin: 2px 0;\n",
       "                border-left: 3px solid #0d6efd;\n",
       "                background-color: #f8f9fa;\n",
       "                font-family: Monaco, monospace;\n",
       "                font-sise: 12px;\n",
       "            '>\n",
       "                <span style='color: #0d6efd; font-weight: bold;'>INFO</span>\n",
       "                <span style='color: #666; margin-right: 8px;'>14:16:34</span>\n",
       "                <span>Setting up chAI agent</span>\n",
       "            </div>\n",
       "            "
      ],
      "text/plain": [
       "<IPython.core.display.HTML object>"
      ]
     },
     "metadata": {},
     "output_type": "display_data"
    },
    {
     "name": "stderr",
     "output_type": "stream",
     "text": [
      "Setting up chAI agent\n"
     ]
    },
    {
     "data": {
      "text/html": [
       "\n",
       "            <div style='\n",
       "                padding: 2px 6px;\n",
       "                margin: 2px 0;\n",
       "                border-left: 3px solid #0d6efd;\n",
       "                background-color: #f8f9fa;\n",
       "                font-family: Monaco, monospace;\n",
       "                font-sise: 12px;\n",
       "            '>\n",
       "                <span style='color: #0d6efd; font-weight: bold;'>INFO</span>\n",
       "                <span style='color: #666; margin-right: 8px;'>14:16:34</span>\n",
       "                <span>chAI agent successfully set up</span>\n",
       "            </div>\n",
       "            "
      ],
      "text/plain": [
       "<IPython.core.display.HTML object>"
      ]
     },
     "metadata": {},
     "output_type": "display_data"
    },
    {
     "name": "stderr",
     "output_type": "stream",
     "text": [
      "chAI agent successfully set up\n"
     ]
    }
   ],
   "source": [
    "from chAI.chAI import chAI\n",
    "chai = chAI()"
   ]
  },
  {
   "cell_type": "markdown",
   "metadata": {},
   "source": [
    "## Visualisation Suggestions"
   ]
  },
  {
   "cell_type": "code",
   "execution_count": 8,
   "metadata": {},
   "outputs": [],
   "source": [
    "sample_df = create_sample_dataset()"
   ]
  },
  {
   "cell_type": "code",
   "execution_count": 9,
   "metadata": {},
   "outputs": [
    {
     "data": {
      "text/html": [
       "\n",
       "            <div style='\n",
       "                padding: 2px 6px;\n",
       "                margin: 2px 0;\n",
       "                border-left: 3px solid #0d6efd;\n",
       "                background-color: #f8f9fa;\n",
       "                font-family: Monaco, monospace;\n",
       "                font-sise: 12px;\n",
       "            '>\n",
       "                <span style='color: #0d6efd; font-weight: bold;'>INFO</span>\n",
       "                <span style='color: #666; margin-right: 8px;'>12:06:58</span>\n",
       "                <span>Detected DataFrame input. Preparing to analyse...</span>\n",
       "            </div>\n",
       "            "
      ],
      "text/plain": [
       "<IPython.core.display.HTML object>"
      ]
     },
     "metadata": {},
     "output_type": "display_data"
    },
    {
     "name": "stderr",
     "output_type": "stream",
     "text": [
      "Detected DataFrame input. Preparing to analyse...\n"
     ]
    },
    {
     "data": {
      "text/html": [
       "\n",
       "            <div style='\n",
       "                padding: 2px 6px;\n",
       "                margin: 2px 0;\n",
       "                border-left: 3px solid #0d6efd;\n",
       "                background-color: #f8f9fa;\n",
       "                font-family: Monaco, monospace;\n",
       "                font-sise: 12px;\n",
       "            '>\n",
       "                <span style='color: #0d6efd; font-weight: bold;'>INFO</span>\n",
       "                <span style='color: #666; margin-right: 8px;'>12:06:58</span>\n",
       "                <span>Parsing DataFrame into structured JSON dictionary</span>\n",
       "            </div>\n",
       "            "
      ],
      "text/plain": [
       "<IPython.core.display.HTML object>"
      ]
     },
     "metadata": {},
     "output_type": "display_data"
    },
    {
     "name": "stderr",
     "output_type": "stream",
     "text": [
      "Parsing DataFrame into structured JSON dictionary\n"
     ]
    },
    {
     "data": {
      "text/html": [
       "\n",
       "            <div style='\n",
       "                padding: 2px 6px;\n",
       "                margin: 2px 0;\n",
       "                border-left: 3px solid #0d6efd;\n",
       "                background-color: #f8f9fa;\n",
       "                font-family: Monaco, monospace;\n",
       "                font-sise: 12px;\n",
       "            '>\n",
       "                <span style='color: #0d6efd; font-weight: bold;'>INFO</span>\n",
       "                <span style='color: #666; margin-right: 8px;'>12:06:58</span>\n",
       "                <span>Sending prompt and data to agent executor...</span>\n",
       "            </div>\n",
       "            "
      ],
      "text/plain": [
       "<IPython.core.display.HTML object>"
      ]
     },
     "metadata": {},
     "output_type": "display_data"
    },
    {
     "name": "stderr",
     "output_type": "stream",
     "text": [
      "Sending prompt and data to agent executor...\n"
     ]
    },
    {
     "name": "stdout",
     "output_type": "stream",
     "text": [
      "{'input': '\\n            User Prompt:\\n            Analyse this dataset and suggest visualisations to explore trends and insights.\\n            \\n\\n\\n            DataFrame Information:\\n            Shape: 100 rows, 5 columns\\n            \\n            Columns:\\n            date, sales, customers, satisfaction_score, category\\n            \\n            Sample Data:\\n            [\\n  {\\n    \"date\": \"2023-01-01T00:00:00\",\\n    \"sales\": 1049.6714153011233,\\n    \"customers\": 186,\\n    \"satisfaction_score\": 4.3524629050032075,\\n    \"category\": \"A\"\\n  },\\n  {\\n    \"date\": \"2023-01-02T00:00:00\",\\n    \"sales\": 986.1735698828816,\\n    \"customers\": 111,\\n    \"satisfaction_score\": 3.6405121517421386,\\n    \"category\": \"A\"\\n  },\\n  {\\n    \"date\": \"2023-01-03T00:00:00\",\\n    \"sales\": 1064.7688538100692,\\n    \"customers\": 100,\\n    \"satisfaction_score\": 4.05157370458915,\\n    \"category\": \"A\"\\n  },\\n  {\\n    \"date\": \"2023-01-04T00:00:00\",\\n    \"sales\": 1152.3029856408025,\\n    \"customers\": 108,\\n    \"satisfaction_score\": 3.897803551522588,\\n    \"category\": \"A\"\\n  },\\n  {\\n    \"date\": \"2023-01-05T00:00:00\",\\n    \"sales\": 976.5846625276664,\\n    \"customers\": 167,\\n    \"satisfaction_score\": 3.8659844650686255,\\n    \"category\": \"A\"\\n  },\\n  {\\n    \"date\": \"2023-01-06T00:00:00\",\\n    \"sales\": 976.586304305082,\\n    \"customers\": 145,\\n    \"satisfaction_score\": 4.959515832128669,\\n    \"category\": \"C\"\\n  },\\n  {\\n    \"date\": \"2023-01-07T00:00:00\",\\n    \"sales\": 1157.9212815507392,\\n    \"customers\": 162,\\n    \"satisfaction_score\": 4.089646587000141,\\n    \"category\": \"C\"\\n  },\\n  {\\n    \"date\": \"2023-01-08T00:00:00\",\\n    \"sales\": 1076.7434729152908,\\n    \"customers\": 111,\\n    \"satisfaction_score\": 4.83806983276567,\\n    \"category\": \"A\"\\n  },\\n  {\\n    \"date\": \"2023-01-09T00:00:00\",\\n    \"sales\": 953.0525614065048,\\n    \"customers\": 101,\\n    \"satisfaction_score\": 4.446707938995894,\\n    \"category\": \"B\"\\n  },\\n  {\\n    \"date\": \"2023-01-10T00:00:00\",\\n    \"sales\": 1054.2560043585966,\\n    \"customers\": 61,\\n    \"satisfaction_score\": 4.692216955312473,\\n    \"category\": \"A\"\\n  }\\n]\\n\\n            Instructions:\\n            1. Analyse the DataFrame structure and content above\\n            2. Suggest meaningful visualisations based on the data and user\\'s instructions\\n            3. For each visualisation, include:\\n            - Clear purpose\\n            - Chart type\\n            - Variables used\\n            - Expected insights\\n            4. Use the format_visualisation_output tool to structure your response\\n            5. Make sure to provide concrete, specific suggestions based on the actual data\\n\\n            Remember to use the formatting tool for your final output.\\n            ', 'output': \"📊 VISUALISATION SUGGESTIONS:\\n\\n\\n📈 TIME SERIES ANALYSIS OF SALES AND CUSTOMERS\\nPurpose: To visualize the trend of sales and number of customers over time\\nChart Type: Line chart with dual y-axis\\nVariables: date (x-axis), sales (y-axis 1), customers (y-axis 2)\\nExpected Insights: Identify patterns in sales and customer numbers, seasonal trends, and correlation between sales and customer count\\n\\n--------------------------------------------------\\n\\n📈 SALES DISTRIBUTION BY CATEGORY\\nPurpose: To compare sales performance across different categories\\nChart Type: Box plot\\nVariables: category (x-axis), sales (y-axis)\\nExpected Insights: Understand the distribution of sales for each category, identify which categories have higher or lower sales, and detect any outliers\\n\\n--------------------------------------------------\\n\\n📈 SATISFACTION SCORE VS\\nPurpose: To explore the relationship between customer satisfaction and sales\\nChart Type: Scatter plot\\nVariables: satisfaction_score (x-axis), sales (y-axis)\\nExpected Insights: Determine if there's a correlation between satisfaction scores and sales, identify any clusters or patterns\\n\\n--------------------------------------------------\\n\\n📈 AVERAGE SATISFACTION SCORE BY CATEGORY\\nPurpose: To compare customer satisfaction across different categories\\nChart Type: Bar chart\\nVariables: category (x-axis), average satisfaction_score (y-axis)\\nExpected Insights: Identify which categories have higher or lower customer satisfaction, compare satisfaction levels across categories\\n\\n--------------------------------------------------\\n\\n📈 SALES AND CUSTOMER COUNT HEATMAP\\nPurpose: To visualize the relationship between sales and number of customers\\nChart Type: Heatmap\\nVariables: sales (x-axis), customers (y-axis), color intensity representing frequency\\nExpected Insights: Identify patterns or clusters in the relationship between sales and customer count, detect any unusual combinations\"}\n",
      "📊 VISUALISATION SUGGESTIONS:\n",
      "\n",
      "\n",
      "📈 TIME SERIES ANALYSIS OF SALES AND CUSTOMERS\n",
      "Purpose: To visualize the trend of sales and number of customers over time\n",
      "Chart Type: Line chart with dual y-axis\n",
      "Variables: date (x-axis), sales (y-axis 1), customers (y-axis 2)\n",
      "Expected Insights: Identify patterns in sales and customer numbers, seasonal trends, and correlation between sales and customer count\n",
      "\n",
      "--------------------------------------------------\n",
      "\n",
      "📈 SALES DISTRIBUTION BY CATEGORY\n",
      "Purpose: To compare sales performance across different categories\n",
      "Chart Type: Box plot\n",
      "Variables: category (x-axis), sales (y-axis)\n",
      "Expected Insights: Understand the distribution of sales for each category, identify which categories have higher or lower sales, and detect any outliers\n",
      "\n",
      "--------------------------------------------------\n",
      "\n",
      "📈 SATISFACTION SCORE VS\n",
      "Purpose: To explore the relationship between customer satisfaction and sales\n",
      "Chart Type: Scatter plot\n",
      "Variables: satisfaction_score (x-axis), sales (y-axis)\n",
      "Expected Insights: Determine if there's a correlation between satisfaction scores and sales, identify any clusters or patterns\n",
      "\n",
      "--------------------------------------------------\n",
      "\n",
      "📈 AVERAGE SATISFACTION SCORE BY CATEGORY\n",
      "Purpose: To compare customer satisfaction across different categories\n",
      "Chart Type: Bar chart\n",
      "Variables: category (x-axis), average satisfaction_score (y-axis)\n",
      "Expected Insights: Identify which categories have higher or lower customer satisfaction, compare satisfaction levels across categories\n",
      "\n",
      "--------------------------------------------------\n",
      "\n",
      "📈 SALES AND CUSTOMER COUNT HEATMAP\n",
      "Purpose: To visualize the relationship between sales and number of customers\n",
      "Chart Type: Heatmap\n",
      "Variables: sales (x-axis), customers (y-axis), color intensity representing frequency\n",
      "Expected Insights: Identify patterns or clusters in the relationship between sales and customer count, detect any unusual combinations\n"
     ]
    }
   ],
   "source": [
    "prompt = \"Analyse this dataset and suggest visualisations to explore trends and insights.\"\n",
    "response = chai.handle_request(data=sample_df, prompt=prompt)"
   ]
  },
  {
   "cell_type": "markdown",
   "metadata": {},
   "source": [
    "## Copycat functionality\n",
    "\n",
    "Provide a chart image and ask LLM to provide the plotly code and output to an html file"
   ]
  },
  {
   "cell_type": "code",
   "execution_count": 9,
   "metadata": {},
   "outputs": [],
   "source": [
    "prompt = \"\"\"\n",
    "    Please analyse this chart and provide a comprehensive review with the following structure:\n",
    "\n",
    "    1. Key Findings:\n",
    "    - What are the most significant patterns or insights?\n",
    "    - What are the highest and lowest values?\n",
    "    - Are there any notable disparities or trends?\n",
    "\n",
    "    2. Comparative Analysis:\n",
    "    - Compare the different outcome groups\n",
    "    - Identify any significant gaps or differences\n",
    "    - Highlight any unexpected patterns\n",
    "\n",
    "    Please provide your analysis in clear, business-friendly language suitable for stakeholders.\n",
    "    \"\"\""
   ]
  },
  {
   "cell_type": "code",
   "execution_count": 10,
   "metadata": {},
   "outputs": [
    {
     "data": {
      "text/html": [
       "\n",
       "            <div style='\n",
       "                padding: 2px 6px;\n",
       "                margin: 2px 0;\n",
       "                border-left: 3px solid #0d6efd;\n",
       "                background-color: #f8f9fa;\n",
       "                font-family: Monaco, monospace;\n",
       "                font-sise: 12px;\n",
       "            '>\n",
       "                <span style='color: #0d6efd; font-weight: bold;'>INFO</span>\n",
       "                <span style='color: #666; margin-right: 8px;'>14:16:40</span>\n",
       "                <span>Detected image location input. Preparing to review...</span>\n",
       "            </div>\n",
       "            "
      ],
      "text/plain": [
       "<IPython.core.display.HTML object>"
      ]
     },
     "metadata": {},
     "output_type": "display_data"
    },
    {
     "name": "stderr",
     "output_type": "stream",
     "text": [
      "Detected image location input. Preparing to review...\n"
     ]
    },
    {
     "data": {
      "text/html": [
       "\n",
       "            <div style='\n",
       "                padding: 2px 6px;\n",
       "                margin: 2px 0;\n",
       "                border-left: 3px solid #0d6efd;\n",
       "                background-color: #f8f9fa;\n",
       "                font-family: Monaco, monospace;\n",
       "                font-sise: 12px;\n",
       "            '>\n",
       "                <span style='color: #0d6efd; font-weight: bold;'>INFO</span>\n",
       "                <span style='color: #666; margin-right: 8px;'>14:16:40</span>\n",
       "                <span>Encoding image to base64</span>\n",
       "            </div>\n",
       "            "
      ],
      "text/plain": [
       "<IPython.core.display.HTML object>"
      ]
     },
     "metadata": {},
     "output_type": "display_data"
    },
    {
     "name": "stderr",
     "output_type": "stream",
     "text": [
      "Encoding image to base64\n"
     ]
    },
    {
     "name": "stdout",
     "output_type": "stream",
     "text": [
      "\n",
      "            Review the supplied image information and create an interactive visualisation that matches it as closely as possible.\n",
      "            \n",
      "            IMPORTANT: You MUST use the format_image_analysis_output tool first to structure the image analysis.\n",
      "            \n",
      "            1. Format the analysis:\n",
      "            - Use the format_image_analysis_output tool with this exact input: # Description\n",
      "This image shows a histogram or bar chart representing the distribution of satisfaction scores. The chart displays the count of occurrences for different satisfaction score ranges from 3.4 to 5.0.\n",
      "\n",
      "# Chart Analysis\n",
      "## Type\n",
      "The visualization is a histogram or bar chart showing the frequency distribution of satisfaction scores.\n",
      "\n",
      "## Axes\n",
      "- X-axis: Satisfaction Score, ranging from 3.4 to 5.0 in increments of 0.2\n",
      "- Y-axis: Count, representing the number of occurrences for each satisfaction score range\n",
      "\n",
      "## Insights\n",
      "- The distribution appears to be somewhat bimodal, with peaks around 4.2-4.4 and 4.8-5.0.\n",
      "- The highest frequency occurs in the 4.2-4.4 range, with about 17-18 counts.\n",
      "- There's a second peak at the highest satisfaction score range (4.8-5.0), with about 15-16 counts.\n",
      "- The lowest frequencies are in the 3.4-3.6 range, suggesting fewer low satisfaction scores.\n",
      "- Overall, the satisfaction scores seem to be skewed towards the higher end, indicating generally positive feedback.\n",
      "- There's a noticeable dip in frequency for the 4.6-4.8 range, which could be interesting to investigate further.\n",
      "\n",
      "# Plotly Recreation\n",
      "## Code\n",
      "```python\n",
      "import plotly.graph_objects as go\n",
      "\n",
      "satisfaction_scores = [3.4, 3.6, 3.8, 4.0, 4.2, 4.4, 4.6, 4.8, 5.0]\n",
      "counts = [7, 7, 12, 12, 17, 13, 12, 16, 16]\n",
      "\n",
      "fig = go.Figure(data=[go.Bar(\n",
      "    x=satisfaction_scores,\n",
      "    y=counts,\n",
      "    marker_color='orange',\n",
      "    width=0.2\n",
      ")])\n",
      "\n",
      "fig.update_layout(\n",
      "    title='Satisfaction Score Distribution',\n",
      "    xaxis_title='Satisfaction Score',\n",
      "    yaxis_title='Count',\n",
      "    xaxis=dict(tickmode='linear', dtick=0.2),\n",
      "    yaxis=dict(range=[0, 20]),\n",
      "    plot_bgcolor='rgba(240, 240, 250, 0.8)'\n",
      ")\n",
      "\n",
      "fig.show()\n",
      "```\n",
      "\n",
      "## Data Structure\n",
      "The data structure needed for this Plotly code is two lists:\n",
      "1. `satisfaction_scores`: A list of float values representing the satisfaction score ranges (x-axis values).\n",
      "2. `counts`: A list of integer values representing the count for each satisfaction score range (y-axis values).\n",
      "\n",
      "These two lists should be of equal length and correspond to each other index-wise.\n",
      "            - Store the formatted JSON output for use in subsequent steps\n",
      "            - This step is mandatory and must be completed first\n",
      "            \n",
      "            2. Using the formatted analysis from step 1:\n",
      "            - Reference the chart_analysis.type to identify the visualisation type\n",
      "            - Use chart_analysis.axes to understand data relationships\n",
      "            - Review insights from chart_analysis.insights\n",
      "            - Check plotly_recreation for specific implementation details\n",
      "            \n",
      "            3. Create a professional visualisation that:\n",
      "            - Matches the identified chart type from the formatted analysis\n",
      "            - Replicates the color scheme and styling\n",
      "            - Maintains proper layout and formatting\n",
      "            - Includes appropriate labels and legends\n",
      "            - Uses 'plotly_white' as the base template\n",
      "            \n",
      "            4. Ensure the visualisation includes:\n",
      "            - Proper title and axis formatting\n",
      "            - Consistent text positioning and styling\n",
      "            - Appropriate data representation\n",
      "            - Professional appearance and readability\n",
      "            \n",
      "            5. Use save_plotly_visualisation to save the chart as an HTML file in the output_path folder.\n",
      "            The requested output_path folder is /Users/jose.orjales/c-af-chartist/tests/img\n",
      "            If this is empty or None, then use the default path in save_plotly_visualisation.\n",
      "            \n",
      "            6. Return a JSON dictionary with the following structure:\n",
      "            {\n",
      "                \"analysis\": \"## Insights\\n1. <insight1>\\n2. <insight2>\\n...\",\n",
      "                \"path\": \"The path returned by save_plotly_visualisation\",\n",
      "                \"code\": {complete plotly code used to create the visualisation}\n",
      "            }\n",
      "            \n",
      "            IMPORTANT: The analysis section in the JSON response should maintain the exact markdown formatting with the \"## Insights\" header and numbered list format.\n",
      "            \n",
      "            You MUST use the format_image_analysis_output tool for step 1 before proceeding with the visualisation creation.\n",
      "            Focus on creating a visualisation that accurately represents the original image while maintaining professional standards and interactive functionality.\n",
      "        \n"
     ]
    },
    {
     "data": {
      "text/html": [
       "\n",
       "            <div style='\n",
       "                padding: 2px 6px;\n",
       "                margin: 2px 0;\n",
       "                border-left: 3px solid #0d6efd;\n",
       "                background-color: #f8f9fa;\n",
       "                font-family: Monaco, monospace;\n",
       "                font-sise: 12px;\n",
       "            '>\n",
       "                <span style='color: #0d6efd; font-weight: bold;'>INFO</span>\n",
       "                <span style='color: #666; margin-right: 8px;'>14:17:01</span>\n",
       "                <span>Sending prompt and data to agent executor...</span>\n",
       "            </div>\n",
       "            "
      ],
      "text/plain": [
       "<IPython.core.display.HTML object>"
      ]
     },
     "metadata": {},
     "output_type": "display_data"
    },
    {
     "name": "stderr",
     "output_type": "stream",
     "text": [
      "Sending prompt and data to agent executor...\n"
     ]
    },
    {
     "data": {
      "application/vnd.plotly.v1+json": {
       "config": {
        "plotlyServerURL": "https://plot.ly"
       },
       "data": [
        {
         "marker": {
          "color": "orange"
         },
         "type": "bar",
         "width": 0.2,
         "x": [
          3.4,
          3.6,
          3.8,
          4,
          4.2,
          4.4,
          4.6,
          4.8,
          5
         ],
         "y": [
          7,
          7,
          12,
          12,
          17,
          13,
          12,
          16,
          16
         ]
        }
       ],
       "layout": {
        "plot_bgcolor": "rgba(240, 240, 250, 0.8)",
        "template": {
         "data": {
          "bar": [
           {
            "error_x": {
             "color": "#2a3f5f"
            },
            "error_y": {
             "color": "#2a3f5f"
            },
            "marker": {
             "line": {
              "color": "white",
              "width": 0.5
             },
             "pattern": {
              "fillmode": "overlay",
              "size": 10,
              "solidity": 0.2
             }
            },
            "type": "bar"
           }
          ],
          "barpolar": [
           {
            "marker": {
             "line": {
              "color": "white",
              "width": 0.5
             },
             "pattern": {
              "fillmode": "overlay",
              "size": 10,
              "solidity": 0.2
             }
            },
            "type": "barpolar"
           }
          ],
          "carpet": [
           {
            "aaxis": {
             "endlinecolor": "#2a3f5f",
             "gridcolor": "#C8D4E3",
             "linecolor": "#C8D4E3",
             "minorgridcolor": "#C8D4E3",
             "startlinecolor": "#2a3f5f"
            },
            "baxis": {
             "endlinecolor": "#2a3f5f",
             "gridcolor": "#C8D4E3",
             "linecolor": "#C8D4E3",
             "minorgridcolor": "#C8D4E3",
             "startlinecolor": "#2a3f5f"
            },
            "type": "carpet"
           }
          ],
          "choropleth": [
           {
            "colorbar": {
             "outlinewidth": 0,
             "ticks": ""
            },
            "type": "choropleth"
           }
          ],
          "contour": [
           {
            "colorbar": {
             "outlinewidth": 0,
             "ticks": ""
            },
            "colorscale": [
             [
              0,
              "#0d0887"
             ],
             [
              0.1111111111111111,
              "#46039f"
             ],
             [
              0.2222222222222222,
              "#7201a8"
             ],
             [
              0.3333333333333333,
              "#9c179e"
             ],
             [
              0.4444444444444444,
              "#bd3786"
             ],
             [
              0.5555555555555556,
              "#d8576b"
             ],
             [
              0.6666666666666666,
              "#ed7953"
             ],
             [
              0.7777777777777778,
              "#fb9f3a"
             ],
             [
              0.8888888888888888,
              "#fdca26"
             ],
             [
              1,
              "#f0f921"
             ]
            ],
            "type": "contour"
           }
          ],
          "contourcarpet": [
           {
            "colorbar": {
             "outlinewidth": 0,
             "ticks": ""
            },
            "type": "contourcarpet"
           }
          ],
          "heatmap": [
           {
            "colorbar": {
             "outlinewidth": 0,
             "ticks": ""
            },
            "colorscale": [
             [
              0,
              "#0d0887"
             ],
             [
              0.1111111111111111,
              "#46039f"
             ],
             [
              0.2222222222222222,
              "#7201a8"
             ],
             [
              0.3333333333333333,
              "#9c179e"
             ],
             [
              0.4444444444444444,
              "#bd3786"
             ],
             [
              0.5555555555555556,
              "#d8576b"
             ],
             [
              0.6666666666666666,
              "#ed7953"
             ],
             [
              0.7777777777777778,
              "#fb9f3a"
             ],
             [
              0.8888888888888888,
              "#fdca26"
             ],
             [
              1,
              "#f0f921"
             ]
            ],
            "type": "heatmap"
           }
          ],
          "heatmapgl": [
           {
            "colorbar": {
             "outlinewidth": 0,
             "ticks": ""
            },
            "colorscale": [
             [
              0,
              "#0d0887"
             ],
             [
              0.1111111111111111,
              "#46039f"
             ],
             [
              0.2222222222222222,
              "#7201a8"
             ],
             [
              0.3333333333333333,
              "#9c179e"
             ],
             [
              0.4444444444444444,
              "#bd3786"
             ],
             [
              0.5555555555555556,
              "#d8576b"
             ],
             [
              0.6666666666666666,
              "#ed7953"
             ],
             [
              0.7777777777777778,
              "#fb9f3a"
             ],
             [
              0.8888888888888888,
              "#fdca26"
             ],
             [
              1,
              "#f0f921"
             ]
            ],
            "type": "heatmapgl"
           }
          ],
          "histogram": [
           {
            "marker": {
             "pattern": {
              "fillmode": "overlay",
              "size": 10,
              "solidity": 0.2
             }
            },
            "type": "histogram"
           }
          ],
          "histogram2d": [
           {
            "colorbar": {
             "outlinewidth": 0,
             "ticks": ""
            },
            "colorscale": [
             [
              0,
              "#0d0887"
             ],
             [
              0.1111111111111111,
              "#46039f"
             ],
             [
              0.2222222222222222,
              "#7201a8"
             ],
             [
              0.3333333333333333,
              "#9c179e"
             ],
             [
              0.4444444444444444,
              "#bd3786"
             ],
             [
              0.5555555555555556,
              "#d8576b"
             ],
             [
              0.6666666666666666,
              "#ed7953"
             ],
             [
              0.7777777777777778,
              "#fb9f3a"
             ],
             [
              0.8888888888888888,
              "#fdca26"
             ],
             [
              1,
              "#f0f921"
             ]
            ],
            "type": "histogram2d"
           }
          ],
          "histogram2dcontour": [
           {
            "colorbar": {
             "outlinewidth": 0,
             "ticks": ""
            },
            "colorscale": [
             [
              0,
              "#0d0887"
             ],
             [
              0.1111111111111111,
              "#46039f"
             ],
             [
              0.2222222222222222,
              "#7201a8"
             ],
             [
              0.3333333333333333,
              "#9c179e"
             ],
             [
              0.4444444444444444,
              "#bd3786"
             ],
             [
              0.5555555555555556,
              "#d8576b"
             ],
             [
              0.6666666666666666,
              "#ed7953"
             ],
             [
              0.7777777777777778,
              "#fb9f3a"
             ],
             [
              0.8888888888888888,
              "#fdca26"
             ],
             [
              1,
              "#f0f921"
             ]
            ],
            "type": "histogram2dcontour"
           }
          ],
          "mesh3d": [
           {
            "colorbar": {
             "outlinewidth": 0,
             "ticks": ""
            },
            "type": "mesh3d"
           }
          ],
          "parcoords": [
           {
            "line": {
             "colorbar": {
              "outlinewidth": 0,
              "ticks": ""
             }
            },
            "type": "parcoords"
           }
          ],
          "pie": [
           {
            "automargin": true,
            "type": "pie"
           }
          ],
          "scatter": [
           {
            "fillpattern": {
             "fillmode": "overlay",
             "size": 10,
             "solidity": 0.2
            },
            "type": "scatter"
           }
          ],
          "scatter3d": [
           {
            "line": {
             "colorbar": {
              "outlinewidth": 0,
              "ticks": ""
             }
            },
            "marker": {
             "colorbar": {
              "outlinewidth": 0,
              "ticks": ""
             }
            },
            "type": "scatter3d"
           }
          ],
          "scattercarpet": [
           {
            "marker": {
             "colorbar": {
              "outlinewidth": 0,
              "ticks": ""
             }
            },
            "type": "scattercarpet"
           }
          ],
          "scattergeo": [
           {
            "marker": {
             "colorbar": {
              "outlinewidth": 0,
              "ticks": ""
             }
            },
            "type": "scattergeo"
           }
          ],
          "scattergl": [
           {
            "marker": {
             "colorbar": {
              "outlinewidth": 0,
              "ticks": ""
             }
            },
            "type": "scattergl"
           }
          ],
          "scattermapbox": [
           {
            "marker": {
             "colorbar": {
              "outlinewidth": 0,
              "ticks": ""
             }
            },
            "type": "scattermapbox"
           }
          ],
          "scatterpolar": [
           {
            "marker": {
             "colorbar": {
              "outlinewidth": 0,
              "ticks": ""
             }
            },
            "type": "scatterpolar"
           }
          ],
          "scatterpolargl": [
           {
            "marker": {
             "colorbar": {
              "outlinewidth": 0,
              "ticks": ""
             }
            },
            "type": "scatterpolargl"
           }
          ],
          "scatterternary": [
           {
            "marker": {
             "colorbar": {
              "outlinewidth": 0,
              "ticks": ""
             }
            },
            "type": "scatterternary"
           }
          ],
          "surface": [
           {
            "colorbar": {
             "outlinewidth": 0,
             "ticks": ""
            },
            "colorscale": [
             [
              0,
              "#0d0887"
             ],
             [
              0.1111111111111111,
              "#46039f"
             ],
             [
              0.2222222222222222,
              "#7201a8"
             ],
             [
              0.3333333333333333,
              "#9c179e"
             ],
             [
              0.4444444444444444,
              "#bd3786"
             ],
             [
              0.5555555555555556,
              "#d8576b"
             ],
             [
              0.6666666666666666,
              "#ed7953"
             ],
             [
              0.7777777777777778,
              "#fb9f3a"
             ],
             [
              0.8888888888888888,
              "#fdca26"
             ],
             [
              1,
              "#f0f921"
             ]
            ],
            "type": "surface"
           }
          ],
          "table": [
           {
            "cells": {
             "fill": {
              "color": "#EBF0F8"
             },
             "line": {
              "color": "white"
             }
            },
            "header": {
             "fill": {
              "color": "#C8D4E3"
             },
             "line": {
              "color": "white"
             }
            },
            "type": "table"
           }
          ]
         },
         "layout": {
          "annotationdefaults": {
           "arrowcolor": "#2a3f5f",
           "arrowhead": 0,
           "arrowwidth": 1
          },
          "autotypenumbers": "strict",
          "coloraxis": {
           "colorbar": {
            "outlinewidth": 0,
            "ticks": ""
           }
          },
          "colorscale": {
           "diverging": [
            [
             0,
             "#8e0152"
            ],
            [
             0.1,
             "#c51b7d"
            ],
            [
             0.2,
             "#de77ae"
            ],
            [
             0.3,
             "#f1b6da"
            ],
            [
             0.4,
             "#fde0ef"
            ],
            [
             0.5,
             "#f7f7f7"
            ],
            [
             0.6,
             "#e6f5d0"
            ],
            [
             0.7,
             "#b8e186"
            ],
            [
             0.8,
             "#7fbc41"
            ],
            [
             0.9,
             "#4d9221"
            ],
            [
             1,
             "#276419"
            ]
           ],
           "sequential": [
            [
             0,
             "#0d0887"
            ],
            [
             0.1111111111111111,
             "#46039f"
            ],
            [
             0.2222222222222222,
             "#7201a8"
            ],
            [
             0.3333333333333333,
             "#9c179e"
            ],
            [
             0.4444444444444444,
             "#bd3786"
            ],
            [
             0.5555555555555556,
             "#d8576b"
            ],
            [
             0.6666666666666666,
             "#ed7953"
            ],
            [
             0.7777777777777778,
             "#fb9f3a"
            ],
            [
             0.8888888888888888,
             "#fdca26"
            ],
            [
             1,
             "#f0f921"
            ]
           ],
           "sequentialminus": [
            [
             0,
             "#0d0887"
            ],
            [
             0.1111111111111111,
             "#46039f"
            ],
            [
             0.2222222222222222,
             "#7201a8"
            ],
            [
             0.3333333333333333,
             "#9c179e"
            ],
            [
             0.4444444444444444,
             "#bd3786"
            ],
            [
             0.5555555555555556,
             "#d8576b"
            ],
            [
             0.6666666666666666,
             "#ed7953"
            ],
            [
             0.7777777777777778,
             "#fb9f3a"
            ],
            [
             0.8888888888888888,
             "#fdca26"
            ],
            [
             1,
             "#f0f921"
            ]
           ]
          },
          "colorway": [
           "#636efa",
           "#EF553B",
           "#00cc96",
           "#ab63fa",
           "#FFA15A",
           "#19d3f3",
           "#FF6692",
           "#B6E880",
           "#FF97FF",
           "#FECB52"
          ],
          "font": {
           "color": "#2a3f5f"
          },
          "geo": {
           "bgcolor": "white",
           "lakecolor": "white",
           "landcolor": "white",
           "showlakes": true,
           "showland": true,
           "subunitcolor": "#C8D4E3"
          },
          "hoverlabel": {
           "align": "left"
          },
          "hovermode": "closest",
          "mapbox": {
           "style": "light"
          },
          "paper_bgcolor": "white",
          "plot_bgcolor": "white",
          "polar": {
           "angularaxis": {
            "gridcolor": "#EBF0F8",
            "linecolor": "#EBF0F8",
            "ticks": ""
           },
           "bgcolor": "white",
           "radialaxis": {
            "gridcolor": "#EBF0F8",
            "linecolor": "#EBF0F8",
            "ticks": ""
           }
          },
          "scene": {
           "xaxis": {
            "backgroundcolor": "white",
            "gridcolor": "#DFE8F3",
            "gridwidth": 2,
            "linecolor": "#EBF0F8",
            "showbackground": true,
            "ticks": "",
            "zerolinecolor": "#EBF0F8"
           },
           "yaxis": {
            "backgroundcolor": "white",
            "gridcolor": "#DFE8F3",
            "gridwidth": 2,
            "linecolor": "#EBF0F8",
            "showbackground": true,
            "ticks": "",
            "zerolinecolor": "#EBF0F8"
           },
           "zaxis": {
            "backgroundcolor": "white",
            "gridcolor": "#DFE8F3",
            "gridwidth": 2,
            "linecolor": "#EBF0F8",
            "showbackground": true,
            "ticks": "",
            "zerolinecolor": "#EBF0F8"
           }
          },
          "shapedefaults": {
           "line": {
            "color": "#2a3f5f"
           }
          },
          "ternary": {
           "aaxis": {
            "gridcolor": "#DFE8F3",
            "linecolor": "#A2B1C6",
            "ticks": ""
           },
           "baxis": {
            "gridcolor": "#DFE8F3",
            "linecolor": "#A2B1C6",
            "ticks": ""
           },
           "bgcolor": "white",
           "caxis": {
            "gridcolor": "#DFE8F3",
            "linecolor": "#A2B1C6",
            "ticks": ""
           }
          },
          "title": {
           "x": 0.05
          },
          "xaxis": {
           "automargin": true,
           "gridcolor": "#EBF0F8",
           "linecolor": "#EBF0F8",
           "ticks": "",
           "title": {
            "standoff": 15
           },
           "zerolinecolor": "#EBF0F8",
           "zerolinewidth": 2
          },
          "yaxis": {
           "automargin": true,
           "gridcolor": "#EBF0F8",
           "linecolor": "#EBF0F8",
           "ticks": "",
           "title": {
            "standoff": 15
           },
           "zerolinecolor": "#EBF0F8",
           "zerolinewidth": 2
          }
         }
        },
        "title": {
         "text": "Satisfaction Score Distribution"
        },
        "xaxis": {
         "dtick": 0.2,
         "tickmode": "linear",
         "title": {
          "text": "Satisfaction Score"
         }
        },
        "yaxis": {
         "range": [
          0,
          20
         ],
         "title": {
          "text": "Count"
         }
        }
       }
      }
     },
     "metadata": {},
     "output_type": "display_data"
    },
    {
     "name": "stdout",
     "output_type": "stream",
     "text": [
      "{'input': '\\n            Review the supplied image information and create an interactive visualisation that matches it as closely as possible.\\n            \\n            IMPORTANT: You MUST use the format_image_analysis_output tool first to structure the image analysis.\\n            \\n            1. Format the analysis:\\n            - Use the format_image_analysis_output tool with this exact input: # Description\\nThis image shows a histogram or bar chart representing the distribution of satisfaction scores. The chart displays the count of occurrences for different satisfaction score ranges from 3.4 to 5.0.\\n\\n# Chart Analysis\\n## Type\\nThe visualization is a histogram or bar chart showing the frequency distribution of satisfaction scores.\\n\\n## Axes\\n- X-axis: Satisfaction Score, ranging from 3.4 to 5.0 in increments of 0.2\\n- Y-axis: Count, representing the number of occurrences for each satisfaction score range\\n\\n## Insights\\n- The distribution appears to be somewhat bimodal, with peaks around 4.2-4.4 and 4.8-5.0.\\n- The highest frequency occurs in the 4.2-4.4 range, with about 17-18 counts.\\n- There\\'s a second peak at the highest satisfaction score range (4.8-5.0), with about 15-16 counts.\\n- The lowest frequencies are in the 3.4-3.6 range, suggesting fewer low satisfaction scores.\\n- Overall, the satisfaction scores seem to be skewed towards the higher end, indicating generally positive feedback.\\n- There\\'s a noticeable dip in frequency for the 4.6-4.8 range, which could be interesting to investigate further.\\n\\n# Plotly Recreation\\n## Code\\n```python\\nimport plotly.graph_objects as go\\n\\nsatisfaction_scores = [3.4, 3.6, 3.8, 4.0, 4.2, 4.4, 4.6, 4.8, 5.0]\\ncounts = [7, 7, 12, 12, 17, 13, 12, 16, 16]\\n\\nfig = go.Figure(data=[go.Bar(\\n    x=satisfaction_scores,\\n    y=counts,\\n    marker_color=\\'orange\\',\\n    width=0.2\\n)])\\n\\nfig.update_layout(\\n    title=\\'Satisfaction Score Distribution\\',\\n    xaxis_title=\\'Satisfaction Score\\',\\n    yaxis_title=\\'Count\\',\\n    xaxis=dict(tickmode=\\'linear\\', dtick=0.2),\\n    yaxis=dict(range=[0, 20]),\\n    plot_bgcolor=\\'rgba(240, 240, 250, 0.8)\\'\\n)\\n\\nfig.show()\\n```\\n\\n## Data Structure\\nThe data structure needed for this Plotly code is two lists:\\n1. `satisfaction_scores`: A list of float values representing the satisfaction score ranges (x-axis values).\\n2. `counts`: A list of integer values representing the count for each satisfaction score range (y-axis values).\\n\\nThese two lists should be of equal length and correspond to each other index-wise.\\n            - Store the formatted JSON output for use in subsequent steps\\n            - This step is mandatory and must be completed first\\n            \\n            2. Using the formatted analysis from step 1:\\n            - Reference the chart_analysis.type to identify the visualisation type\\n            - Use chart_analysis.axes to understand data relationships\\n            - Review insights from chart_analysis.insights\\n            - Check plotly_recreation for specific implementation details\\n            \\n            3. Create a professional visualisation that:\\n            - Matches the identified chart type from the formatted analysis\\n            - Replicates the color scheme and styling\\n            - Maintains proper layout and formatting\\n            - Includes appropriate labels and legends\\n            - Uses \\'plotly_white\\' as the base template\\n            \\n            4. Ensure the visualisation includes:\\n            - Proper title and axis formatting\\n            - Consistent text positioning and styling\\n            - Appropriate data representation\\n            - Professional appearance and readability\\n            \\n            5. Use save_plotly_visualisation to save the chart as an HTML file in the output_path folder.\\n            The requested output_path folder is /Users/jose.orjales/c-af-chartist/tests/img\\n            If this is empty or None, then use the default path in save_plotly_visualisation.\\n            \\n            6. Return a JSON dictionary with the following structure:\\n            {\\n                \"analysis\": \"## Insights\\\\n1. <insight1>\\\\n2. <insight2>\\\\n...\",\\n                \"path\": \"The path returned by save_plotly_visualisation\",\\n                \"code\": {complete plotly code used to create the visualisation}\\n            }\\n            \\n            IMPORTANT: The analysis section in the JSON response should maintain the exact markdown formatting with the \"## Insights\" header and numbered list format.\\n            \\n            You MUST use the format_image_analysis_output tool for step 1 before proceeding with the visualisation creation.\\n            Focus on creating a visualisation that accurately represents the original image while maintaining professional standards and interactive functionality.\\n        ', 'output': {'analysis': \"## Insights\\n1. The distribution appears to be somewhat bimodal, with peaks around 4.2-4.4 and 4.8-5.0.\\n2. The highest frequency occurs in the 4.2-4.4 range, with about 17-18 counts.\\n3. There's a second peak at the highest satisfaction score range (4.8-5.0), with about 15-16 counts.\\n4. The lowest frequencies are in the 3.4-3.6 range, suggesting fewer low satisfaction scores.\\n5. Overall, the satisfaction scores seem to be skewed towards the higher end, indicating generally positive feedback.\\n6. There's a noticeable dip in frequency for the 4.6-4.8 range, which could be interesting to investigate further.\", 'path': '/Users/jose.orjales/plotly_visualisations/visualisation_1739456246.html', 'code': \"import plotly.graph_objects as go\\n\\nsatisfaction_scores = [3.4, 3.6, 3.8, 4.0, 4.2, 4.4, 4.6, 4.8, 5.0]\\ncounts = [7, 7, 12, 12, 17, 13, 12, 16, 16]\\n\\nfig = go.Figure(data=[go.Bar(\\n    x=satisfaction_scores,\\n    y=counts,\\n    marker_color='orange',\\n    width=0.2\\n)])\\n\\nfig.update_layout(\\n    title='Satisfaction Score Distribution',\\n    xaxis_title='Satisfaction Score',\\n    yaxis_title='Count',\\n    xaxis=dict(tickmode='linear', dtick=0.2),\\n    yaxis=dict(range=[0, 20]),\\n    plot_bgcolor='rgba(240, 240, 250, 0.8)',\\n    template='plotly_white'\\n)\\n\\nfig.show()\"}}\n"
     ]
    }
   ],
   "source": [
    "json_images = chai.handle_request(prompt = prompt, image_path='/Users/jose.orjales/c-af-chartist/tests/img/satisfaction.png', output_path='/Users/jose.orjales/c-af-chartist/tests/img')"
   ]
  },
  {
   "cell_type": "code",
   "execution_count": 11,
   "metadata": {},
   "outputs": [
    {
     "name": "stdout",
     "output_type": "stream",
     "text": [
      "## Insights\n",
      "1. The distribution appears to be somewhat bimodal, with peaks around 4.2-4.4 and 4.8-5.0.\n",
      "2. The highest frequency occurs in the 4.2-4.4 range, with about 17-18 counts.\n",
      "3. There's a second peak at the highest satisfaction score range (4.8-5.0), with about 15-16 counts.\n",
      "4. The lowest frequencies are in the 3.4-3.6 range, suggesting fewer low satisfaction scores.\n",
      "5. Overall, the satisfaction scores seem to be skewed towards the higher end, indicating generally positive feedback.\n",
      "6. There's a noticeable dip in frequency for the 4.6-4.8 range, which could be interesting to investigate further.\n"
     ]
    }
   ],
   "source": [
    "print(json_images['analysis'])"
   ]
  },
  {
   "cell_type": "code",
   "execution_count": 12,
   "metadata": {},
   "outputs": [
    {
     "name": "stdout",
     "output_type": "stream",
     "text": [
      "import plotly.graph_objects as go\n",
      "\n",
      "satisfaction_scores = [3.4, 3.6, 3.8, 4.0, 4.2, 4.4, 4.6, 4.8, 5.0]\n",
      "counts = [7, 7, 12, 12, 17, 13, 12, 16, 16]\n",
      "\n",
      "fig = go.Figure(data=[go.Bar(\n",
      "    x=satisfaction_scores,\n",
      "    y=counts,\n",
      "    marker_color='orange',\n",
      "    width=0.2\n",
      ")])\n",
      "\n",
      "fig.update_layout(\n",
      "    title='Satisfaction Score Distribution',\n",
      "    xaxis_title='Satisfaction Score',\n",
      "    yaxis_title='Count',\n",
      "    xaxis=dict(tickmode='linear', dtick=0.2),\n",
      "    yaxis=dict(range=[0, 20]),\n",
      "    plot_bgcolor='rgba(240, 240, 250, 0.8)',\n",
      "    template='plotly_white'\n",
      ")\n",
      "\n",
      "fig.show()\n"
     ]
    }
   ],
   "source": [
    "print(json_images['code'])"
   ]
  },
  {
   "cell_type": "code",
   "execution_count": 13,
   "metadata": {},
   "outputs": [
    {
     "name": "stdout",
     "output_type": "stream",
     "text": [
      "/Users/jose.orjales/plotly_visualisations/visualisation_1739456246.html\n"
     ]
    }
   ],
   "source": [
    "print(json_images['path'])"
   ]
  },
  {
   "cell_type": "code",
   "execution_count": 14,
   "metadata": {},
   "outputs": [
    {
     "data": {
      "application/vnd.plotly.v1+json": {
       "config": {
        "plotlyServerURL": "https://plot.ly"
       },
       "data": [
        {
         "marker": {
          "color": "orange"
         },
         "type": "bar",
         "x": [
          3.4,
          3.6,
          3.8,
          4,
          4.2,
          4.4,
          4.6,
          4.8,
          5
         ],
         "y": [
          7,
          7,
          12,
          12,
          13,
          18,
          13,
          13,
          16
         ]
        }
       ],
       "layout": {
        "height": 500,
        "plot_bgcolor": "rgba(230, 235, 245, 1)",
        "template": {
         "data": {
          "bar": [
           {
            "error_x": {
             "color": "#2a3f5f"
            },
            "error_y": {
             "color": "#2a3f5f"
            },
            "marker": {
             "line": {
              "color": "white",
              "width": 0.5
             },
             "pattern": {
              "fillmode": "overlay",
              "size": 10,
              "solidity": 0.2
             }
            },
            "type": "bar"
           }
          ],
          "barpolar": [
           {
            "marker": {
             "line": {
              "color": "white",
              "width": 0.5
             },
             "pattern": {
              "fillmode": "overlay",
              "size": 10,
              "solidity": 0.2
             }
            },
            "type": "barpolar"
           }
          ],
          "carpet": [
           {
            "aaxis": {
             "endlinecolor": "#2a3f5f",
             "gridcolor": "#C8D4E3",
             "linecolor": "#C8D4E3",
             "minorgridcolor": "#C8D4E3",
             "startlinecolor": "#2a3f5f"
            },
            "baxis": {
             "endlinecolor": "#2a3f5f",
             "gridcolor": "#C8D4E3",
             "linecolor": "#C8D4E3",
             "minorgridcolor": "#C8D4E3",
             "startlinecolor": "#2a3f5f"
            },
            "type": "carpet"
           }
          ],
          "choropleth": [
           {
            "colorbar": {
             "outlinewidth": 0,
             "ticks": ""
            },
            "type": "choropleth"
           }
          ],
          "contour": [
           {
            "colorbar": {
             "outlinewidth": 0,
             "ticks": ""
            },
            "colorscale": [
             [
              0,
              "#0d0887"
             ],
             [
              0.1111111111111111,
              "#46039f"
             ],
             [
              0.2222222222222222,
              "#7201a8"
             ],
             [
              0.3333333333333333,
              "#9c179e"
             ],
             [
              0.4444444444444444,
              "#bd3786"
             ],
             [
              0.5555555555555556,
              "#d8576b"
             ],
             [
              0.6666666666666666,
              "#ed7953"
             ],
             [
              0.7777777777777778,
              "#fb9f3a"
             ],
             [
              0.8888888888888888,
              "#fdca26"
             ],
             [
              1,
              "#f0f921"
             ]
            ],
            "type": "contour"
           }
          ],
          "contourcarpet": [
           {
            "colorbar": {
             "outlinewidth": 0,
             "ticks": ""
            },
            "type": "contourcarpet"
           }
          ],
          "heatmap": [
           {
            "colorbar": {
             "outlinewidth": 0,
             "ticks": ""
            },
            "colorscale": [
             [
              0,
              "#0d0887"
             ],
             [
              0.1111111111111111,
              "#46039f"
             ],
             [
              0.2222222222222222,
              "#7201a8"
             ],
             [
              0.3333333333333333,
              "#9c179e"
             ],
             [
              0.4444444444444444,
              "#bd3786"
             ],
             [
              0.5555555555555556,
              "#d8576b"
             ],
             [
              0.6666666666666666,
              "#ed7953"
             ],
             [
              0.7777777777777778,
              "#fb9f3a"
             ],
             [
              0.8888888888888888,
              "#fdca26"
             ],
             [
              1,
              "#f0f921"
             ]
            ],
            "type": "heatmap"
           }
          ],
          "heatmapgl": [
           {
            "colorbar": {
             "outlinewidth": 0,
             "ticks": ""
            },
            "colorscale": [
             [
              0,
              "#0d0887"
             ],
             [
              0.1111111111111111,
              "#46039f"
             ],
             [
              0.2222222222222222,
              "#7201a8"
             ],
             [
              0.3333333333333333,
              "#9c179e"
             ],
             [
              0.4444444444444444,
              "#bd3786"
             ],
             [
              0.5555555555555556,
              "#d8576b"
             ],
             [
              0.6666666666666666,
              "#ed7953"
             ],
             [
              0.7777777777777778,
              "#fb9f3a"
             ],
             [
              0.8888888888888888,
              "#fdca26"
             ],
             [
              1,
              "#f0f921"
             ]
            ],
            "type": "heatmapgl"
           }
          ],
          "histogram": [
           {
            "marker": {
             "pattern": {
              "fillmode": "overlay",
              "size": 10,
              "solidity": 0.2
             }
            },
            "type": "histogram"
           }
          ],
          "histogram2d": [
           {
            "colorbar": {
             "outlinewidth": 0,
             "ticks": ""
            },
            "colorscale": [
             [
              0,
              "#0d0887"
             ],
             [
              0.1111111111111111,
              "#46039f"
             ],
             [
              0.2222222222222222,
              "#7201a8"
             ],
             [
              0.3333333333333333,
              "#9c179e"
             ],
             [
              0.4444444444444444,
              "#bd3786"
             ],
             [
              0.5555555555555556,
              "#d8576b"
             ],
             [
              0.6666666666666666,
              "#ed7953"
             ],
             [
              0.7777777777777778,
              "#fb9f3a"
             ],
             [
              0.8888888888888888,
              "#fdca26"
             ],
             [
              1,
              "#f0f921"
             ]
            ],
            "type": "histogram2d"
           }
          ],
          "histogram2dcontour": [
           {
            "colorbar": {
             "outlinewidth": 0,
             "ticks": ""
            },
            "colorscale": [
             [
              0,
              "#0d0887"
             ],
             [
              0.1111111111111111,
              "#46039f"
             ],
             [
              0.2222222222222222,
              "#7201a8"
             ],
             [
              0.3333333333333333,
              "#9c179e"
             ],
             [
              0.4444444444444444,
              "#bd3786"
             ],
             [
              0.5555555555555556,
              "#d8576b"
             ],
             [
              0.6666666666666666,
              "#ed7953"
             ],
             [
              0.7777777777777778,
              "#fb9f3a"
             ],
             [
              0.8888888888888888,
              "#fdca26"
             ],
             [
              1,
              "#f0f921"
             ]
            ],
            "type": "histogram2dcontour"
           }
          ],
          "mesh3d": [
           {
            "colorbar": {
             "outlinewidth": 0,
             "ticks": ""
            },
            "type": "mesh3d"
           }
          ],
          "parcoords": [
           {
            "line": {
             "colorbar": {
              "outlinewidth": 0,
              "ticks": ""
             }
            },
            "type": "parcoords"
           }
          ],
          "pie": [
           {
            "automargin": true,
            "type": "pie"
           }
          ],
          "scatter": [
           {
            "fillpattern": {
             "fillmode": "overlay",
             "size": 10,
             "solidity": 0.2
            },
            "type": "scatter"
           }
          ],
          "scatter3d": [
           {
            "line": {
             "colorbar": {
              "outlinewidth": 0,
              "ticks": ""
             }
            },
            "marker": {
             "colorbar": {
              "outlinewidth": 0,
              "ticks": ""
             }
            },
            "type": "scatter3d"
           }
          ],
          "scattercarpet": [
           {
            "marker": {
             "colorbar": {
              "outlinewidth": 0,
              "ticks": ""
             }
            },
            "type": "scattercarpet"
           }
          ],
          "scattergeo": [
           {
            "marker": {
             "colorbar": {
              "outlinewidth": 0,
              "ticks": ""
             }
            },
            "type": "scattergeo"
           }
          ],
          "scattergl": [
           {
            "marker": {
             "colorbar": {
              "outlinewidth": 0,
              "ticks": ""
             }
            },
            "type": "scattergl"
           }
          ],
          "scattermapbox": [
           {
            "marker": {
             "colorbar": {
              "outlinewidth": 0,
              "ticks": ""
             }
            },
            "type": "scattermapbox"
           }
          ],
          "scatterpolar": [
           {
            "marker": {
             "colorbar": {
              "outlinewidth": 0,
              "ticks": ""
             }
            },
            "type": "scatterpolar"
           }
          ],
          "scatterpolargl": [
           {
            "marker": {
             "colorbar": {
              "outlinewidth": 0,
              "ticks": ""
             }
            },
            "type": "scatterpolargl"
           }
          ],
          "scatterternary": [
           {
            "marker": {
             "colorbar": {
              "outlinewidth": 0,
              "ticks": ""
             }
            },
            "type": "scatterternary"
           }
          ],
          "surface": [
           {
            "colorbar": {
             "outlinewidth": 0,
             "ticks": ""
            },
            "colorscale": [
             [
              0,
              "#0d0887"
             ],
             [
              0.1111111111111111,
              "#46039f"
             ],
             [
              0.2222222222222222,
              "#7201a8"
             ],
             [
              0.3333333333333333,
              "#9c179e"
             ],
             [
              0.4444444444444444,
              "#bd3786"
             ],
             [
              0.5555555555555556,
              "#d8576b"
             ],
             [
              0.6666666666666666,
              "#ed7953"
             ],
             [
              0.7777777777777778,
              "#fb9f3a"
             ],
             [
              0.8888888888888888,
              "#fdca26"
             ],
             [
              1,
              "#f0f921"
             ]
            ],
            "type": "surface"
           }
          ],
          "table": [
           {
            "cells": {
             "fill": {
              "color": "#EBF0F8"
             },
             "line": {
              "color": "white"
             }
            },
            "header": {
             "fill": {
              "color": "#C8D4E3"
             },
             "line": {
              "color": "white"
             }
            },
            "type": "table"
           }
          ]
         },
         "layout": {
          "annotationdefaults": {
           "arrowcolor": "#2a3f5f",
           "arrowhead": 0,
           "arrowwidth": 1
          },
          "autotypenumbers": "strict",
          "coloraxis": {
           "colorbar": {
            "outlinewidth": 0,
            "ticks": ""
           }
          },
          "colorscale": {
           "diverging": [
            [
             0,
             "#8e0152"
            ],
            [
             0.1,
             "#c51b7d"
            ],
            [
             0.2,
             "#de77ae"
            ],
            [
             0.3,
             "#f1b6da"
            ],
            [
             0.4,
             "#fde0ef"
            ],
            [
             0.5,
             "#f7f7f7"
            ],
            [
             0.6,
             "#e6f5d0"
            ],
            [
             0.7,
             "#b8e186"
            ],
            [
             0.8,
             "#7fbc41"
            ],
            [
             0.9,
             "#4d9221"
            ],
            [
             1,
             "#276419"
            ]
           ],
           "sequential": [
            [
             0,
             "#0d0887"
            ],
            [
             0.1111111111111111,
             "#46039f"
            ],
            [
             0.2222222222222222,
             "#7201a8"
            ],
            [
             0.3333333333333333,
             "#9c179e"
            ],
            [
             0.4444444444444444,
             "#bd3786"
            ],
            [
             0.5555555555555556,
             "#d8576b"
            ],
            [
             0.6666666666666666,
             "#ed7953"
            ],
            [
             0.7777777777777778,
             "#fb9f3a"
            ],
            [
             0.8888888888888888,
             "#fdca26"
            ],
            [
             1,
             "#f0f921"
            ]
           ],
           "sequentialminus": [
            [
             0,
             "#0d0887"
            ],
            [
             0.1111111111111111,
             "#46039f"
            ],
            [
             0.2222222222222222,
             "#7201a8"
            ],
            [
             0.3333333333333333,
             "#9c179e"
            ],
            [
             0.4444444444444444,
             "#bd3786"
            ],
            [
             0.5555555555555556,
             "#d8576b"
            ],
            [
             0.6666666666666666,
             "#ed7953"
            ],
            [
             0.7777777777777778,
             "#fb9f3a"
            ],
            [
             0.8888888888888888,
             "#fdca26"
            ],
            [
             1,
             "#f0f921"
            ]
           ]
          },
          "colorway": [
           "#636efa",
           "#EF553B",
           "#00cc96",
           "#ab63fa",
           "#FFA15A",
           "#19d3f3",
           "#FF6692",
           "#B6E880",
           "#FF97FF",
           "#FECB52"
          ],
          "font": {
           "color": "#2a3f5f"
          },
          "geo": {
           "bgcolor": "white",
           "lakecolor": "white",
           "landcolor": "white",
           "showlakes": true,
           "showland": true,
           "subunitcolor": "#C8D4E3"
          },
          "hoverlabel": {
           "align": "left"
          },
          "hovermode": "closest",
          "mapbox": {
           "style": "light"
          },
          "paper_bgcolor": "white",
          "plot_bgcolor": "white",
          "polar": {
           "angularaxis": {
            "gridcolor": "#EBF0F8",
            "linecolor": "#EBF0F8",
            "ticks": ""
           },
           "bgcolor": "white",
           "radialaxis": {
            "gridcolor": "#EBF0F8",
            "linecolor": "#EBF0F8",
            "ticks": ""
           }
          },
          "scene": {
           "xaxis": {
            "backgroundcolor": "white",
            "gridcolor": "#DFE8F3",
            "gridwidth": 2,
            "linecolor": "#EBF0F8",
            "showbackground": true,
            "ticks": "",
            "zerolinecolor": "#EBF0F8"
           },
           "yaxis": {
            "backgroundcolor": "white",
            "gridcolor": "#DFE8F3",
            "gridwidth": 2,
            "linecolor": "#EBF0F8",
            "showbackground": true,
            "ticks": "",
            "zerolinecolor": "#EBF0F8"
           },
           "zaxis": {
            "backgroundcolor": "white",
            "gridcolor": "#DFE8F3",
            "gridwidth": 2,
            "linecolor": "#EBF0F8",
            "showbackground": true,
            "ticks": "",
            "zerolinecolor": "#EBF0F8"
           }
          },
          "shapedefaults": {
           "line": {
            "color": "#2a3f5f"
           }
          },
          "ternary": {
           "aaxis": {
            "gridcolor": "#DFE8F3",
            "linecolor": "#A2B1C6",
            "ticks": ""
           },
           "baxis": {
            "gridcolor": "#DFE8F3",
            "linecolor": "#A2B1C6",
            "ticks": ""
           },
           "bgcolor": "white",
           "caxis": {
            "gridcolor": "#DFE8F3",
            "linecolor": "#A2B1C6",
            "ticks": ""
           }
          },
          "title": {
           "x": 0.05
          },
          "xaxis": {
           "automargin": true,
           "gridcolor": "#EBF0F8",
           "linecolor": "#EBF0F8",
           "ticks": "",
           "title": {
            "standoff": 15
           },
           "zerolinecolor": "#EBF0F8",
           "zerolinewidth": 2
          },
          "yaxis": {
           "automargin": true,
           "gridcolor": "#EBF0F8",
           "linecolor": "#EBF0F8",
           "ticks": "",
           "title": {
            "standoff": 15
           },
           "zerolinecolor": "#EBF0F8",
           "zerolinewidth": 2
          }
         }
        },
        "title": {
         "text": "Satisfaction Score Distribution"
        },
        "width": 800,
        "xaxis": {
         "tickmode": "array",
         "ticktext": [
          "3.4",
          "3.6",
          "3.8",
          "4.0",
          "4.2",
          "4.4",
          "4.6",
          "4.8",
          "5.0"
         ],
         "tickvals": [
          3.4,
          3.6,
          3.8,
          4,
          4.2,
          4.4,
          4.6,
          4.8,
          5
         ],
         "title": {
          "text": "Satisfaction Score"
         }
        },
        "yaxis": {
         "range": [
          0,
          20
         ],
         "title": {
          "text": "Count"
         }
        }
       }
      }
     },
     "metadata": {},
     "output_type": "display_data"
    }
   ],
   "source": [
    "import plotly.graph_objects as go\n",
    "\n",
    "satisfaction_scores = [3.4, 3.6, 3.8, 4.0, 4.2, 4.4, 4.6, 4.8, 5.0]\n",
    "counts = [7, 7, 12, 12, 13, 18, 13, 13, 16]\n",
    "\n",
    "fig = go.Figure(data=[go.Bar(\n",
    "    x=satisfaction_scores,\n",
    "    y=counts,\n",
    "    marker_color='orange'\n",
    ")])\n",
    "\n",
    "fig.update_layout(\n",
    "    title_text='Satisfaction Score Distribution',\n",
    "    xaxis_title_text='Satisfaction Score',\n",
    "    yaxis_title_text='Count',\n",
    "    xaxis=dict(\n",
    "        tickmode='array',\n",
    "        tickvals=satisfaction_scores,\n",
    "        ticktext=[str(score) for score in satisfaction_scores]\n",
    "    ),\n",
    "    yaxis=dict(range=[0, 20]),\n",
    "    plot_bgcolor='rgba(230, 235, 245, 1)',\n",
    "    width=800,\n",
    "    height=500,\n",
    "    template='plotly_white'\n",
    ")\n",
    "\n",
    "fig.show()"
   ]
  },
  {
   "cell_type": "markdown",
   "metadata": {},
   "source": [
    "## Asking for some template code"
   ]
  },
  {
   "cell_type": "code",
   "execution_count": 14,
   "metadata": {},
   "outputs": [],
   "source": [
    "chart_prompt = \"I want a red chart with bold axis titles and labels on the bars. There should also be a legend showing each distinct category\""
   ]
  },
  {
   "cell_type": "code",
   "execution_count": 15,
   "metadata": {},
   "outputs": [
    {
     "data": {
      "text/html": [
       "\n",
       "            <div style='\n",
       "                padding: 2px 6px;\n",
       "                margin: 2px 0;\n",
       "                border-left: 3px solid #0d6efd;\n",
       "                background-color: #f8f9fa;\n",
       "                font-family: Monaco, monospace;\n",
       "                font-sise: 12px;\n",
       "            '>\n",
       "                <span style='color: #0d6efd; font-weight: bold;'>INFO</span>\n",
       "                <span style='color: #666; margin-right: 8px;'>14:17:55</span>\n",
       "                <span>Processing chart type request: scatter</span>\n",
       "            </div>\n",
       "            "
      ],
      "text/plain": [
       "<IPython.core.display.HTML object>"
      ]
     },
     "metadata": {},
     "output_type": "display_data"
    },
    {
     "name": "stderr",
     "output_type": "stream",
     "text": [
      "Processing chart type request: scatter\n"
     ]
    },
    {
     "data": {
      "text/html": [
       "\n",
       "            <div style='\n",
       "                padding: 2px 6px;\n",
       "                margin: 2px 0;\n",
       "                border-left: 3px solid #0d6efd;\n",
       "                background-color: #f8f9fa;\n",
       "                font-family: Monaco, monospace;\n",
       "                font-sise: 12px;\n",
       "            '>\n",
       "                <span style='color: #0d6efd; font-weight: bold;'>INFO</span>\n",
       "                <span style='color: #666; margin-right: 8px;'>14:17:55</span>\n",
       "                <span>Sending prompt and data to agent executor...</span>\n",
       "            </div>\n",
       "            "
      ],
      "text/plain": [
       "<IPython.core.display.HTML object>"
      ]
     },
     "metadata": {},
     "output_type": "display_data"
    },
    {
     "name": "stderr",
     "output_type": "stream",
     "text": [
      "Sending prompt and data to agent executor...\n"
     ]
    },
    {
     "name": "stdout",
     "output_type": "stream",
     "text": [
      "{'input': '\\n            Create a default scatter chart visualisation using this template as reference:\\n\\n            # Template Code:\\n            \\n            import plotly.graph_objects as go\\n            import numpy as np\\n\\n            # Generate sample data\\n            np.random.seed(42)\\n            x = np.random.uniform(0, 10, 50)\\n            y = 2 * x + np.random.normal(0, 2, 50)\\n\\n            # Create figure with multiple series\\n            fig = go.Figure()\\n\\n            # Add multiple scatter series with different colors\\n            series_data = [\\n                {\\'x\\': x, \\'y\\': y, \\'name\\': \\'Series 1\\', \\'color\\': \\'#1f77b4\\'},\\n                {\\'x\\': x, \\'y\\': y + 2, \\'name\\': \\'Series 2\\', \\'color\\': \\'#2d91c2\\'},\\n                {\\'x\\': x, \\'y\\': y - 2, \\'name\\': \\'Series 3\\', \\'color\\': \\'#7eb0d5\\'},\\n                {\\'x\\': x, \\'y\\': y * 0.8, \\'name\\': \\'Series 4\\', \\'color\\': \\'#bddbf5\\'}\\n            ]\\n\\n            for series in series_data:\\n                fig.add_trace(\\n                    go.Scatter(\\n                        x=series[\\'x\\'],\\n                        y=series[\\'y\\'],\\n                        mode=\\'markers\\',\\n                        name=series[\\'name\\'],\\n                        marker=dict(\\n                            sise=10,\\n                            color=series[\\'color\\'],\\n                            opacity=0.7,\\n                            line=dict(width=1, color=\\'#444444\\')\\n                        ),\\n                        hovertemplate=\\'x: %{x:.2f}<br>y: %{y:.2f}<extra></extra>\\'\\n                    )\\n                )\\n\\n            # Update layout with professional styling\\n            fig.update_layout(\\n                title={\\n                    \\'text\\': \\'Default Scatter Plot\\',\\n                    \\'font\\': {\\'sise\\': 24, \\'color\\': \\'#1f77b4\\'},\\n                    \\'x\\': 0.5,\\n                    \\'xanchor\\': \\'center\\'\\n                },\\n                xaxis_title={\\n                    \\'text\\': \\'X Values\\',\\n                    \\'font\\': {\\'sise\\': 16, \\'color\\': \\'#444444\\', \\'weight\\': \\'bold\\'}\\n                },\\n                yaxis_title={\\n                    \\'text\\': \\'Y Values\\',\\n                    \\'font\\': {\\'sise\\': 16, \\'color\\': \\'#444444\\', \\'weight\\': \\'bold\\'}\\n                },\\n                template=\\'plotly_white\\',\\n                showlegend=True,\\n                legend={\\n                    \\'orientation\\': \\'h\\',\\n                    \\'yanchor\\': \\'bottom\\',\\n                    \\'y\\': -0.3,\\n                    \\'xanchor\\': \\'center\\',\\n                    \\'x\\': 0.5\\n                },\\n                margin=dict(t=100, l=100, r=50, b=100)\\n            )\\n            \\n            \\n            1. Use this template code as a starting point\\n            2. Consider the following specific requirements in adapting the code to the user\\'s needs:\\n            I want a red chart with bold axis titles and labels on the bars. There should also be a legend showing each distinct category\\n            3. Maintain the professional styling while adjusting for your specific needs and those of the user.\\n            4. Use save_plotly_visualisation to create an HTML file in the output_path folder.\\n            Use this exact output path: /Users/jose.orjales/c-af-chartist/tests/img\\n            \\n            The save_plotly_visualisation tool will return a dictionary containing the path and code.\\n            Use this response to create your final JSON response with exactly this structure:\\n            {\\n                \"path\": \"The path returned by save_plotly_visualisation\",\\n                \"code\": \"The complete plotly code used to create the visualisation\"\\n            }\\n            \\n            Do not modify the path or code returned by the tool - use them exactly as provided.\\n        ', 'output': {'path': '/Users/jose.orjales/plotly_visualisations/visualisation_1739456288.html', 'code': \"import plotly.graph_objects as go\\nimport numpy as np\\n\\n# Generate sample data\\nnp.random.seed(42)\\nx = np.random.uniform(0, 10, 50)\\ny = 2 * x + np.random.normal(0, 2, 50)\\n\\n# Create figure with multiple series\\nfig = go.Figure()\\n\\n# Add multiple scatter series with different shades of red\\nseries_data = [\\n    {'x': x, 'y': y, 'name': 'Series 1', 'color': '#ff0000'},\\n    {'x': x, 'y': y + 2, 'name': 'Series 2', 'color': '#ff3333'},\\n    {'x': x, 'y': y - 2, 'name': 'Series 3', 'color': '#ff6666'},\\n    {'x': x, 'y': y * 0.8, 'name': 'Series 4', 'color': '#ff9999'}\\n]\\n\\nfor series in series_data:\\n    fig.add_trace(\\n        go.Scatter(\\n            x=series['x'],\\n            y=series['y'],\\n            mode='markers',\\n            name=series['name'],\\n            marker=dict(\\n                size=10,\\n                color=series['color'],\\n                opacity=0.7,\\n                line=dict(width=1, color='#444444')\\n            ),\\n            hovertemplate='x: %{x:.2f}<br>y: %{y:.2f}<extra></extra>'\\n        )\\n    )\\n\\n# Update layout with professional styling and user requirements\\nfig.update_layout(\\n    title={\\n        'text': 'Default Scatter Plot',\\n        'font': {'size': 24, 'color': '#ff0000'},\\n        'x': 0.5,\\n        'xanchor': 'center'\\n    },\\n    xaxis_title={\\n        'text': 'X Values',\\n        'font': {'size': 16, 'color': '#444444', 'weight': 'bold'}\\n    },\\n    yaxis_title={\\n        'text': 'Y Values',\\n        'font': {'size': 16, 'color': '#444444', 'weight': 'bold'}\\n    },\\n    template='plotly_white',\\n    showlegend=True,\\n    legend={\\n        'orientation': 'h',\\n        'yanchor': 'bottom',\\n        'y': -0.3,\\n        'xanchor': 'center',\\n        'x': 0.5\\n    },\\n    margin=dict(t=100, l=100, r=50, b=100)\\n)\\n\\n# Update axis labels to be bold\\nfig.update_xaxes(tickfont=dict(weight='bold'))\\nfig.update_yaxes(tickfont=dict(weight='bold'))\\n\\n# Save the plot\\nfig.write_html('/Users/jose.orjales/c-af-chartist/tests/img/default_scatter_plot.html')\"}}\n"
     ]
    }
   ],
   "source": [
    "json_images = chai.handle_request(prompt = chart_prompt, output_path='/Users/jose.orjales/c-af-chartist/tests/img', chart_type='scatter')"
   ]
  },
  {
   "cell_type": "code",
   "execution_count": 16,
   "metadata": {},
   "outputs": [
    {
     "name": "stdout",
     "output_type": "stream",
     "text": [
      "/Users/jose.orjales/plotly_visualisations/visualisation_1739456288.html\n"
     ]
    }
   ],
   "source": [
    "print(json_images['path'])"
   ]
  },
  {
   "cell_type": "code",
   "execution_count": 17,
   "metadata": {},
   "outputs": [
    {
     "name": "stdout",
     "output_type": "stream",
     "text": [
      "import plotly.graph_objects as go\n",
      "import numpy as np\n",
      "\n",
      "# Generate sample data\n",
      "np.random.seed(42)\n",
      "x = np.random.uniform(0, 10, 50)\n",
      "y = 2 * x + np.random.normal(0, 2, 50)\n",
      "\n",
      "# Create figure with multiple series\n",
      "fig = go.Figure()\n",
      "\n",
      "# Add multiple scatter series with different shades of red\n",
      "series_data = [\n",
      "    {'x': x, 'y': y, 'name': 'Series 1', 'color': '#ff0000'},\n",
      "    {'x': x, 'y': y + 2, 'name': 'Series 2', 'color': '#ff3333'},\n",
      "    {'x': x, 'y': y - 2, 'name': 'Series 3', 'color': '#ff6666'},\n",
      "    {'x': x, 'y': y * 0.8, 'name': 'Series 4', 'color': '#ff9999'}\n",
      "]\n",
      "\n",
      "for series in series_data:\n",
      "    fig.add_trace(\n",
      "        go.Scatter(\n",
      "            x=series['x'],\n",
      "            y=series['y'],\n",
      "            mode='markers',\n",
      "            name=series['name'],\n",
      "            marker=dict(\n",
      "                size=10,\n",
      "                color=series['color'],\n",
      "                opacity=0.7,\n",
      "                line=dict(width=1, color='#444444')\n",
      "            ),\n",
      "            hovertemplate='x: %{x:.2f}<br>y: %{y:.2f}<extra></extra>'\n",
      "        )\n",
      "    )\n",
      "\n",
      "# Update layout with professional styling and user requirements\n",
      "fig.update_layout(\n",
      "    title={\n",
      "        'text': 'Default Scatter Plot',\n",
      "        'font': {'size': 24, 'color': '#ff0000'},\n",
      "        'x': 0.5,\n",
      "        'xanchor': 'center'\n",
      "    },\n",
      "    xaxis_title={\n",
      "        'text': 'X Values',\n",
      "        'font': {'size': 16, 'color': '#444444', 'weight': 'bold'}\n",
      "    },\n",
      "    yaxis_title={\n",
      "        'text': 'Y Values',\n",
      "        'font': {'size': 16, 'color': '#444444', 'weight': 'bold'}\n",
      "    },\n",
      "    template='plotly_white',\n",
      "    showlegend=True,\n",
      "    legend={\n",
      "        'orientation': 'h',\n",
      "        'yanchor': 'bottom',\n",
      "        'y': -0.3,\n",
      "        'xanchor': 'center',\n",
      "        'x': 0.5\n",
      "    },\n",
      "    margin=dict(t=100, l=100, r=50, b=100)\n",
      ")\n",
      "\n",
      "# Update axis labels to be bold\n",
      "fig.update_xaxes(tickfont=dict(weight='bold'))\n",
      "fig.update_yaxes(tickfont=dict(weight='bold'))\n",
      "\n",
      "# Save the plot\n",
      "fig.write_html('/Users/jose.orjales/c-af-chartist/tests/img/default_scatter_plot.html')\n"
     ]
    }
   ],
   "source": [
    "print(json_images['code'])"
   ]
  }
 ],
 "metadata": {
  "kernelspec": {
   "display_name": ".venv",
   "language": "python",
   "name": "python3"
  },
  "language_info": {
   "codemirror_mode": {
    "name": "ipython",
    "version": 3
   },
   "file_extension": ".py",
   "mimetype": "text/x-python",
   "name": "python",
   "nbconvert_exporter": "python",
   "pygments_lexer": "ipython3",
   "version": "3.13.1"
  }
 },
 "nbformat": 4,
 "nbformat_minor": 2
}
