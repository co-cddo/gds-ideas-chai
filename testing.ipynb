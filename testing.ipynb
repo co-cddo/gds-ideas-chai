{
 "cells": [
  {
   "cell_type": "code",
   "execution_count": null,
   "metadata": {},
   "outputs": [],
   "source": [
    "#conda install --yes --file requirements.txt"
   ]
  },
  {
   "cell_type": "code",
   "execution_count": 5,
   "metadata": {},
   "outputs": [],
   "source": [
    "# RUN THIS BEFORE ATTEMPTING, OTHERWISE MAY GET CLIENT ERRORS ON SOME AWS CALLS\n",
    "import boto3\n",
    "boto3.setup_default_session()"
   ]
  },
  {
   "cell_type": "code",
   "execution_count": 1,
   "metadata": {},
   "outputs": [
    {
     "name": "stdout",
     "output_type": "stream",
     "text": [
      "Intel MKL WARNING: Support of Intel(R) Streaming SIMD Extensions 4.2 (Intel(R) SSE4.2) enabled only processors has been deprecated. Intel oneAPI Math Kernel Library 2025.0 will require Intel(R) Advanced Vector Extensions (Intel(R) AVX) instructions.\n",
      "Intel MKL WARNING: Support of Intel(R) Streaming SIMD Extensions 4.2 (Intel(R) SSE4.2) enabled only processors has been deprecated. Intel oneAPI Math Kernel Library 2025.0 will require Intel(R) Advanced Vector Extensions (Intel(R) AVX) instructions.\n",
      "Using AWS Profile: aws-prototype\n"
     ]
    }
   ],
   "source": [
    "from src.chartist import chartist\n",
    "from dotenv import load_dotenv\n",
    "import os\n",
    "\n",
    "# Load .env file\n",
    "load_dotenv()\n",
    "aws_profile = os.getenv('AWS_PROFILE')\n",
    "print(f\"Using AWS Profile: {aws_profile}\")"
   ]
  },
  {
   "cell_type": "code",
   "execution_count": 2,
   "metadata": {},
   "outputs": [
    {
     "name": "stdout",
     "output_type": "stream",
     "text": [
      "Successfully configured AWS session using profile: aws-prototype\n"
     ]
    }
   ],
   "source": [
    "chart = chartist()\n",
    "sample_df = chart.create_sample_dataset()"
   ]
  },
  {
   "cell_type": "code",
   "execution_count": 3,
   "metadata": {},
   "outputs": [
    {
     "name": "stdout",
     "output_type": "stream",
     "text": [
      "Creative preset parameters: {'temperature': 1.0, 'top_k': 300, 'max_tokens': 3000}\n"
     ]
    }
   ],
   "source": [
    "creative_params = chartist.get_preset_params(\"creative\")\n",
    "print(f\"Creative preset parameters: {creative_params}\")"
   ]
  },
  {
   "cell_type": "code",
   "execution_count": 4,
   "metadata": {},
   "outputs": [
    {
     "ename": "AttributeError",
     "evalue": "type object 'chartist' has no attribute 'get_preset_params_desciption'",
     "output_type": "error",
     "traceback": [
      "\u001b[0;31m---------------------------------------------------------------------------\u001b[0m",
      "\u001b[0;31mAttributeError\u001b[0m                            Traceback (most recent call last)",
      "Cell \u001b[0;32mIn[4], line 1\u001b[0m\n\u001b[0;32m----> 1\u001b[0m creative_params \u001b[38;5;241m=\u001b[39m chartist\u001b[38;5;241m.\u001b[39mget_preset_params_desciption(\u001b[38;5;124m\"\u001b[39m\u001b[38;5;124mcreative\u001b[39m\u001b[38;5;124m\"\u001b[39m)\n\u001b[1;32m      2\u001b[0m \u001b[38;5;28mprint\u001b[39m(\u001b[38;5;124mf\u001b[39m\u001b[38;5;124m\"\u001b[39m\u001b[38;5;124mCreative preset parameters: \u001b[39m\u001b[38;5;132;01m{\u001b[39;00mcreative_params\u001b[38;5;132;01m}\u001b[39;00m\u001b[38;5;124m\"\u001b[39m)\n",
      "\u001b[0;31mAttributeError\u001b[0m: type object 'chartist' has no attribute 'get_preset_params_desciption'"
     ]
    }
   ],
   "source": [
    "creative_params = chartist.get_preset_description(\"creative\")\n",
    "print(f\"Creative preset parameters: {creative_params}\")"
   ]
  },
  {
   "cell_type": "code",
   "execution_count": 5,
   "metadata": {},
   "outputs": [],
   "source": [
    "custom_params = {\n",
    "    **chartist.get_preset_params(\"precise\"),\n",
    "    \"max_tokens\": 5000  # Override max_tokens\n",
    "}"
   ]
  },
  {
   "cell_type": "code",
   "execution_count": 9,
   "metadata": {},
   "outputs": [
    {
     "name": "stdout",
     "output_type": "stream",
     "text": [
      "Based on the provided DataFrame information, I can suggest the following visualizations to explore and understand the data:\n",
      "\n",
      "1. **Line Plot for Sales and Customers over Time**\n",
      "   - Create a line plot with the 'date' column on the x-axis and 'sales' and 'customers' columns on the y-axis.\n",
      "   - This visualization will help you understand the trend of sales and customer count over time, and identify any seasonality or patterns.\n",
      "\n",
      "2. **Scatter Plot for Sales vs. Customers**\n",
      "   - Plot 'sales' on the x-axis and 'customers' on the y-axis using a scatter plot.\n",
      "   - This visualization can reveal the relationship between sales and customer count, helping you assess if there's a correlation between the two variables.\n",
      "\n",
      "3. **Bar Plot for Average Satisfaction Score by Category**\n",
      "   - Calculate the mean 'satisfaction_score' for each unique value in the 'category' column.\n",
      "   - Create a bar plot with 'category' on the x-axis and the mean 'satisfaction_score' on the y-axis.\n",
      "   - This visualization will allow you to compare the average satisfaction scores across different categories.\n",
      "\n",
      "4. **Histogram for Sales Distribution**\n",
      "   - Plot a histogram for the 'sales' column to visualize the distribution of sales values.\n",
      "   - This can help you identify if the sales data is normally distributed or skewed, and spot any potential outliers.\n",
      "\n",
      "5. **Box Plot for Satisfaction Score by Category**\n",
      "   - Create a box plot with 'category' on the x-axis and 'satisfaction_score' on the y-axis.\n",
      "   - This visualization will provide insights into the distribution of satisfaction scores for each category, highlighting potential outliers and enabling comparisons across categories.\n",
      "\n",
      "6. **Correlation Matrix**\n",
      "   - Calculate the correlation coefficients between the numerical columns ('sales', 'customers', and 'satisfaction_score').\n",
      "   - Visualize the correlation matrix using a heatmap or a scatter plot matrix.\n",
      "   - This will help you identify the strength and direction of the relationships between the variables.\n",
      "\n",
      "These visualizations can provide valuable insights into the data and help you explore various aspects, such as trends, relationships, distributions, and potential outliers. However, it's important to note that data cleaning and preprocessing may be required before creating these visualizations to ensure accurate representations.\n"
     ]
    }
   ],
   "source": [
    "# Ask a question about the data\n",
    "response = chart.ask_claude(\n",
    "    sample_df,\n",
    "    \"Please analyze this data and suggest appropriate visualizations\",\n",
    ")\n",
    "print(response)\n",
    "\n"
   ]
  },
  {
   "cell_type": "code",
   "execution_count": null,
   "metadata": {},
   "outputs": [],
   "source": [
    "# Use with your own DataFrame\n",
    "your_df = pd.read_csv('your_data.csv')\n",
    "response = chartist.ask_claude(\n",
    "    your_df,\n",
    "    \"Analyze the patterns in this dataset\"\n",
    ")\n",
    "print(response)"
   ]
  }
 ],
 "metadata": {
  "kernelspec": {
   "display_name": "chartistAI",
   "language": "python",
   "name": "python3"
  },
  "language_info": {
   "codemirror_mode": {
    "name": "ipython",
    "version": 3
   },
   "file_extension": ".py",
   "mimetype": "text/x-python",
   "name": "python",
   "nbconvert_exporter": "python",
   "pygments_lexer": "ipython3",
   "version": "3.12.8"
  }
 },
 "nbformat": 4,
 "nbformat_minor": 2
}
